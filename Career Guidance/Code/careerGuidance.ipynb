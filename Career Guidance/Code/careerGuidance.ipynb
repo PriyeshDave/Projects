{
 "cells": [
  {
   "cell_type": "code",
   "execution_count": 74,
   "metadata": {},
   "outputs": [],
   "source": [
    "import pandas as pd\n",
    "import numpy as np\n",
    "import seaborn as sns\n",
    "import scipy as sp\n",
    "from matplotlib import pyplot as plt\n",
    "from sklearn.model_selection import train_test_split\n",
    "from sklearn.preprocessing import StandardScaler, LabelEncoder\n",
    "from sklearn.tree import DecisionTreeClassifier\n",
    "from sklearn.metrics import accuracy_score, confusion_matrix, classification_report\n",
    "from sklearn.feature_selection import SelectKBest, chi2, mutual_info_classif, VarianceThreshold"
   ]
  },
  {
   "cell_type": "code",
   "execution_count": 75,
   "metadata": {},
   "outputs": [],
   "source": [
    "url='https://raw.githubusercontent.com/Nantha-1998/404-CODER/master/career_compute_dataset.csv'\n",
    "\n",
    "career_dataset = pd.read_csv(url)\n",
    "#pd.read_csv(\"../Datasets/career_pred.csv\")"
   ]
  },
  {
   "cell_type": "markdown",
   "metadata": {},
   "source": [
    "# 1.) Exploratory Data Analysis"
   ]
  },
  {
   "cell_type": "code",
   "execution_count": 76,
   "metadata": {},
   "outputs": [
    {
     "data": {
      "text/html": [
       "<div>\n",
       "<style scoped>\n",
       "    .dataframe tbody tr th:only-of-type {\n",
       "        vertical-align: middle;\n",
       "    }\n",
       "\n",
       "    .dataframe tbody tr th {\n",
       "        vertical-align: top;\n",
       "    }\n",
       "\n",
       "    .dataframe thead th {\n",
       "        text-align: right;\n",
       "    }\n",
       "</style>\n",
       "<table border=\"1\" class=\"dataframe\">\n",
       "  <thead>\n",
       "    <tr style=\"text-align: right;\">\n",
       "      <th></th>\n",
       "      <th>sslc</th>\n",
       "      <th>hsc</th>\n",
       "      <th>cgpa</th>\n",
       "      <th>school_type</th>\n",
       "      <th>no_of_miniprojects</th>\n",
       "      <th>no_of_projects</th>\n",
       "      <th>coresub_skill</th>\n",
       "      <th>aptitude_skill</th>\n",
       "      <th>problemsolving_skill</th>\n",
       "      <th>programming_skill</th>\n",
       "      <th>...</th>\n",
       "      <th>technology_used</th>\n",
       "      <th>sympos_attend</th>\n",
       "      <th>sympos_won</th>\n",
       "      <th>extracurricular</th>\n",
       "      <th>learning_style</th>\n",
       "      <th>college_bench</th>\n",
       "      <th>clg_teachers_know</th>\n",
       "      <th>college_performence</th>\n",
       "      <th>college_skills</th>\n",
       "      <th>ROLE</th>\n",
       "    </tr>\n",
       "  </thead>\n",
       "  <tbody>\n",
       "    <tr>\n",
       "      <th>0</th>\n",
       "      <td>2</td>\n",
       "      <td>3</td>\n",
       "      <td>2</td>\n",
       "      <td>3</td>\n",
       "      <td>1</td>\n",
       "      <td>1</td>\n",
       "      <td>1</td>\n",
       "      <td>1</td>\n",
       "      <td>2</td>\n",
       "      <td>4</td>\n",
       "      <td>...</td>\n",
       "      <td>1</td>\n",
       "      <td>3</td>\n",
       "      <td>1</td>\n",
       "      <td>2</td>\n",
       "      <td>2</td>\n",
       "      <td>4</td>\n",
       "      <td>3</td>\n",
       "      <td>4</td>\n",
       "      <td>5</td>\n",
       "      <td>Technical Support</td>\n",
       "    </tr>\n",
       "    <tr>\n",
       "      <th>1</th>\n",
       "      <td>3</td>\n",
       "      <td>1</td>\n",
       "      <td>2</td>\n",
       "      <td>2</td>\n",
       "      <td>2</td>\n",
       "      <td>1</td>\n",
       "      <td>1</td>\n",
       "      <td>3</td>\n",
       "      <td>2</td>\n",
       "      <td>4</td>\n",
       "      <td>...</td>\n",
       "      <td>2</td>\n",
       "      <td>3</td>\n",
       "      <td>2</td>\n",
       "      <td>3</td>\n",
       "      <td>2</td>\n",
       "      <td>5</td>\n",
       "      <td>3</td>\n",
       "      <td>3</td>\n",
       "      <td>4</td>\n",
       "      <td>Software Developer</td>\n",
       "    </tr>\n",
       "    <tr>\n",
       "      <th>2</th>\n",
       "      <td>3</td>\n",
       "      <td>4</td>\n",
       "      <td>2</td>\n",
       "      <td>2</td>\n",
       "      <td>1</td>\n",
       "      <td>1</td>\n",
       "      <td>1</td>\n",
       "      <td>2</td>\n",
       "      <td>3</td>\n",
       "      <td>3</td>\n",
       "      <td>...</td>\n",
       "      <td>1</td>\n",
       "      <td>4</td>\n",
       "      <td>3</td>\n",
       "      <td>1</td>\n",
       "      <td>4</td>\n",
       "      <td>3</td>\n",
       "      <td>3</td>\n",
       "      <td>3</td>\n",
       "      <td>4</td>\n",
       "      <td>UI/UX Designer</td>\n",
       "    </tr>\n",
       "    <tr>\n",
       "      <th>3</th>\n",
       "      <td>3</td>\n",
       "      <td>4</td>\n",
       "      <td>2</td>\n",
       "      <td>1</td>\n",
       "      <td>1</td>\n",
       "      <td>1</td>\n",
       "      <td>1</td>\n",
       "      <td>1</td>\n",
       "      <td>3</td>\n",
       "      <td>2</td>\n",
       "      <td>...</td>\n",
       "      <td>1</td>\n",
       "      <td>3</td>\n",
       "      <td>2</td>\n",
       "      <td>1</td>\n",
       "      <td>2</td>\n",
       "      <td>1</td>\n",
       "      <td>4</td>\n",
       "      <td>4</td>\n",
       "      <td>3</td>\n",
       "      <td>Technical Support</td>\n",
       "    </tr>\n",
       "    <tr>\n",
       "      <th>4</th>\n",
       "      <td>2</td>\n",
       "      <td>3</td>\n",
       "      <td>2</td>\n",
       "      <td>4</td>\n",
       "      <td>1</td>\n",
       "      <td>1</td>\n",
       "      <td>1</td>\n",
       "      <td>4</td>\n",
       "      <td>3</td>\n",
       "      <td>3</td>\n",
       "      <td>...</td>\n",
       "      <td>1</td>\n",
       "      <td>2</td>\n",
       "      <td>1</td>\n",
       "      <td>3</td>\n",
       "      <td>1</td>\n",
       "      <td>5</td>\n",
       "      <td>4</td>\n",
       "      <td>3</td>\n",
       "      <td>1</td>\n",
       "      <td>Data Analyst</td>\n",
       "    </tr>\n",
       "  </tbody>\n",
       "</table>\n",
       "<p>5 rows × 26 columns</p>\n",
       "</div>"
      ],
      "text/plain": [
       "   sslc  hsc  cgpa  school_type  no_of_miniprojects  no_of_projects  \\\n",
       "0     2    3     2            3                   1               1   \n",
       "1     3    1     2            2                   2               1   \n",
       "2     3    4     2            2                   1               1   \n",
       "3     3    4     2            1                   1               1   \n",
       "4     2    3     2            4                   1               1   \n",
       "\n",
       "   coresub_skill  aptitude_skill  problemsolving_skill  programming_skill  \\\n",
       "0              1               1                     2                  4   \n",
       "1              1               3                     2                  4   \n",
       "2              1               2                     3                  3   \n",
       "3              1               1                     3                  2   \n",
       "4              1               4                     3                  3   \n",
       "\n",
       "   ...  technology_used  sympos_attend  sympos_won  extracurricular  \\\n",
       "0  ...                1              3           1                2   \n",
       "1  ...                2              3           2                3   \n",
       "2  ...                1              4           3                1   \n",
       "3  ...                1              3           2                1   \n",
       "4  ...                1              2           1                3   \n",
       "\n",
       "   learning_style  college_bench  clg_teachers_know  college_performence   \\\n",
       "0               2              4                  3                     4   \n",
       "1               2              5                  3                     3   \n",
       "2               4              3                  3                     3   \n",
       "3               2              1                  4                     4   \n",
       "4               1              5                  4                     3   \n",
       "\n",
       "   college_skills                ROLE  \n",
       "0               5   Technical Support  \n",
       "1               4  Software Developer  \n",
       "2               4      UI/UX Designer  \n",
       "3               3   Technical Support  \n",
       "4               1        Data Analyst  \n",
       "\n",
       "[5 rows x 26 columns]"
      ]
     },
     "execution_count": 76,
     "metadata": {},
     "output_type": "execute_result"
    }
   ],
   "source": [
    "career_dataset.head()"
   ]
  },
  {
   "cell_type": "code",
   "execution_count": 77,
   "metadata": {},
   "outputs": [
    {
     "data": {
      "text/plain": [
       "(7525, 26)"
      ]
     },
     "execution_count": 77,
     "metadata": {},
     "output_type": "execute_result"
    }
   ],
   "source": [
    "career_dataset.shape"
   ]
  },
  {
   "cell_type": "code",
   "execution_count": 78,
   "metadata": {},
   "outputs": [
    {
     "data": {
      "text/plain": [
       "Index(['sslc', 'hsc', 'cgpa', 'school_type', 'no_of_miniprojects',\n",
       "       'no_of_projects', 'coresub_skill', 'aptitude_skill',\n",
       "       'problemsolving_skill', 'programming_skill', 'abstractthink_skill',\n",
       "       'design_skill', 'first_computer', 'first_program', 'lab_programs',\n",
       "       'ds_coding', 'technology_used', 'sympos_attend', 'sympos_won',\n",
       "       'extracurricular', 'learning_style', 'college_bench',\n",
       "       'clg_teachers_know', 'college_performence ', 'college_skills', 'ROLE'],\n",
       "      dtype='object')"
      ]
     },
     "execution_count": 78,
     "metadata": {},
     "output_type": "execute_result"
    }
   ],
   "source": [
    "career_dataset.columns"
   ]
  },
  {
   "cell_type": "code",
   "execution_count": 79,
   "metadata": {},
   "outputs": [
    {
     "data": {
      "text/html": [
       "<div>\n",
       "<style scoped>\n",
       "    .dataframe tbody tr th:only-of-type {\n",
       "        vertical-align: middle;\n",
       "    }\n",
       "\n",
       "    .dataframe tbody tr th {\n",
       "        vertical-align: top;\n",
       "    }\n",
       "\n",
       "    .dataframe thead th {\n",
       "        text-align: right;\n",
       "    }\n",
       "</style>\n",
       "<table border=\"1\" class=\"dataframe\">\n",
       "  <thead>\n",
       "    <tr style=\"text-align: right;\">\n",
       "      <th></th>\n",
       "      <th>sslc</th>\n",
       "      <th>hsc</th>\n",
       "      <th>cgpa</th>\n",
       "      <th>school_type</th>\n",
       "      <th>no_of_miniprojects</th>\n",
       "      <th>no_of_projects</th>\n",
       "      <th>coresub_skill</th>\n",
       "      <th>aptitude_skill</th>\n",
       "      <th>problemsolving_skill</th>\n",
       "      <th>programming_skill</th>\n",
       "      <th>...</th>\n",
       "      <th>lab_programs</th>\n",
       "      <th>ds_coding</th>\n",
       "      <th>technology_used</th>\n",
       "      <th>sympos_attend</th>\n",
       "      <th>sympos_won</th>\n",
       "      <th>extracurricular</th>\n",
       "      <th>college_bench</th>\n",
       "      <th>clg_teachers_know</th>\n",
       "      <th>college_performence</th>\n",
       "      <th>college_skills</th>\n",
       "    </tr>\n",
       "  </thead>\n",
       "  <tbody>\n",
       "    <tr>\n",
       "      <th>count</th>\n",
       "      <td>7525.000000</td>\n",
       "      <td>7525.000000</td>\n",
       "      <td>7525.000000</td>\n",
       "      <td>7525.000000</td>\n",
       "      <td>7525.000000</td>\n",
       "      <td>7525.000000</td>\n",
       "      <td>7525.000000</td>\n",
       "      <td>7525.000000</td>\n",
       "      <td>7525.000000</td>\n",
       "      <td>7525.000000</td>\n",
       "      <td>...</td>\n",
       "      <td>7525.000000</td>\n",
       "      <td>7525.000000</td>\n",
       "      <td>7525.000000</td>\n",
       "      <td>7525.000000</td>\n",
       "      <td>7525.000000</td>\n",
       "      <td>7525.000000</td>\n",
       "      <td>7525.000000</td>\n",
       "      <td>7525.000000</td>\n",
       "      <td>7525.000000</td>\n",
       "      <td>7525.000000</td>\n",
       "    </tr>\n",
       "    <tr>\n",
       "      <th>mean</th>\n",
       "      <td>2.907243</td>\n",
       "      <td>3.043056</td>\n",
       "      <td>2.138738</td>\n",
       "      <td>1.799070</td>\n",
       "      <td>1.537276</td>\n",
       "      <td>1.188439</td>\n",
       "      <td>1.513223</td>\n",
       "      <td>2.041196</td>\n",
       "      <td>2.863256</td>\n",
       "      <td>2.887442</td>\n",
       "      <td>...</td>\n",
       "      <td>3.584585</td>\n",
       "      <td>2.050498</td>\n",
       "      <td>1.204917</td>\n",
       "      <td>2.856877</td>\n",
       "      <td>1.972359</td>\n",
       "      <td>2.182990</td>\n",
       "      <td>3.988040</td>\n",
       "      <td>3.597874</td>\n",
       "      <td>3.350299</td>\n",
       "      <td>2.995748</td>\n",
       "    </tr>\n",
       "    <tr>\n",
       "      <th>std</th>\n",
       "      <td>0.939084</td>\n",
       "      <td>0.900414</td>\n",
       "      <td>0.803465</td>\n",
       "      <td>0.711248</td>\n",
       "      <td>0.735916</td>\n",
       "      <td>0.545728</td>\n",
       "      <td>0.499858</td>\n",
       "      <td>1.085477</td>\n",
       "      <td>0.728428</td>\n",
       "      <td>0.754894</td>\n",
       "      <td>...</td>\n",
       "      <td>0.790142</td>\n",
       "      <td>0.748276</td>\n",
       "      <td>0.574120</td>\n",
       "      <td>1.027328</td>\n",
       "      <td>1.002539</td>\n",
       "      <td>1.094488</td>\n",
       "      <td>0.778578</td>\n",
       "      <td>0.565860</td>\n",
       "      <td>0.522819</td>\n",
       "      <td>1.409500</td>\n",
       "    </tr>\n",
       "    <tr>\n",
       "      <th>min</th>\n",
       "      <td>1.000000</td>\n",
       "      <td>1.000000</td>\n",
       "      <td>1.000000</td>\n",
       "      <td>1.000000</td>\n",
       "      <td>1.000000</td>\n",
       "      <td>1.000000</td>\n",
       "      <td>1.000000</td>\n",
       "      <td>1.000000</td>\n",
       "      <td>1.000000</td>\n",
       "      <td>1.000000</td>\n",
       "      <td>...</td>\n",
       "      <td>1.000000</td>\n",
       "      <td>1.000000</td>\n",
       "      <td>1.000000</td>\n",
       "      <td>1.000000</td>\n",
       "      <td>1.000000</td>\n",
       "      <td>1.000000</td>\n",
       "      <td>1.000000</td>\n",
       "      <td>1.000000</td>\n",
       "      <td>1.000000</td>\n",
       "      <td>1.000000</td>\n",
       "    </tr>\n",
       "    <tr>\n",
       "      <th>25%</th>\n",
       "      <td>2.000000</td>\n",
       "      <td>3.000000</td>\n",
       "      <td>2.000000</td>\n",
       "      <td>1.000000</td>\n",
       "      <td>1.000000</td>\n",
       "      <td>1.000000</td>\n",
       "      <td>1.000000</td>\n",
       "      <td>1.000000</td>\n",
       "      <td>2.000000</td>\n",
       "      <td>2.000000</td>\n",
       "      <td>...</td>\n",
       "      <td>4.000000</td>\n",
       "      <td>2.000000</td>\n",
       "      <td>1.000000</td>\n",
       "      <td>2.000000</td>\n",
       "      <td>1.000000</td>\n",
       "      <td>1.000000</td>\n",
       "      <td>4.000000</td>\n",
       "      <td>3.000000</td>\n",
       "      <td>3.000000</td>\n",
       "      <td>2.000000</td>\n",
       "    </tr>\n",
       "    <tr>\n",
       "      <th>50%</th>\n",
       "      <td>3.000000</td>\n",
       "      <td>3.000000</td>\n",
       "      <td>2.000000</td>\n",
       "      <td>2.000000</td>\n",
       "      <td>1.000000</td>\n",
       "      <td>1.000000</td>\n",
       "      <td>2.000000</td>\n",
       "      <td>2.000000</td>\n",
       "      <td>3.000000</td>\n",
       "      <td>3.000000</td>\n",
       "      <td>...</td>\n",
       "      <td>4.000000</td>\n",
       "      <td>2.000000</td>\n",
       "      <td>1.000000</td>\n",
       "      <td>3.000000</td>\n",
       "      <td>2.000000</td>\n",
       "      <td>2.000000</td>\n",
       "      <td>4.000000</td>\n",
       "      <td>4.000000</td>\n",
       "      <td>3.000000</td>\n",
       "      <td>3.000000</td>\n",
       "    </tr>\n",
       "    <tr>\n",
       "      <th>75%</th>\n",
       "      <td>4.000000</td>\n",
       "      <td>4.000000</td>\n",
       "      <td>3.000000</td>\n",
       "      <td>2.000000</td>\n",
       "      <td>2.000000</td>\n",
       "      <td>1.000000</td>\n",
       "      <td>2.000000</td>\n",
       "      <td>3.000000</td>\n",
       "      <td>3.000000</td>\n",
       "      <td>3.000000</td>\n",
       "      <td>...</td>\n",
       "      <td>4.000000</td>\n",
       "      <td>2.000000</td>\n",
       "      <td>1.000000</td>\n",
       "      <td>4.000000</td>\n",
       "      <td>3.000000</td>\n",
       "      <td>3.000000</td>\n",
       "      <td>4.000000</td>\n",
       "      <td>4.000000</td>\n",
       "      <td>4.000000</td>\n",
       "      <td>4.000000</td>\n",
       "    </tr>\n",
       "    <tr>\n",
       "      <th>max</th>\n",
       "      <td>4.000000</td>\n",
       "      <td>4.000000</td>\n",
       "      <td>4.000000</td>\n",
       "      <td>4.000000</td>\n",
       "      <td>4.000000</td>\n",
       "      <td>4.000000</td>\n",
       "      <td>2.000000</td>\n",
       "      <td>4.000000</td>\n",
       "      <td>4.000000</td>\n",
       "      <td>5.000000</td>\n",
       "      <td>...</td>\n",
       "      <td>4.000000</td>\n",
       "      <td>4.000000</td>\n",
       "      <td>4.000000</td>\n",
       "      <td>4.000000</td>\n",
       "      <td>5.000000</td>\n",
       "      <td>4.000000</td>\n",
       "      <td>5.000000</td>\n",
       "      <td>4.000000</td>\n",
       "      <td>4.000000</td>\n",
       "      <td>5.000000</td>\n",
       "    </tr>\n",
       "  </tbody>\n",
       "</table>\n",
       "<p>8 rows × 24 columns</p>\n",
       "</div>"
      ],
      "text/plain": [
       "              sslc          hsc         cgpa  school_type  no_of_miniprojects  \\\n",
       "count  7525.000000  7525.000000  7525.000000  7525.000000         7525.000000   \n",
       "mean      2.907243     3.043056     2.138738     1.799070            1.537276   \n",
       "std       0.939084     0.900414     0.803465     0.711248            0.735916   \n",
       "min       1.000000     1.000000     1.000000     1.000000            1.000000   \n",
       "25%       2.000000     3.000000     2.000000     1.000000            1.000000   \n",
       "50%       3.000000     3.000000     2.000000     2.000000            1.000000   \n",
       "75%       4.000000     4.000000     3.000000     2.000000            2.000000   \n",
       "max       4.000000     4.000000     4.000000     4.000000            4.000000   \n",
       "\n",
       "       no_of_projects  coresub_skill  aptitude_skill  problemsolving_skill  \\\n",
       "count     7525.000000    7525.000000     7525.000000           7525.000000   \n",
       "mean         1.188439       1.513223        2.041196              2.863256   \n",
       "std          0.545728       0.499858        1.085477              0.728428   \n",
       "min          1.000000       1.000000        1.000000              1.000000   \n",
       "25%          1.000000       1.000000        1.000000              2.000000   \n",
       "50%          1.000000       2.000000        2.000000              3.000000   \n",
       "75%          1.000000       2.000000        3.000000              3.000000   \n",
       "max          4.000000       2.000000        4.000000              4.000000   \n",
       "\n",
       "       programming_skill  ...  lab_programs    ds_coding  technology_used  \\\n",
       "count        7525.000000  ...   7525.000000  7525.000000      7525.000000   \n",
       "mean            2.887442  ...      3.584585     2.050498         1.204917   \n",
       "std             0.754894  ...      0.790142     0.748276         0.574120   \n",
       "min             1.000000  ...      1.000000     1.000000         1.000000   \n",
       "25%             2.000000  ...      4.000000     2.000000         1.000000   \n",
       "50%             3.000000  ...      4.000000     2.000000         1.000000   \n",
       "75%             3.000000  ...      4.000000     2.000000         1.000000   \n",
       "max             5.000000  ...      4.000000     4.000000         4.000000   \n",
       "\n",
       "       sympos_attend   sympos_won  extracurricular  college_bench  \\\n",
       "count    7525.000000  7525.000000      7525.000000    7525.000000   \n",
       "mean        2.856877     1.972359         2.182990       3.988040   \n",
       "std         1.027328     1.002539         1.094488       0.778578   \n",
       "min         1.000000     1.000000         1.000000       1.000000   \n",
       "25%         2.000000     1.000000         1.000000       4.000000   \n",
       "50%         3.000000     2.000000         2.000000       4.000000   \n",
       "75%         4.000000     3.000000         3.000000       4.000000   \n",
       "max         4.000000     5.000000         4.000000       5.000000   \n",
       "\n",
       "       clg_teachers_know  college_performence   college_skills  \n",
       "count        7525.000000           7525.000000     7525.000000  \n",
       "mean            3.597874              3.350299        2.995748  \n",
       "std             0.565860              0.522819        1.409500  \n",
       "min             1.000000              1.000000        1.000000  \n",
       "25%             3.000000              3.000000        2.000000  \n",
       "50%             4.000000              3.000000        3.000000  \n",
       "75%             4.000000              4.000000        4.000000  \n",
       "max             4.000000              4.000000        5.000000  \n",
       "\n",
       "[8 rows x 24 columns]"
      ]
     },
     "execution_count": 79,
     "metadata": {},
     "output_type": "execute_result"
    }
   ],
   "source": [
    "career_dataset.describe()"
   ]
  },
  {
   "cell_type": "code",
   "execution_count": 80,
   "metadata": {},
   "outputs": [
    {
     "name": "stdout",
     "output_type": "stream",
     "text": [
      "<class 'pandas.core.frame.DataFrame'>\n",
      "RangeIndex: 7525 entries, 0 to 7524\n",
      "Data columns (total 26 columns):\n",
      " #   Column                Non-Null Count  Dtype \n",
      "---  ------                --------------  ----- \n",
      " 0   sslc                  7525 non-null   int64 \n",
      " 1   hsc                   7525 non-null   int64 \n",
      " 2   cgpa                  7525 non-null   int64 \n",
      " 3   school_type           7525 non-null   int64 \n",
      " 4   no_of_miniprojects    7525 non-null   int64 \n",
      " 5   no_of_projects        7525 non-null   int64 \n",
      " 6   coresub_skill         7525 non-null   int64 \n",
      " 7   aptitude_skill        7525 non-null   int64 \n",
      " 8   problemsolving_skill  7525 non-null   int64 \n",
      " 9   programming_skill     7525 non-null   int64 \n",
      " 10  abstractthink_skill   7525 non-null   int64 \n",
      " 11  design_skill          7525 non-null   int64 \n",
      " 12  first_computer        7525 non-null   int64 \n",
      " 13  first_program         7525 non-null   int64 \n",
      " 14  lab_programs          7525 non-null   int64 \n",
      " 15  ds_coding             7525 non-null   int64 \n",
      " 16  technology_used       7525 non-null   int64 \n",
      " 17  sympos_attend         7525 non-null   int64 \n",
      " 18  sympos_won            7525 non-null   int64 \n",
      " 19  extracurricular       7525 non-null   int64 \n",
      " 20  learning_style        7525 non-null   object\n",
      " 21  college_bench         7525 non-null   int64 \n",
      " 22  clg_teachers_know     7525 non-null   int64 \n",
      " 23  college_performence   7525 non-null   int64 \n",
      " 24  college_skills        7525 non-null   int64 \n",
      " 25  ROLE                  49 non-null     object\n",
      "dtypes: int64(24), object(2)\n",
      "memory usage: 1.5+ MB\n"
     ]
    }
   ],
   "source": [
    "career_dataset.info()"
   ]
  },
  {
   "cell_type": "code",
   "execution_count": 81,
   "metadata": {},
   "outputs": [
    {
     "data": {
      "text/plain": [
       "sslc                       0\n",
       "hsc                        0\n",
       "cgpa                       0\n",
       "school_type                0\n",
       "no_of_miniprojects         0\n",
       "no_of_projects             0\n",
       "coresub_skill              0\n",
       "aptitude_skill             0\n",
       "problemsolving_skill       0\n",
       "programming_skill          0\n",
       "abstractthink_skill        0\n",
       "design_skill               0\n",
       "first_computer             0\n",
       "first_program              0\n",
       "lab_programs               0\n",
       "ds_coding                  0\n",
       "technology_used            0\n",
       "sympos_attend              0\n",
       "sympos_won                 0\n",
       "extracurricular            0\n",
       "learning_style             0\n",
       "college_bench              0\n",
       "clg_teachers_know          0\n",
       "college_performence        0\n",
       "college_skills             0\n",
       "ROLE                    7476\n",
       "dtype: int64"
      ]
     },
     "execution_count": 81,
     "metadata": {},
     "output_type": "execute_result"
    }
   ],
   "source": [
    "career_dataset.isnull().sum()"
   ]
  },
  {
   "cell_type": "code",
   "execution_count": 126,
   "metadata": {},
   "outputs": [
    {
     "data": {
      "text/plain": [
       "Software Developer    12\n",
       "Technical Support     10\n",
       "Web Developer          7\n",
       "Technical Writer       6\n",
       "Software Tester        4\n",
       "Business Analyst       4\n",
       "UI/UX Designer         3\n",
       "Data Analyst           3\n",
       "Name: ROLE, dtype: int64"
      ]
     },
     "execution_count": 126,
     "metadata": {},
     "output_type": "execute_result"
    }
   ],
   "source": [
    "career_dataset['ROLE'].value_counts()"
   ]
  },
  {
   "cell_type": "code",
   "execution_count": 128,
   "metadata": {},
   "outputs": [
    {
     "data": {
      "text/plain": [
       "sslc                       0\n",
       "hsc                        0\n",
       "cgpa                       0\n",
       "school_type                0\n",
       "no_of_miniprojects         0\n",
       "no_of_projects             0\n",
       "coresub_skill              0\n",
       "aptitude_skill             0\n",
       "problemsolving_skill       0\n",
       "programming_skill          0\n",
       "abstractthink_skill        0\n",
       "design_skill               0\n",
       "first_computer             0\n",
       "first_program              0\n",
       "lab_programs               0\n",
       "ds_coding                  0\n",
       "technology_used            0\n",
       "sympos_attend              0\n",
       "sympos_won                 0\n",
       "extracurricular            0\n",
       "learning_style             0\n",
       "college_bench              0\n",
       "clg_teachers_know          0\n",
       "college_performence        0\n",
       "college_skills             0\n",
       "ROLE                    7476\n",
       "dtype: int64"
      ]
     },
     "execution_count": 128,
     "metadata": {},
     "output_type": "execute_result"
    }
   ],
   "source": [
    "career_dataset.isnull().sum()"
   ]
  },
  {
   "cell_type": "code",
   "execution_count": 82,
   "metadata": {},
   "outputs": [],
   "source": [
    "X = career_dataset.iloc[:,:-1]\n",
    "y = pd.DataFrame(career_dataset.iloc[:,-1])"
   ]
  },
  {
   "cell_type": "code",
   "execution_count": 83,
   "metadata": {},
   "outputs": [
    {
     "data": {
      "text/html": [
       "<div>\n",
       "<style scoped>\n",
       "    .dataframe tbody tr th:only-of-type {\n",
       "        vertical-align: middle;\n",
       "    }\n",
       "\n",
       "    .dataframe tbody tr th {\n",
       "        vertical-align: top;\n",
       "    }\n",
       "\n",
       "    .dataframe thead th {\n",
       "        text-align: right;\n",
       "    }\n",
       "</style>\n",
       "<table border=\"1\" class=\"dataframe\">\n",
       "  <thead>\n",
       "    <tr style=\"text-align: right;\">\n",
       "      <th></th>\n",
       "      <th>sslc</th>\n",
       "      <th>hsc</th>\n",
       "      <th>cgpa</th>\n",
       "      <th>school_type</th>\n",
       "      <th>no_of_miniprojects</th>\n",
       "      <th>no_of_projects</th>\n",
       "      <th>coresub_skill</th>\n",
       "      <th>aptitude_skill</th>\n",
       "      <th>problemsolving_skill</th>\n",
       "      <th>programming_skill</th>\n",
       "      <th>...</th>\n",
       "      <th>ds_coding</th>\n",
       "      <th>technology_used</th>\n",
       "      <th>sympos_attend</th>\n",
       "      <th>sympos_won</th>\n",
       "      <th>extracurricular</th>\n",
       "      <th>learning_style</th>\n",
       "      <th>college_bench</th>\n",
       "      <th>clg_teachers_know</th>\n",
       "      <th>college_performence</th>\n",
       "      <th>college_skills</th>\n",
       "    </tr>\n",
       "  </thead>\n",
       "  <tbody>\n",
       "    <tr>\n",
       "      <th>0</th>\n",
       "      <td>2</td>\n",
       "      <td>3</td>\n",
       "      <td>2</td>\n",
       "      <td>3</td>\n",
       "      <td>1</td>\n",
       "      <td>1</td>\n",
       "      <td>1</td>\n",
       "      <td>1</td>\n",
       "      <td>2</td>\n",
       "      <td>4</td>\n",
       "      <td>...</td>\n",
       "      <td>1</td>\n",
       "      <td>1</td>\n",
       "      <td>3</td>\n",
       "      <td>1</td>\n",
       "      <td>2</td>\n",
       "      <td>2</td>\n",
       "      <td>4</td>\n",
       "      <td>3</td>\n",
       "      <td>4</td>\n",
       "      <td>5</td>\n",
       "    </tr>\n",
       "    <tr>\n",
       "      <th>1</th>\n",
       "      <td>3</td>\n",
       "      <td>1</td>\n",
       "      <td>2</td>\n",
       "      <td>2</td>\n",
       "      <td>2</td>\n",
       "      <td>1</td>\n",
       "      <td>1</td>\n",
       "      <td>3</td>\n",
       "      <td>2</td>\n",
       "      <td>4</td>\n",
       "      <td>...</td>\n",
       "      <td>2</td>\n",
       "      <td>2</td>\n",
       "      <td>3</td>\n",
       "      <td>2</td>\n",
       "      <td>3</td>\n",
       "      <td>2</td>\n",
       "      <td>5</td>\n",
       "      <td>3</td>\n",
       "      <td>3</td>\n",
       "      <td>4</td>\n",
       "    </tr>\n",
       "    <tr>\n",
       "      <th>2</th>\n",
       "      <td>3</td>\n",
       "      <td>4</td>\n",
       "      <td>2</td>\n",
       "      <td>2</td>\n",
       "      <td>1</td>\n",
       "      <td>1</td>\n",
       "      <td>1</td>\n",
       "      <td>2</td>\n",
       "      <td>3</td>\n",
       "      <td>3</td>\n",
       "      <td>...</td>\n",
       "      <td>1</td>\n",
       "      <td>1</td>\n",
       "      <td>4</td>\n",
       "      <td>3</td>\n",
       "      <td>1</td>\n",
       "      <td>4</td>\n",
       "      <td>3</td>\n",
       "      <td>3</td>\n",
       "      <td>3</td>\n",
       "      <td>4</td>\n",
       "    </tr>\n",
       "    <tr>\n",
       "      <th>3</th>\n",
       "      <td>3</td>\n",
       "      <td>4</td>\n",
       "      <td>2</td>\n",
       "      <td>1</td>\n",
       "      <td>1</td>\n",
       "      <td>1</td>\n",
       "      <td>1</td>\n",
       "      <td>1</td>\n",
       "      <td>3</td>\n",
       "      <td>2</td>\n",
       "      <td>...</td>\n",
       "      <td>2</td>\n",
       "      <td>1</td>\n",
       "      <td>3</td>\n",
       "      <td>2</td>\n",
       "      <td>1</td>\n",
       "      <td>2</td>\n",
       "      <td>1</td>\n",
       "      <td>4</td>\n",
       "      <td>4</td>\n",
       "      <td>3</td>\n",
       "    </tr>\n",
       "    <tr>\n",
       "      <th>4</th>\n",
       "      <td>2</td>\n",
       "      <td>3</td>\n",
       "      <td>2</td>\n",
       "      <td>4</td>\n",
       "      <td>1</td>\n",
       "      <td>1</td>\n",
       "      <td>1</td>\n",
       "      <td>4</td>\n",
       "      <td>3</td>\n",
       "      <td>3</td>\n",
       "      <td>...</td>\n",
       "      <td>2</td>\n",
       "      <td>1</td>\n",
       "      <td>2</td>\n",
       "      <td>1</td>\n",
       "      <td>3</td>\n",
       "      <td>1</td>\n",
       "      <td>5</td>\n",
       "      <td>4</td>\n",
       "      <td>3</td>\n",
       "      <td>1</td>\n",
       "    </tr>\n",
       "    <tr>\n",
       "      <th>...</th>\n",
       "      <td>...</td>\n",
       "      <td>...</td>\n",
       "      <td>...</td>\n",
       "      <td>...</td>\n",
       "      <td>...</td>\n",
       "      <td>...</td>\n",
       "      <td>...</td>\n",
       "      <td>...</td>\n",
       "      <td>...</td>\n",
       "      <td>...</td>\n",
       "      <td>...</td>\n",
       "      <td>...</td>\n",
       "      <td>...</td>\n",
       "      <td>...</td>\n",
       "      <td>...</td>\n",
       "      <td>...</td>\n",
       "      <td>...</td>\n",
       "      <td>...</td>\n",
       "      <td>...</td>\n",
       "      <td>...</td>\n",
       "      <td>...</td>\n",
       "    </tr>\n",
       "    <tr>\n",
       "      <th>7520</th>\n",
       "      <td>3</td>\n",
       "      <td>2</td>\n",
       "      <td>1</td>\n",
       "      <td>2</td>\n",
       "      <td>1</td>\n",
       "      <td>1</td>\n",
       "      <td>2</td>\n",
       "      <td>2</td>\n",
       "      <td>3</td>\n",
       "      <td>3</td>\n",
       "      <td>...</td>\n",
       "      <td>4</td>\n",
       "      <td>1</td>\n",
       "      <td>4</td>\n",
       "      <td>2</td>\n",
       "      <td>2</td>\n",
       "      <td>1</td>\n",
       "      <td>4</td>\n",
       "      <td>4</td>\n",
       "      <td>3</td>\n",
       "      <td>3</td>\n",
       "    </tr>\n",
       "    <tr>\n",
       "      <th>7521</th>\n",
       "      <td>2</td>\n",
       "      <td>3</td>\n",
       "      <td>3</td>\n",
       "      <td>3</td>\n",
       "      <td>4</td>\n",
       "      <td>3</td>\n",
       "      <td>2</td>\n",
       "      <td>1</td>\n",
       "      <td>3</td>\n",
       "      <td>3</td>\n",
       "      <td>...</td>\n",
       "      <td>3</td>\n",
       "      <td>4</td>\n",
       "      <td>2</td>\n",
       "      <td>3</td>\n",
       "      <td>2</td>\n",
       "      <td>4</td>\n",
       "      <td>1</td>\n",
       "      <td>3</td>\n",
       "      <td>3</td>\n",
       "      <td>2</td>\n",
       "    </tr>\n",
       "    <tr>\n",
       "      <th>7522</th>\n",
       "      <td>3</td>\n",
       "      <td>2</td>\n",
       "      <td>1</td>\n",
       "      <td>2</td>\n",
       "      <td>1</td>\n",
       "      <td>1</td>\n",
       "      <td>1</td>\n",
       "      <td>2</td>\n",
       "      <td>2</td>\n",
       "      <td>3</td>\n",
       "      <td>...</td>\n",
       "      <td>2</td>\n",
       "      <td>1</td>\n",
       "      <td>3</td>\n",
       "      <td>1</td>\n",
       "      <td>1</td>\n",
       "      <td>3</td>\n",
       "      <td>5</td>\n",
       "      <td>3</td>\n",
       "      <td>3</td>\n",
       "      <td>4</td>\n",
       "    </tr>\n",
       "    <tr>\n",
       "      <th>7523</th>\n",
       "      <td>2</td>\n",
       "      <td>1</td>\n",
       "      <td>1</td>\n",
       "      <td>1</td>\n",
       "      <td>2</td>\n",
       "      <td>1</td>\n",
       "      <td>1</td>\n",
       "      <td>2</td>\n",
       "      <td>2</td>\n",
       "      <td>2</td>\n",
       "      <td>...</td>\n",
       "      <td>2</td>\n",
       "      <td>1</td>\n",
       "      <td>3</td>\n",
       "      <td>2</td>\n",
       "      <td>1</td>\n",
       "      <td>2</td>\n",
       "      <td>4</td>\n",
       "      <td>4</td>\n",
       "      <td>3</td>\n",
       "      <td>4</td>\n",
       "    </tr>\n",
       "    <tr>\n",
       "      <th>7524</th>\n",
       "      <td>2</td>\n",
       "      <td>2</td>\n",
       "      <td>2</td>\n",
       "      <td>3</td>\n",
       "      <td>2</td>\n",
       "      <td>1</td>\n",
       "      <td>1</td>\n",
       "      <td>1</td>\n",
       "      <td>2</td>\n",
       "      <td>3</td>\n",
       "      <td>...</td>\n",
       "      <td>1</td>\n",
       "      <td>1</td>\n",
       "      <td>4</td>\n",
       "      <td>1</td>\n",
       "      <td>1</td>\n",
       "      <td>3</td>\n",
       "      <td>5</td>\n",
       "      <td>3</td>\n",
       "      <td>3</td>\n",
       "      <td>5</td>\n",
       "    </tr>\n",
       "  </tbody>\n",
       "</table>\n",
       "<p>7525 rows × 25 columns</p>\n",
       "</div>"
      ],
      "text/plain": [
       "      sslc  hsc  cgpa  school_type  no_of_miniprojects  no_of_projects  \\\n",
       "0        2    3     2            3                   1               1   \n",
       "1        3    1     2            2                   2               1   \n",
       "2        3    4     2            2                   1               1   \n",
       "3        3    4     2            1                   1               1   \n",
       "4        2    3     2            4                   1               1   \n",
       "...    ...  ...   ...          ...                 ...             ...   \n",
       "7520     3    2     1            2                   1               1   \n",
       "7521     2    3     3            3                   4               3   \n",
       "7522     3    2     1            2                   1               1   \n",
       "7523     2    1     1            1                   2               1   \n",
       "7524     2    2     2            3                   2               1   \n",
       "\n",
       "      coresub_skill  aptitude_skill  problemsolving_skill  programming_skill  \\\n",
       "0                 1               1                     2                  4   \n",
       "1                 1               3                     2                  4   \n",
       "2                 1               2                     3                  3   \n",
       "3                 1               1                     3                  2   \n",
       "4                 1               4                     3                  3   \n",
       "...             ...             ...                   ...                ...   \n",
       "7520              2               2                     3                  3   \n",
       "7521              2               1                     3                  3   \n",
       "7522              1               2                     2                  3   \n",
       "7523              1               2                     2                  2   \n",
       "7524              1               1                     2                  3   \n",
       "\n",
       "      ...  ds_coding  technology_used  sympos_attend  sympos_won  \\\n",
       "0     ...          1                1              3           1   \n",
       "1     ...          2                2              3           2   \n",
       "2     ...          1                1              4           3   \n",
       "3     ...          2                1              3           2   \n",
       "4     ...          2                1              2           1   \n",
       "...   ...        ...              ...            ...         ...   \n",
       "7520  ...          4                1              4           2   \n",
       "7521  ...          3                4              2           3   \n",
       "7522  ...          2                1              3           1   \n",
       "7523  ...          2                1              3           2   \n",
       "7524  ...          1                1              4           1   \n",
       "\n",
       "      extracurricular  learning_style  college_bench  clg_teachers_know  \\\n",
       "0                   2               2              4                  3   \n",
       "1                   3               2              5                  3   \n",
       "2                   1               4              3                  3   \n",
       "3                   1               2              1                  4   \n",
       "4                   3               1              5                  4   \n",
       "...               ...             ...            ...                ...   \n",
       "7520                2               1              4                  4   \n",
       "7521                2               4              1                  3   \n",
       "7522                1               3              5                  3   \n",
       "7523                1               2              4                  4   \n",
       "7524                1               3              5                  3   \n",
       "\n",
       "      college_performence   college_skills  \n",
       "0                        4               5  \n",
       "1                        3               4  \n",
       "2                        3               4  \n",
       "3                        4               3  \n",
       "4                        3               1  \n",
       "...                    ...             ...  \n",
       "7520                     3               3  \n",
       "7521                     3               2  \n",
       "7522                     3               4  \n",
       "7523                     3               4  \n",
       "7524                     3               5  \n",
       "\n",
       "[7525 rows x 25 columns]"
      ]
     },
     "execution_count": 83,
     "metadata": {},
     "output_type": "execute_result"
    }
   ],
   "source": [
    "X"
   ]
  },
  {
   "cell_type": "code",
   "execution_count": 84,
   "metadata": {},
   "outputs": [
    {
     "data": {
      "text/html": [
       "<div>\n",
       "<style scoped>\n",
       "    .dataframe tbody tr th:only-of-type {\n",
       "        vertical-align: middle;\n",
       "    }\n",
       "\n",
       "    .dataframe tbody tr th {\n",
       "        vertical-align: top;\n",
       "    }\n",
       "\n",
       "    .dataframe thead th {\n",
       "        text-align: right;\n",
       "    }\n",
       "</style>\n",
       "<table border=\"1\" class=\"dataframe\">\n",
       "  <thead>\n",
       "    <tr style=\"text-align: right;\">\n",
       "      <th></th>\n",
       "      <th>ROLE</th>\n",
       "    </tr>\n",
       "  </thead>\n",
       "  <tbody>\n",
       "    <tr>\n",
       "      <th>0</th>\n",
       "      <td>Technical Support</td>\n",
       "    </tr>\n",
       "    <tr>\n",
       "      <th>1</th>\n",
       "      <td>Software Developer</td>\n",
       "    </tr>\n",
       "    <tr>\n",
       "      <th>2</th>\n",
       "      <td>UI/UX Designer</td>\n",
       "    </tr>\n",
       "    <tr>\n",
       "      <th>3</th>\n",
       "      <td>Technical Support</td>\n",
       "    </tr>\n",
       "    <tr>\n",
       "      <th>4</th>\n",
       "      <td>Data Analyst</td>\n",
       "    </tr>\n",
       "    <tr>\n",
       "      <th>...</th>\n",
       "      <td>...</td>\n",
       "    </tr>\n",
       "    <tr>\n",
       "      <th>7520</th>\n",
       "      <td>NaN</td>\n",
       "    </tr>\n",
       "    <tr>\n",
       "      <th>7521</th>\n",
       "      <td>NaN</td>\n",
       "    </tr>\n",
       "    <tr>\n",
       "      <th>7522</th>\n",
       "      <td>NaN</td>\n",
       "    </tr>\n",
       "    <tr>\n",
       "      <th>7523</th>\n",
       "      <td>NaN</td>\n",
       "    </tr>\n",
       "    <tr>\n",
       "      <th>7524</th>\n",
       "      <td>NaN</td>\n",
       "    </tr>\n",
       "  </tbody>\n",
       "</table>\n",
       "<p>7525 rows × 1 columns</p>\n",
       "</div>"
      ],
      "text/plain": [
       "                    ROLE\n",
       "0      Technical Support\n",
       "1     Software Developer\n",
       "2         UI/UX Designer\n",
       "3      Technical Support\n",
       "4           Data Analyst\n",
       "...                  ...\n",
       "7520                 NaN\n",
       "7521                 NaN\n",
       "7522                 NaN\n",
       "7523                 NaN\n",
       "7524                 NaN\n",
       "\n",
       "[7525 rows x 1 columns]"
      ]
     },
     "execution_count": 84,
     "metadata": {},
     "output_type": "execute_result"
    }
   ],
   "source": [
    "y"
   ]
  },
  {
   "cell_type": "code",
   "execution_count": 85,
   "metadata": {},
   "outputs": [],
   "source": [
    "lable_encoder = LabelEncoder()"
   ]
  },
  {
   "cell_type": "code",
   "execution_count": 86,
   "metadata": {},
   "outputs": [],
   "source": [
    "for feature in X.columns[9:]:\n",
    "  X[feature] = lable_encoder.fit_transform(X[feature])"
   ]
  },
  {
   "cell_type": "code",
   "execution_count": 87,
   "metadata": {},
   "outputs": [],
   "source": [
    "# y['Suggested Job Role'] = lable_encoder.fit_transform(y['Suggested Job Role'])\n",
    "y['ROLE'] = lable_encoder.fit_transform(y['ROLE'])"
   ]
  },
  {
   "cell_type": "code",
   "execution_count": 88,
   "metadata": {},
   "outputs": [
    {
     "data": {
      "text/html": [
       "<div>\n",
       "<style scoped>\n",
       "    .dataframe tbody tr th:only-of-type {\n",
       "        vertical-align: middle;\n",
       "    }\n",
       "\n",
       "    .dataframe tbody tr th {\n",
       "        vertical-align: top;\n",
       "    }\n",
       "\n",
       "    .dataframe thead th {\n",
       "        text-align: right;\n",
       "    }\n",
       "</style>\n",
       "<table border=\"1\" class=\"dataframe\">\n",
       "  <thead>\n",
       "    <tr style=\"text-align: right;\">\n",
       "      <th></th>\n",
       "      <th>sslc</th>\n",
       "      <th>hsc</th>\n",
       "      <th>cgpa</th>\n",
       "      <th>school_type</th>\n",
       "      <th>no_of_miniprojects</th>\n",
       "      <th>no_of_projects</th>\n",
       "      <th>coresub_skill</th>\n",
       "      <th>aptitude_skill</th>\n",
       "      <th>problemsolving_skill</th>\n",
       "      <th>programming_skill</th>\n",
       "      <th>...</th>\n",
       "      <th>ds_coding</th>\n",
       "      <th>technology_used</th>\n",
       "      <th>sympos_attend</th>\n",
       "      <th>sympos_won</th>\n",
       "      <th>extracurricular</th>\n",
       "      <th>learning_style</th>\n",
       "      <th>college_bench</th>\n",
       "      <th>clg_teachers_know</th>\n",
       "      <th>college_performence</th>\n",
       "      <th>college_skills</th>\n",
       "    </tr>\n",
       "  </thead>\n",
       "  <tbody>\n",
       "    <tr>\n",
       "      <th>0</th>\n",
       "      <td>2</td>\n",
       "      <td>3</td>\n",
       "      <td>2</td>\n",
       "      <td>3</td>\n",
       "      <td>1</td>\n",
       "      <td>1</td>\n",
       "      <td>1</td>\n",
       "      <td>1</td>\n",
       "      <td>2</td>\n",
       "      <td>3</td>\n",
       "      <td>...</td>\n",
       "      <td>0</td>\n",
       "      <td>0</td>\n",
       "      <td>2</td>\n",
       "      <td>0</td>\n",
       "      <td>1</td>\n",
       "      <td>1</td>\n",
       "      <td>3</td>\n",
       "      <td>2</td>\n",
       "      <td>3</td>\n",
       "      <td>4</td>\n",
       "    </tr>\n",
       "    <tr>\n",
       "      <th>1</th>\n",
       "      <td>3</td>\n",
       "      <td>1</td>\n",
       "      <td>2</td>\n",
       "      <td>2</td>\n",
       "      <td>2</td>\n",
       "      <td>1</td>\n",
       "      <td>1</td>\n",
       "      <td>3</td>\n",
       "      <td>2</td>\n",
       "      <td>3</td>\n",
       "      <td>...</td>\n",
       "      <td>1</td>\n",
       "      <td>1</td>\n",
       "      <td>2</td>\n",
       "      <td>1</td>\n",
       "      <td>2</td>\n",
       "      <td>1</td>\n",
       "      <td>4</td>\n",
       "      <td>2</td>\n",
       "      <td>2</td>\n",
       "      <td>3</td>\n",
       "    </tr>\n",
       "    <tr>\n",
       "      <th>2</th>\n",
       "      <td>3</td>\n",
       "      <td>4</td>\n",
       "      <td>2</td>\n",
       "      <td>2</td>\n",
       "      <td>1</td>\n",
       "      <td>1</td>\n",
       "      <td>1</td>\n",
       "      <td>2</td>\n",
       "      <td>3</td>\n",
       "      <td>2</td>\n",
       "      <td>...</td>\n",
       "      <td>0</td>\n",
       "      <td>0</td>\n",
       "      <td>3</td>\n",
       "      <td>2</td>\n",
       "      <td>0</td>\n",
       "      <td>3</td>\n",
       "      <td>2</td>\n",
       "      <td>2</td>\n",
       "      <td>2</td>\n",
       "      <td>3</td>\n",
       "    </tr>\n",
       "    <tr>\n",
       "      <th>3</th>\n",
       "      <td>3</td>\n",
       "      <td>4</td>\n",
       "      <td>2</td>\n",
       "      <td>1</td>\n",
       "      <td>1</td>\n",
       "      <td>1</td>\n",
       "      <td>1</td>\n",
       "      <td>1</td>\n",
       "      <td>3</td>\n",
       "      <td>1</td>\n",
       "      <td>...</td>\n",
       "      <td>1</td>\n",
       "      <td>0</td>\n",
       "      <td>2</td>\n",
       "      <td>1</td>\n",
       "      <td>0</td>\n",
       "      <td>1</td>\n",
       "      <td>0</td>\n",
       "      <td>3</td>\n",
       "      <td>3</td>\n",
       "      <td>2</td>\n",
       "    </tr>\n",
       "    <tr>\n",
       "      <th>4</th>\n",
       "      <td>2</td>\n",
       "      <td>3</td>\n",
       "      <td>2</td>\n",
       "      <td>4</td>\n",
       "      <td>1</td>\n",
       "      <td>1</td>\n",
       "      <td>1</td>\n",
       "      <td>4</td>\n",
       "      <td>3</td>\n",
       "      <td>2</td>\n",
       "      <td>...</td>\n",
       "      <td>1</td>\n",
       "      <td>0</td>\n",
       "      <td>1</td>\n",
       "      <td>0</td>\n",
       "      <td>2</td>\n",
       "      <td>0</td>\n",
       "      <td>4</td>\n",
       "      <td>3</td>\n",
       "      <td>2</td>\n",
       "      <td>0</td>\n",
       "    </tr>\n",
       "  </tbody>\n",
       "</table>\n",
       "<p>5 rows × 25 columns</p>\n",
       "</div>"
      ],
      "text/plain": [
       "   sslc  hsc  cgpa  school_type  no_of_miniprojects  no_of_projects  \\\n",
       "0     2    3     2            3                   1               1   \n",
       "1     3    1     2            2                   2               1   \n",
       "2     3    4     2            2                   1               1   \n",
       "3     3    4     2            1                   1               1   \n",
       "4     2    3     2            4                   1               1   \n",
       "\n",
       "   coresub_skill  aptitude_skill  problemsolving_skill  programming_skill  \\\n",
       "0              1               1                     2                  3   \n",
       "1              1               3                     2                  3   \n",
       "2              1               2                     3                  2   \n",
       "3              1               1                     3                  1   \n",
       "4              1               4                     3                  2   \n",
       "\n",
       "   ...  ds_coding  technology_used  sympos_attend  sympos_won  \\\n",
       "0  ...          0                0              2           0   \n",
       "1  ...          1                1              2           1   \n",
       "2  ...          0                0              3           2   \n",
       "3  ...          1                0              2           1   \n",
       "4  ...          1                0              1           0   \n",
       "\n",
       "   extracurricular  learning_style  college_bench  clg_teachers_know  \\\n",
       "0                1               1              3                  2   \n",
       "1                2               1              4                  2   \n",
       "2                0               3              2                  2   \n",
       "3                0               1              0                  3   \n",
       "4                2               0              4                  3   \n",
       "\n",
       "   college_performence   college_skills  \n",
       "0                     3               4  \n",
       "1                     2               3  \n",
       "2                     2               3  \n",
       "3                     3               2  \n",
       "4                     2               0  \n",
       "\n",
       "[5 rows x 25 columns]"
      ]
     },
     "execution_count": 88,
     "metadata": {},
     "output_type": "execute_result"
    }
   ],
   "source": [
    "X.head()"
   ]
  },
  {
   "cell_type": "code",
   "execution_count": 89,
   "metadata": {},
   "outputs": [
    {
     "data": {
      "text/html": [
       "<div>\n",
       "<style scoped>\n",
       "    .dataframe tbody tr th:only-of-type {\n",
       "        vertical-align: middle;\n",
       "    }\n",
       "\n",
       "    .dataframe tbody tr th {\n",
       "        vertical-align: top;\n",
       "    }\n",
       "\n",
       "    .dataframe thead th {\n",
       "        text-align: right;\n",
       "    }\n",
       "</style>\n",
       "<table border=\"1\" class=\"dataframe\">\n",
       "  <thead>\n",
       "    <tr style=\"text-align: right;\">\n",
       "      <th></th>\n",
       "      <th>ROLE</th>\n",
       "    </tr>\n",
       "  </thead>\n",
       "  <tbody>\n",
       "    <tr>\n",
       "      <th>0</th>\n",
       "      <td>4</td>\n",
       "    </tr>\n",
       "    <tr>\n",
       "      <th>1</th>\n",
       "      <td>2</td>\n",
       "    </tr>\n",
       "    <tr>\n",
       "      <th>2</th>\n",
       "      <td>6</td>\n",
       "    </tr>\n",
       "    <tr>\n",
       "      <th>3</th>\n",
       "      <td>4</td>\n",
       "    </tr>\n",
       "    <tr>\n",
       "      <th>4</th>\n",
       "      <td>1</td>\n",
       "    </tr>\n",
       "  </tbody>\n",
       "</table>\n",
       "</div>"
      ],
      "text/plain": [
       "   ROLE\n",
       "0     4\n",
       "1     2\n",
       "2     6\n",
       "3     4\n",
       "4     1"
      ]
     },
     "execution_count": 89,
     "metadata": {},
     "output_type": "execute_result"
    }
   ],
   "source": [
    "y.head()"
   ]
  },
  {
   "cell_type": "markdown",
   "metadata": {},
   "source": []
  },
  {
   "cell_type": "markdown",
   "metadata": {},
   "source": []
  },
  {
   "cell_type": "markdown",
   "metadata": {},
   "source": [
    "# 2.) Feature Selection"
   ]
  },
  {
   "cell_type": "code",
   "execution_count": 90,
   "metadata": {},
   "outputs": [],
   "source": [
    "X_train, X_test, y_train, y_test = train_test_split(X, y, test_size=0.33, random_state=1)"
   ]
  },
  {
   "cell_type": "code",
   "execution_count": 91,
   "metadata": {},
   "outputs": [
    {
     "data": {
      "text/html": [
       "<div>\n",
       "<style scoped>\n",
       "    .dataframe tbody tr th:only-of-type {\n",
       "        vertical-align: middle;\n",
       "    }\n",
       "\n",
       "    .dataframe tbody tr th {\n",
       "        vertical-align: top;\n",
       "    }\n",
       "\n",
       "    .dataframe thead th {\n",
       "        text-align: right;\n",
       "    }\n",
       "</style>\n",
       "<table border=\"1\" class=\"dataframe\">\n",
       "  <thead>\n",
       "    <tr style=\"text-align: right;\">\n",
       "      <th></th>\n",
       "      <th>sslc</th>\n",
       "      <th>hsc</th>\n",
       "      <th>cgpa</th>\n",
       "      <th>school_type</th>\n",
       "      <th>no_of_miniprojects</th>\n",
       "      <th>no_of_projects</th>\n",
       "      <th>coresub_skill</th>\n",
       "      <th>aptitude_skill</th>\n",
       "      <th>problemsolving_skill</th>\n",
       "      <th>programming_skill</th>\n",
       "      <th>...</th>\n",
       "      <th>ds_coding</th>\n",
       "      <th>technology_used</th>\n",
       "      <th>sympos_attend</th>\n",
       "      <th>sympos_won</th>\n",
       "      <th>extracurricular</th>\n",
       "      <th>learning_style</th>\n",
       "      <th>college_bench</th>\n",
       "      <th>clg_teachers_know</th>\n",
       "      <th>college_performence</th>\n",
       "      <th>college_skills</th>\n",
       "    </tr>\n",
       "  </thead>\n",
       "  <tbody>\n",
       "    <tr>\n",
       "      <th>3570</th>\n",
       "      <td>2</td>\n",
       "      <td>3</td>\n",
       "      <td>2</td>\n",
       "      <td>1</td>\n",
       "      <td>1</td>\n",
       "      <td>1</td>\n",
       "      <td>2</td>\n",
       "      <td>1</td>\n",
       "      <td>3</td>\n",
       "      <td>2</td>\n",
       "      <td>...</td>\n",
       "      <td>1</td>\n",
       "      <td>0</td>\n",
       "      <td>2</td>\n",
       "      <td>2</td>\n",
       "      <td>1</td>\n",
       "      <td>2</td>\n",
       "      <td>2</td>\n",
       "      <td>3</td>\n",
       "      <td>2</td>\n",
       "      <td>1</td>\n",
       "    </tr>\n",
       "    <tr>\n",
       "      <th>1937</th>\n",
       "      <td>3</td>\n",
       "      <td>3</td>\n",
       "      <td>1</td>\n",
       "      <td>1</td>\n",
       "      <td>1</td>\n",
       "      <td>1</td>\n",
       "      <td>1</td>\n",
       "      <td>2</td>\n",
       "      <td>3</td>\n",
       "      <td>2</td>\n",
       "      <td>...</td>\n",
       "      <td>0</td>\n",
       "      <td>0</td>\n",
       "      <td>2</td>\n",
       "      <td>0</td>\n",
       "      <td>2</td>\n",
       "      <td>1</td>\n",
       "      <td>2</td>\n",
       "      <td>3</td>\n",
       "      <td>2</td>\n",
       "      <td>0</td>\n",
       "    </tr>\n",
       "    <tr>\n",
       "      <th>7420</th>\n",
       "      <td>4</td>\n",
       "      <td>4</td>\n",
       "      <td>3</td>\n",
       "      <td>1</td>\n",
       "      <td>1</td>\n",
       "      <td>1</td>\n",
       "      <td>2</td>\n",
       "      <td>1</td>\n",
       "      <td>4</td>\n",
       "      <td>3</td>\n",
       "      <td>...</td>\n",
       "      <td>2</td>\n",
       "      <td>0</td>\n",
       "      <td>3</td>\n",
       "      <td>1</td>\n",
       "      <td>1</td>\n",
       "      <td>1</td>\n",
       "      <td>3</td>\n",
       "      <td>3</td>\n",
       "      <td>3</td>\n",
       "      <td>3</td>\n",
       "    </tr>\n",
       "    <tr>\n",
       "      <th>6344</th>\n",
       "      <td>4</td>\n",
       "      <td>3</td>\n",
       "      <td>2</td>\n",
       "      <td>1</td>\n",
       "      <td>1</td>\n",
       "      <td>1</td>\n",
       "      <td>1</td>\n",
       "      <td>2</td>\n",
       "      <td>3</td>\n",
       "      <td>1</td>\n",
       "      <td>...</td>\n",
       "      <td>1</td>\n",
       "      <td>0</td>\n",
       "      <td>2</td>\n",
       "      <td>1</td>\n",
       "      <td>0</td>\n",
       "      <td>1</td>\n",
       "      <td>4</td>\n",
       "      <td>2</td>\n",
       "      <td>2</td>\n",
       "      <td>0</td>\n",
       "    </tr>\n",
       "    <tr>\n",
       "      <th>857</th>\n",
       "      <td>4</td>\n",
       "      <td>4</td>\n",
       "      <td>4</td>\n",
       "      <td>1</td>\n",
       "      <td>2</td>\n",
       "      <td>1</td>\n",
       "      <td>2</td>\n",
       "      <td>3</td>\n",
       "      <td>3</td>\n",
       "      <td>2</td>\n",
       "      <td>...</td>\n",
       "      <td>1</td>\n",
       "      <td>1</td>\n",
       "      <td>2</td>\n",
       "      <td>2</td>\n",
       "      <td>2</td>\n",
       "      <td>0</td>\n",
       "      <td>4</td>\n",
       "      <td>3</td>\n",
       "      <td>3</td>\n",
       "      <td>3</td>\n",
       "    </tr>\n",
       "  </tbody>\n",
       "</table>\n",
       "<p>5 rows × 25 columns</p>\n",
       "</div>"
      ],
      "text/plain": [
       "      sslc  hsc  cgpa  school_type  no_of_miniprojects  no_of_projects  \\\n",
       "3570     2    3     2            1                   1               1   \n",
       "1937     3    3     1            1                   1               1   \n",
       "7420     4    4     3            1                   1               1   \n",
       "6344     4    3     2            1                   1               1   \n",
       "857      4    4     4            1                   2               1   \n",
       "\n",
       "      coresub_skill  aptitude_skill  problemsolving_skill  programming_skill  \\\n",
       "3570              2               1                     3                  2   \n",
       "1937              1               2                     3                  2   \n",
       "7420              2               1                     4                  3   \n",
       "6344              1               2                     3                  1   \n",
       "857               2               3                     3                  2   \n",
       "\n",
       "      ...  ds_coding  technology_used  sympos_attend  sympos_won  \\\n",
       "3570  ...          1                0              2           2   \n",
       "1937  ...          0                0              2           0   \n",
       "7420  ...          2                0              3           1   \n",
       "6344  ...          1                0              2           1   \n",
       "857   ...          1                1              2           2   \n",
       "\n",
       "      extracurricular  learning_style  college_bench  clg_teachers_know  \\\n",
       "3570                1               2              2                  3   \n",
       "1937                2               1              2                  3   \n",
       "7420                1               1              3                  3   \n",
       "6344                0               1              4                  2   \n",
       "857                 2               0              4                  3   \n",
       "\n",
       "      college_performence   college_skills  \n",
       "3570                     2               1  \n",
       "1937                     2               0  \n",
       "7420                     3               3  \n",
       "6344                     2               0  \n",
       "857                      3               3  \n",
       "\n",
       "[5 rows x 25 columns]"
      ]
     },
     "execution_count": 91,
     "metadata": {},
     "output_type": "execute_result"
    }
   ],
   "source": [
    "X_train.head()"
   ]
  },
  {
   "cell_type": "code",
   "execution_count": 92,
   "metadata": {},
   "outputs": [
    {
     "data": {
      "text/html": [
       "<div>\n",
       "<style scoped>\n",
       "    .dataframe tbody tr th:only-of-type {\n",
       "        vertical-align: middle;\n",
       "    }\n",
       "\n",
       "    .dataframe tbody tr th {\n",
       "        vertical-align: top;\n",
       "    }\n",
       "\n",
       "    .dataframe thead th {\n",
       "        text-align: right;\n",
       "    }\n",
       "</style>\n",
       "<table border=\"1\" class=\"dataframe\">\n",
       "  <thead>\n",
       "    <tr style=\"text-align: right;\">\n",
       "      <th></th>\n",
       "      <th>ROLE</th>\n",
       "    </tr>\n",
       "  </thead>\n",
       "  <tbody>\n",
       "    <tr>\n",
       "      <th>3570</th>\n",
       "      <td>8</td>\n",
       "    </tr>\n",
       "    <tr>\n",
       "      <th>1937</th>\n",
       "      <td>8</td>\n",
       "    </tr>\n",
       "    <tr>\n",
       "      <th>7420</th>\n",
       "      <td>8</td>\n",
       "    </tr>\n",
       "    <tr>\n",
       "      <th>6344</th>\n",
       "      <td>8</td>\n",
       "    </tr>\n",
       "    <tr>\n",
       "      <th>857</th>\n",
       "      <td>8</td>\n",
       "    </tr>\n",
       "  </tbody>\n",
       "</table>\n",
       "</div>"
      ],
      "text/plain": [
       "      ROLE\n",
       "3570     8\n",
       "1937     8\n",
       "7420     8\n",
       "6344     8\n",
       "857      8"
      ]
     },
     "execution_count": 92,
     "metadata": {},
     "output_type": "execute_result"
    }
   ],
   "source": [
    "y_train.head()"
   ]
  },
  {
   "cell_type": "code",
   "execution_count": 93,
   "metadata": {},
   "outputs": [
    {
     "data": {
      "text/plain": [
       "array([ True,  True,  True,  True,  True,  True,  True,  True,  True,\n",
       "        True,  True,  True,  True,  True,  True,  True,  True,  True,\n",
       "        True,  True,  True,  True,  True,  True,  True])"
      ]
     },
     "execution_count": 93,
     "metadata": {},
     "output_type": "execute_result"
    }
   ],
   "source": [
    "variance_threshold = VarianceThreshold(threshold=0)\n",
    "vt_features = variance_threshold.fit(X_train)\n",
    "vt_features.get_support()"
   ]
  },
  {
   "cell_type": "code",
   "execution_count": 94,
   "metadata": {},
   "outputs": [
    {
     "name": "stderr",
     "output_type": "stream",
     "text": [
      "C:\\Users\\Priyesh Dave\\AppData\\Local\\Programs\\Python\\Python39\\lib\\site-packages\\sklearn\\utils\\validation.py:63: DataConversionWarning:\n",
      "\n",
      "A column-vector y was passed when a 1d array was expected. Please change the shape of y to (n_samples, ), for example using ravel().\n",
      "\n"
     ]
    },
    {
     "data": {
      "text/plain": [
       "array([0.01551609, 0.        , 0.00620161, 0.01963929, 0.02435566,\n",
       "       0.03246952, 0.02282989, 0.01645928, 0.00016341, 0.01394641,\n",
       "       0.01520673, 0.0133436 , 0.01737196, 0.01280814, 0.01200329,\n",
       "       0.0160448 , 0.00041896, 0.02244967, 0.00043949, 0.        ,\n",
       "       0.00749125, 0.        , 0.00815236, 0.01154979, 0.00281174])"
      ]
     },
     "execution_count": 94,
     "metadata": {},
     "output_type": "execute_result"
    }
   ],
   "source": [
    "mutual_info = mutual_info_classif(X_train,y_train)\n",
    "mutual_info"
   ]
  },
  {
   "cell_type": "code",
   "execution_count": 95,
   "metadata": {},
   "outputs": [
    {
     "data": {
      "text/plain": [
       "sslc                    0.015516\n",
       "hsc                     0.000000\n",
       "cgpa                    0.006202\n",
       "school_type             0.019639\n",
       "no_of_miniprojects      0.024356\n",
       "no_of_projects          0.032470\n",
       "coresub_skill           0.022830\n",
       "aptitude_skill          0.016459\n",
       "problemsolving_skill    0.000163\n",
       "programming_skill       0.013946\n",
       "abstractthink_skill     0.015207\n",
       "design_skill            0.013344\n",
       "first_computer          0.017372\n",
       "first_program           0.012808\n",
       "lab_programs            0.012003\n",
       "ds_coding               0.016045\n",
       "technology_used         0.000419\n",
       "sympos_attend           0.022450\n",
       "sympos_won              0.000439\n",
       "extracurricular         0.000000\n",
       "learning_style          0.007491\n",
       "college_bench           0.000000\n",
       "clg_teachers_know       0.008152\n",
       "college_performence     0.011550\n",
       "college_skills          0.002812\n",
       "dtype: float64"
      ]
     },
     "execution_count": 95,
     "metadata": {},
     "output_type": "execute_result"
    }
   ],
   "source": [
    "mutual_info = pd.Series(mutual_info)\n",
    "mutual_info.index = X_train.columns\n",
    "mutual_info"
   ]
  },
  {
   "cell_type": "code",
   "execution_count": 96,
   "metadata": {},
   "outputs": [
    {
     "data": {
      "text/html": [
       "<div>\n",
       "<style scoped>\n",
       "    .dataframe tbody tr th:only-of-type {\n",
       "        vertical-align: middle;\n",
       "    }\n",
       "\n",
       "    .dataframe tbody tr th {\n",
       "        vertical-align: top;\n",
       "    }\n",
       "\n",
       "    .dataframe thead th {\n",
       "        text-align: right;\n",
       "    }\n",
       "</style>\n",
       "<table border=\"1\" class=\"dataframe\">\n",
       "  <thead>\n",
       "    <tr style=\"text-align: right;\">\n",
       "      <th></th>\n",
       "      <th>Mutual Information</th>\n",
       "    </tr>\n",
       "  </thead>\n",
       "  <tbody>\n",
       "    <tr>\n",
       "      <th>sslc</th>\n",
       "      <td>0.015516</td>\n",
       "    </tr>\n",
       "    <tr>\n",
       "      <th>hsc</th>\n",
       "      <td>0.000000</td>\n",
       "    </tr>\n",
       "    <tr>\n",
       "      <th>cgpa</th>\n",
       "      <td>0.006202</td>\n",
       "    </tr>\n",
       "    <tr>\n",
       "      <th>school_type</th>\n",
       "      <td>0.019639</td>\n",
       "    </tr>\n",
       "    <tr>\n",
       "      <th>no_of_miniprojects</th>\n",
       "      <td>0.024356</td>\n",
       "    </tr>\n",
       "    <tr>\n",
       "      <th>no_of_projects</th>\n",
       "      <td>0.032470</td>\n",
       "    </tr>\n",
       "    <tr>\n",
       "      <th>coresub_skill</th>\n",
       "      <td>0.022830</td>\n",
       "    </tr>\n",
       "    <tr>\n",
       "      <th>aptitude_skill</th>\n",
       "      <td>0.016459</td>\n",
       "    </tr>\n",
       "    <tr>\n",
       "      <th>problemsolving_skill</th>\n",
       "      <td>0.000163</td>\n",
       "    </tr>\n",
       "    <tr>\n",
       "      <th>programming_skill</th>\n",
       "      <td>0.013946</td>\n",
       "    </tr>\n",
       "    <tr>\n",
       "      <th>abstractthink_skill</th>\n",
       "      <td>0.015207</td>\n",
       "    </tr>\n",
       "    <tr>\n",
       "      <th>design_skill</th>\n",
       "      <td>0.013344</td>\n",
       "    </tr>\n",
       "    <tr>\n",
       "      <th>first_computer</th>\n",
       "      <td>0.017372</td>\n",
       "    </tr>\n",
       "    <tr>\n",
       "      <th>first_program</th>\n",
       "      <td>0.012808</td>\n",
       "    </tr>\n",
       "    <tr>\n",
       "      <th>lab_programs</th>\n",
       "      <td>0.012003</td>\n",
       "    </tr>\n",
       "    <tr>\n",
       "      <th>ds_coding</th>\n",
       "      <td>0.016045</td>\n",
       "    </tr>\n",
       "    <tr>\n",
       "      <th>technology_used</th>\n",
       "      <td>0.000419</td>\n",
       "    </tr>\n",
       "    <tr>\n",
       "      <th>sympos_attend</th>\n",
       "      <td>0.022450</td>\n",
       "    </tr>\n",
       "    <tr>\n",
       "      <th>sympos_won</th>\n",
       "      <td>0.000439</td>\n",
       "    </tr>\n",
       "    <tr>\n",
       "      <th>extracurricular</th>\n",
       "      <td>0.000000</td>\n",
       "    </tr>\n",
       "    <tr>\n",
       "      <th>learning_style</th>\n",
       "      <td>0.007491</td>\n",
       "    </tr>\n",
       "    <tr>\n",
       "      <th>college_bench</th>\n",
       "      <td>0.000000</td>\n",
       "    </tr>\n",
       "    <tr>\n",
       "      <th>clg_teachers_know</th>\n",
       "      <td>0.008152</td>\n",
       "    </tr>\n",
       "    <tr>\n",
       "      <th>college_performence</th>\n",
       "      <td>0.011550</td>\n",
       "    </tr>\n",
       "    <tr>\n",
       "      <th>college_skills</th>\n",
       "      <td>0.002812</td>\n",
       "    </tr>\n",
       "  </tbody>\n",
       "</table>\n",
       "</div>"
      ],
      "text/plain": [
       "                      Mutual Information\n",
       "sslc                            0.015516\n",
       "hsc                             0.000000\n",
       "cgpa                            0.006202\n",
       "school_type                     0.019639\n",
       "no_of_miniprojects              0.024356\n",
       "no_of_projects                  0.032470\n",
       "coresub_skill                   0.022830\n",
       "aptitude_skill                  0.016459\n",
       "problemsolving_skill            0.000163\n",
       "programming_skill               0.013946\n",
       "abstractthink_skill             0.015207\n",
       "design_skill                    0.013344\n",
       "first_computer                  0.017372\n",
       "first_program                   0.012808\n",
       "lab_programs                    0.012003\n",
       "ds_coding                       0.016045\n",
       "technology_used                 0.000419\n",
       "sympos_attend                   0.022450\n",
       "sympos_won                      0.000439\n",
       "extracurricular                 0.000000\n",
       "learning_style                  0.007491\n",
       "college_bench                   0.000000\n",
       "clg_teachers_know               0.008152\n",
       "college_performence             0.011550\n",
       "college_skills                  0.002812"
      ]
     },
     "execution_count": 96,
     "metadata": {},
     "output_type": "execute_result"
    }
   ],
   "source": [
    "features_dataframe = pd.DataFrame(mutual_info, index=mutual_info.index, columns=['Mutual Information'])\n",
    "features_dataframe"
   ]
  },
  {
   "cell_type": "code",
   "execution_count": 97,
   "metadata": {},
   "outputs": [],
   "source": [
    "import plotly.express as px"
   ]
  },
  {
   "cell_type": "code",
   "execution_count": 98,
   "metadata": {},
   "outputs": [
    {
     "data": {
      "application/vnd.plotly.v1+json": {
       "config": {
        "plotlyServerURL": "https://plot.ly"
       },
       "data": [
        {
         "alignmentgroup": "True",
         "hovertemplate": "index=%{x}<br>Mutual Information=%{y}<extra></extra>",
         "legendgroup": "",
         "marker": {
          "color": "#636efa",
          "pattern": {
           "shape": ""
          }
         },
         "name": "",
         "offsetgroup": "",
         "orientation": "v",
         "showlegend": false,
         "textposition": "auto",
         "type": "bar",
         "x": [
          "sslc",
          "hsc",
          "cgpa",
          "school_type",
          "no_of_miniprojects",
          "no_of_projects",
          "coresub_skill",
          "aptitude_skill",
          "problemsolving_skill",
          "programming_skill",
          "abstractthink_skill",
          "design_skill",
          "first_computer",
          "first_program",
          "lab_programs",
          "ds_coding",
          "technology_used",
          "sympos_attend",
          "sympos_won",
          "extracurricular",
          "learning_style",
          "college_bench",
          "clg_teachers_know",
          "college_performence ",
          "college_skills"
         ],
         "xaxis": "x",
         "y": [
          0.015516087736878736,
          0,
          0.0062016072400907785,
          0.01963928834391737,
          0.02435566023677571,
          0.032469518037338996,
          0.022829892491039616,
          0.016459275650571814,
          0.0001634135321665342,
          0.013946412806967845,
          0.015206731297813691,
          0.013343595152716659,
          0.01737196235598304,
          0.012808142190427696,
          0.012003294798236253,
          0.0160447975381931,
          0.0004189640898520919,
          0.02244967242564322,
          0.00043948689026562793,
          0,
          0.0074912494154456555,
          0,
          0.008152356065096233,
          0.011549785285943748,
          0.0028117383138926977
         ],
         "yaxis": "y"
        }
       ],
       "layout": {
        "barmode": "relative",
        "legend": {
         "tracegroupgap": 0
        },
        "margin": {
         "t": 60
        },
        "template": {
         "data": {
          "bar": [
           {
            "error_x": {
             "color": "#2a3f5f"
            },
            "error_y": {
             "color": "#2a3f5f"
            },
            "marker": {
             "line": {
              "color": "#E5ECF6",
              "width": 0.5
             },
             "pattern": {
              "fillmode": "overlay",
              "size": 10,
              "solidity": 0.2
             }
            },
            "type": "bar"
           }
          ],
          "barpolar": [
           {
            "marker": {
             "line": {
              "color": "#E5ECF6",
              "width": 0.5
             },
             "pattern": {
              "fillmode": "overlay",
              "size": 10,
              "solidity": 0.2
             }
            },
            "type": "barpolar"
           }
          ],
          "carpet": [
           {
            "aaxis": {
             "endlinecolor": "#2a3f5f",
             "gridcolor": "white",
             "linecolor": "white",
             "minorgridcolor": "white",
             "startlinecolor": "#2a3f5f"
            },
            "baxis": {
             "endlinecolor": "#2a3f5f",
             "gridcolor": "white",
             "linecolor": "white",
             "minorgridcolor": "white",
             "startlinecolor": "#2a3f5f"
            },
            "type": "carpet"
           }
          ],
          "choropleth": [
           {
            "colorbar": {
             "outlinewidth": 0,
             "ticks": ""
            },
            "type": "choropleth"
           }
          ],
          "contour": [
           {
            "colorbar": {
             "outlinewidth": 0,
             "ticks": ""
            },
            "colorscale": [
             [
              0,
              "#0d0887"
             ],
             [
              0.1111111111111111,
              "#46039f"
             ],
             [
              0.2222222222222222,
              "#7201a8"
             ],
             [
              0.3333333333333333,
              "#9c179e"
             ],
             [
              0.4444444444444444,
              "#bd3786"
             ],
             [
              0.5555555555555556,
              "#d8576b"
             ],
             [
              0.6666666666666666,
              "#ed7953"
             ],
             [
              0.7777777777777778,
              "#fb9f3a"
             ],
             [
              0.8888888888888888,
              "#fdca26"
             ],
             [
              1,
              "#f0f921"
             ]
            ],
            "type": "contour"
           }
          ],
          "contourcarpet": [
           {
            "colorbar": {
             "outlinewidth": 0,
             "ticks": ""
            },
            "type": "contourcarpet"
           }
          ],
          "heatmap": [
           {
            "colorbar": {
             "outlinewidth": 0,
             "ticks": ""
            },
            "colorscale": [
             [
              0,
              "#0d0887"
             ],
             [
              0.1111111111111111,
              "#46039f"
             ],
             [
              0.2222222222222222,
              "#7201a8"
             ],
             [
              0.3333333333333333,
              "#9c179e"
             ],
             [
              0.4444444444444444,
              "#bd3786"
             ],
             [
              0.5555555555555556,
              "#d8576b"
             ],
             [
              0.6666666666666666,
              "#ed7953"
             ],
             [
              0.7777777777777778,
              "#fb9f3a"
             ],
             [
              0.8888888888888888,
              "#fdca26"
             ],
             [
              1,
              "#f0f921"
             ]
            ],
            "type": "heatmap"
           }
          ],
          "heatmapgl": [
           {
            "colorbar": {
             "outlinewidth": 0,
             "ticks": ""
            },
            "colorscale": [
             [
              0,
              "#0d0887"
             ],
             [
              0.1111111111111111,
              "#46039f"
             ],
             [
              0.2222222222222222,
              "#7201a8"
             ],
             [
              0.3333333333333333,
              "#9c179e"
             ],
             [
              0.4444444444444444,
              "#bd3786"
             ],
             [
              0.5555555555555556,
              "#d8576b"
             ],
             [
              0.6666666666666666,
              "#ed7953"
             ],
             [
              0.7777777777777778,
              "#fb9f3a"
             ],
             [
              0.8888888888888888,
              "#fdca26"
             ],
             [
              1,
              "#f0f921"
             ]
            ],
            "type": "heatmapgl"
           }
          ],
          "histogram": [
           {
            "marker": {
             "pattern": {
              "fillmode": "overlay",
              "size": 10,
              "solidity": 0.2
             }
            },
            "type": "histogram"
           }
          ],
          "histogram2d": [
           {
            "colorbar": {
             "outlinewidth": 0,
             "ticks": ""
            },
            "colorscale": [
             [
              0,
              "#0d0887"
             ],
             [
              0.1111111111111111,
              "#46039f"
             ],
             [
              0.2222222222222222,
              "#7201a8"
             ],
             [
              0.3333333333333333,
              "#9c179e"
             ],
             [
              0.4444444444444444,
              "#bd3786"
             ],
             [
              0.5555555555555556,
              "#d8576b"
             ],
             [
              0.6666666666666666,
              "#ed7953"
             ],
             [
              0.7777777777777778,
              "#fb9f3a"
             ],
             [
              0.8888888888888888,
              "#fdca26"
             ],
             [
              1,
              "#f0f921"
             ]
            ],
            "type": "histogram2d"
           }
          ],
          "histogram2dcontour": [
           {
            "colorbar": {
             "outlinewidth": 0,
             "ticks": ""
            },
            "colorscale": [
             [
              0,
              "#0d0887"
             ],
             [
              0.1111111111111111,
              "#46039f"
             ],
             [
              0.2222222222222222,
              "#7201a8"
             ],
             [
              0.3333333333333333,
              "#9c179e"
             ],
             [
              0.4444444444444444,
              "#bd3786"
             ],
             [
              0.5555555555555556,
              "#d8576b"
             ],
             [
              0.6666666666666666,
              "#ed7953"
             ],
             [
              0.7777777777777778,
              "#fb9f3a"
             ],
             [
              0.8888888888888888,
              "#fdca26"
             ],
             [
              1,
              "#f0f921"
             ]
            ],
            "type": "histogram2dcontour"
           }
          ],
          "mesh3d": [
           {
            "colorbar": {
             "outlinewidth": 0,
             "ticks": ""
            },
            "type": "mesh3d"
           }
          ],
          "parcoords": [
           {
            "line": {
             "colorbar": {
              "outlinewidth": 0,
              "ticks": ""
             }
            },
            "type": "parcoords"
           }
          ],
          "pie": [
           {
            "automargin": true,
            "type": "pie"
           }
          ],
          "scatter": [
           {
            "marker": {
             "colorbar": {
              "outlinewidth": 0,
              "ticks": ""
             }
            },
            "type": "scatter"
           }
          ],
          "scatter3d": [
           {
            "line": {
             "colorbar": {
              "outlinewidth": 0,
              "ticks": ""
             }
            },
            "marker": {
             "colorbar": {
              "outlinewidth": 0,
              "ticks": ""
             }
            },
            "type": "scatter3d"
           }
          ],
          "scattercarpet": [
           {
            "marker": {
             "colorbar": {
              "outlinewidth": 0,
              "ticks": ""
             }
            },
            "type": "scattercarpet"
           }
          ],
          "scattergeo": [
           {
            "marker": {
             "colorbar": {
              "outlinewidth": 0,
              "ticks": ""
             }
            },
            "type": "scattergeo"
           }
          ],
          "scattergl": [
           {
            "marker": {
             "colorbar": {
              "outlinewidth": 0,
              "ticks": ""
             }
            },
            "type": "scattergl"
           }
          ],
          "scattermapbox": [
           {
            "marker": {
             "colorbar": {
              "outlinewidth": 0,
              "ticks": ""
             }
            },
            "type": "scattermapbox"
           }
          ],
          "scatterpolar": [
           {
            "marker": {
             "colorbar": {
              "outlinewidth": 0,
              "ticks": ""
             }
            },
            "type": "scatterpolar"
           }
          ],
          "scatterpolargl": [
           {
            "marker": {
             "colorbar": {
              "outlinewidth": 0,
              "ticks": ""
             }
            },
            "type": "scatterpolargl"
           }
          ],
          "scatterternary": [
           {
            "marker": {
             "colorbar": {
              "outlinewidth": 0,
              "ticks": ""
             }
            },
            "type": "scatterternary"
           }
          ],
          "surface": [
           {
            "colorbar": {
             "outlinewidth": 0,
             "ticks": ""
            },
            "colorscale": [
             [
              0,
              "#0d0887"
             ],
             [
              0.1111111111111111,
              "#46039f"
             ],
             [
              0.2222222222222222,
              "#7201a8"
             ],
             [
              0.3333333333333333,
              "#9c179e"
             ],
             [
              0.4444444444444444,
              "#bd3786"
             ],
             [
              0.5555555555555556,
              "#d8576b"
             ],
             [
              0.6666666666666666,
              "#ed7953"
             ],
             [
              0.7777777777777778,
              "#fb9f3a"
             ],
             [
              0.8888888888888888,
              "#fdca26"
             ],
             [
              1,
              "#f0f921"
             ]
            ],
            "type": "surface"
           }
          ],
          "table": [
           {
            "cells": {
             "fill": {
              "color": "#EBF0F8"
             },
             "line": {
              "color": "white"
             }
            },
            "header": {
             "fill": {
              "color": "#C8D4E3"
             },
             "line": {
              "color": "white"
             }
            },
            "type": "table"
           }
          ]
         },
         "layout": {
          "annotationdefaults": {
           "arrowcolor": "#2a3f5f",
           "arrowhead": 0,
           "arrowwidth": 1
          },
          "autotypenumbers": "strict",
          "coloraxis": {
           "colorbar": {
            "outlinewidth": 0,
            "ticks": ""
           }
          },
          "colorscale": {
           "diverging": [
            [
             0,
             "#8e0152"
            ],
            [
             0.1,
             "#c51b7d"
            ],
            [
             0.2,
             "#de77ae"
            ],
            [
             0.3,
             "#f1b6da"
            ],
            [
             0.4,
             "#fde0ef"
            ],
            [
             0.5,
             "#f7f7f7"
            ],
            [
             0.6,
             "#e6f5d0"
            ],
            [
             0.7,
             "#b8e186"
            ],
            [
             0.8,
             "#7fbc41"
            ],
            [
             0.9,
             "#4d9221"
            ],
            [
             1,
             "#276419"
            ]
           ],
           "sequential": [
            [
             0,
             "#0d0887"
            ],
            [
             0.1111111111111111,
             "#46039f"
            ],
            [
             0.2222222222222222,
             "#7201a8"
            ],
            [
             0.3333333333333333,
             "#9c179e"
            ],
            [
             0.4444444444444444,
             "#bd3786"
            ],
            [
             0.5555555555555556,
             "#d8576b"
            ],
            [
             0.6666666666666666,
             "#ed7953"
            ],
            [
             0.7777777777777778,
             "#fb9f3a"
            ],
            [
             0.8888888888888888,
             "#fdca26"
            ],
            [
             1,
             "#f0f921"
            ]
           ],
           "sequentialminus": [
            [
             0,
             "#0d0887"
            ],
            [
             0.1111111111111111,
             "#46039f"
            ],
            [
             0.2222222222222222,
             "#7201a8"
            ],
            [
             0.3333333333333333,
             "#9c179e"
            ],
            [
             0.4444444444444444,
             "#bd3786"
            ],
            [
             0.5555555555555556,
             "#d8576b"
            ],
            [
             0.6666666666666666,
             "#ed7953"
            ],
            [
             0.7777777777777778,
             "#fb9f3a"
            ],
            [
             0.8888888888888888,
             "#fdca26"
            ],
            [
             1,
             "#f0f921"
            ]
           ]
          },
          "colorway": [
           "#636efa",
           "#EF553B",
           "#00cc96",
           "#ab63fa",
           "#FFA15A",
           "#19d3f3",
           "#FF6692",
           "#B6E880",
           "#FF97FF",
           "#FECB52"
          ],
          "font": {
           "color": "#2a3f5f"
          },
          "geo": {
           "bgcolor": "white",
           "lakecolor": "white",
           "landcolor": "#E5ECF6",
           "showlakes": true,
           "showland": true,
           "subunitcolor": "white"
          },
          "hoverlabel": {
           "align": "left"
          },
          "hovermode": "closest",
          "mapbox": {
           "style": "light"
          },
          "paper_bgcolor": "white",
          "plot_bgcolor": "#E5ECF6",
          "polar": {
           "angularaxis": {
            "gridcolor": "white",
            "linecolor": "white",
            "ticks": ""
           },
           "bgcolor": "#E5ECF6",
           "radialaxis": {
            "gridcolor": "white",
            "linecolor": "white",
            "ticks": ""
           }
          },
          "scene": {
           "xaxis": {
            "backgroundcolor": "#E5ECF6",
            "gridcolor": "white",
            "gridwidth": 2,
            "linecolor": "white",
            "showbackground": true,
            "ticks": "",
            "zerolinecolor": "white"
           },
           "yaxis": {
            "backgroundcolor": "#E5ECF6",
            "gridcolor": "white",
            "gridwidth": 2,
            "linecolor": "white",
            "showbackground": true,
            "ticks": "",
            "zerolinecolor": "white"
           },
           "zaxis": {
            "backgroundcolor": "#E5ECF6",
            "gridcolor": "white",
            "gridwidth": 2,
            "linecolor": "white",
            "showbackground": true,
            "ticks": "",
            "zerolinecolor": "white"
           }
          },
          "shapedefaults": {
           "line": {
            "color": "#2a3f5f"
           }
          },
          "ternary": {
           "aaxis": {
            "gridcolor": "white",
            "linecolor": "white",
            "ticks": ""
           },
           "baxis": {
            "gridcolor": "white",
            "linecolor": "white",
            "ticks": ""
           },
           "bgcolor": "#E5ECF6",
           "caxis": {
            "gridcolor": "white",
            "linecolor": "white",
            "ticks": ""
           }
          },
          "title": {
           "x": 0.05
          },
          "xaxis": {
           "automargin": true,
           "gridcolor": "white",
           "linecolor": "white",
           "ticks": "",
           "title": {
            "standoff": 15
           },
           "zerolinecolor": "white",
           "zerolinewidth": 2
          },
          "yaxis": {
           "automargin": true,
           "gridcolor": "white",
           "linecolor": "white",
           "ticks": "",
           "title": {
            "standoff": 15
           },
           "zerolinecolor": "white",
           "zerolinewidth": 2
          }
         }
        },
        "xaxis": {
         "anchor": "y",
         "domain": [
          0,
          1
         ],
         "title": {
          "text": "index"
         }
        },
        "yaxis": {
         "anchor": "x",
         "domain": [
          0,
          1
         ],
         "title": {
          "text": "Mutual Information"
         }
        }
       }
      }
     },
     "metadata": {},
     "output_type": "display_data"
    }
   ],
   "source": [
    "fig =px.bar(features_dataframe, x=features_dataframe.index,y='Mutual Information')\n",
    "fig.show()"
   ]
  },
  {
   "cell_type": "code",
   "execution_count": 99,
   "metadata": {},
   "outputs": [
    {
     "data": {
      "text/plain": [
       "<BarContainer object of 25 artists>"
      ]
     },
     "execution_count": 99,
     "metadata": {},
     "output_type": "execute_result"
    },
    {
     "data": {
      "image/png": "[encoded data removed]",
      "text/plain": [
       "<Figure size 2520x432 with 1 Axes>"
      ]
     },
     "metadata": {
      "needs_background": "light"
     },
     "output_type": "display_data"
    }
   ],
   "source": [
    "plt.figure(figsize=(35,6))\n",
    "plt.bar(x=X_train.columns,height=mutual_info)"
   ]
  },
  {
   "cell_type": "code",
   "execution_count": 100,
   "metadata": {},
   "outputs": [],
   "source": [
    "important_features = {}"
   ]
  },
  {
   "cell_type": "code",
   "execution_count": 101,
   "metadata": {},
   "outputs": [],
   "source": [
    "for value in enumerate(mutual_info):\n",
    "  if value[1] > 0:\n",
    "    important_features[value[0]] = value[1]"
   ]
  },
  {
   "cell_type": "code",
   "execution_count": 102,
   "metadata": {},
   "outputs": [
    {
     "data": {
      "text/plain": [
       "{0: 0.015516087736878736,\n",
       " 2: 0.0062016072400907785,\n",
       " 3: 0.01963928834391737,\n",
       " 4: 0.02435566023677571,\n",
       " 5: 0.032469518037338996,\n",
       " 6: 0.022829892491039616,\n",
       " 7: 0.016459275650571814,\n",
       " 8: 0.0001634135321665342,\n",
       " 9: 0.013946412806967845,\n",
       " 10: 0.015206731297813691,\n",
       " 11: 0.013343595152716659,\n",
       " 12: 0.01737196235598304,\n",
       " 13: 0.012808142190427696,\n",
       " 14: 0.012003294798236253,\n",
       " 15: 0.0160447975381931,\n",
       " 16: 0.0004189640898520919,\n",
       " 17: 0.02244967242564322,\n",
       " 18: 0.00043948689026562793,\n",
       " 20: 0.0074912494154456555,\n",
       " 22: 0.008152356065096233,\n",
       " 23: 0.011549785285943748,\n",
       " 24: 0.0028117383138926977}"
      ]
     },
     "execution_count": 102,
     "metadata": {},
     "output_type": "execute_result"
    }
   ],
   "source": [
    "important_features"
   ]
  },
  {
   "cell_type": "code",
   "execution_count": 103,
   "metadata": {},
   "outputs": [],
   "source": [
    "important_features = mutual_info[important_features]"
   ]
  },
  {
   "cell_type": "code",
   "execution_count": 104,
   "metadata": {},
   "outputs": [
    {
     "data": {
      "text/plain": [
       "sslc                    0.015516\n",
       "cgpa                    0.006202\n",
       "school_type             0.019639\n",
       "no_of_miniprojects      0.024356\n",
       "no_of_projects          0.032470\n",
       "coresub_skill           0.022830\n",
       "aptitude_skill          0.016459\n",
       "problemsolving_skill    0.000163\n",
       "programming_skill       0.013946\n",
       "abstractthink_skill     0.015207\n",
       "design_skill            0.013344\n",
       "first_computer          0.017372\n",
       "first_program           0.012808\n",
       "lab_programs            0.012003\n",
       "ds_coding               0.016045\n",
       "technology_used         0.000419\n",
       "sympos_attend           0.022450\n",
       "sympos_won              0.000439\n",
       "learning_style          0.007491\n",
       "clg_teachers_know       0.008152\n",
       "college_performence     0.011550\n",
       "college_skills          0.002812\n",
       "dtype: float64"
      ]
     },
     "execution_count": 104,
     "metadata": {},
     "output_type": "execute_result"
    }
   ],
   "source": [
    "important_features"
   ]
  },
  {
   "cell_type": "code",
   "execution_count": 105,
   "metadata": {},
   "outputs": [],
   "source": [
    "important_features.sort_values(inplace=True,ascending=False)"
   ]
  },
  {
   "cell_type": "code",
   "execution_count": 106,
   "metadata": {},
   "outputs": [
    {
     "data": {
      "text/plain": [
       "no_of_projects          0.032470\n",
       "no_of_miniprojects      0.024356\n",
       "coresub_skill           0.022830\n",
       "sympos_attend           0.022450\n",
       "school_type             0.019639\n",
       "first_computer          0.017372\n",
       "aptitude_skill          0.016459\n",
       "ds_coding               0.016045\n",
       "sslc                    0.015516\n",
       "abstractthink_skill     0.015207\n",
       "programming_skill       0.013946\n",
       "design_skill            0.013344\n",
       "first_program           0.012808\n",
       "lab_programs            0.012003\n",
       "college_performence     0.011550\n",
       "clg_teachers_know       0.008152\n",
       "learning_style          0.007491\n",
       "cgpa                    0.006202\n",
       "college_skills          0.002812\n",
       "sympos_won              0.000439\n",
       "technology_used         0.000419\n",
       "problemsolving_skill    0.000163\n",
       "dtype: float64"
      ]
     },
     "execution_count": 106,
     "metadata": {},
     "output_type": "execute_result"
    }
   ],
   "source": [
    "important_features"
   ]
  },
  {
   "cell_type": "code",
   "execution_count": 107,
   "metadata": {},
   "outputs": [],
   "source": [
    "X_train = X_train[important_features.index[0:11]]"
   ]
  },
  {
   "cell_type": "code",
   "execution_count": 108,
   "metadata": {},
   "outputs": [
    {
     "data": {
      "text/html": [
       "<div>\n",
       "<style scoped>\n",
       "    .dataframe tbody tr th:only-of-type {\n",
       "        vertical-align: middle;\n",
       "    }\n",
       "\n",
       "    .dataframe tbody tr th {\n",
       "        vertical-align: top;\n",
       "    }\n",
       "\n",
       "    .dataframe thead th {\n",
       "        text-align: right;\n",
       "    }\n",
       "</style>\n",
       "<table border=\"1\" class=\"dataframe\">\n",
       "  <thead>\n",
       "    <tr style=\"text-align: right;\">\n",
       "      <th></th>\n",
       "      <th>no_of_projects</th>\n",
       "      <th>no_of_miniprojects</th>\n",
       "      <th>coresub_skill</th>\n",
       "      <th>sympos_attend</th>\n",
       "      <th>school_type</th>\n",
       "      <th>first_computer</th>\n",
       "      <th>aptitude_skill</th>\n",
       "      <th>ds_coding</th>\n",
       "      <th>sslc</th>\n",
       "      <th>abstractthink_skill</th>\n",
       "      <th>programming_skill</th>\n",
       "    </tr>\n",
       "  </thead>\n",
       "  <tbody>\n",
       "    <tr>\n",
       "      <th>3570</th>\n",
       "      <td>1</td>\n",
       "      <td>1</td>\n",
       "      <td>2</td>\n",
       "      <td>2</td>\n",
       "      <td>1</td>\n",
       "      <td>0</td>\n",
       "      <td>1</td>\n",
       "      <td>1</td>\n",
       "      <td>2</td>\n",
       "      <td>1</td>\n",
       "      <td>2</td>\n",
       "    </tr>\n",
       "    <tr>\n",
       "      <th>1937</th>\n",
       "      <td>1</td>\n",
       "      <td>1</td>\n",
       "      <td>1</td>\n",
       "      <td>2</td>\n",
       "      <td>1</td>\n",
       "      <td>0</td>\n",
       "      <td>2</td>\n",
       "      <td>0</td>\n",
       "      <td>3</td>\n",
       "      <td>0</td>\n",
       "      <td>2</td>\n",
       "    </tr>\n",
       "    <tr>\n",
       "      <th>7420</th>\n",
       "      <td>1</td>\n",
       "      <td>1</td>\n",
       "      <td>2</td>\n",
       "      <td>3</td>\n",
       "      <td>1</td>\n",
       "      <td>1</td>\n",
       "      <td>1</td>\n",
       "      <td>2</td>\n",
       "      <td>4</td>\n",
       "      <td>2</td>\n",
       "      <td>3</td>\n",
       "    </tr>\n",
       "    <tr>\n",
       "      <th>6344</th>\n",
       "      <td>1</td>\n",
       "      <td>1</td>\n",
       "      <td>1</td>\n",
       "      <td>2</td>\n",
       "      <td>1</td>\n",
       "      <td>0</td>\n",
       "      <td>2</td>\n",
       "      <td>1</td>\n",
       "      <td>4</td>\n",
       "      <td>1</td>\n",
       "      <td>1</td>\n",
       "    </tr>\n",
       "    <tr>\n",
       "      <th>857</th>\n",
       "      <td>1</td>\n",
       "      <td>2</td>\n",
       "      <td>2</td>\n",
       "      <td>2</td>\n",
       "      <td>1</td>\n",
       "      <td>1</td>\n",
       "      <td>3</td>\n",
       "      <td>1</td>\n",
       "      <td>4</td>\n",
       "      <td>1</td>\n",
       "      <td>2</td>\n",
       "    </tr>\n",
       "  </tbody>\n",
       "</table>\n",
       "</div>"
      ],
      "text/plain": [
       "      no_of_projects  no_of_miniprojects  coresub_skill  sympos_attend  \\\n",
       "3570               1                   1              2              2   \n",
       "1937               1                   1              1              2   \n",
       "7420               1                   1              2              3   \n",
       "6344               1                   1              1              2   \n",
       "857                1                   2              2              2   \n",
       "\n",
       "      school_type  first_computer  aptitude_skill  ds_coding  sslc  \\\n",
       "3570            1               0               1          1     2   \n",
       "1937            1               0               2          0     3   \n",
       "7420            1               1               1          2     4   \n",
       "6344            1               0               2          1     4   \n",
       "857             1               1               3          1     4   \n",
       "\n",
       "      abstractthink_skill  programming_skill  \n",
       "3570                    1                  2  \n",
       "1937                    0                  2  \n",
       "7420                    2                  3  \n",
       "6344                    1                  1  \n",
       "857                     1                  2  "
      ]
     },
     "execution_count": 108,
     "metadata": {},
     "output_type": "execute_result"
    }
   ],
   "source": [
    "X_train.head()"
   ]
  },
  {
   "cell_type": "code",
   "execution_count": 109,
   "metadata": {},
   "outputs": [
    {
     "data": {
      "text/plain": [
       "(5041, 11)"
      ]
     },
     "execution_count": 109,
     "metadata": {},
     "output_type": "execute_result"
    }
   ],
   "source": [
    "X_train.shape"
   ]
  },
  {
   "cell_type": "code",
   "execution_count": 110,
   "metadata": {},
   "outputs": [],
   "source": [
    "X_test = X_test[important_features.index[0:11]]"
   ]
  },
  {
   "cell_type": "code",
   "execution_count": 111,
   "metadata": {},
   "outputs": [
    {
     "data": {
      "text/plain": [
       "DecisionTreeClassifier()"
      ]
     },
     "execution_count": 111,
     "metadata": {},
     "output_type": "execute_result"
    }
   ],
   "source": [
    "dt_model = DecisionTreeClassifier()\n",
    "dt_model.fit(X_train,y_train)"
   ]
  },
  {
   "cell_type": "code",
   "execution_count": 112,
   "metadata": {},
   "outputs": [],
   "source": [
    "dt_prediction_train = dt_model.predict(X_train)\n",
    "dt_prediction_test = dt_model.predict(X_test)"
   ]
  },
  {
   "cell_type": "code",
   "execution_count": 113,
   "metadata": {},
   "outputs": [
    {
     "name": "stdout",
     "output_type": "stream",
     "text": [
      "On Training Data:  0.9978178932751438\n",
      "On Test Data:  0.9738325281803543\n"
     ]
    }
   ],
   "source": [
    "print(\"On Training Data: \",accuracy_score(y_train,dt_prediction_train))\n",
    "print(\"On Test Data: \",accuracy_score(y_test,dt_prediction_test))"
   ]
  },
  {
   "cell_type": "code",
   "execution_count": null,
   "metadata": {},
   "outputs": [],
   "source": []
  },
  {
   "cell_type": "code",
   "execution_count": 114,
   "metadata": {},
   "outputs": [
    {
     "data": {
      "text/html": [
       "<div>\n",
       "<style scoped>\n",
       "    .dataframe tbody tr th:only-of-type {\n",
       "        vertical-align: middle;\n",
       "    }\n",
       "\n",
       "    .dataframe tbody tr th {\n",
       "        vertical-align: top;\n",
       "    }\n",
       "\n",
       "    .dataframe thead th {\n",
       "        text-align: right;\n",
       "    }\n",
       "</style>\n",
       "<table border=\"1\" class=\"dataframe\">\n",
       "  <thead>\n",
       "    <tr style=\"text-align: right;\">\n",
       "      <th></th>\n",
       "      <th>no_of_projects</th>\n",
       "      <th>no_of_miniprojects</th>\n",
       "      <th>coresub_skill</th>\n",
       "      <th>sympos_attend</th>\n",
       "      <th>school_type</th>\n",
       "      <th>first_computer</th>\n",
       "      <th>aptitude_skill</th>\n",
       "      <th>ds_coding</th>\n",
       "      <th>sslc</th>\n",
       "      <th>abstractthink_skill</th>\n",
       "      <th>programming_skill</th>\n",
       "    </tr>\n",
       "  </thead>\n",
       "  <tbody>\n",
       "    <tr>\n",
       "      <th>3570</th>\n",
       "      <td>1</td>\n",
       "      <td>1</td>\n",
       "      <td>2</td>\n",
       "      <td>2</td>\n",
       "      <td>1</td>\n",
       "      <td>0</td>\n",
       "      <td>1</td>\n",
       "      <td>1</td>\n",
       "      <td>2</td>\n",
       "      <td>1</td>\n",
       "      <td>2</td>\n",
       "    </tr>\n",
       "    <tr>\n",
       "      <th>1937</th>\n",
       "      <td>1</td>\n",
       "      <td>1</td>\n",
       "      <td>1</td>\n",
       "      <td>2</td>\n",
       "      <td>1</td>\n",
       "      <td>0</td>\n",
       "      <td>2</td>\n",
       "      <td>0</td>\n",
       "      <td>3</td>\n",
       "      <td>0</td>\n",
       "      <td>2</td>\n",
       "    </tr>\n",
       "    <tr>\n",
       "      <th>7420</th>\n",
       "      <td>1</td>\n",
       "      <td>1</td>\n",
       "      <td>2</td>\n",
       "      <td>3</td>\n",
       "      <td>1</td>\n",
       "      <td>1</td>\n",
       "      <td>1</td>\n",
       "      <td>2</td>\n",
       "      <td>4</td>\n",
       "      <td>2</td>\n",
       "      <td>3</td>\n",
       "    </tr>\n",
       "    <tr>\n",
       "      <th>6344</th>\n",
       "      <td>1</td>\n",
       "      <td>1</td>\n",
       "      <td>1</td>\n",
       "      <td>2</td>\n",
       "      <td>1</td>\n",
       "      <td>0</td>\n",
       "      <td>2</td>\n",
       "      <td>1</td>\n",
       "      <td>4</td>\n",
       "      <td>1</td>\n",
       "      <td>1</td>\n",
       "    </tr>\n",
       "    <tr>\n",
       "      <th>857</th>\n",
       "      <td>1</td>\n",
       "      <td>2</td>\n",
       "      <td>2</td>\n",
       "      <td>2</td>\n",
       "      <td>1</td>\n",
       "      <td>1</td>\n",
       "      <td>3</td>\n",
       "      <td>1</td>\n",
       "      <td>4</td>\n",
       "      <td>1</td>\n",
       "      <td>2</td>\n",
       "    </tr>\n",
       "    <tr>\n",
       "      <th>...</th>\n",
       "      <td>...</td>\n",
       "      <td>...</td>\n",
       "      <td>...</td>\n",
       "      <td>...</td>\n",
       "      <td>...</td>\n",
       "      <td>...</td>\n",
       "      <td>...</td>\n",
       "      <td>...</td>\n",
       "      <td>...</td>\n",
       "      <td>...</td>\n",
       "      <td>...</td>\n",
       "    </tr>\n",
       "    <tr>\n",
       "      <th>905</th>\n",
       "      <td>1</td>\n",
       "      <td>1</td>\n",
       "      <td>2</td>\n",
       "      <td>2</td>\n",
       "      <td>1</td>\n",
       "      <td>0</td>\n",
       "      <td>1</td>\n",
       "      <td>0</td>\n",
       "      <td>4</td>\n",
       "      <td>1</td>\n",
       "      <td>2</td>\n",
       "    </tr>\n",
       "    <tr>\n",
       "      <th>5192</th>\n",
       "      <td>1</td>\n",
       "      <td>2</td>\n",
       "      <td>2</td>\n",
       "      <td>1</td>\n",
       "      <td>3</td>\n",
       "      <td>1</td>\n",
       "      <td>4</td>\n",
       "      <td>1</td>\n",
       "      <td>2</td>\n",
       "      <td>2</td>\n",
       "      <td>1</td>\n",
       "    </tr>\n",
       "    <tr>\n",
       "      <th>3980</th>\n",
       "      <td>1</td>\n",
       "      <td>3</td>\n",
       "      <td>2</td>\n",
       "      <td>1</td>\n",
       "      <td>2</td>\n",
       "      <td>1</td>\n",
       "      <td>2</td>\n",
       "      <td>2</td>\n",
       "      <td>4</td>\n",
       "      <td>2</td>\n",
       "      <td>2</td>\n",
       "    </tr>\n",
       "    <tr>\n",
       "      <th>235</th>\n",
       "      <td>1</td>\n",
       "      <td>1</td>\n",
       "      <td>2</td>\n",
       "      <td>0</td>\n",
       "      <td>2</td>\n",
       "      <td>1</td>\n",
       "      <td>2</td>\n",
       "      <td>1</td>\n",
       "      <td>4</td>\n",
       "      <td>1</td>\n",
       "      <td>2</td>\n",
       "    </tr>\n",
       "    <tr>\n",
       "      <th>5157</th>\n",
       "      <td>1</td>\n",
       "      <td>1</td>\n",
       "      <td>2</td>\n",
       "      <td>0</td>\n",
       "      <td>1</td>\n",
       "      <td>0</td>\n",
       "      <td>1</td>\n",
       "      <td>1</td>\n",
       "      <td>3</td>\n",
       "      <td>0</td>\n",
       "      <td>2</td>\n",
       "    </tr>\n",
       "  </tbody>\n",
       "</table>\n",
       "<p>5041 rows × 11 columns</p>\n",
       "</div>"
      ],
      "text/plain": [
       "      no_of_projects  no_of_miniprojects  coresub_skill  sympos_attend  \\\n",
       "3570               1                   1              2              2   \n",
       "1937               1                   1              1              2   \n",
       "7420               1                   1              2              3   \n",
       "6344               1                   1              1              2   \n",
       "857                1                   2              2              2   \n",
       "...              ...                 ...            ...            ...   \n",
       "905                1                   1              2              2   \n",
       "5192               1                   2              2              1   \n",
       "3980               1                   3              2              1   \n",
       "235                1                   1              2              0   \n",
       "5157               1                   1              2              0   \n",
       "\n",
       "      school_type  first_computer  aptitude_skill  ds_coding  sslc  \\\n",
       "3570            1               0               1          1     2   \n",
       "1937            1               0               2          0     3   \n",
       "7420            1               1               1          2     4   \n",
       "6344            1               0               2          1     4   \n",
       "857             1               1               3          1     4   \n",
       "...           ...             ...             ...        ...   ...   \n",
       "905             1               0               1          0     4   \n",
       "5192            3               1               4          1     2   \n",
       "3980            2               1               2          2     4   \n",
       "235             2               1               2          1     4   \n",
       "5157            1               0               1          1     3   \n",
       "\n",
       "      abstractthink_skill  programming_skill  \n",
       "3570                    1                  2  \n",
       "1937                    0                  2  \n",
       "7420                    2                  3  \n",
       "6344                    1                  1  \n",
       "857                     1                  2  \n",
       "...                   ...                ...  \n",
       "905                     1                  2  \n",
       "5192                    2                  1  \n",
       "3980                    2                  2  \n",
       "235                     1                  2  \n",
       "5157                    0                  2  \n",
       "\n",
       "[5041 rows x 11 columns]"
      ]
     },
     "execution_count": 114,
     "metadata": {},
     "output_type": "execute_result"
    }
   ],
   "source": [
    "X_train"
   ]
  },
  {
   "cell_type": "code",
   "execution_count": 115,
   "metadata": {},
   "outputs": [],
   "source": [
    "# feature_selector = SelectKBest(score_func=chi2,k=11)\n",
    "# feature_selector.fit(X_train,y_train)\n",
    "# X_train_fs= feature_selector.transform(X_train)\n",
    "# X_test_fs= feature_selector.transform(X_test)"
   ]
  },
  {
   "cell_type": "code",
   "execution_count": 116,
   "metadata": {},
   "outputs": [],
   "source": [
    "# len(feature_selector.scores_)"
   ]
  },
  {
   "cell_type": "code",
   "execution_count": 117,
   "metadata": {},
   "outputs": [],
   "source": [
    "# career_dataset.shape[1]"
   ]
  },
  {
   "cell_type": "code",
   "execution_count": 118,
   "metadata": {},
   "outputs": [],
   "source": [
    "import xgboost as xgb"
   ]
  },
  {
   "cell_type": "code",
   "execution_count": 119,
   "metadata": {},
   "outputs": [],
   "source": [
    "xgb_model = xgb.XGBClassifier()"
   ]
  },
  {
   "cell_type": "code",
   "execution_count": 120,
   "metadata": {},
   "outputs": [
    {
     "name": "stderr",
     "output_type": "stream",
     "text": [
      "C:\\Users\\Priyesh Dave\\AppData\\Local\\Programs\\Python\\Python39\\lib\\site-packages\\xgboost\\sklearn.py:1224: UserWarning:\n",
      "\n",
      "The use of label encoder in XGBClassifier is deprecated and will be removed in a future release. To remove this warning, do the following: 1) Pass option use_label_encoder=False when constructing XGBClassifier object; and 2) Encode your labels (y) as integers starting with 0, i.e. 0, 1, 2, ..., [num_class - 1].\n",
      "\n",
      "C:\\Users\\Priyesh Dave\\AppData\\Local\\Programs\\Python\\Python39\\lib\\site-packages\\sklearn\\utils\\validation.py:63: DataConversionWarning:\n",
      "\n",
      "A column-vector y was passed when a 1d array was expected. Please change the shape of y to (n_samples, ), for example using ravel().\n",
      "\n"
     ]
    },
    {
     "name": "stdout",
     "output_type": "stream",
     "text": [
      "[19:01:32] WARNING: C:/Users/Administrator/workspace/xgboost-win64_release_1.5.1/src/learner.cc:1115: Starting in XGBoost 1.3.0, the default evaluation metric used with the objective 'multi:softprob' was changed from 'merror' to 'mlogloss'. Explicitly set eval_metric if you'd like to restore the old behavior.\n",
      "accuracy= 99.51690821256038\n"
     ]
    }
   ],
   "source": [
    " \n",
    "xgb_model.fit(X_train, y_train)\n",
    "xgb_y_pred  = xgb_model.predict(X_test)\n",
    "xgb_accuracy = accuracy_score(y_test,xgb_y_pred)\n",
    "print(\"accuracy=\",xgb_accuracy*100)"
   ]
  },
  {
   "cell_type": "code",
   "execution_count": 121,
   "metadata": {},
   "outputs": [],
   "source": [
    "from sklearn.ensemble import RandomForestClassifier\n",
    "rf_model  = RandomForestClassifier()"
   ]
  },
  {
   "cell_type": "code",
   "execution_count": 122,
   "metadata": {},
   "outputs": [
    {
     "name": "stderr",
     "output_type": "stream",
     "text": [
      "C:\\Users\\PRIYES~1\\AppData\\Local\\Temp/ipykernel_3032/2477665720.py:1: DataConversionWarning:\n",
      "\n",
      "A column-vector y was passed when a 1d array was expected. Please change the shape of y to (n_samples,), for example using ravel().\n",
      "\n"
     ]
    },
    {
     "name": "stdout",
     "output_type": "stream",
     "text": [
      "Train  0.9978178932751438\n",
      "Test  0.9947665056360708\n"
     ]
    }
   ],
   "source": [
    "rf_model.fit(X_train, y_train)\n",
    "pred = rf_model.predict(X_train)\n",
    "pred1 = rf_model.predict(X_test)\n",
    "print(\"Train \",accuracy_score(y_train,pred))\n",
    "print(\"Test \",accuracy_score(y_test,pred1))\n",
    "\n",
    "\n"
   ]
  },
  {
   "cell_type": "code",
   "execution_count": 123,
   "metadata": {},
   "outputs": [
    {
     "data": {
      "text/plain": [
       "array([[   0,    0,    0,    0,    0,    0,    0,    3],\n",
       "       [   0,    0,    0,    0,    0,    0,    0,    1],\n",
       "       [   0,    0,    0,    0,    0,    0,    0,    1],\n",
       "       [   0,    0,    0,    0,    0,    0,    0,    3],\n",
       "       [   0,    0,    0,    0,    0,    0,    0,    1],\n",
       "       [   0,    0,    0,    0,    0,    0,    0,    1],\n",
       "       [   0,    0,    0,    0,    0,    0,    0,    1],\n",
       "       [   0,    0,    0,    0,    1,    0,    1, 2471]], dtype=int64)"
      ]
     },
     "execution_count": 123,
     "metadata": {},
     "output_type": "execute_result"
    }
   ],
   "source": [
    "confusion_matrix(y_test,pred1)"
   ]
  },
  {
   "cell_type": "code",
   "execution_count": 124,
   "metadata": {},
   "outputs": [
    {
     "name": "stderr",
     "output_type": "stream",
     "text": [
      "C:\\Users\\Priyesh Dave\\AppData\\Local\\Programs\\Python\\Python39\\lib\\site-packages\\sklearn\\metrics\\_classification.py:1248: UndefinedMetricWarning:\n",
      "\n",
      "Precision and F-score are ill-defined and being set to 0.0 in labels with no predicted samples. Use `zero_division` parameter to control this behavior.\n",
      "\n",
      "C:\\Users\\Priyesh Dave\\AppData\\Local\\Programs\\Python\\Python39\\lib\\site-packages\\sklearn\\metrics\\_classification.py:1248: UndefinedMetricWarning:\n",
      "\n",
      "Precision and F-score are ill-defined and being set to 0.0 in labels with no predicted samples. Use `zero_division` parameter to control this behavior.\n",
      "\n",
      "C:\\Users\\Priyesh Dave\\AppData\\Local\\Programs\\Python\\Python39\\lib\\site-packages\\sklearn\\metrics\\_classification.py:1248: UndefinedMetricWarning:\n",
      "\n",
      "Precision and F-score are ill-defined and being set to 0.0 in labels with no predicted samples. Use `zero_division` parameter to control this behavior.\n",
      "\n"
     ]
    },
    {
     "data": {
      "text/plain": [
       "['              precision    recall  f1-score   support',\n",
       " '',\n",
       " '           0       0.00      0.00      0.00         3',\n",
       " '           1       0.00      0.00      0.00         1',\n",
       " '           3       0.00      0.00      0.00         1',\n",
       " '           4       0.00      0.00      0.00         3',\n",
       " '           5       0.00      0.00      0.00         1',\n",
       " '           6       0.00      0.00      0.00         1',\n",
       " '           7       0.00      0.00      0.00         1',\n",
       " '           8       1.00      1.00      1.00      2473',\n",
       " '',\n",
       " '    accuracy                           0.99      2484',\n",
       " '   macro avg       0.12      0.12      0.12      2484',\n",
       " 'weighted avg       0.99      0.99      0.99      2484',\n",
       " '']"
      ]
     },
     "execution_count": 124,
     "metadata": {},
     "output_type": "execute_result"
    }
   ],
   "source": [
    "classification_report(y_test,pred1).split('\\n')"
   ]
  }
 ],
 "metadata": {
  "interpreter": {
   "hash": "e147b052be5536a019399d7281fa07f9aa68d0dfdf21ead313763d9c98e78705"
  },
  "kernelspec": {
   "display_name": "Python 3.9.6 64-bit",
   "language": "python",
   "name": "python3"
  },
  "language_info": {
   "codemirror_mode": {
    "name": "ipython",
    "version": 3
   },
   "file_extension": ".py",
   "mimetype": "text/x-python",
   "name": "python",
   "nbconvert_exporter": "python",
   "pygments_lexer": "ipython3",
   "version": "3.9.6"
  },
  "orig_nbformat": 4
 },
 "nbformat": 4,
 "nbformat_minor": 2
}

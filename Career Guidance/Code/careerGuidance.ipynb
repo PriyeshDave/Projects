{
 "cells": [
  {
   "cell_type": "code",
   "execution_count": 654,
   "metadata": {},
   "outputs": [],
   "source": [
    "import pandas as pd\n",
    "import numpy as np\n",
    "import seaborn as sns\n",
    "import scipy as sp\n",
    "from matplotlib import pyplot as plt\n",
    "from sklearn.model_selection import train_test_split\n",
    "from sklearn.preprocessing import StandardScaler, LabelEncoder\n",
    "from sklearn.tree import DecisionTreeClassifier\n",
    "from sklearn.metrics import accuracy_score\n",
    "from sklearn.feature_selection import SelectKBest, chi2, mutual_info_classif, VarianceThreshold"
   ]
  },
  {
   "cell_type": "code",
   "execution_count": 655,
   "metadata": {},
   "outputs": [],
   "source": [
    "url='https://raw.githubusercontent.com/Nantha-1998/404-CODER/master/career_compute_dataset.csv'\n",
    "\n",
    "career_dataset = pd.read_csv(url)\n",
    "#pd.read_csv(\"../Datasets/career_pred.csv\")"
   ]
  },
  {
   "cell_type": "markdown",
   "metadata": {},
   "source": [
    "# 1.) Exploratory Data Analysis"
   ]
  },
  {
   "cell_type": "code",
   "execution_count": 656,
   "metadata": {},
   "outputs": [
    {
     "data": {
      "text/html": [
       "<div>\n",
       "<style scoped>\n",
       "    .dataframe tbody tr th:only-of-type {\n",
       "        vertical-align: middle;\n",
       "    }\n",
       "\n",
       "    .dataframe tbody tr th {\n",
       "        vertical-align: top;\n",
       "    }\n",
       "\n",
       "    .dataframe thead th {\n",
       "        text-align: right;\n",
       "    }\n",
       "</style>\n",
       "<table border=\"1\" class=\"dataframe\">\n",
       "  <thead>\n",
       "    <tr style=\"text-align: right;\">\n",
       "      <th></th>\n",
       "      <th>sslc</th>\n",
       "      <th>hsc</th>\n",
       "      <th>cgpa</th>\n",
       "      <th>school_type</th>\n",
       "      <th>no_of_miniprojects</th>\n",
       "      <th>no_of_projects</th>\n",
       "      <th>coresub_skill</th>\n",
       "      <th>aptitude_skill</th>\n",
       "      <th>problemsolving_skill</th>\n",
       "      <th>programming_skill</th>\n",
       "      <th>...</th>\n",
       "      <th>technology_used</th>\n",
       "      <th>sympos_attend</th>\n",
       "      <th>sympos_won</th>\n",
       "      <th>extracurricular</th>\n",
       "      <th>learning_style</th>\n",
       "      <th>college_bench</th>\n",
       "      <th>clg_teachers_know</th>\n",
       "      <th>college_performence</th>\n",
       "      <th>college_skills</th>\n",
       "      <th>ROLE</th>\n",
       "    </tr>\n",
       "  </thead>\n",
       "  <tbody>\n",
       "    <tr>\n",
       "      <th>0</th>\n",
       "      <td>2</td>\n",
       "      <td>3</td>\n",
       "      <td>2</td>\n",
       "      <td>3</td>\n",
       "      <td>1</td>\n",
       "      <td>1</td>\n",
       "      <td>1</td>\n",
       "      <td>1</td>\n",
       "      <td>2</td>\n",
       "      <td>4</td>\n",
       "      <td>...</td>\n",
       "      <td>1</td>\n",
       "      <td>3</td>\n",
       "      <td>1</td>\n",
       "      <td>2</td>\n",
       "      <td>2</td>\n",
       "      <td>4</td>\n",
       "      <td>3</td>\n",
       "      <td>4</td>\n",
       "      <td>5</td>\n",
       "      <td>Technical Support</td>\n",
       "    </tr>\n",
       "    <tr>\n",
       "      <th>1</th>\n",
       "      <td>3</td>\n",
       "      <td>1</td>\n",
       "      <td>2</td>\n",
       "      <td>2</td>\n",
       "      <td>2</td>\n",
       "      <td>1</td>\n",
       "      <td>1</td>\n",
       "      <td>3</td>\n",
       "      <td>2</td>\n",
       "      <td>4</td>\n",
       "      <td>...</td>\n",
       "      <td>2</td>\n",
       "      <td>3</td>\n",
       "      <td>2</td>\n",
       "      <td>3</td>\n",
       "      <td>2</td>\n",
       "      <td>5</td>\n",
       "      <td>3</td>\n",
       "      <td>3</td>\n",
       "      <td>4</td>\n",
       "      <td>Software Developer</td>\n",
       "    </tr>\n",
       "    <tr>\n",
       "      <th>2</th>\n",
       "      <td>3</td>\n",
       "      <td>4</td>\n",
       "      <td>2</td>\n",
       "      <td>2</td>\n",
       "      <td>1</td>\n",
       "      <td>1</td>\n",
       "      <td>1</td>\n",
       "      <td>2</td>\n",
       "      <td>3</td>\n",
       "      <td>3</td>\n",
       "      <td>...</td>\n",
       "      <td>1</td>\n",
       "      <td>4</td>\n",
       "      <td>3</td>\n",
       "      <td>1</td>\n",
       "      <td>4</td>\n",
       "      <td>3</td>\n",
       "      <td>3</td>\n",
       "      <td>3</td>\n",
       "      <td>4</td>\n",
       "      <td>UI/UX Designer</td>\n",
       "    </tr>\n",
       "    <tr>\n",
       "      <th>3</th>\n",
       "      <td>3</td>\n",
       "      <td>4</td>\n",
       "      <td>2</td>\n",
       "      <td>1</td>\n",
       "      <td>1</td>\n",
       "      <td>1</td>\n",
       "      <td>1</td>\n",
       "      <td>1</td>\n",
       "      <td>3</td>\n",
       "      <td>2</td>\n",
       "      <td>...</td>\n",
       "      <td>1</td>\n",
       "      <td>3</td>\n",
       "      <td>2</td>\n",
       "      <td>1</td>\n",
       "      <td>2</td>\n",
       "      <td>1</td>\n",
       "      <td>4</td>\n",
       "      <td>4</td>\n",
       "      <td>3</td>\n",
       "      <td>Technical Support</td>\n",
       "    </tr>\n",
       "    <tr>\n",
       "      <th>4</th>\n",
       "      <td>2</td>\n",
       "      <td>3</td>\n",
       "      <td>2</td>\n",
       "      <td>4</td>\n",
       "      <td>1</td>\n",
       "      <td>1</td>\n",
       "      <td>1</td>\n",
       "      <td>4</td>\n",
       "      <td>3</td>\n",
       "      <td>3</td>\n",
       "      <td>...</td>\n",
       "      <td>1</td>\n",
       "      <td>2</td>\n",
       "      <td>1</td>\n",
       "      <td>3</td>\n",
       "      <td>1</td>\n",
       "      <td>5</td>\n",
       "      <td>4</td>\n",
       "      <td>3</td>\n",
       "      <td>1</td>\n",
       "      <td>Data Analyst</td>\n",
       "    </tr>\n",
       "  </tbody>\n",
       "</table>\n",
       "<p>5 rows × 26 columns</p>\n",
       "</div>"
      ],
      "text/plain": [
       "   sslc  hsc  cgpa  school_type  no_of_miniprojects  no_of_projects  \\\n",
       "0     2    3     2            3                   1               1   \n",
       "1     3    1     2            2                   2               1   \n",
       "2     3    4     2            2                   1               1   \n",
       "3     3    4     2            1                   1               1   \n",
       "4     2    3     2            4                   1               1   \n",
       "\n",
       "   coresub_skill  aptitude_skill  problemsolving_skill  programming_skill  \\\n",
       "0              1               1                     2                  4   \n",
       "1              1               3                     2                  4   \n",
       "2              1               2                     3                  3   \n",
       "3              1               1                     3                  2   \n",
       "4              1               4                     3                  3   \n",
       "\n",
       "   ...  technology_used  sympos_attend  sympos_won  extracurricular  \\\n",
       "0  ...                1              3           1                2   \n",
       "1  ...                2              3           2                3   \n",
       "2  ...                1              4           3                1   \n",
       "3  ...                1              3           2                1   \n",
       "4  ...                1              2           1                3   \n",
       "\n",
       "   learning_style  college_bench  clg_teachers_know  college_performence   \\\n",
       "0               2              4                  3                     4   \n",
       "1               2              5                  3                     3   \n",
       "2               4              3                  3                     3   \n",
       "3               2              1                  4                     4   \n",
       "4               1              5                  4                     3   \n",
       "\n",
       "   college_skills                ROLE  \n",
       "0               5   Technical Support  \n",
       "1               4  Software Developer  \n",
       "2               4      UI/UX Designer  \n",
       "3               3   Technical Support  \n",
       "4               1        Data Analyst  \n",
       "\n",
       "[5 rows x 26 columns]"
      ]
     },
     "execution_count": 656,
     "metadata": {},
     "output_type": "execute_result"
    }
   ],
   "source": [
    "career_dataset.head()"
   ]
  },
  {
   "cell_type": "code",
   "execution_count": 657,
   "metadata": {},
   "outputs": [
    {
     "data": {
      "text/plain": [
       "(7525, 26)"
      ]
     },
     "execution_count": 657,
     "metadata": {},
     "output_type": "execute_result"
    }
   ],
   "source": [
    "career_dataset.shape"
   ]
  },
  {
   "cell_type": "code",
   "execution_count": 658,
   "metadata": {},
   "outputs": [
    {
     "data": {
      "text/plain": [
       "Index(['sslc', 'hsc', 'cgpa', 'school_type', 'no_of_miniprojects',\n",
       "       'no_of_projects', 'coresub_skill', 'aptitude_skill',\n",
       "       'problemsolving_skill', 'programming_skill', 'abstractthink_skill',\n",
       "       'design_skill', 'first_computer', 'first_program', 'lab_programs',\n",
       "       'ds_coding', 'technology_used', 'sympos_attend', 'sympos_won',\n",
       "       'extracurricular', 'learning_style', 'college_bench',\n",
       "       'clg_teachers_know', 'college_performence ', 'college_skills', 'ROLE'],\n",
       "      dtype='object')"
      ]
     },
     "execution_count": 658,
     "metadata": {},
     "output_type": "execute_result"
    }
   ],
   "source": [
    "career_dataset.columns"
   ]
  },
  {
   "cell_type": "code",
   "execution_count": 659,
   "metadata": {},
   "outputs": [
    {
     "data": {
      "text/html": [
       "<div>\n",
       "<style scoped>\n",
       "    .dataframe tbody tr th:only-of-type {\n",
       "        vertical-align: middle;\n",
       "    }\n",
       "\n",
       "    .dataframe tbody tr th {\n",
       "        vertical-align: top;\n",
       "    }\n",
       "\n",
       "    .dataframe thead th {\n",
       "        text-align: right;\n",
       "    }\n",
       "</style>\n",
       "<table border=\"1\" class=\"dataframe\">\n",
       "  <thead>\n",
       "    <tr style=\"text-align: right;\">\n",
       "      <th></th>\n",
       "      <th>sslc</th>\n",
       "      <th>hsc</th>\n",
       "      <th>cgpa</th>\n",
       "      <th>school_type</th>\n",
       "      <th>no_of_miniprojects</th>\n",
       "      <th>no_of_projects</th>\n",
       "      <th>coresub_skill</th>\n",
       "      <th>aptitude_skill</th>\n",
       "      <th>problemsolving_skill</th>\n",
       "      <th>programming_skill</th>\n",
       "      <th>...</th>\n",
       "      <th>lab_programs</th>\n",
       "      <th>ds_coding</th>\n",
       "      <th>technology_used</th>\n",
       "      <th>sympos_attend</th>\n",
       "      <th>sympos_won</th>\n",
       "      <th>extracurricular</th>\n",
       "      <th>college_bench</th>\n",
       "      <th>clg_teachers_know</th>\n",
       "      <th>college_performence</th>\n",
       "      <th>college_skills</th>\n",
       "    </tr>\n",
       "  </thead>\n",
       "  <tbody>\n",
       "    <tr>\n",
       "      <th>count</th>\n",
       "      <td>7525.000000</td>\n",
       "      <td>7525.000000</td>\n",
       "      <td>7525.000000</td>\n",
       "      <td>7525.000000</td>\n",
       "      <td>7525.000000</td>\n",
       "      <td>7525.000000</td>\n",
       "      <td>7525.000000</td>\n",
       "      <td>7525.000000</td>\n",
       "      <td>7525.000000</td>\n",
       "      <td>7525.000000</td>\n",
       "      <td>...</td>\n",
       "      <td>7525.000000</td>\n",
       "      <td>7525.000000</td>\n",
       "      <td>7525.000000</td>\n",
       "      <td>7525.000000</td>\n",
       "      <td>7525.000000</td>\n",
       "      <td>7525.000000</td>\n",
       "      <td>7525.000000</td>\n",
       "      <td>7525.000000</td>\n",
       "      <td>7525.000000</td>\n",
       "      <td>7525.000000</td>\n",
       "    </tr>\n",
       "    <tr>\n",
       "      <th>mean</th>\n",
       "      <td>2.907243</td>\n",
       "      <td>3.043056</td>\n",
       "      <td>2.138738</td>\n",
       "      <td>1.799070</td>\n",
       "      <td>1.537276</td>\n",
       "      <td>1.188439</td>\n",
       "      <td>1.513223</td>\n",
       "      <td>2.041196</td>\n",
       "      <td>2.863256</td>\n",
       "      <td>2.887442</td>\n",
       "      <td>...</td>\n",
       "      <td>3.584585</td>\n",
       "      <td>2.050498</td>\n",
       "      <td>1.204917</td>\n",
       "      <td>2.856877</td>\n",
       "      <td>1.972359</td>\n",
       "      <td>2.182990</td>\n",
       "      <td>3.988040</td>\n",
       "      <td>3.597874</td>\n",
       "      <td>3.350299</td>\n",
       "      <td>2.995748</td>\n",
       "    </tr>\n",
       "    <tr>\n",
       "      <th>std</th>\n",
       "      <td>0.939084</td>\n",
       "      <td>0.900414</td>\n",
       "      <td>0.803465</td>\n",
       "      <td>0.711248</td>\n",
       "      <td>0.735916</td>\n",
       "      <td>0.545728</td>\n",
       "      <td>0.499858</td>\n",
       "      <td>1.085477</td>\n",
       "      <td>0.728428</td>\n",
       "      <td>0.754894</td>\n",
       "      <td>...</td>\n",
       "      <td>0.790142</td>\n",
       "      <td>0.748276</td>\n",
       "      <td>0.574120</td>\n",
       "      <td>1.027328</td>\n",
       "      <td>1.002539</td>\n",
       "      <td>1.094488</td>\n",
       "      <td>0.778578</td>\n",
       "      <td>0.565860</td>\n",
       "      <td>0.522819</td>\n",
       "      <td>1.409500</td>\n",
       "    </tr>\n",
       "    <tr>\n",
       "      <th>min</th>\n",
       "      <td>1.000000</td>\n",
       "      <td>1.000000</td>\n",
       "      <td>1.000000</td>\n",
       "      <td>1.000000</td>\n",
       "      <td>1.000000</td>\n",
       "      <td>1.000000</td>\n",
       "      <td>1.000000</td>\n",
       "      <td>1.000000</td>\n",
       "      <td>1.000000</td>\n",
       "      <td>1.000000</td>\n",
       "      <td>...</td>\n",
       "      <td>1.000000</td>\n",
       "      <td>1.000000</td>\n",
       "      <td>1.000000</td>\n",
       "      <td>1.000000</td>\n",
       "      <td>1.000000</td>\n",
       "      <td>1.000000</td>\n",
       "      <td>1.000000</td>\n",
       "      <td>1.000000</td>\n",
       "      <td>1.000000</td>\n",
       "      <td>1.000000</td>\n",
       "    </tr>\n",
       "    <tr>\n",
       "      <th>25%</th>\n",
       "      <td>2.000000</td>\n",
       "      <td>3.000000</td>\n",
       "      <td>2.000000</td>\n",
       "      <td>1.000000</td>\n",
       "      <td>1.000000</td>\n",
       "      <td>1.000000</td>\n",
       "      <td>1.000000</td>\n",
       "      <td>1.000000</td>\n",
       "      <td>2.000000</td>\n",
       "      <td>2.000000</td>\n",
       "      <td>...</td>\n",
       "      <td>4.000000</td>\n",
       "      <td>2.000000</td>\n",
       "      <td>1.000000</td>\n",
       "      <td>2.000000</td>\n",
       "      <td>1.000000</td>\n",
       "      <td>1.000000</td>\n",
       "      <td>4.000000</td>\n",
       "      <td>3.000000</td>\n",
       "      <td>3.000000</td>\n",
       "      <td>2.000000</td>\n",
       "    </tr>\n",
       "    <tr>\n",
       "      <th>50%</th>\n",
       "      <td>3.000000</td>\n",
       "      <td>3.000000</td>\n",
       "      <td>2.000000</td>\n",
       "      <td>2.000000</td>\n",
       "      <td>1.000000</td>\n",
       "      <td>1.000000</td>\n",
       "      <td>2.000000</td>\n",
       "      <td>2.000000</td>\n",
       "      <td>3.000000</td>\n",
       "      <td>3.000000</td>\n",
       "      <td>...</td>\n",
       "      <td>4.000000</td>\n",
       "      <td>2.000000</td>\n",
       "      <td>1.000000</td>\n",
       "      <td>3.000000</td>\n",
       "      <td>2.000000</td>\n",
       "      <td>2.000000</td>\n",
       "      <td>4.000000</td>\n",
       "      <td>4.000000</td>\n",
       "      <td>3.000000</td>\n",
       "      <td>3.000000</td>\n",
       "    </tr>\n",
       "    <tr>\n",
       "      <th>75%</th>\n",
       "      <td>4.000000</td>\n",
       "      <td>4.000000</td>\n",
       "      <td>3.000000</td>\n",
       "      <td>2.000000</td>\n",
       "      <td>2.000000</td>\n",
       "      <td>1.000000</td>\n",
       "      <td>2.000000</td>\n",
       "      <td>3.000000</td>\n",
       "      <td>3.000000</td>\n",
       "      <td>3.000000</td>\n",
       "      <td>...</td>\n",
       "      <td>4.000000</td>\n",
       "      <td>2.000000</td>\n",
       "      <td>1.000000</td>\n",
       "      <td>4.000000</td>\n",
       "      <td>3.000000</td>\n",
       "      <td>3.000000</td>\n",
       "      <td>4.000000</td>\n",
       "      <td>4.000000</td>\n",
       "      <td>4.000000</td>\n",
       "      <td>4.000000</td>\n",
       "    </tr>\n",
       "    <tr>\n",
       "      <th>max</th>\n",
       "      <td>4.000000</td>\n",
       "      <td>4.000000</td>\n",
       "      <td>4.000000</td>\n",
       "      <td>4.000000</td>\n",
       "      <td>4.000000</td>\n",
       "      <td>4.000000</td>\n",
       "      <td>2.000000</td>\n",
       "      <td>4.000000</td>\n",
       "      <td>4.000000</td>\n",
       "      <td>5.000000</td>\n",
       "      <td>...</td>\n",
       "      <td>4.000000</td>\n",
       "      <td>4.000000</td>\n",
       "      <td>4.000000</td>\n",
       "      <td>4.000000</td>\n",
       "      <td>5.000000</td>\n",
       "      <td>4.000000</td>\n",
       "      <td>5.000000</td>\n",
       "      <td>4.000000</td>\n",
       "      <td>4.000000</td>\n",
       "      <td>5.000000</td>\n",
       "    </tr>\n",
       "  </tbody>\n",
       "</table>\n",
       "<p>8 rows × 24 columns</p>\n",
       "</div>"
      ],
      "text/plain": [
       "              sslc          hsc         cgpa  school_type  no_of_miniprojects  \\\n",
       "count  7525.000000  7525.000000  7525.000000  7525.000000         7525.000000   \n",
       "mean      2.907243     3.043056     2.138738     1.799070            1.537276   \n",
       "std       0.939084     0.900414     0.803465     0.711248            0.735916   \n",
       "min       1.000000     1.000000     1.000000     1.000000            1.000000   \n",
       "25%       2.000000     3.000000     2.000000     1.000000            1.000000   \n",
       "50%       3.000000     3.000000     2.000000     2.000000            1.000000   \n",
       "75%       4.000000     4.000000     3.000000     2.000000            2.000000   \n",
       "max       4.000000     4.000000     4.000000     4.000000            4.000000   \n",
       "\n",
       "       no_of_projects  coresub_skill  aptitude_skill  problemsolving_skill  \\\n",
       "count     7525.000000    7525.000000     7525.000000           7525.000000   \n",
       "mean         1.188439       1.513223        2.041196              2.863256   \n",
       "std          0.545728       0.499858        1.085477              0.728428   \n",
       "min          1.000000       1.000000        1.000000              1.000000   \n",
       "25%          1.000000       1.000000        1.000000              2.000000   \n",
       "50%          1.000000       2.000000        2.000000              3.000000   \n",
       "75%          1.000000       2.000000        3.000000              3.000000   \n",
       "max          4.000000       2.000000        4.000000              4.000000   \n",
       "\n",
       "       programming_skill  ...  lab_programs    ds_coding  technology_used  \\\n",
       "count        7525.000000  ...   7525.000000  7525.000000      7525.000000   \n",
       "mean            2.887442  ...      3.584585     2.050498         1.204917   \n",
       "std             0.754894  ...      0.790142     0.748276         0.574120   \n",
       "min             1.000000  ...      1.000000     1.000000         1.000000   \n",
       "25%             2.000000  ...      4.000000     2.000000         1.000000   \n",
       "50%             3.000000  ...      4.000000     2.000000         1.000000   \n",
       "75%             3.000000  ...      4.000000     2.000000         1.000000   \n",
       "max             5.000000  ...      4.000000     4.000000         4.000000   \n",
       "\n",
       "       sympos_attend   sympos_won  extracurricular  college_bench  \\\n",
       "count    7525.000000  7525.000000      7525.000000    7525.000000   \n",
       "mean        2.856877     1.972359         2.182990       3.988040   \n",
       "std         1.027328     1.002539         1.094488       0.778578   \n",
       "min         1.000000     1.000000         1.000000       1.000000   \n",
       "25%         2.000000     1.000000         1.000000       4.000000   \n",
       "50%         3.000000     2.000000         2.000000       4.000000   \n",
       "75%         4.000000     3.000000         3.000000       4.000000   \n",
       "max         4.000000     5.000000         4.000000       5.000000   \n",
       "\n",
       "       clg_teachers_know  college_performence   college_skills  \n",
       "count        7525.000000           7525.000000     7525.000000  \n",
       "mean            3.597874              3.350299        2.995748  \n",
       "std             0.565860              0.522819        1.409500  \n",
       "min             1.000000              1.000000        1.000000  \n",
       "25%             3.000000              3.000000        2.000000  \n",
       "50%             4.000000              3.000000        3.000000  \n",
       "75%             4.000000              4.000000        4.000000  \n",
       "max             4.000000              4.000000        5.000000  \n",
       "\n",
       "[8 rows x 24 columns]"
      ]
     },
     "execution_count": 659,
     "metadata": {},
     "output_type": "execute_result"
    }
   ],
   "source": [
    "career_dataset.describe()"
   ]
  },
  {
   "cell_type": "code",
   "execution_count": 660,
   "metadata": {},
   "outputs": [
    {
     "name": "stdout",
     "output_type": "stream",
     "text": [
      "<class 'pandas.core.frame.DataFrame'>\n",
      "RangeIndex: 7525 entries, 0 to 7524\n",
      "Data columns (total 26 columns):\n",
      " #   Column                Non-Null Count  Dtype \n",
      "---  ------                --------------  ----- \n",
      " 0   sslc                  7525 non-null   int64 \n",
      " 1   hsc                   7525 non-null   int64 \n",
      " 2   cgpa                  7525 non-null   int64 \n",
      " 3   school_type           7525 non-null   int64 \n",
      " 4   no_of_miniprojects    7525 non-null   int64 \n",
      " 5   no_of_projects        7525 non-null   int64 \n",
      " 6   coresub_skill         7525 non-null   int64 \n",
      " 7   aptitude_skill        7525 non-null   int64 \n",
      " 8   problemsolving_skill  7525 non-null   int64 \n",
      " 9   programming_skill     7525 non-null   int64 \n",
      " 10  abstractthink_skill   7525 non-null   int64 \n",
      " 11  design_skill          7525 non-null   int64 \n",
      " 12  first_computer        7525 non-null   int64 \n",
      " 13  first_program         7525 non-null   int64 \n",
      " 14  lab_programs          7525 non-null   int64 \n",
      " 15  ds_coding             7525 non-null   int64 \n",
      " 16  technology_used       7525 non-null   int64 \n",
      " 17  sympos_attend         7525 non-null   int64 \n",
      " 18  sympos_won            7525 non-null   int64 \n",
      " 19  extracurricular       7525 non-null   int64 \n",
      " 20  learning_style        7525 non-null   object\n",
      " 21  college_bench         7525 non-null   int64 \n",
      " 22  clg_teachers_know     7525 non-null   int64 \n",
      " 23  college_performence   7525 non-null   int64 \n",
      " 24  college_skills        7525 non-null   int64 \n",
      " 25  ROLE                  49 non-null     object\n",
      "dtypes: int64(24), object(2)\n",
      "memory usage: 1.5+ MB\n"
     ]
    }
   ],
   "source": [
    "career_dataset.info()"
   ]
  },
  {
   "cell_type": "code",
   "execution_count": 661,
   "metadata": {},
   "outputs": [
    {
     "data": {
      "text/plain": [
       "sslc                       0\n",
       "hsc                        0\n",
       "cgpa                       0\n",
       "school_type                0\n",
       "no_of_miniprojects         0\n",
       "no_of_projects             0\n",
       "coresub_skill              0\n",
       "aptitude_skill             0\n",
       "problemsolving_skill       0\n",
       "programming_skill          0\n",
       "abstractthink_skill        0\n",
       "design_skill               0\n",
       "first_computer             0\n",
       "first_program              0\n",
       "lab_programs               0\n",
       "ds_coding                  0\n",
       "technology_used            0\n",
       "sympos_attend              0\n",
       "sympos_won                 0\n",
       "extracurricular            0\n",
       "learning_style             0\n",
       "college_bench              0\n",
       "clg_teachers_know          0\n",
       "college_performence        0\n",
       "college_skills             0\n",
       "ROLE                    7476\n",
       "dtype: int64"
      ]
     },
     "execution_count": 661,
     "metadata": {},
     "output_type": "execute_result"
    }
   ],
   "source": [
    "career_dataset.isnull().sum()"
   ]
  },
  {
   "cell_type": "code",
   "execution_count": 662,
   "metadata": {},
   "outputs": [],
   "source": [
    "X = career_dataset.iloc[:,:-1]\n",
    "y = pd.DataFrame(career_dataset.iloc[:,-1])"
   ]
  },
  {
   "cell_type": "code",
   "execution_count": 663,
   "metadata": {},
   "outputs": [
    {
     "data": {
      "text/html": [
       "<div>\n",
       "<style scoped>\n",
       "    .dataframe tbody tr th:only-of-type {\n",
       "        vertical-align: middle;\n",
       "    }\n",
       "\n",
       "    .dataframe tbody tr th {\n",
       "        vertical-align: top;\n",
       "    }\n",
       "\n",
       "    .dataframe thead th {\n",
       "        text-align: right;\n",
       "    }\n",
       "</style>\n",
       "<table border=\"1\" class=\"dataframe\">\n",
       "  <thead>\n",
       "    <tr style=\"text-align: right;\">\n",
       "      <th></th>\n",
       "      <th>sslc</th>\n",
       "      <th>hsc</th>\n",
       "      <th>cgpa</th>\n",
       "      <th>school_type</th>\n",
       "      <th>no_of_miniprojects</th>\n",
       "      <th>no_of_projects</th>\n",
       "      <th>coresub_skill</th>\n",
       "      <th>aptitude_skill</th>\n",
       "      <th>problemsolving_skill</th>\n",
       "      <th>programming_skill</th>\n",
       "      <th>...</th>\n",
       "      <th>ds_coding</th>\n",
       "      <th>technology_used</th>\n",
       "      <th>sympos_attend</th>\n",
       "      <th>sympos_won</th>\n",
       "      <th>extracurricular</th>\n",
       "      <th>learning_style</th>\n",
       "      <th>college_bench</th>\n",
       "      <th>clg_teachers_know</th>\n",
       "      <th>college_performence</th>\n",
       "      <th>college_skills</th>\n",
       "    </tr>\n",
       "  </thead>\n",
       "  <tbody>\n",
       "    <tr>\n",
       "      <th>0</th>\n",
       "      <td>2</td>\n",
       "      <td>3</td>\n",
       "      <td>2</td>\n",
       "      <td>3</td>\n",
       "      <td>1</td>\n",
       "      <td>1</td>\n",
       "      <td>1</td>\n",
       "      <td>1</td>\n",
       "      <td>2</td>\n",
       "      <td>4</td>\n",
       "      <td>...</td>\n",
       "      <td>1</td>\n",
       "      <td>1</td>\n",
       "      <td>3</td>\n",
       "      <td>1</td>\n",
       "      <td>2</td>\n",
       "      <td>2</td>\n",
       "      <td>4</td>\n",
       "      <td>3</td>\n",
       "      <td>4</td>\n",
       "      <td>5</td>\n",
       "    </tr>\n",
       "    <tr>\n",
       "      <th>1</th>\n",
       "      <td>3</td>\n",
       "      <td>1</td>\n",
       "      <td>2</td>\n",
       "      <td>2</td>\n",
       "      <td>2</td>\n",
       "      <td>1</td>\n",
       "      <td>1</td>\n",
       "      <td>3</td>\n",
       "      <td>2</td>\n",
       "      <td>4</td>\n",
       "      <td>...</td>\n",
       "      <td>2</td>\n",
       "      <td>2</td>\n",
       "      <td>3</td>\n",
       "      <td>2</td>\n",
       "      <td>3</td>\n",
       "      <td>2</td>\n",
       "      <td>5</td>\n",
       "      <td>3</td>\n",
       "      <td>3</td>\n",
       "      <td>4</td>\n",
       "    </tr>\n",
       "    <tr>\n",
       "      <th>2</th>\n",
       "      <td>3</td>\n",
       "      <td>4</td>\n",
       "      <td>2</td>\n",
       "      <td>2</td>\n",
       "      <td>1</td>\n",
       "      <td>1</td>\n",
       "      <td>1</td>\n",
       "      <td>2</td>\n",
       "      <td>3</td>\n",
       "      <td>3</td>\n",
       "      <td>...</td>\n",
       "      <td>1</td>\n",
       "      <td>1</td>\n",
       "      <td>4</td>\n",
       "      <td>3</td>\n",
       "      <td>1</td>\n",
       "      <td>4</td>\n",
       "      <td>3</td>\n",
       "      <td>3</td>\n",
       "      <td>3</td>\n",
       "      <td>4</td>\n",
       "    </tr>\n",
       "    <tr>\n",
       "      <th>3</th>\n",
       "      <td>3</td>\n",
       "      <td>4</td>\n",
       "      <td>2</td>\n",
       "      <td>1</td>\n",
       "      <td>1</td>\n",
       "      <td>1</td>\n",
       "      <td>1</td>\n",
       "      <td>1</td>\n",
       "      <td>3</td>\n",
       "      <td>2</td>\n",
       "      <td>...</td>\n",
       "      <td>2</td>\n",
       "      <td>1</td>\n",
       "      <td>3</td>\n",
       "      <td>2</td>\n",
       "      <td>1</td>\n",
       "      <td>2</td>\n",
       "      <td>1</td>\n",
       "      <td>4</td>\n",
       "      <td>4</td>\n",
       "      <td>3</td>\n",
       "    </tr>\n",
       "    <tr>\n",
       "      <th>4</th>\n",
       "      <td>2</td>\n",
       "      <td>3</td>\n",
       "      <td>2</td>\n",
       "      <td>4</td>\n",
       "      <td>1</td>\n",
       "      <td>1</td>\n",
       "      <td>1</td>\n",
       "      <td>4</td>\n",
       "      <td>3</td>\n",
       "      <td>3</td>\n",
       "      <td>...</td>\n",
       "      <td>2</td>\n",
       "      <td>1</td>\n",
       "      <td>2</td>\n",
       "      <td>1</td>\n",
       "      <td>3</td>\n",
       "      <td>1</td>\n",
       "      <td>5</td>\n",
       "      <td>4</td>\n",
       "      <td>3</td>\n",
       "      <td>1</td>\n",
       "    </tr>\n",
       "    <tr>\n",
       "      <th>...</th>\n",
       "      <td>...</td>\n",
       "      <td>...</td>\n",
       "      <td>...</td>\n",
       "      <td>...</td>\n",
       "      <td>...</td>\n",
       "      <td>...</td>\n",
       "      <td>...</td>\n",
       "      <td>...</td>\n",
       "      <td>...</td>\n",
       "      <td>...</td>\n",
       "      <td>...</td>\n",
       "      <td>...</td>\n",
       "      <td>...</td>\n",
       "      <td>...</td>\n",
       "      <td>...</td>\n",
       "      <td>...</td>\n",
       "      <td>...</td>\n",
       "      <td>...</td>\n",
       "      <td>...</td>\n",
       "      <td>...</td>\n",
       "      <td>...</td>\n",
       "    </tr>\n",
       "    <tr>\n",
       "      <th>7520</th>\n",
       "      <td>3</td>\n",
       "      <td>2</td>\n",
       "      <td>1</td>\n",
       "      <td>2</td>\n",
       "      <td>1</td>\n",
       "      <td>1</td>\n",
       "      <td>2</td>\n",
       "      <td>2</td>\n",
       "      <td>3</td>\n",
       "      <td>3</td>\n",
       "      <td>...</td>\n",
       "      <td>4</td>\n",
       "      <td>1</td>\n",
       "      <td>4</td>\n",
       "      <td>2</td>\n",
       "      <td>2</td>\n",
       "      <td>1</td>\n",
       "      <td>4</td>\n",
       "      <td>4</td>\n",
       "      <td>3</td>\n",
       "      <td>3</td>\n",
       "    </tr>\n",
       "    <tr>\n",
       "      <th>7521</th>\n",
       "      <td>2</td>\n",
       "      <td>3</td>\n",
       "      <td>3</td>\n",
       "      <td>3</td>\n",
       "      <td>4</td>\n",
       "      <td>3</td>\n",
       "      <td>2</td>\n",
       "      <td>1</td>\n",
       "      <td>3</td>\n",
       "      <td>3</td>\n",
       "      <td>...</td>\n",
       "      <td>3</td>\n",
       "      <td>4</td>\n",
       "      <td>2</td>\n",
       "      <td>3</td>\n",
       "      <td>2</td>\n",
       "      <td>4</td>\n",
       "      <td>1</td>\n",
       "      <td>3</td>\n",
       "      <td>3</td>\n",
       "      <td>2</td>\n",
       "    </tr>\n",
       "    <tr>\n",
       "      <th>7522</th>\n",
       "      <td>3</td>\n",
       "      <td>2</td>\n",
       "      <td>1</td>\n",
       "      <td>2</td>\n",
       "      <td>1</td>\n",
       "      <td>1</td>\n",
       "      <td>1</td>\n",
       "      <td>2</td>\n",
       "      <td>2</td>\n",
       "      <td>3</td>\n",
       "      <td>...</td>\n",
       "      <td>2</td>\n",
       "      <td>1</td>\n",
       "      <td>3</td>\n",
       "      <td>1</td>\n",
       "      <td>1</td>\n",
       "      <td>3</td>\n",
       "      <td>5</td>\n",
       "      <td>3</td>\n",
       "      <td>3</td>\n",
       "      <td>4</td>\n",
       "    </tr>\n",
       "    <tr>\n",
       "      <th>7523</th>\n",
       "      <td>2</td>\n",
       "      <td>1</td>\n",
       "      <td>1</td>\n",
       "      <td>1</td>\n",
       "      <td>2</td>\n",
       "      <td>1</td>\n",
       "      <td>1</td>\n",
       "      <td>2</td>\n",
       "      <td>2</td>\n",
       "      <td>2</td>\n",
       "      <td>...</td>\n",
       "      <td>2</td>\n",
       "      <td>1</td>\n",
       "      <td>3</td>\n",
       "      <td>2</td>\n",
       "      <td>1</td>\n",
       "      <td>2</td>\n",
       "      <td>4</td>\n",
       "      <td>4</td>\n",
       "      <td>3</td>\n",
       "      <td>4</td>\n",
       "    </tr>\n",
       "    <tr>\n",
       "      <th>7524</th>\n",
       "      <td>2</td>\n",
       "      <td>2</td>\n",
       "      <td>2</td>\n",
       "      <td>3</td>\n",
       "      <td>2</td>\n",
       "      <td>1</td>\n",
       "      <td>1</td>\n",
       "      <td>1</td>\n",
       "      <td>2</td>\n",
       "      <td>3</td>\n",
       "      <td>...</td>\n",
       "      <td>1</td>\n",
       "      <td>1</td>\n",
       "      <td>4</td>\n",
       "      <td>1</td>\n",
       "      <td>1</td>\n",
       "      <td>3</td>\n",
       "      <td>5</td>\n",
       "      <td>3</td>\n",
       "      <td>3</td>\n",
       "      <td>5</td>\n",
       "    </tr>\n",
       "  </tbody>\n",
       "</table>\n",
       "<p>7525 rows × 25 columns</p>\n",
       "</div>"
      ],
      "text/plain": [
       "      sslc  hsc  cgpa  school_type  no_of_miniprojects  no_of_projects  \\\n",
       "0        2    3     2            3                   1               1   \n",
       "1        3    1     2            2                   2               1   \n",
       "2        3    4     2            2                   1               1   \n",
       "3        3    4     2            1                   1               1   \n",
       "4        2    3     2            4                   1               1   \n",
       "...    ...  ...   ...          ...                 ...             ...   \n",
       "7520     3    2     1            2                   1               1   \n",
       "7521     2    3     3            3                   4               3   \n",
       "7522     3    2     1            2                   1               1   \n",
       "7523     2    1     1            1                   2               1   \n",
       "7524     2    2     2            3                   2               1   \n",
       "\n",
       "      coresub_skill  aptitude_skill  problemsolving_skill  programming_skill  \\\n",
       "0                 1               1                     2                  4   \n",
       "1                 1               3                     2                  4   \n",
       "2                 1               2                     3                  3   \n",
       "3                 1               1                     3                  2   \n",
       "4                 1               4                     3                  3   \n",
       "...             ...             ...                   ...                ...   \n",
       "7520              2               2                     3                  3   \n",
       "7521              2               1                     3                  3   \n",
       "7522              1               2                     2                  3   \n",
       "7523              1               2                     2                  2   \n",
       "7524              1               1                     2                  3   \n",
       "\n",
       "      ...  ds_coding  technology_used  sympos_attend  sympos_won  \\\n",
       "0     ...          1                1              3           1   \n",
       "1     ...          2                2              3           2   \n",
       "2     ...          1                1              4           3   \n",
       "3     ...          2                1              3           2   \n",
       "4     ...          2                1              2           1   \n",
       "...   ...        ...              ...            ...         ...   \n",
       "7520  ...          4                1              4           2   \n",
       "7521  ...          3                4              2           3   \n",
       "7522  ...          2                1              3           1   \n",
       "7523  ...          2                1              3           2   \n",
       "7524  ...          1                1              4           1   \n",
       "\n",
       "      extracurricular  learning_style  college_bench  clg_teachers_know  \\\n",
       "0                   2               2              4                  3   \n",
       "1                   3               2              5                  3   \n",
       "2                   1               4              3                  3   \n",
       "3                   1               2              1                  4   \n",
       "4                   3               1              5                  4   \n",
       "...               ...             ...            ...                ...   \n",
       "7520                2               1              4                  4   \n",
       "7521                2               4              1                  3   \n",
       "7522                1               3              5                  3   \n",
       "7523                1               2              4                  4   \n",
       "7524                1               3              5                  3   \n",
       "\n",
       "      college_performence   college_skills  \n",
       "0                        4               5  \n",
       "1                        3               4  \n",
       "2                        3               4  \n",
       "3                        4               3  \n",
       "4                        3               1  \n",
       "...                    ...             ...  \n",
       "7520                     3               3  \n",
       "7521                     3               2  \n",
       "7522                     3               4  \n",
       "7523                     3               4  \n",
       "7524                     3               5  \n",
       "\n",
       "[7525 rows x 25 columns]"
      ]
     },
     "execution_count": 663,
     "metadata": {},
     "output_type": "execute_result"
    }
   ],
   "source": [
    "X"
   ]
  },
  {
   "cell_type": "code",
   "execution_count": 664,
   "metadata": {},
   "outputs": [
    {
     "data": {
      "text/html": [
       "<div>\n",
       "<style scoped>\n",
       "    .dataframe tbody tr th:only-of-type {\n",
       "        vertical-align: middle;\n",
       "    }\n",
       "\n",
       "    .dataframe tbody tr th {\n",
       "        vertical-align: top;\n",
       "    }\n",
       "\n",
       "    .dataframe thead th {\n",
       "        text-align: right;\n",
       "    }\n",
       "</style>\n",
       "<table border=\"1\" class=\"dataframe\">\n",
       "  <thead>\n",
       "    <tr style=\"text-align: right;\">\n",
       "      <th></th>\n",
       "      <th>ROLE</th>\n",
       "    </tr>\n",
       "  </thead>\n",
       "  <tbody>\n",
       "    <tr>\n",
       "      <th>0</th>\n",
       "      <td>Technical Support</td>\n",
       "    </tr>\n",
       "    <tr>\n",
       "      <th>1</th>\n",
       "      <td>Software Developer</td>\n",
       "    </tr>\n",
       "    <tr>\n",
       "      <th>2</th>\n",
       "      <td>UI/UX Designer</td>\n",
       "    </tr>\n",
       "    <tr>\n",
       "      <th>3</th>\n",
       "      <td>Technical Support</td>\n",
       "    </tr>\n",
       "    <tr>\n",
       "      <th>4</th>\n",
       "      <td>Data Analyst</td>\n",
       "    </tr>\n",
       "    <tr>\n",
       "      <th>...</th>\n",
       "      <td>...</td>\n",
       "    </tr>\n",
       "    <tr>\n",
       "      <th>7520</th>\n",
       "      <td>NaN</td>\n",
       "    </tr>\n",
       "    <tr>\n",
       "      <th>7521</th>\n",
       "      <td>NaN</td>\n",
       "    </tr>\n",
       "    <tr>\n",
       "      <th>7522</th>\n",
       "      <td>NaN</td>\n",
       "    </tr>\n",
       "    <tr>\n",
       "      <th>7523</th>\n",
       "      <td>NaN</td>\n",
       "    </tr>\n",
       "    <tr>\n",
       "      <th>7524</th>\n",
       "      <td>NaN</td>\n",
       "    </tr>\n",
       "  </tbody>\n",
       "</table>\n",
       "<p>7525 rows × 1 columns</p>\n",
       "</div>"
      ],
      "text/plain": [
       "                    ROLE\n",
       "0      Technical Support\n",
       "1     Software Developer\n",
       "2         UI/UX Designer\n",
       "3      Technical Support\n",
       "4           Data Analyst\n",
       "...                  ...\n",
       "7520                 NaN\n",
       "7521                 NaN\n",
       "7522                 NaN\n",
       "7523                 NaN\n",
       "7524                 NaN\n",
       "\n",
       "[7525 rows x 1 columns]"
      ]
     },
     "execution_count": 664,
     "metadata": {},
     "output_type": "execute_result"
    }
   ],
   "source": [
    "y"
   ]
  },
  {
   "cell_type": "code",
   "execution_count": 665,
   "metadata": {},
   "outputs": [],
   "source": [
    "lable_encoder = LabelEncoder()"
   ]
  },
  {
   "cell_type": "code",
   "execution_count": 666,
   "metadata": {},
   "outputs": [],
   "source": [
    "for feature in X.columns[9:]:\n",
    "  X[feature] = lable_encoder.fit_transform(X[feature])"
   ]
  },
  {
   "cell_type": "code",
   "execution_count": 667,
   "metadata": {},
   "outputs": [],
   "source": [
    "# y['Suggested Job Role'] = lable_encoder.fit_transform(y['Suggested Job Role'])\n",
    "y['ROLE'] = lable_encoder.fit_transform(y['ROLE'])"
   ]
  },
  {
   "cell_type": "code",
   "execution_count": 668,
   "metadata": {},
   "outputs": [
    {
     "data": {
      "text/html": [
       "<div>\n",
       "<style scoped>\n",
       "    .dataframe tbody tr th:only-of-type {\n",
       "        vertical-align: middle;\n",
       "    }\n",
       "\n",
       "    .dataframe tbody tr th {\n",
       "        vertical-align: top;\n",
       "    }\n",
       "\n",
       "    .dataframe thead th {\n",
       "        text-align: right;\n",
       "    }\n",
       "</style>\n",
       "<table border=\"1\" class=\"dataframe\">\n",
       "  <thead>\n",
       "    <tr style=\"text-align: right;\">\n",
       "      <th></th>\n",
       "      <th>sslc</th>\n",
       "      <th>hsc</th>\n",
       "      <th>cgpa</th>\n",
       "      <th>school_type</th>\n",
       "      <th>no_of_miniprojects</th>\n",
       "      <th>no_of_projects</th>\n",
       "      <th>coresub_skill</th>\n",
       "      <th>aptitude_skill</th>\n",
       "      <th>problemsolving_skill</th>\n",
       "      <th>programming_skill</th>\n",
       "      <th>...</th>\n",
       "      <th>ds_coding</th>\n",
       "      <th>technology_used</th>\n",
       "      <th>sympos_attend</th>\n",
       "      <th>sympos_won</th>\n",
       "      <th>extracurricular</th>\n",
       "      <th>learning_style</th>\n",
       "      <th>college_bench</th>\n",
       "      <th>clg_teachers_know</th>\n",
       "      <th>college_performence</th>\n",
       "      <th>college_skills</th>\n",
       "    </tr>\n",
       "  </thead>\n",
       "  <tbody>\n",
       "    <tr>\n",
       "      <th>0</th>\n",
       "      <td>2</td>\n",
       "      <td>3</td>\n",
       "      <td>2</td>\n",
       "      <td>3</td>\n",
       "      <td>1</td>\n",
       "      <td>1</td>\n",
       "      <td>1</td>\n",
       "      <td>1</td>\n",
       "      <td>2</td>\n",
       "      <td>3</td>\n",
       "      <td>...</td>\n",
       "      <td>0</td>\n",
       "      <td>0</td>\n",
       "      <td>2</td>\n",
       "      <td>0</td>\n",
       "      <td>1</td>\n",
       "      <td>1</td>\n",
       "      <td>3</td>\n",
       "      <td>2</td>\n",
       "      <td>3</td>\n",
       "      <td>4</td>\n",
       "    </tr>\n",
       "    <tr>\n",
       "      <th>1</th>\n",
       "      <td>3</td>\n",
       "      <td>1</td>\n",
       "      <td>2</td>\n",
       "      <td>2</td>\n",
       "      <td>2</td>\n",
       "      <td>1</td>\n",
       "      <td>1</td>\n",
       "      <td>3</td>\n",
       "      <td>2</td>\n",
       "      <td>3</td>\n",
       "      <td>...</td>\n",
       "      <td>1</td>\n",
       "      <td>1</td>\n",
       "      <td>2</td>\n",
       "      <td>1</td>\n",
       "      <td>2</td>\n",
       "      <td>1</td>\n",
       "      <td>4</td>\n",
       "      <td>2</td>\n",
       "      <td>2</td>\n",
       "      <td>3</td>\n",
       "    </tr>\n",
       "    <tr>\n",
       "      <th>2</th>\n",
       "      <td>3</td>\n",
       "      <td>4</td>\n",
       "      <td>2</td>\n",
       "      <td>2</td>\n",
       "      <td>1</td>\n",
       "      <td>1</td>\n",
       "      <td>1</td>\n",
       "      <td>2</td>\n",
       "      <td>3</td>\n",
       "      <td>2</td>\n",
       "      <td>...</td>\n",
       "      <td>0</td>\n",
       "      <td>0</td>\n",
       "      <td>3</td>\n",
       "      <td>2</td>\n",
       "      <td>0</td>\n",
       "      <td>3</td>\n",
       "      <td>2</td>\n",
       "      <td>2</td>\n",
       "      <td>2</td>\n",
       "      <td>3</td>\n",
       "    </tr>\n",
       "    <tr>\n",
       "      <th>3</th>\n",
       "      <td>3</td>\n",
       "      <td>4</td>\n",
       "      <td>2</td>\n",
       "      <td>1</td>\n",
       "      <td>1</td>\n",
       "      <td>1</td>\n",
       "      <td>1</td>\n",
       "      <td>1</td>\n",
       "      <td>3</td>\n",
       "      <td>1</td>\n",
       "      <td>...</td>\n",
       "      <td>1</td>\n",
       "      <td>0</td>\n",
       "      <td>2</td>\n",
       "      <td>1</td>\n",
       "      <td>0</td>\n",
       "      <td>1</td>\n",
       "      <td>0</td>\n",
       "      <td>3</td>\n",
       "      <td>3</td>\n",
       "      <td>2</td>\n",
       "    </tr>\n",
       "    <tr>\n",
       "      <th>4</th>\n",
       "      <td>2</td>\n",
       "      <td>3</td>\n",
       "      <td>2</td>\n",
       "      <td>4</td>\n",
       "      <td>1</td>\n",
       "      <td>1</td>\n",
       "      <td>1</td>\n",
       "      <td>4</td>\n",
       "      <td>3</td>\n",
       "      <td>2</td>\n",
       "      <td>...</td>\n",
       "      <td>1</td>\n",
       "      <td>0</td>\n",
       "      <td>1</td>\n",
       "      <td>0</td>\n",
       "      <td>2</td>\n",
       "      <td>0</td>\n",
       "      <td>4</td>\n",
       "      <td>3</td>\n",
       "      <td>2</td>\n",
       "      <td>0</td>\n",
       "    </tr>\n",
       "  </tbody>\n",
       "</table>\n",
       "<p>5 rows × 25 columns</p>\n",
       "</div>"
      ],
      "text/plain": [
       "   sslc  hsc  cgpa  school_type  no_of_miniprojects  no_of_projects  \\\n",
       "0     2    3     2            3                   1               1   \n",
       "1     3    1     2            2                   2               1   \n",
       "2     3    4     2            2                   1               1   \n",
       "3     3    4     2            1                   1               1   \n",
       "4     2    3     2            4                   1               1   \n",
       "\n",
       "   coresub_skill  aptitude_skill  problemsolving_skill  programming_skill  \\\n",
       "0              1               1                     2                  3   \n",
       "1              1               3                     2                  3   \n",
       "2              1               2                     3                  2   \n",
       "3              1               1                     3                  1   \n",
       "4              1               4                     3                  2   \n",
       "\n",
       "   ...  ds_coding  technology_used  sympos_attend  sympos_won  \\\n",
       "0  ...          0                0              2           0   \n",
       "1  ...          1                1              2           1   \n",
       "2  ...          0                0              3           2   \n",
       "3  ...          1                0              2           1   \n",
       "4  ...          1                0              1           0   \n",
       "\n",
       "   extracurricular  learning_style  college_bench  clg_teachers_know  \\\n",
       "0                1               1              3                  2   \n",
       "1                2               1              4                  2   \n",
       "2                0               3              2                  2   \n",
       "3                0               1              0                  3   \n",
       "4                2               0              4                  3   \n",
       "\n",
       "   college_performence   college_skills  \n",
       "0                     3               4  \n",
       "1                     2               3  \n",
       "2                     2               3  \n",
       "3                     3               2  \n",
       "4                     2               0  \n",
       "\n",
       "[5 rows x 25 columns]"
      ]
     },
     "execution_count": 668,
     "metadata": {},
     "output_type": "execute_result"
    }
   ],
   "source": [
    "X.head()"
   ]
  },
  {
   "cell_type": "code",
   "execution_count": 669,
   "metadata": {},
   "outputs": [
    {
     "data": {
      "text/html": [
       "<div>\n",
       "<style scoped>\n",
       "    .dataframe tbody tr th:only-of-type {\n",
       "        vertical-align: middle;\n",
       "    }\n",
       "\n",
       "    .dataframe tbody tr th {\n",
       "        vertical-align: top;\n",
       "    }\n",
       "\n",
       "    .dataframe thead th {\n",
       "        text-align: right;\n",
       "    }\n",
       "</style>\n",
       "<table border=\"1\" class=\"dataframe\">\n",
       "  <thead>\n",
       "    <tr style=\"text-align: right;\">\n",
       "      <th></th>\n",
       "      <th>ROLE</th>\n",
       "    </tr>\n",
       "  </thead>\n",
       "  <tbody>\n",
       "    <tr>\n",
       "      <th>0</th>\n",
       "      <td>4</td>\n",
       "    </tr>\n",
       "    <tr>\n",
       "      <th>1</th>\n",
       "      <td>2</td>\n",
       "    </tr>\n",
       "    <tr>\n",
       "      <th>2</th>\n",
       "      <td>6</td>\n",
       "    </tr>\n",
       "    <tr>\n",
       "      <th>3</th>\n",
       "      <td>4</td>\n",
       "    </tr>\n",
       "    <tr>\n",
       "      <th>4</th>\n",
       "      <td>1</td>\n",
       "    </tr>\n",
       "  </tbody>\n",
       "</table>\n",
       "</div>"
      ],
      "text/plain": [
       "   ROLE\n",
       "0     4\n",
       "1     2\n",
       "2     6\n",
       "3     4\n",
       "4     1"
      ]
     },
     "execution_count": 669,
     "metadata": {},
     "output_type": "execute_result"
    }
   ],
   "source": [
    "y.head()"
   ]
  },
  {
   "cell_type": "markdown",
   "metadata": {},
   "source": []
  },
  {
   "cell_type": "markdown",
   "metadata": {},
   "source": []
  },
  {
   "cell_type": "markdown",
   "metadata": {},
   "source": [
    "# 2.) Feature Selection"
   ]
  },
  {
   "cell_type": "code",
   "execution_count": 670,
   "metadata": {},
   "outputs": [],
   "source": [
    "X_train, X_test, y_train, y_test = train_test_split(X, y, test_size=0.33, random_state=1)"
   ]
  },
  {
   "cell_type": "code",
   "execution_count": 671,
   "metadata": {},
   "outputs": [
    {
     "data": {
      "text/html": [
       "<div>\n",
       "<style scoped>\n",
       "    .dataframe tbody tr th:only-of-type {\n",
       "        vertical-align: middle;\n",
       "    }\n",
       "\n",
       "    .dataframe tbody tr th {\n",
       "        vertical-align: top;\n",
       "    }\n",
       "\n",
       "    .dataframe thead th {\n",
       "        text-align: right;\n",
       "    }\n",
       "</style>\n",
       "<table border=\"1\" class=\"dataframe\">\n",
       "  <thead>\n",
       "    <tr style=\"text-align: right;\">\n",
       "      <th></th>\n",
       "      <th>sslc</th>\n",
       "      <th>hsc</th>\n",
       "      <th>cgpa</th>\n",
       "      <th>school_type</th>\n",
       "      <th>no_of_miniprojects</th>\n",
       "      <th>no_of_projects</th>\n",
       "      <th>coresub_skill</th>\n",
       "      <th>aptitude_skill</th>\n",
       "      <th>problemsolving_skill</th>\n",
       "      <th>programming_skill</th>\n",
       "      <th>...</th>\n",
       "      <th>ds_coding</th>\n",
       "      <th>technology_used</th>\n",
       "      <th>sympos_attend</th>\n",
       "      <th>sympos_won</th>\n",
       "      <th>extracurricular</th>\n",
       "      <th>learning_style</th>\n",
       "      <th>college_bench</th>\n",
       "      <th>clg_teachers_know</th>\n",
       "      <th>college_performence</th>\n",
       "      <th>college_skills</th>\n",
       "    </tr>\n",
       "  </thead>\n",
       "  <tbody>\n",
       "    <tr>\n",
       "      <th>3570</th>\n",
       "      <td>2</td>\n",
       "      <td>3</td>\n",
       "      <td>2</td>\n",
       "      <td>1</td>\n",
       "      <td>1</td>\n",
       "      <td>1</td>\n",
       "      <td>2</td>\n",
       "      <td>1</td>\n",
       "      <td>3</td>\n",
       "      <td>2</td>\n",
       "      <td>...</td>\n",
       "      <td>1</td>\n",
       "      <td>0</td>\n",
       "      <td>2</td>\n",
       "      <td>2</td>\n",
       "      <td>1</td>\n",
       "      <td>2</td>\n",
       "      <td>2</td>\n",
       "      <td>3</td>\n",
       "      <td>2</td>\n",
       "      <td>1</td>\n",
       "    </tr>\n",
       "    <tr>\n",
       "      <th>1937</th>\n",
       "      <td>3</td>\n",
       "      <td>3</td>\n",
       "      <td>1</td>\n",
       "      <td>1</td>\n",
       "      <td>1</td>\n",
       "      <td>1</td>\n",
       "      <td>1</td>\n",
       "      <td>2</td>\n",
       "      <td>3</td>\n",
       "      <td>2</td>\n",
       "      <td>...</td>\n",
       "      <td>0</td>\n",
       "      <td>0</td>\n",
       "      <td>2</td>\n",
       "      <td>0</td>\n",
       "      <td>2</td>\n",
       "      <td>1</td>\n",
       "      <td>2</td>\n",
       "      <td>3</td>\n",
       "      <td>2</td>\n",
       "      <td>0</td>\n",
       "    </tr>\n",
       "    <tr>\n",
       "      <th>7420</th>\n",
       "      <td>4</td>\n",
       "      <td>4</td>\n",
       "      <td>3</td>\n",
       "      <td>1</td>\n",
       "      <td>1</td>\n",
       "      <td>1</td>\n",
       "      <td>2</td>\n",
       "      <td>1</td>\n",
       "      <td>4</td>\n",
       "      <td>3</td>\n",
       "      <td>...</td>\n",
       "      <td>2</td>\n",
       "      <td>0</td>\n",
       "      <td>3</td>\n",
       "      <td>1</td>\n",
       "      <td>1</td>\n",
       "      <td>1</td>\n",
       "      <td>3</td>\n",
       "      <td>3</td>\n",
       "      <td>3</td>\n",
       "      <td>3</td>\n",
       "    </tr>\n",
       "    <tr>\n",
       "      <th>6344</th>\n",
       "      <td>4</td>\n",
       "      <td>3</td>\n",
       "      <td>2</td>\n",
       "      <td>1</td>\n",
       "      <td>1</td>\n",
       "      <td>1</td>\n",
       "      <td>1</td>\n",
       "      <td>2</td>\n",
       "      <td>3</td>\n",
       "      <td>1</td>\n",
       "      <td>...</td>\n",
       "      <td>1</td>\n",
       "      <td>0</td>\n",
       "      <td>2</td>\n",
       "      <td>1</td>\n",
       "      <td>0</td>\n",
       "      <td>1</td>\n",
       "      <td>4</td>\n",
       "      <td>2</td>\n",
       "      <td>2</td>\n",
       "      <td>0</td>\n",
       "    </tr>\n",
       "    <tr>\n",
       "      <th>857</th>\n",
       "      <td>4</td>\n",
       "      <td>4</td>\n",
       "      <td>4</td>\n",
       "      <td>1</td>\n",
       "      <td>2</td>\n",
       "      <td>1</td>\n",
       "      <td>2</td>\n",
       "      <td>3</td>\n",
       "      <td>3</td>\n",
       "      <td>2</td>\n",
       "      <td>...</td>\n",
       "      <td>1</td>\n",
       "      <td>1</td>\n",
       "      <td>2</td>\n",
       "      <td>2</td>\n",
       "      <td>2</td>\n",
       "      <td>0</td>\n",
       "      <td>4</td>\n",
       "      <td>3</td>\n",
       "      <td>3</td>\n",
       "      <td>3</td>\n",
       "    </tr>\n",
       "  </tbody>\n",
       "</table>\n",
       "<p>5 rows × 25 columns</p>\n",
       "</div>"
      ],
      "text/plain": [
       "      sslc  hsc  cgpa  school_type  no_of_miniprojects  no_of_projects  \\\n",
       "3570     2    3     2            1                   1               1   \n",
       "1937     3    3     1            1                   1               1   \n",
       "7420     4    4     3            1                   1               1   \n",
       "6344     4    3     2            1                   1               1   \n",
       "857      4    4     4            1                   2               1   \n",
       "\n",
       "      coresub_skill  aptitude_skill  problemsolving_skill  programming_skill  \\\n",
       "3570              2               1                     3                  2   \n",
       "1937              1               2                     3                  2   \n",
       "7420              2               1                     4                  3   \n",
       "6344              1               2                     3                  1   \n",
       "857               2               3                     3                  2   \n",
       "\n",
       "      ...  ds_coding  technology_used  sympos_attend  sympos_won  \\\n",
       "3570  ...          1                0              2           2   \n",
       "1937  ...          0                0              2           0   \n",
       "7420  ...          2                0              3           1   \n",
       "6344  ...          1                0              2           1   \n",
       "857   ...          1                1              2           2   \n",
       "\n",
       "      extracurricular  learning_style  college_bench  clg_teachers_know  \\\n",
       "3570                1               2              2                  3   \n",
       "1937                2               1              2                  3   \n",
       "7420                1               1              3                  3   \n",
       "6344                0               1              4                  2   \n",
       "857                 2               0              4                  3   \n",
       "\n",
       "      college_performence   college_skills  \n",
       "3570                     2               1  \n",
       "1937                     2               0  \n",
       "7420                     3               3  \n",
       "6344                     2               0  \n",
       "857                      3               3  \n",
       "\n",
       "[5 rows x 25 columns]"
      ]
     },
     "execution_count": 671,
     "metadata": {},
     "output_type": "execute_result"
    }
   ],
   "source": [
    "X_train.head()"
   ]
  },
  {
   "cell_type": "code",
   "execution_count": 672,
   "metadata": {},
   "outputs": [
    {
     "data": {
      "text/html": [
       "<div>\n",
       "<style scoped>\n",
       "    .dataframe tbody tr th:only-of-type {\n",
       "        vertical-align: middle;\n",
       "    }\n",
       "\n",
       "    .dataframe tbody tr th {\n",
       "        vertical-align: top;\n",
       "    }\n",
       "\n",
       "    .dataframe thead th {\n",
       "        text-align: right;\n",
       "    }\n",
       "</style>\n",
       "<table border=\"1\" class=\"dataframe\">\n",
       "  <thead>\n",
       "    <tr style=\"text-align: right;\">\n",
       "      <th></th>\n",
       "      <th>ROLE</th>\n",
       "    </tr>\n",
       "  </thead>\n",
       "  <tbody>\n",
       "    <tr>\n",
       "      <th>3570</th>\n",
       "      <td>8</td>\n",
       "    </tr>\n",
       "    <tr>\n",
       "      <th>1937</th>\n",
       "      <td>8</td>\n",
       "    </tr>\n",
       "    <tr>\n",
       "      <th>7420</th>\n",
       "      <td>8</td>\n",
       "    </tr>\n",
       "    <tr>\n",
       "      <th>6344</th>\n",
       "      <td>8</td>\n",
       "    </tr>\n",
       "    <tr>\n",
       "      <th>857</th>\n",
       "      <td>8</td>\n",
       "    </tr>\n",
       "  </tbody>\n",
       "</table>\n",
       "</div>"
      ],
      "text/plain": [
       "      ROLE\n",
       "3570     8\n",
       "1937     8\n",
       "7420     8\n",
       "6344     8\n",
       "857      8"
      ]
     },
     "execution_count": 672,
     "metadata": {},
     "output_type": "execute_result"
    }
   ],
   "source": [
    "y_train.head()"
   ]
  },
  {
   "cell_type": "code",
   "execution_count": 673,
   "metadata": {},
   "outputs": [
    {
     "data": {
      "text/plain": [
       "array([ True,  True,  True,  True,  True,  True,  True,  True,  True,\n",
       "        True,  True,  True,  True,  True,  True,  True,  True,  True,\n",
       "        True,  True,  True,  True,  True,  True,  True])"
      ]
     },
     "execution_count": 673,
     "metadata": {},
     "output_type": "execute_result"
    }
   ],
   "source": [
    "variance_threshold = VarianceThreshold(threshold=0)\n",
    "vt_features = variance_threshold.fit(X_train)\n",
    "vt_features.get_support()"
   ]
  },
  {
   "cell_type": "code",
   "execution_count": 674,
   "metadata": {},
   "outputs": [
    {
     "name": "stderr",
     "output_type": "stream",
     "text": [
      "C:\\Users\\Priyesh Dave\\AppData\\Local\\Programs\\Python\\Python39\\lib\\site-packages\\sklearn\\utils\\validation.py:63: DataConversionWarning: A column-vector y was passed when a 1d array was expected. Please change the shape of y to (n_samples, ), for example using ravel().\n",
      "  return f(*args, **kwargs)\n"
     ]
    },
    {
     "data": {
      "text/plain": [
       "array([1.25992216e-02, 7.01341934e-03, 7.15421473e-03, 1.47362783e-02,\n",
       "       2.82148782e-02, 3.66939372e-02, 2.35973095e-02, 1.47490117e-02,\n",
       "       0.00000000e+00, 1.51722252e-02, 1.66170889e-02, 1.29816877e-02,\n",
       "       1.67218224e-02, 8.16245354e-03, 1.17553075e-02, 1.57287928e-02,\n",
       "       2.16104335e-03, 1.32192498e-02, 2.49220079e-04, 4.80466545e-05,\n",
       "       8.98561847e-03, 0.00000000e+00, 1.85795062e-02, 7.10265717e-03,\n",
       "       1.08190627e-03])"
      ]
     },
     "execution_count": 674,
     "metadata": {},
     "output_type": "execute_result"
    }
   ],
   "source": [
    "mutual_info = mutual_info_classif(X_train,y_train)\n",
    "mutual_info"
   ]
  },
  {
   "cell_type": "code",
   "execution_count": 675,
   "metadata": {},
   "outputs": [
    {
     "data": {
      "text/plain": [
       "sslc                    0.012599\n",
       "hsc                     0.007013\n",
       "cgpa                    0.007154\n",
       "school_type             0.014736\n",
       "no_of_miniprojects      0.028215\n",
       "no_of_projects          0.036694\n",
       "coresub_skill           0.023597\n",
       "aptitude_skill          0.014749\n",
       "problemsolving_skill    0.000000\n",
       "programming_skill       0.015172\n",
       "abstractthink_skill     0.016617\n",
       "design_skill            0.012982\n",
       "first_computer          0.016722\n",
       "first_program           0.008162\n",
       "lab_programs            0.011755\n",
       "ds_coding               0.015729\n",
       "technology_used         0.002161\n",
       "sympos_attend           0.013219\n",
       "sympos_won              0.000249\n",
       "extracurricular         0.000048\n",
       "learning_style          0.008986\n",
       "college_bench           0.000000\n",
       "clg_teachers_know       0.018580\n",
       "college_performence     0.007103\n",
       "college_skills          0.001082\n",
       "dtype: float64"
      ]
     },
     "execution_count": 675,
     "metadata": {},
     "output_type": "execute_result"
    }
   ],
   "source": [
    "mutual_info = pd.Series(mutual_info)\n",
    "mutual_info.index = X_train.columns\n",
    "mutual_info"
   ]
  },
  {
   "cell_type": "code",
   "execution_count": 706,
   "metadata": {},
   "outputs": [
    {
     "data": {
      "text/html": [
       "<div>\n",
       "<style scoped>\n",
       "    .dataframe tbody tr th:only-of-type {\n",
       "        vertical-align: middle;\n",
       "    }\n",
       "\n",
       "    .dataframe tbody tr th {\n",
       "        vertical-align: top;\n",
       "    }\n",
       "\n",
       "    .dataframe thead th {\n",
       "        text-align: right;\n",
       "    }\n",
       "</style>\n",
       "<table border=\"1\" class=\"dataframe\">\n",
       "  <thead>\n",
       "    <tr style=\"text-align: right;\">\n",
       "      <th></th>\n",
       "      <th>Mutual Information</th>\n",
       "    </tr>\n",
       "  </thead>\n",
       "  <tbody>\n",
       "    <tr>\n",
       "      <th>sslc</th>\n",
       "      <td>0.012599</td>\n",
       "    </tr>\n",
       "    <tr>\n",
       "      <th>hsc</th>\n",
       "      <td>0.007013</td>\n",
       "    </tr>\n",
       "    <tr>\n",
       "      <th>cgpa</th>\n",
       "      <td>0.007154</td>\n",
       "    </tr>\n",
       "    <tr>\n",
       "      <th>school_type</th>\n",
       "      <td>0.014736</td>\n",
       "    </tr>\n",
       "    <tr>\n",
       "      <th>no_of_miniprojects</th>\n",
       "      <td>0.028215</td>\n",
       "    </tr>\n",
       "    <tr>\n",
       "      <th>no_of_projects</th>\n",
       "      <td>0.036694</td>\n",
       "    </tr>\n",
       "    <tr>\n",
       "      <th>coresub_skill</th>\n",
       "      <td>0.023597</td>\n",
       "    </tr>\n",
       "    <tr>\n",
       "      <th>aptitude_skill</th>\n",
       "      <td>0.014749</td>\n",
       "    </tr>\n",
       "    <tr>\n",
       "      <th>problemsolving_skill</th>\n",
       "      <td>0.000000</td>\n",
       "    </tr>\n",
       "    <tr>\n",
       "      <th>programming_skill</th>\n",
       "      <td>0.015172</td>\n",
       "    </tr>\n",
       "    <tr>\n",
       "      <th>abstractthink_skill</th>\n",
       "      <td>0.016617</td>\n",
       "    </tr>\n",
       "    <tr>\n",
       "      <th>design_skill</th>\n",
       "      <td>0.012982</td>\n",
       "    </tr>\n",
       "    <tr>\n",
       "      <th>first_computer</th>\n",
       "      <td>0.016722</td>\n",
       "    </tr>\n",
       "    <tr>\n",
       "      <th>first_program</th>\n",
       "      <td>0.008162</td>\n",
       "    </tr>\n",
       "    <tr>\n",
       "      <th>lab_programs</th>\n",
       "      <td>0.011755</td>\n",
       "    </tr>\n",
       "    <tr>\n",
       "      <th>ds_coding</th>\n",
       "      <td>0.015729</td>\n",
       "    </tr>\n",
       "    <tr>\n",
       "      <th>technology_used</th>\n",
       "      <td>0.002161</td>\n",
       "    </tr>\n",
       "    <tr>\n",
       "      <th>sympos_attend</th>\n",
       "      <td>0.013219</td>\n",
       "    </tr>\n",
       "    <tr>\n",
       "      <th>sympos_won</th>\n",
       "      <td>0.000249</td>\n",
       "    </tr>\n",
       "    <tr>\n",
       "      <th>extracurricular</th>\n",
       "      <td>0.000048</td>\n",
       "    </tr>\n",
       "    <tr>\n",
       "      <th>learning_style</th>\n",
       "      <td>0.008986</td>\n",
       "    </tr>\n",
       "    <tr>\n",
       "      <th>college_bench</th>\n",
       "      <td>0.000000</td>\n",
       "    </tr>\n",
       "    <tr>\n",
       "      <th>clg_teachers_know</th>\n",
       "      <td>0.018580</td>\n",
       "    </tr>\n",
       "    <tr>\n",
       "      <th>college_performence</th>\n",
       "      <td>0.007103</td>\n",
       "    </tr>\n",
       "    <tr>\n",
       "      <th>college_skills</th>\n",
       "      <td>0.001082</td>\n",
       "    </tr>\n",
       "  </tbody>\n",
       "</table>\n",
       "</div>"
      ],
      "text/plain": [
       "                      Mutual Information\n",
       "sslc                            0.012599\n",
       "hsc                             0.007013\n",
       "cgpa                            0.007154\n",
       "school_type                     0.014736\n",
       "no_of_miniprojects              0.028215\n",
       "no_of_projects                  0.036694\n",
       "coresub_skill                   0.023597\n",
       "aptitude_skill                  0.014749\n",
       "problemsolving_skill            0.000000\n",
       "programming_skill               0.015172\n",
       "abstractthink_skill             0.016617\n",
       "design_skill                    0.012982\n",
       "first_computer                  0.016722\n",
       "first_program                   0.008162\n",
       "lab_programs                    0.011755\n",
       "ds_coding                       0.015729\n",
       "technology_used                 0.002161\n",
       "sympos_attend                   0.013219\n",
       "sympos_won                      0.000249\n",
       "extracurricular                 0.000048\n",
       "learning_style                  0.008986\n",
       "college_bench                   0.000000\n",
       "clg_teachers_know               0.018580\n",
       "college_performence             0.007103\n",
       "college_skills                  0.001082"
      ]
     },
     "execution_count": 706,
     "metadata": {},
     "output_type": "execute_result"
    }
   ],
   "source": [
    "features_dataframe = pd.DataFrame(mutual_info, index=mutual_info.index, columns=['Mutual Information'])\n",
    "features_dataframe"
   ]
  },
  {
   "cell_type": "code",
   "execution_count": 700,
   "metadata": {},
   "outputs": [],
   "source": [
    "import plotly.express as px"
   ]
  },
  {
   "cell_type": "code",
   "execution_count": 708,
   "metadata": {},
   "outputs": [
    {
     "data": {
      "application/vnd.plotly.v1+json": {
       "config": {
        "plotlyServerURL": "https://plot.ly"
       },
       "data": [
        {
         "alignmentgroup": "True",
         "hovertemplate": "index=%{x}<br>Mutual Information=%{y}<extra></extra>",
         "legendgroup": "",
         "marker": {
          "color": "#636efa",
          "pattern": {
           "shape": ""
          }
         },
         "name": "",
         "offsetgroup": "",
         "orientation": "v",
         "showlegend": false,
         "textposition": "auto",
         "type": "bar",
         "x": [
          "sslc",
          "hsc",
          "cgpa",
          "school_type",
          "no_of_miniprojects",
          "no_of_projects",
          "coresub_skill",
          "aptitude_skill",
          "problemsolving_skill",
          "programming_skill",
          "abstractthink_skill",
          "design_skill",
          "first_computer",
          "first_program",
          "lab_programs",
          "ds_coding",
          "technology_used",
          "sympos_attend",
          "sympos_won",
          "extracurricular",
          "learning_style",
          "college_bench",
          "clg_teachers_know",
          "college_performence ",
          "college_skills"
         ],
         "xaxis": "x",
         "y": [
          0.012599221601132027,
          0.007013419341836968,
          0.007154214733479658,
          0.014736278326804575,
          0.028214878181240244,
          0.03669393717223157,
          0.023597309457481397,
          0.014749011712035798,
          0,
          0.015172225163641806,
          0.016617088941469738,
          0.012981687666590247,
          0.016721822405853404,
          0.008162453536891046,
          0.011755307472696375,
          0.015728792764633792,
          0.002161043350470404,
          0.013219249838429814,
          0.0002492200793491328,
          0.00004804665453150836,
          0.008985618471603174,
          0,
          0.01857950624646698,
          0.007102657165590109,
          0.0010819062650279099
         ],
         "yaxis": "y"
        }
       ],
       "layout": {
        "barmode": "relative",
        "legend": {
         "tracegroupgap": 0
        },
        "margin": {
         "t": 60
        },
        "template": {
         "data": {
          "bar": [
           {
            "error_x": {
             "color": "#2a3f5f"
            },
            "error_y": {
             "color": "#2a3f5f"
            },
            "marker": {
             "line": {
              "color": "#E5ECF6",
              "width": 0.5
             },
             "pattern": {
              "fillmode": "overlay",
              "size": 10,
              "solidity": 0.2
             }
            },
            "type": "bar"
           }
          ],
          "barpolar": [
           {
            "marker": {
             "line": {
              "color": "#E5ECF6",
              "width": 0.5
             },
             "pattern": {
              "fillmode": "overlay",
              "size": 10,
              "solidity": 0.2
             }
            },
            "type": "barpolar"
           }
          ],
          "carpet": [
           {
            "aaxis": {
             "endlinecolor": "#2a3f5f",
             "gridcolor": "white",
             "linecolor": "white",
             "minorgridcolor": "white",
             "startlinecolor": "#2a3f5f"
            },
            "baxis": {
             "endlinecolor": "#2a3f5f",
             "gridcolor": "white",
             "linecolor": "white",
             "minorgridcolor": "white",
             "startlinecolor": "#2a3f5f"
            },
            "type": "carpet"
           }
          ],
          "choropleth": [
           {
            "colorbar": {
             "outlinewidth": 0,
             "ticks": ""
            },
            "type": "choropleth"
           }
          ],
          "contour": [
           {
            "colorbar": {
             "outlinewidth": 0,
             "ticks": ""
            },
            "colorscale": [
             [
              0,
              "#0d0887"
             ],
             [
              0.1111111111111111,
              "#46039f"
             ],
             [
              0.2222222222222222,
              "#7201a8"
             ],
             [
              0.3333333333333333,
              "#9c179e"
             ],
             [
              0.4444444444444444,
              "#bd3786"
             ],
             [
              0.5555555555555556,
              "#d8576b"
             ],
             [
              0.6666666666666666,
              "#ed7953"
             ],
             [
              0.7777777777777778,
              "#fb9f3a"
             ],
             [
              0.8888888888888888,
              "#fdca26"
             ],
             [
              1,
              "#f0f921"
             ]
            ],
            "type": "contour"
           }
          ],
          "contourcarpet": [
           {
            "colorbar": {
             "outlinewidth": 0,
             "ticks": ""
            },
            "type": "contourcarpet"
           }
          ],
          "heatmap": [
           {
            "colorbar": {
             "outlinewidth": 0,
             "ticks": ""
            },
            "colorscale": [
             [
              0,
              "#0d0887"
             ],
             [
              0.1111111111111111,
              "#46039f"
             ],
             [
              0.2222222222222222,
              "#7201a8"
             ],
             [
              0.3333333333333333,
              "#9c179e"
             ],
             [
              0.4444444444444444,
              "#bd3786"
             ],
             [
              0.5555555555555556,
              "#d8576b"
             ],
             [
              0.6666666666666666,
              "#ed7953"
             ],
             [
              0.7777777777777778,
              "#fb9f3a"
             ],
             [
              0.8888888888888888,
              "#fdca26"
             ],
             [
              1,
              "#f0f921"
             ]
            ],
            "type": "heatmap"
           }
          ],
          "heatmapgl": [
           {
            "colorbar": {
             "outlinewidth": 0,
             "ticks": ""
            },
            "colorscale": [
             [
              0,
              "#0d0887"
             ],
             [
              0.1111111111111111,
              "#46039f"
             ],
             [
              0.2222222222222222,
              "#7201a8"
             ],
             [
              0.3333333333333333,
              "#9c179e"
             ],
             [
              0.4444444444444444,
              "#bd3786"
             ],
             [
              0.5555555555555556,
              "#d8576b"
             ],
             [
              0.6666666666666666,
              "#ed7953"
             ],
             [
              0.7777777777777778,
              "#fb9f3a"
             ],
             [
              0.8888888888888888,
              "#fdca26"
             ],
             [
              1,
              "#f0f921"
             ]
            ],
            "type": "heatmapgl"
           }
          ],
          "histogram": [
           {
            "marker": {
             "pattern": {
              "fillmode": "overlay",
              "size": 10,
              "solidity": 0.2
             }
            },
            "type": "histogram"
           }
          ],
          "histogram2d": [
           {
            "colorbar": {
             "outlinewidth": 0,
             "ticks": ""
            },
            "colorscale": [
             [
              0,
              "#0d0887"
             ],
             [
              0.1111111111111111,
              "#46039f"
             ],
             [
              0.2222222222222222,
              "#7201a8"
             ],
             [
              0.3333333333333333,
              "#9c179e"
             ],
             [
              0.4444444444444444,
              "#bd3786"
             ],
             [
              0.5555555555555556,
              "#d8576b"
             ],
             [
              0.6666666666666666,
              "#ed7953"
             ],
             [
              0.7777777777777778,
              "#fb9f3a"
             ],
             [
              0.8888888888888888,
              "#fdca26"
             ],
             [
              1,
              "#f0f921"
             ]
            ],
            "type": "histogram2d"
           }
          ],
          "histogram2dcontour": [
           {
            "colorbar": {
             "outlinewidth": 0,
             "ticks": ""
            },
            "colorscale": [
             [
              0,
              "#0d0887"
             ],
             [
              0.1111111111111111,
              "#46039f"
             ],
             [
              0.2222222222222222,
              "#7201a8"
             ],
             [
              0.3333333333333333,
              "#9c179e"
             ],
             [
              0.4444444444444444,
              "#bd3786"
             ],
             [
              0.5555555555555556,
              "#d8576b"
             ],
             [
              0.6666666666666666,
              "#ed7953"
             ],
             [
              0.7777777777777778,
              "#fb9f3a"
             ],
             [
              0.8888888888888888,
              "#fdca26"
             ],
             [
              1,
              "#f0f921"
             ]
            ],
            "type": "histogram2dcontour"
           }
          ],
          "mesh3d": [
           {
            "colorbar": {
             "outlinewidth": 0,
             "ticks": ""
            },
            "type": "mesh3d"
           }
          ],
          "parcoords": [
           {
            "line": {
             "colorbar": {
              "outlinewidth": 0,
              "ticks": ""
             }
            },
            "type": "parcoords"
           }
          ],
          "pie": [
           {
            "automargin": true,
            "type": "pie"
           }
          ],
          "scatter": [
           {
            "marker": {
             "colorbar": {
              "outlinewidth": 0,
              "ticks": ""
             }
            },
            "type": "scatter"
           }
          ],
          "scatter3d": [
           {
            "line": {
             "colorbar": {
              "outlinewidth": 0,
              "ticks": ""
             }
            },
            "marker": {
             "colorbar": {
              "outlinewidth": 0,
              "ticks": ""
             }
            },
            "type": "scatter3d"
           }
          ],
          "scattercarpet": [
           {
            "marker": {
             "colorbar": {
              "outlinewidth": 0,
              "ticks": ""
             }
            },
            "type": "scattercarpet"
           }
          ],
          "scattergeo": [
           {
            "marker": {
             "colorbar": {
              "outlinewidth": 0,
              "ticks": ""
             }
            },
            "type": "scattergeo"
           }
          ],
          "scattergl": [
           {
            "marker": {
             "colorbar": {
              "outlinewidth": 0,
              "ticks": ""
             }
            },
            "type": "scattergl"
           }
          ],
          "scattermapbox": [
           {
            "marker": {
             "colorbar": {
              "outlinewidth": 0,
              "ticks": ""
             }
            },
            "type": "scattermapbox"
           }
          ],
          "scatterpolar": [
           {
            "marker": {
             "colorbar": {
              "outlinewidth": 0,
              "ticks": ""
             }
            },
            "type": "scatterpolar"
           }
          ],
          "scatterpolargl": [
           {
            "marker": {
             "colorbar": {
              "outlinewidth": 0,
              "ticks": ""
             }
            },
            "type": "scatterpolargl"
           }
          ],
          "scatterternary": [
           {
            "marker": {
             "colorbar": {
              "outlinewidth": 0,
              "ticks": ""
             }
            },
            "type": "scatterternary"
           }
          ],
          "surface": [
           {
            "colorbar": {
             "outlinewidth": 0,
             "ticks": ""
            },
            "colorscale": [
             [
              0,
              "#0d0887"
             ],
             [
              0.1111111111111111,
              "#46039f"
             ],
             [
              0.2222222222222222,
              "#7201a8"
             ],
             [
              0.3333333333333333,
              "#9c179e"
             ],
             [
              0.4444444444444444,
              "#bd3786"
             ],
             [
              0.5555555555555556,
              "#d8576b"
             ],
             [
              0.6666666666666666,
              "#ed7953"
             ],
             [
              0.7777777777777778,
              "#fb9f3a"
             ],
             [
              0.8888888888888888,
              "#fdca26"
             ],
             [
              1,
              "#f0f921"
             ]
            ],
            "type": "surface"
           }
          ],
          "table": [
           {
            "cells": {
             "fill": {
              "color": "#EBF0F8"
             },
             "line": {
              "color": "white"
             }
            },
            "header": {
             "fill": {
              "color": "#C8D4E3"
             },
             "line": {
              "color": "white"
             }
            },
            "type": "table"
           }
          ]
         },
         "layout": {
          "annotationdefaults": {
           "arrowcolor": "#2a3f5f",
           "arrowhead": 0,
           "arrowwidth": 1
          },
          "autotypenumbers": "strict",
          "coloraxis": {
           "colorbar": {
            "outlinewidth": 0,
            "ticks": ""
           }
          },
          "colorscale": {
           "diverging": [
            [
             0,
             "#8e0152"
            ],
            [
             0.1,
             "#c51b7d"
            ],
            [
             0.2,
             "#de77ae"
            ],
            [
             0.3,
             "#f1b6da"
            ],
            [
             0.4,
             "#fde0ef"
            ],
            [
             0.5,
             "#f7f7f7"
            ],
            [
             0.6,
             "#e6f5d0"
            ],
            [
             0.7,
             "#b8e186"
            ],
            [
             0.8,
             "#7fbc41"
            ],
            [
             0.9,
             "#4d9221"
            ],
            [
             1,
             "#276419"
            ]
           ],
           "sequential": [
            [
             0,
             "#0d0887"
            ],
            [
             0.1111111111111111,
             "#46039f"
            ],
            [
             0.2222222222222222,
             "#7201a8"
            ],
            [
             0.3333333333333333,
             "#9c179e"
            ],
            [
             0.4444444444444444,
             "#bd3786"
            ],
            [
             0.5555555555555556,
             "#d8576b"
            ],
            [
             0.6666666666666666,
             "#ed7953"
            ],
            [
             0.7777777777777778,
             "#fb9f3a"
            ],
            [
             0.8888888888888888,
             "#fdca26"
            ],
            [
             1,
             "#f0f921"
            ]
           ],
           "sequentialminus": [
            [
             0,
             "#0d0887"
            ],
            [
             0.1111111111111111,
             "#46039f"
            ],
            [
             0.2222222222222222,
             "#7201a8"
            ],
            [
             0.3333333333333333,
             "#9c179e"
            ],
            [
             0.4444444444444444,
             "#bd3786"
            ],
            [
             0.5555555555555556,
             "#d8576b"
            ],
            [
             0.6666666666666666,
             "#ed7953"
            ],
            [
             0.7777777777777778,
             "#fb9f3a"
            ],
            [
             0.8888888888888888,
             "#fdca26"
            ],
            [
             1,
             "#f0f921"
            ]
           ]
          },
          "colorway": [
           "#636efa",
           "#EF553B",
           "#00cc96",
           "#ab63fa",
           "#FFA15A",
           "#19d3f3",
           "#FF6692",
           "#B6E880",
           "#FF97FF",
           "#FECB52"
          ],
          "font": {
           "color": "#2a3f5f"
          },
          "geo": {
           "bgcolor": "white",
           "lakecolor": "white",
           "landcolor": "#E5ECF6",
           "showlakes": true,
           "showland": true,
           "subunitcolor": "white"
          },
          "hoverlabel": {
           "align": "left"
          },
          "hovermode": "closest",
          "mapbox": {
           "style": "light"
          },
          "paper_bgcolor": "white",
          "plot_bgcolor": "#E5ECF6",
          "polar": {
           "angularaxis": {
            "gridcolor": "white",
            "linecolor": "white",
            "ticks": ""
           },
           "bgcolor": "#E5ECF6",
           "radialaxis": {
            "gridcolor": "white",
            "linecolor": "white",
            "ticks": ""
           }
          },
          "scene": {
           "xaxis": {
            "backgroundcolor": "#E5ECF6",
            "gridcolor": "white",
            "gridwidth": 2,
            "linecolor": "white",
            "showbackground": true,
            "ticks": "",
            "zerolinecolor": "white"
           },
           "yaxis": {
            "backgroundcolor": "#E5ECF6",
            "gridcolor": "white",
            "gridwidth": 2,
            "linecolor": "white",
            "showbackground": true,
            "ticks": "",
            "zerolinecolor": "white"
           },
           "zaxis": {
            "backgroundcolor": "#E5ECF6",
            "gridcolor": "white",
            "gridwidth": 2,
            "linecolor": "white",
            "showbackground": true,
            "ticks": "",
            "zerolinecolor": "white"
           }
          },
          "shapedefaults": {
           "line": {
            "color": "#2a3f5f"
           }
          },
          "ternary": {
           "aaxis": {
            "gridcolor": "white",
            "linecolor": "white",
            "ticks": ""
           },
           "baxis": {
            "gridcolor": "white",
            "linecolor": "white",
            "ticks": ""
           },
           "bgcolor": "#E5ECF6",
           "caxis": {
            "gridcolor": "white",
            "linecolor": "white",
            "ticks": ""
           }
          },
          "title": {
           "x": 0.05
          },
          "xaxis": {
           "automargin": true,
           "gridcolor": "white",
           "linecolor": "white",
           "ticks": "",
           "title": {
            "standoff": 15
           },
           "zerolinecolor": "white",
           "zerolinewidth": 2
          },
          "yaxis": {
           "automargin": true,
           "gridcolor": "white",
           "linecolor": "white",
           "ticks": "",
           "title": {
            "standoff": 15
           },
           "zerolinecolor": "white",
           "zerolinewidth": 2
          }
         }
        },
        "xaxis": {
         "anchor": "y",
         "domain": [
          0,
          1
         ],
         "title": {
          "text": "index"
         }
        },
        "yaxis": {
         "anchor": "x",
         "domain": [
          0,
          1
         ],
         "title": {
          "text": "Mutual Information"
         }
        }
       }
      }
     },
     "metadata": {},
     "output_type": "display_data"
    }
   ],
   "source": [
    "fig =px.bar(features_dataframe, x=features_dataframe.index,y='Mutual Information')\n",
    "fig.show()"
   ]
  },
  {
   "cell_type": "code",
   "execution_count": 676,
   "metadata": {},
   "outputs": [
    {
     "data": {
      "text/plain": [
       "<BarContainer object of 25 artists>"
      ]
     },
     "execution_count": 676,
     "metadata": {},
     "output_type": "execute_result"
    },
    {
     "data": {
      "image/png": "[encoded data removed]",
      "text/plain": [
       "<Figure size 2520x432 with 1 Axes>"
      ]
     },
     "metadata": {
      "needs_background": "light"
     },
     "output_type": "display_data"
    }
   ],
   "source": [
    "plt.figure(figsize=(35,6))\n",
    "plt.bar(x=X_train.columns,height=mutual_info)"
   ]
  },
  {
   "cell_type": "code",
   "execution_count": 677,
   "metadata": {},
   "outputs": [],
   "source": [
    "important_features = {}"
   ]
  },
  {
   "cell_type": "code",
   "execution_count": 678,
   "metadata": {},
   "outputs": [],
   "source": [
    "for value in enumerate(mutual_info):\n",
    "  if value[1] > 0:\n",
    "    important_features[value[0]] = value[1]"
   ]
  },
  {
   "cell_type": "code",
   "execution_count": 679,
   "metadata": {},
   "outputs": [
    {
     "data": {
      "text/plain": [
       "{0: 0.012599221601132027,\n",
       " 1: 0.007013419341836968,\n",
       " 2: 0.007154214733479658,\n",
       " 3: 0.014736278326804575,\n",
       " 4: 0.028214878181240244,\n",
       " 5: 0.03669393717223157,\n",
       " 6: 0.023597309457481397,\n",
       " 7: 0.014749011712035798,\n",
       " 9: 0.015172225163641806,\n",
       " 10: 0.016617088941469738,\n",
       " 11: 0.012981687666590247,\n",
       " 12: 0.016721822405853404,\n",
       " 13: 0.008162453536891046,\n",
       " 14: 0.011755307472696375,\n",
       " 15: 0.015728792764633792,\n",
       " 16: 0.002161043350470404,\n",
       " 17: 0.013219249838429814,\n",
       " 18: 0.0002492200793491328,\n",
       " 19: 4.804665453150836e-05,\n",
       " 20: 0.008985618471603174,\n",
       " 22: 0.01857950624646698,\n",
       " 23: 0.007102657165590109,\n",
       " 24: 0.0010819062650279099}"
      ]
     },
     "execution_count": 679,
     "metadata": {},
     "output_type": "execute_result"
    }
   ],
   "source": [
    "important_features"
   ]
  },
  {
   "cell_type": "code",
   "execution_count": 680,
   "metadata": {},
   "outputs": [],
   "source": [
    "important_features = mutual_info[important_features]"
   ]
  },
  {
   "cell_type": "code",
   "execution_count": 681,
   "metadata": {},
   "outputs": [
    {
     "data": {
      "text/plain": [
       "sslc                    0.012599\n",
       "hsc                     0.007013\n",
       "cgpa                    0.007154\n",
       "school_type             0.014736\n",
       "no_of_miniprojects      0.028215\n",
       "no_of_projects          0.036694\n",
       "coresub_skill           0.023597\n",
       "aptitude_skill          0.014749\n",
       "programming_skill       0.015172\n",
       "abstractthink_skill     0.016617\n",
       "design_skill            0.012982\n",
       "first_computer          0.016722\n",
       "first_program           0.008162\n",
       "lab_programs            0.011755\n",
       "ds_coding               0.015729\n",
       "technology_used         0.002161\n",
       "sympos_attend           0.013219\n",
       "sympos_won              0.000249\n",
       "extracurricular         0.000048\n",
       "learning_style          0.008986\n",
       "clg_teachers_know       0.018580\n",
       "college_performence     0.007103\n",
       "college_skills          0.001082\n",
       "dtype: float64"
      ]
     },
     "execution_count": 681,
     "metadata": {},
     "output_type": "execute_result"
    }
   ],
   "source": [
    "important_features"
   ]
  },
  {
   "cell_type": "code",
   "execution_count": 682,
   "metadata": {},
   "outputs": [],
   "source": [
    "important_features.sort_values(inplace=True,ascending=False)"
   ]
  },
  {
   "cell_type": "code",
   "execution_count": 683,
   "metadata": {},
   "outputs": [
    {
     "data": {
      "text/plain": [
       "no_of_projects          0.036694\n",
       "no_of_miniprojects      0.028215\n",
       "coresub_skill           0.023597\n",
       "clg_teachers_know       0.018580\n",
       "first_computer          0.016722\n",
       "abstractthink_skill     0.016617\n",
       "ds_coding               0.015729\n",
       "programming_skill       0.015172\n",
       "aptitude_skill          0.014749\n",
       "school_type             0.014736\n",
       "sympos_attend           0.013219\n",
       "design_skill            0.012982\n",
       "sslc                    0.012599\n",
       "lab_programs            0.011755\n",
       "learning_style          0.008986\n",
       "first_program           0.008162\n",
       "cgpa                    0.007154\n",
       "college_performence     0.007103\n",
       "hsc                     0.007013\n",
       "technology_used         0.002161\n",
       "college_skills          0.001082\n",
       "sympos_won              0.000249\n",
       "extracurricular         0.000048\n",
       "dtype: float64"
      ]
     },
     "execution_count": 683,
     "metadata": {},
     "output_type": "execute_result"
    }
   ],
   "source": [
    "important_features"
   ]
  },
  {
   "cell_type": "code",
   "execution_count": 684,
   "metadata": {},
   "outputs": [],
   "source": [
    "X_train = X_train[important_features.index[0:11]]"
   ]
  },
  {
   "cell_type": "code",
   "execution_count": 685,
   "metadata": {},
   "outputs": [
    {
     "data": {
      "text/html": [
       "<div>\n",
       "<style scoped>\n",
       "    .dataframe tbody tr th:only-of-type {\n",
       "        vertical-align: middle;\n",
       "    }\n",
       "\n",
       "    .dataframe tbody tr th {\n",
       "        vertical-align: top;\n",
       "    }\n",
       "\n",
       "    .dataframe thead th {\n",
       "        text-align: right;\n",
       "    }\n",
       "</style>\n",
       "<table border=\"1\" class=\"dataframe\">\n",
       "  <thead>\n",
       "    <tr style=\"text-align: right;\">\n",
       "      <th></th>\n",
       "      <th>no_of_projects</th>\n",
       "      <th>no_of_miniprojects</th>\n",
       "      <th>coresub_skill</th>\n",
       "      <th>clg_teachers_know</th>\n",
       "      <th>first_computer</th>\n",
       "      <th>abstractthink_skill</th>\n",
       "      <th>ds_coding</th>\n",
       "      <th>programming_skill</th>\n",
       "      <th>aptitude_skill</th>\n",
       "      <th>school_type</th>\n",
       "      <th>sympos_attend</th>\n",
       "    </tr>\n",
       "  </thead>\n",
       "  <tbody>\n",
       "    <tr>\n",
       "      <th>3570</th>\n",
       "      <td>1</td>\n",
       "      <td>1</td>\n",
       "      <td>2</td>\n",
       "      <td>3</td>\n",
       "      <td>0</td>\n",
       "      <td>1</td>\n",
       "      <td>1</td>\n",
       "      <td>2</td>\n",
       "      <td>1</td>\n",
       "      <td>1</td>\n",
       "      <td>2</td>\n",
       "    </tr>\n",
       "    <tr>\n",
       "      <th>1937</th>\n",
       "      <td>1</td>\n",
       "      <td>1</td>\n",
       "      <td>1</td>\n",
       "      <td>3</td>\n",
       "      <td>0</td>\n",
       "      <td>0</td>\n",
       "      <td>0</td>\n",
       "      <td>2</td>\n",
       "      <td>2</td>\n",
       "      <td>1</td>\n",
       "      <td>2</td>\n",
       "    </tr>\n",
       "    <tr>\n",
       "      <th>7420</th>\n",
       "      <td>1</td>\n",
       "      <td>1</td>\n",
       "      <td>2</td>\n",
       "      <td>3</td>\n",
       "      <td>1</td>\n",
       "      <td>2</td>\n",
       "      <td>2</td>\n",
       "      <td>3</td>\n",
       "      <td>1</td>\n",
       "      <td>1</td>\n",
       "      <td>3</td>\n",
       "    </tr>\n",
       "    <tr>\n",
       "      <th>6344</th>\n",
       "      <td>1</td>\n",
       "      <td>1</td>\n",
       "      <td>1</td>\n",
       "      <td>2</td>\n",
       "      <td>0</td>\n",
       "      <td>1</td>\n",
       "      <td>1</td>\n",
       "      <td>1</td>\n",
       "      <td>2</td>\n",
       "      <td>1</td>\n",
       "      <td>2</td>\n",
       "    </tr>\n",
       "    <tr>\n",
       "      <th>857</th>\n",
       "      <td>1</td>\n",
       "      <td>2</td>\n",
       "      <td>2</td>\n",
       "      <td>3</td>\n",
       "      <td>1</td>\n",
       "      <td>1</td>\n",
       "      <td>1</td>\n",
       "      <td>2</td>\n",
       "      <td>3</td>\n",
       "      <td>1</td>\n",
       "      <td>2</td>\n",
       "    </tr>\n",
       "  </tbody>\n",
       "</table>\n",
       "</div>"
      ],
      "text/plain": [
       "      no_of_projects  no_of_miniprojects  coresub_skill  clg_teachers_know  \\\n",
       "3570               1                   1              2                  3   \n",
       "1937               1                   1              1                  3   \n",
       "7420               1                   1              2                  3   \n",
       "6344               1                   1              1                  2   \n",
       "857                1                   2              2                  3   \n",
       "\n",
       "      first_computer  abstractthink_skill  ds_coding  programming_skill  \\\n",
       "3570               0                    1          1                  2   \n",
       "1937               0                    0          0                  2   \n",
       "7420               1                    2          2                  3   \n",
       "6344               0                    1          1                  1   \n",
       "857                1                    1          1                  2   \n",
       "\n",
       "      aptitude_skill  school_type  sympos_attend  \n",
       "3570               1            1              2  \n",
       "1937               2            1              2  \n",
       "7420               1            1              3  \n",
       "6344               2            1              2  \n",
       "857                3            1              2  "
      ]
     },
     "execution_count": 685,
     "metadata": {},
     "output_type": "execute_result"
    }
   ],
   "source": [
    "X_train.head()"
   ]
  },
  {
   "cell_type": "code",
   "execution_count": 686,
   "metadata": {},
   "outputs": [
    {
     "data": {
      "text/plain": [
       "(5041, 11)"
      ]
     },
     "execution_count": 686,
     "metadata": {},
     "output_type": "execute_result"
    }
   ],
   "source": [
    "X_train.shape"
   ]
  },
  {
   "cell_type": "code",
   "execution_count": 687,
   "metadata": {},
   "outputs": [],
   "source": [
    "X_test = X_test[important_features.index[0:11]]"
   ]
  },
  {
   "cell_type": "code",
   "execution_count": 688,
   "metadata": {},
   "outputs": [
    {
     "data": {
      "text/plain": [
       "DecisionTreeClassifier()"
      ]
     },
     "execution_count": 688,
     "metadata": {},
     "output_type": "execute_result"
    }
   ],
   "source": [
    "dt_model = DecisionTreeClassifier()\n",
    "dt_model.fit(X_train,y_train)"
   ]
  },
  {
   "cell_type": "code",
   "execution_count": 689,
   "metadata": {},
   "outputs": [],
   "source": [
    "dt_prediction_train = dt_model.predict(X_train)\n",
    "dt_prediction_test = dt_model.predict(X_test)"
   ]
  },
  {
   "cell_type": "code",
   "execution_count": 690,
   "metadata": {},
   "outputs": [
    {
     "name": "stdout",
     "output_type": "stream",
     "text": [
      "On Training Data:  0.9974211465978973\n",
      "On Test Data:  0.9722222222222222\n"
     ]
    }
   ],
   "source": [
    "print(\"On Training Data: \",accuracy_score(y_train,dt_prediction_train))\n",
    "print(\"On Test Data: \",accuracy_score(y_test,dt_prediction_test))"
   ]
  },
  {
   "cell_type": "code",
   "execution_count": null,
   "metadata": {},
   "outputs": [],
   "source": []
  },
  {
   "cell_type": "code",
   "execution_count": 691,
   "metadata": {},
   "outputs": [
    {
     "data": {
      "text/html": [
       "<div>\n",
       "<style scoped>\n",
       "    .dataframe tbody tr th:only-of-type {\n",
       "        vertical-align: middle;\n",
       "    }\n",
       "\n",
       "    .dataframe tbody tr th {\n",
       "        vertical-align: top;\n",
       "    }\n",
       "\n",
       "    .dataframe thead th {\n",
       "        text-align: right;\n",
       "    }\n",
       "</style>\n",
       "<table border=\"1\" class=\"dataframe\">\n",
       "  <thead>\n",
       "    <tr style=\"text-align: right;\">\n",
       "      <th></th>\n",
       "      <th>no_of_projects</th>\n",
       "      <th>no_of_miniprojects</th>\n",
       "      <th>coresub_skill</th>\n",
       "      <th>clg_teachers_know</th>\n",
       "      <th>first_computer</th>\n",
       "      <th>abstractthink_skill</th>\n",
       "      <th>ds_coding</th>\n",
       "      <th>programming_skill</th>\n",
       "      <th>aptitude_skill</th>\n",
       "      <th>school_type</th>\n",
       "      <th>sympos_attend</th>\n",
       "    </tr>\n",
       "  </thead>\n",
       "  <tbody>\n",
       "    <tr>\n",
       "      <th>3570</th>\n",
       "      <td>1</td>\n",
       "      <td>1</td>\n",
       "      <td>2</td>\n",
       "      <td>3</td>\n",
       "      <td>0</td>\n",
       "      <td>1</td>\n",
       "      <td>1</td>\n",
       "      <td>2</td>\n",
       "      <td>1</td>\n",
       "      <td>1</td>\n",
       "      <td>2</td>\n",
       "    </tr>\n",
       "    <tr>\n",
       "      <th>1937</th>\n",
       "      <td>1</td>\n",
       "      <td>1</td>\n",
       "      <td>1</td>\n",
       "      <td>3</td>\n",
       "      <td>0</td>\n",
       "      <td>0</td>\n",
       "      <td>0</td>\n",
       "      <td>2</td>\n",
       "      <td>2</td>\n",
       "      <td>1</td>\n",
       "      <td>2</td>\n",
       "    </tr>\n",
       "    <tr>\n",
       "      <th>7420</th>\n",
       "      <td>1</td>\n",
       "      <td>1</td>\n",
       "      <td>2</td>\n",
       "      <td>3</td>\n",
       "      <td>1</td>\n",
       "      <td>2</td>\n",
       "      <td>2</td>\n",
       "      <td>3</td>\n",
       "      <td>1</td>\n",
       "      <td>1</td>\n",
       "      <td>3</td>\n",
       "    </tr>\n",
       "    <tr>\n",
       "      <th>6344</th>\n",
       "      <td>1</td>\n",
       "      <td>1</td>\n",
       "      <td>1</td>\n",
       "      <td>2</td>\n",
       "      <td>0</td>\n",
       "      <td>1</td>\n",
       "      <td>1</td>\n",
       "      <td>1</td>\n",
       "      <td>2</td>\n",
       "      <td>1</td>\n",
       "      <td>2</td>\n",
       "    </tr>\n",
       "    <tr>\n",
       "      <th>857</th>\n",
       "      <td>1</td>\n",
       "      <td>2</td>\n",
       "      <td>2</td>\n",
       "      <td>3</td>\n",
       "      <td>1</td>\n",
       "      <td>1</td>\n",
       "      <td>1</td>\n",
       "      <td>2</td>\n",
       "      <td>3</td>\n",
       "      <td>1</td>\n",
       "      <td>2</td>\n",
       "    </tr>\n",
       "    <tr>\n",
       "      <th>...</th>\n",
       "      <td>...</td>\n",
       "      <td>...</td>\n",
       "      <td>...</td>\n",
       "      <td>...</td>\n",
       "      <td>...</td>\n",
       "      <td>...</td>\n",
       "      <td>...</td>\n",
       "      <td>...</td>\n",
       "      <td>...</td>\n",
       "      <td>...</td>\n",
       "      <td>...</td>\n",
       "    </tr>\n",
       "    <tr>\n",
       "      <th>905</th>\n",
       "      <td>1</td>\n",
       "      <td>1</td>\n",
       "      <td>2</td>\n",
       "      <td>3</td>\n",
       "      <td>0</td>\n",
       "      <td>1</td>\n",
       "      <td>0</td>\n",
       "      <td>2</td>\n",
       "      <td>1</td>\n",
       "      <td>1</td>\n",
       "      <td>2</td>\n",
       "    </tr>\n",
       "    <tr>\n",
       "      <th>5192</th>\n",
       "      <td>1</td>\n",
       "      <td>2</td>\n",
       "      <td>2</td>\n",
       "      <td>2</td>\n",
       "      <td>1</td>\n",
       "      <td>2</td>\n",
       "      <td>1</td>\n",
       "      <td>1</td>\n",
       "      <td>4</td>\n",
       "      <td>3</td>\n",
       "      <td>1</td>\n",
       "    </tr>\n",
       "    <tr>\n",
       "      <th>3980</th>\n",
       "      <td>1</td>\n",
       "      <td>3</td>\n",
       "      <td>2</td>\n",
       "      <td>2</td>\n",
       "      <td>1</td>\n",
       "      <td>2</td>\n",
       "      <td>2</td>\n",
       "      <td>2</td>\n",
       "      <td>2</td>\n",
       "      <td>2</td>\n",
       "      <td>1</td>\n",
       "    </tr>\n",
       "    <tr>\n",
       "      <th>235</th>\n",
       "      <td>1</td>\n",
       "      <td>1</td>\n",
       "      <td>2</td>\n",
       "      <td>2</td>\n",
       "      <td>1</td>\n",
       "      <td>1</td>\n",
       "      <td>1</td>\n",
       "      <td>2</td>\n",
       "      <td>2</td>\n",
       "      <td>2</td>\n",
       "      <td>0</td>\n",
       "    </tr>\n",
       "    <tr>\n",
       "      <th>5157</th>\n",
       "      <td>1</td>\n",
       "      <td>1</td>\n",
       "      <td>2</td>\n",
       "      <td>3</td>\n",
       "      <td>0</td>\n",
       "      <td>0</td>\n",
       "      <td>1</td>\n",
       "      <td>2</td>\n",
       "      <td>1</td>\n",
       "      <td>1</td>\n",
       "      <td>0</td>\n",
       "    </tr>\n",
       "  </tbody>\n",
       "</table>\n",
       "<p>5041 rows × 11 columns</p>\n",
       "</div>"
      ],
      "text/plain": [
       "      no_of_projects  no_of_miniprojects  coresub_skill  clg_teachers_know  \\\n",
       "3570               1                   1              2                  3   \n",
       "1937               1                   1              1                  3   \n",
       "7420               1                   1              2                  3   \n",
       "6344               1                   1              1                  2   \n",
       "857                1                   2              2                  3   \n",
       "...              ...                 ...            ...                ...   \n",
       "905                1                   1              2                  3   \n",
       "5192               1                   2              2                  2   \n",
       "3980               1                   3              2                  2   \n",
       "235                1                   1              2                  2   \n",
       "5157               1                   1              2                  3   \n",
       "\n",
       "      first_computer  abstractthink_skill  ds_coding  programming_skill  \\\n",
       "3570               0                    1          1                  2   \n",
       "1937               0                    0          0                  2   \n",
       "7420               1                    2          2                  3   \n",
       "6344               0                    1          1                  1   \n",
       "857                1                    1          1                  2   \n",
       "...              ...                  ...        ...                ...   \n",
       "905                0                    1          0                  2   \n",
       "5192               1                    2          1                  1   \n",
       "3980               1                    2          2                  2   \n",
       "235                1                    1          1                  2   \n",
       "5157               0                    0          1                  2   \n",
       "\n",
       "      aptitude_skill  school_type  sympos_attend  \n",
       "3570               1            1              2  \n",
       "1937               2            1              2  \n",
       "7420               1            1              3  \n",
       "6344               2            1              2  \n",
       "857                3            1              2  \n",
       "...              ...          ...            ...  \n",
       "905                1            1              2  \n",
       "5192               4            3              1  \n",
       "3980               2            2              1  \n",
       "235                2            2              0  \n",
       "5157               1            1              0  \n",
       "\n",
       "[5041 rows x 11 columns]"
      ]
     },
     "execution_count": 691,
     "metadata": {},
     "output_type": "execute_result"
    }
   ],
   "source": [
    "X_train"
   ]
  },
  {
   "cell_type": "code",
   "execution_count": 692,
   "metadata": {},
   "outputs": [],
   "source": [
    "# feature_selector = SelectKBest(score_func=chi2,k=11)\n",
    "# feature_selector.fit(X_train,y_train)\n",
    "# X_train_fs= feature_selector.transform(X_train)\n",
    "# X_test_fs= feature_selector.transform(X_test)"
   ]
  },
  {
   "cell_type": "code",
   "execution_count": 693,
   "metadata": {},
   "outputs": [],
   "source": [
    "# len(feature_selector.scores_)"
   ]
  },
  {
   "cell_type": "code",
   "execution_count": 694,
   "metadata": {},
   "outputs": [],
   "source": [
    "# career_dataset.shape[1]"
   ]
  },
  {
   "cell_type": "code",
   "execution_count": 695,
   "metadata": {},
   "outputs": [],
   "source": [
    "import xgboost as xgb"
   ]
  },
  {
   "cell_type": "code",
   "execution_count": 696,
   "metadata": {},
   "outputs": [],
   "source": [
    "xgb_model = xgb.XGBClassifier()"
   ]
  },
  {
   "cell_type": "code",
   "execution_count": 697,
   "metadata": {},
   "outputs": [
    {
     "name": "stderr",
     "output_type": "stream",
     "text": [
      "C:\\Users\\Priyesh Dave\\AppData\\Local\\Programs\\Python\\Python39\\lib\\site-packages\\xgboost\\sklearn.py:1224: UserWarning: The use of label encoder in XGBClassifier is deprecated and will be removed in a future release. To remove this warning, do the following: 1) Pass option use_label_encoder=False when constructing XGBClassifier object; and 2) Encode your labels (y) as integers starting with 0, i.e. 0, 1, 2, ..., [num_class - 1].\n",
      "  warnings.warn(label_encoder_deprecation_msg, UserWarning)\n",
      "C:\\Users\\Priyesh Dave\\AppData\\Local\\Programs\\Python\\Python39\\lib\\site-packages\\sklearn\\utils\\validation.py:63: DataConversionWarning: A column-vector y was passed when a 1d array was expected. Please change the shape of y to (n_samples, ), for example using ravel().\n",
      "  return f(*args, **kwargs)\n"
     ]
    },
    {
     "name": "stdout",
     "output_type": "stream",
     "text": [
      "[17:52:24] WARNING: C:/Users/Administrator/workspace/xgboost-win64_release_1.5.1/src/learner.cc:1115: Starting in XGBoost 1.3.0, the default evaluation metric used with the objective 'multi:softprob' was changed from 'merror' to 'mlogloss'. Explicitly set eval_metric if you'd like to restore the old behavior.\n",
      "accuracy= 99.39613526570048\n"
     ]
    }
   ],
   "source": [
    " \n",
    "xgb_model.fit(X_train, y_train)\n",
    "xgb_y_pred  = xgb_model.predict(X_test)\n",
    "xgb_accuracy = accuracy_score(y_test,xgb_y_pred)\n",
    "print(\"accuracy=\",xgb_accuracy*100)"
   ]
  },
  {
   "cell_type": "code",
   "execution_count": 698,
   "metadata": {},
   "outputs": [],
   "source": [
    "from sklearn.ensemble import RandomForestClassifier\n",
    "rf_model  = RandomForestClassifier()"
   ]
  },
  {
   "cell_type": "code",
   "execution_count": 699,
   "metadata": {},
   "outputs": [
    {
     "name": "stderr",
     "output_type": "stream",
     "text": [
      "C:\\Users\\PRIYES~1\\AppData\\Local\\Temp/ipykernel_27628/2477665720.py:1: DataConversionWarning: A column-vector y was passed when a 1d array was expected. Please change the shape of y to (n_samples,), for example using ravel().\n",
      "  rf_model.fit(X_train, y_train)\n"
     ]
    },
    {
     "name": "stdout",
     "output_type": "stream",
     "text": [
      "Train  0.997222773259274\n",
      "Test  0.9939613526570048\n"
     ]
    }
   ],
   "source": [
    "rf_model.fit(X_train, y_train)\n",
    "pred = rf_model.predict(X_train)\n",
    "pred1 = rf_model.predict(X_test)\n",
    "print(\"Train \",accuracy_score(y_train,pred))\n",
    "print(\"Test \",accuracy_score(y_test,pred1))\n",
    "\n",
    "\n"
   ]
  }
 ],
 "metadata": {
  "interpreter": {
   "hash": "e147b052be5536a019399d7281fa07f9aa68d0dfdf21ead313763d9c98e78705"
  },
  "kernelspec": {
   "display_name": "Python 3.9.6 64-bit",
   "language": "python",
   "name": "python3"
  },
  "language_info": {
   "codemirror_mode": {
    "name": "ipython",
    "version": 3
   },
   "file_extension": ".py",
   "mimetype": "text/x-python",
   "name": "python",
   "nbconvert_exporter": "python",
   "pygments_lexer": "ipython3",
   "version": "3.9.6"
  },
  "orig_nbformat": 4
 },
 "nbformat": 4,
 "nbformat_minor": 2
}

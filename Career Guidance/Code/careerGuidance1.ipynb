{
 "cells": [
  {
   "cell_type": "code",
   "execution_count": 2,
   "metadata": {},
   "outputs": [],
   "source": [
    "import pandas as pd\n",
    "import numpy as np\n",
    "import seaborn as sns\n",
    "import scipy as sp\n",
    "from matplotlib import pyplot as plt\n",
    "from sklearn.model_selection import train_test_split, GridSearchCV, RandomizedSearchCV\n",
    "from sklearn.preprocessing import StandardScaler, LabelEncoder\n",
    "from sklearn.tree import DecisionTreeClassifier\n",
    "from sklearn.ensemble import RandomForestClassifier\n",
    "from sklearn.svm import SVC\n",
    "from sklearn.metrics import accuracy_score\n",
    "from sklearn.feature_selection import SelectKBest, chi2, mutual_info_classif, VarianceThreshold\n",
    "import plotly.express as px"
   ]
  },
  {
   "cell_type": "code",
   "execution_count": 3,
   "metadata": {},
   "outputs": [],
   "source": [
    "career_dataset = pd.read_csv(\"../Datasets/career_pred.csv\")"
   ]
  },
  {
   "cell_type": "markdown",
   "metadata": {},
   "source": [
    "# 1.) Exploratory Data Analysis"
   ]
  },
  {
   "cell_type": "code",
   "execution_count": 4,
   "metadata": {},
   "outputs": [
    {
     "data": {
      "text/html": [
       "<div>\n",
       "<style scoped>\n",
       "    .dataframe tbody tr th:only-of-type {\n",
       "        vertical-align: middle;\n",
       "    }\n",
       "\n",
       "    .dataframe tbody tr th {\n",
       "        vertical-align: top;\n",
       "    }\n",
       "\n",
       "    .dataframe thead th {\n",
       "        text-align: right;\n",
       "    }\n",
       "</style>\n",
       "<table border=\"1\" class=\"dataframe\">\n",
       "  <thead>\n",
       "    <tr style=\"text-align: right;\">\n",
       "      <th></th>\n",
       "      <th>Acedamic percentage in Operating Systems</th>\n",
       "      <th>percentage in Algorithms</th>\n",
       "      <th>Percentage in Programming Concepts</th>\n",
       "      <th>Percentage in Software Engineering</th>\n",
       "      <th>Percentage in Computer Networks</th>\n",
       "      <th>Percentage in Electronics Subjects</th>\n",
       "      <th>Percentage in Computer Architecture</th>\n",
       "      <th>Percentage in Mathematics</th>\n",
       "      <th>Percentage in Communication skills</th>\n",
       "      <th>Hours working per day</th>\n",
       "      <th>...</th>\n",
       "      <th>Interested Type of Books</th>\n",
       "      <th>Salary Range Expected</th>\n",
       "      <th>In a Realtionship?</th>\n",
       "      <th>Gentle or Tuff behaviour?</th>\n",
       "      <th>Management or Technical</th>\n",
       "      <th>Salary/work</th>\n",
       "      <th>hard/smart worker</th>\n",
       "      <th>worked in teams ever?</th>\n",
       "      <th>Introvert</th>\n",
       "      <th>Suggested Job Role</th>\n",
       "    </tr>\n",
       "  </thead>\n",
       "  <tbody>\n",
       "    <tr>\n",
       "      <th>0</th>\n",
       "      <td>69</td>\n",
       "      <td>63</td>\n",
       "      <td>78</td>\n",
       "      <td>87</td>\n",
       "      <td>94</td>\n",
       "      <td>94</td>\n",
       "      <td>87</td>\n",
       "      <td>84</td>\n",
       "      <td>61</td>\n",
       "      <td>9</td>\n",
       "      <td>...</td>\n",
       "      <td>Prayer books</td>\n",
       "      <td>salary</td>\n",
       "      <td>no</td>\n",
       "      <td>stubborn</td>\n",
       "      <td>Management</td>\n",
       "      <td>salary</td>\n",
       "      <td>hard worker</td>\n",
       "      <td>yes</td>\n",
       "      <td>no</td>\n",
       "      <td>Database Developer</td>\n",
       "    </tr>\n",
       "    <tr>\n",
       "      <th>1</th>\n",
       "      <td>78</td>\n",
       "      <td>62</td>\n",
       "      <td>73</td>\n",
       "      <td>60</td>\n",
       "      <td>71</td>\n",
       "      <td>70</td>\n",
       "      <td>73</td>\n",
       "      <td>84</td>\n",
       "      <td>91</td>\n",
       "      <td>12</td>\n",
       "      <td>...</td>\n",
       "      <td>Childrens</td>\n",
       "      <td>salary</td>\n",
       "      <td>yes</td>\n",
       "      <td>gentle</td>\n",
       "      <td>Technical</td>\n",
       "      <td>salary</td>\n",
       "      <td>hard worker</td>\n",
       "      <td>no</td>\n",
       "      <td>yes</td>\n",
       "      <td>Portal Administrator</td>\n",
       "    </tr>\n",
       "    <tr>\n",
       "      <th>2</th>\n",
       "      <td>71</td>\n",
       "      <td>86</td>\n",
       "      <td>91</td>\n",
       "      <td>87</td>\n",
       "      <td>61</td>\n",
       "      <td>81</td>\n",
       "      <td>72</td>\n",
       "      <td>72</td>\n",
       "      <td>94</td>\n",
       "      <td>11</td>\n",
       "      <td>...</td>\n",
       "      <td>Travel</td>\n",
       "      <td>Work</td>\n",
       "      <td>no</td>\n",
       "      <td>stubborn</td>\n",
       "      <td>Management</td>\n",
       "      <td>work</td>\n",
       "      <td>hard worker</td>\n",
       "      <td>no</td>\n",
       "      <td>yes</td>\n",
       "      <td>Portal Administrator</td>\n",
       "    </tr>\n",
       "    <tr>\n",
       "      <th>3</th>\n",
       "      <td>76</td>\n",
       "      <td>87</td>\n",
       "      <td>60</td>\n",
       "      <td>84</td>\n",
       "      <td>89</td>\n",
       "      <td>73</td>\n",
       "      <td>62</td>\n",
       "      <td>88</td>\n",
       "      <td>69</td>\n",
       "      <td>7</td>\n",
       "      <td>...</td>\n",
       "      <td>Romance</td>\n",
       "      <td>Work</td>\n",
       "      <td>yes</td>\n",
       "      <td>gentle</td>\n",
       "      <td>Management</td>\n",
       "      <td>work</td>\n",
       "      <td>smart worker</td>\n",
       "      <td>yes</td>\n",
       "      <td>yes</td>\n",
       "      <td>Systems Security Administrator</td>\n",
       "    </tr>\n",
       "    <tr>\n",
       "      <th>4</th>\n",
       "      <td>92</td>\n",
       "      <td>62</td>\n",
       "      <td>90</td>\n",
       "      <td>67</td>\n",
       "      <td>71</td>\n",
       "      <td>89</td>\n",
       "      <td>73</td>\n",
       "      <td>71</td>\n",
       "      <td>73</td>\n",
       "      <td>4</td>\n",
       "      <td>...</td>\n",
       "      <td>Cookbooks</td>\n",
       "      <td>salary</td>\n",
       "      <td>no</td>\n",
       "      <td>stubborn</td>\n",
       "      <td>Management</td>\n",
       "      <td>work</td>\n",
       "      <td>hard worker</td>\n",
       "      <td>yes</td>\n",
       "      <td>yes</td>\n",
       "      <td>Business Systems Analyst</td>\n",
       "    </tr>\n",
       "  </tbody>\n",
       "</table>\n",
       "<p>5 rows × 39 columns</p>\n",
       "</div>"
      ],
      "text/plain": [
       "   Acedamic percentage in Operating Systems  percentage in Algorithms  \\\n",
       "0                                        69                        63   \n",
       "1                                        78                        62   \n",
       "2                                        71                        86   \n",
       "3                                        76                        87   \n",
       "4                                        92                        62   \n",
       "\n",
       "   Percentage in Programming Concepts  Percentage in Software Engineering  \\\n",
       "0                                  78                                  87   \n",
       "1                                  73                                  60   \n",
       "2                                  91                                  87   \n",
       "3                                  60                                  84   \n",
       "4                                  90                                  67   \n",
       "\n",
       "   Percentage in Computer Networks  Percentage in Electronics Subjects  \\\n",
       "0                               94                                  94   \n",
       "1                               71                                  70   \n",
       "2                               61                                  81   \n",
       "3                               89                                  73   \n",
       "4                               71                                  89   \n",
       "\n",
       "   Percentage in Computer Architecture  Percentage in Mathematics  \\\n",
       "0                                   87                         84   \n",
       "1                                   73                         84   \n",
       "2                                   72                         72   \n",
       "3                                   62                         88   \n",
       "4                                   73                         71   \n",
       "\n",
       "   Percentage in Communication skills  Hours working per day  ...  \\\n",
       "0                                  61                      9  ...   \n",
       "1                                  91                     12  ...   \n",
       "2                                  94                     11  ...   \n",
       "3                                  69                      7  ...   \n",
       "4                                  73                      4  ...   \n",
       "\n",
       "   Interested Type of Books  Salary Range Expected  In a Realtionship?  \\\n",
       "0              Prayer books                 salary                  no   \n",
       "1                 Childrens                 salary                 yes   \n",
       "2                    Travel                   Work                  no   \n",
       "3                   Romance                   Work                 yes   \n",
       "4                 Cookbooks                 salary                  no   \n",
       "\n",
       "   Gentle or Tuff behaviour? Management or Technical Salary/work  \\\n",
       "0                   stubborn              Management      salary   \n",
       "1                     gentle               Technical      salary   \n",
       "2                   stubborn              Management        work   \n",
       "3                     gentle              Management        work   \n",
       "4                   stubborn              Management        work   \n",
       "\n",
       "  hard/smart worker worked in teams ever? Introvert  \\\n",
       "0       hard worker                   yes        no   \n",
       "1       hard worker                    no       yes   \n",
       "2       hard worker                    no       yes   \n",
       "3      smart worker                   yes       yes   \n",
       "4       hard worker                   yes       yes   \n",
       "\n",
       "               Suggested Job Role  \n",
       "0              Database Developer  \n",
       "1            Portal Administrator  \n",
       "2            Portal Administrator  \n",
       "3  Systems Security Administrator  \n",
       "4        Business Systems Analyst  \n",
       "\n",
       "[5 rows x 39 columns]"
      ]
     },
     "execution_count": 4,
     "metadata": {},
     "output_type": "execute_result"
    }
   ],
   "source": [
    "career_dataset.head()"
   ]
  },
  {
   "cell_type": "code",
   "execution_count": 5,
   "metadata": {},
   "outputs": [
    {
     "data": {
      "text/plain": [
       "(20000, 39)"
      ]
     },
     "execution_count": 5,
     "metadata": {},
     "output_type": "execute_result"
    }
   ],
   "source": [
    "career_dataset.shape"
   ]
  },
  {
   "cell_type": "code",
   "execution_count": 6,
   "metadata": {},
   "outputs": [
    {
     "data": {
      "text/plain": [
       "Index(['Acedamic percentage in Operating Systems', 'percentage in Algorithms',\n",
       "       'Percentage in Programming Concepts',\n",
       "       'Percentage in Software Engineering', 'Percentage in Computer Networks',\n",
       "       'Percentage in Electronics Subjects',\n",
       "       'Percentage in Computer Architecture', 'Percentage in Mathematics',\n",
       "       'Percentage in Communication skills', 'Hours working per day',\n",
       "       'Logical quotient rating', 'hackathons', 'coding skills rating',\n",
       "       'public speaking points', 'can work long time before system?',\n",
       "       'self-learning capability?', 'Extra-courses did', 'certifications',\n",
       "       'workshops', 'talenttests taken?', 'olympiads',\n",
       "       'reading and writing skills', 'memory capability score',\n",
       "       'Interested subjects', 'interested career area ', 'Job/Higher Studies?',\n",
       "       'Type of company want to settle in?',\n",
       "       'Taken inputs from seniors or elders', 'interested in games',\n",
       "       'Interested Type of Books', 'Salary Range Expected',\n",
       "       'In a Realtionship?', 'Gentle or Tuff behaviour?',\n",
       "       'Management or Technical', 'Salary/work', 'hard/smart worker',\n",
       "       'worked in teams ever?', 'Introvert', 'Suggested Job Role'],\n",
       "      dtype='object')"
      ]
     },
     "execution_count": 6,
     "metadata": {},
     "output_type": "execute_result"
    }
   ],
   "source": [
    "career_dataset.columns"
   ]
  },
  {
   "cell_type": "code",
   "execution_count": 7,
   "metadata": {},
   "outputs": [
    {
     "data": {
      "text/html": [
       "<div>\n",
       "<style scoped>\n",
       "    .dataframe tbody tr th:only-of-type {\n",
       "        vertical-align: middle;\n",
       "    }\n",
       "\n",
       "    .dataframe tbody tr th {\n",
       "        vertical-align: top;\n",
       "    }\n",
       "\n",
       "    .dataframe thead th {\n",
       "        text-align: right;\n",
       "    }\n",
       "</style>\n",
       "<table border=\"1\" class=\"dataframe\">\n",
       "  <thead>\n",
       "    <tr style=\"text-align: right;\">\n",
       "      <th></th>\n",
       "      <th>Acedamic percentage in Operating Systems</th>\n",
       "      <th>percentage in Algorithms</th>\n",
       "      <th>Percentage in Programming Concepts</th>\n",
       "      <th>Percentage in Software Engineering</th>\n",
       "      <th>Percentage in Computer Networks</th>\n",
       "      <th>Percentage in Electronics Subjects</th>\n",
       "      <th>Percentage in Computer Architecture</th>\n",
       "      <th>Percentage in Mathematics</th>\n",
       "      <th>Percentage in Communication skills</th>\n",
       "      <th>Hours working per day</th>\n",
       "      <th>Logical quotient rating</th>\n",
       "      <th>hackathons</th>\n",
       "      <th>coding skills rating</th>\n",
       "      <th>public speaking points</th>\n",
       "    </tr>\n",
       "  </thead>\n",
       "  <tbody>\n",
       "    <tr>\n",
       "      <th>count</th>\n",
       "      <td>20000.000000</td>\n",
       "      <td>20000.000000</td>\n",
       "      <td>20000.000000</td>\n",
       "      <td>20000.000000</td>\n",
       "      <td>20000.000000</td>\n",
       "      <td>20000.000000</td>\n",
       "      <td>20000.000000</td>\n",
       "      <td>20000.000000</td>\n",
       "      <td>20000.000000</td>\n",
       "      <td>20000.000000</td>\n",
       "      <td>20000.000000</td>\n",
       "      <td>20000.000000</td>\n",
       "      <td>20000.000000</td>\n",
       "      <td>20000.000000</td>\n",
       "    </tr>\n",
       "    <tr>\n",
       "      <th>mean</th>\n",
       "      <td>77.002300</td>\n",
       "      <td>76.948200</td>\n",
       "      <td>77.017550</td>\n",
       "      <td>77.094500</td>\n",
       "      <td>76.958200</td>\n",
       "      <td>77.015550</td>\n",
       "      <td>77.069850</td>\n",
       "      <td>76.913100</td>\n",
       "      <td>76.921450</td>\n",
       "      <td>7.985950</td>\n",
       "      <td>4.995050</td>\n",
       "      <td>2.992650</td>\n",
       "      <td>5.004750</td>\n",
       "      <td>5.012800</td>\n",
       "    </tr>\n",
       "    <tr>\n",
       "      <th>std</th>\n",
       "      <td>10.085697</td>\n",
       "      <td>10.101733</td>\n",
       "      <td>10.134815</td>\n",
       "      <td>10.087837</td>\n",
       "      <td>10.020088</td>\n",
       "      <td>10.168888</td>\n",
       "      <td>10.069059</td>\n",
       "      <td>10.138555</td>\n",
       "      <td>10.103494</td>\n",
       "      <td>2.593798</td>\n",
       "      <td>2.578383</td>\n",
       "      <td>2.005791</td>\n",
       "      <td>2.576831</td>\n",
       "      <td>2.588875</td>\n",
       "    </tr>\n",
       "    <tr>\n",
       "      <th>min</th>\n",
       "      <td>60.000000</td>\n",
       "      <td>60.000000</td>\n",
       "      <td>60.000000</td>\n",
       "      <td>60.000000</td>\n",
       "      <td>60.000000</td>\n",
       "      <td>60.000000</td>\n",
       "      <td>60.000000</td>\n",
       "      <td>60.000000</td>\n",
       "      <td>60.000000</td>\n",
       "      <td>4.000000</td>\n",
       "      <td>1.000000</td>\n",
       "      <td>0.000000</td>\n",
       "      <td>1.000000</td>\n",
       "      <td>1.000000</td>\n",
       "    </tr>\n",
       "    <tr>\n",
       "      <th>25%</th>\n",
       "      <td>68.000000</td>\n",
       "      <td>68.000000</td>\n",
       "      <td>68.000000</td>\n",
       "      <td>68.000000</td>\n",
       "      <td>68.000000</td>\n",
       "      <td>68.000000</td>\n",
       "      <td>68.000000</td>\n",
       "      <td>68.000000</td>\n",
       "      <td>68.000000</td>\n",
       "      <td>6.000000</td>\n",
       "      <td>3.000000</td>\n",
       "      <td>1.000000</td>\n",
       "      <td>3.000000</td>\n",
       "      <td>3.000000</td>\n",
       "    </tr>\n",
       "    <tr>\n",
       "      <th>50%</th>\n",
       "      <td>77.000000</td>\n",
       "      <td>77.000000</td>\n",
       "      <td>77.000000</td>\n",
       "      <td>77.000000</td>\n",
       "      <td>77.000000</td>\n",
       "      <td>77.000000</td>\n",
       "      <td>77.000000</td>\n",
       "      <td>77.000000</td>\n",
       "      <td>77.000000</td>\n",
       "      <td>8.000000</td>\n",
       "      <td>5.000000</td>\n",
       "      <td>3.000000</td>\n",
       "      <td>5.000000</td>\n",
       "      <td>5.000000</td>\n",
       "    </tr>\n",
       "    <tr>\n",
       "      <th>75%</th>\n",
       "      <td>86.000000</td>\n",
       "      <td>86.000000</td>\n",
       "      <td>86.000000</td>\n",
       "      <td>86.000000</td>\n",
       "      <td>85.000000</td>\n",
       "      <td>86.000000</td>\n",
       "      <td>86.000000</td>\n",
       "      <td>86.000000</td>\n",
       "      <td>86.000000</td>\n",
       "      <td>10.000000</td>\n",
       "      <td>7.000000</td>\n",
       "      <td>5.000000</td>\n",
       "      <td>7.000000</td>\n",
       "      <td>7.000000</td>\n",
       "    </tr>\n",
       "    <tr>\n",
       "      <th>max</th>\n",
       "      <td>94.000000</td>\n",
       "      <td>94.000000</td>\n",
       "      <td>94.000000</td>\n",
       "      <td>94.000000</td>\n",
       "      <td>94.000000</td>\n",
       "      <td>94.000000</td>\n",
       "      <td>94.000000</td>\n",
       "      <td>94.000000</td>\n",
       "      <td>94.000000</td>\n",
       "      <td>12.000000</td>\n",
       "      <td>9.000000</td>\n",
       "      <td>6.000000</td>\n",
       "      <td>9.000000</td>\n",
       "      <td>9.000000</td>\n",
       "    </tr>\n",
       "  </tbody>\n",
       "</table>\n",
       "</div>"
      ],
      "text/plain": [
       "       Acedamic percentage in Operating Systems  percentage in Algorithms  \\\n",
       "count                              20000.000000              20000.000000   \n",
       "mean                                  77.002300                 76.948200   \n",
       "std                                   10.085697                 10.101733   \n",
       "min                                   60.000000                 60.000000   \n",
       "25%                                   68.000000                 68.000000   \n",
       "50%                                   77.000000                 77.000000   \n",
       "75%                                   86.000000                 86.000000   \n",
       "max                                   94.000000                 94.000000   \n",
       "\n",
       "       Percentage in Programming Concepts  Percentage in Software Engineering  \\\n",
       "count                        20000.000000                        20000.000000   \n",
       "mean                            77.017550                           77.094500   \n",
       "std                             10.134815                           10.087837   \n",
       "min                             60.000000                           60.000000   \n",
       "25%                             68.000000                           68.000000   \n",
       "50%                             77.000000                           77.000000   \n",
       "75%                             86.000000                           86.000000   \n",
       "max                             94.000000                           94.000000   \n",
       "\n",
       "       Percentage in Computer Networks  Percentage in Electronics Subjects  \\\n",
       "count                     20000.000000                        20000.000000   \n",
       "mean                         76.958200                           77.015550   \n",
       "std                          10.020088                           10.168888   \n",
       "min                          60.000000                           60.000000   \n",
       "25%                          68.000000                           68.000000   \n",
       "50%                          77.000000                           77.000000   \n",
       "75%                          85.000000                           86.000000   \n",
       "max                          94.000000                           94.000000   \n",
       "\n",
       "       Percentage in Computer Architecture  Percentage in Mathematics  \\\n",
       "count                         20000.000000               20000.000000   \n",
       "mean                             77.069850                  76.913100   \n",
       "std                              10.069059                  10.138555   \n",
       "min                              60.000000                  60.000000   \n",
       "25%                              68.000000                  68.000000   \n",
       "50%                              77.000000                  77.000000   \n",
       "75%                              86.000000                  86.000000   \n",
       "max                              94.000000                  94.000000   \n",
       "\n",
       "       Percentage in Communication skills  Hours working per day  \\\n",
       "count                        20000.000000           20000.000000   \n",
       "mean                            76.921450               7.985950   \n",
       "std                             10.103494               2.593798   \n",
       "min                             60.000000               4.000000   \n",
       "25%                             68.000000               6.000000   \n",
       "50%                             77.000000               8.000000   \n",
       "75%                             86.000000              10.000000   \n",
       "max                             94.000000              12.000000   \n",
       "\n",
       "       Logical quotient rating    hackathons  coding skills rating  \\\n",
       "count             20000.000000  20000.000000          20000.000000   \n",
       "mean                  4.995050      2.992650              5.004750   \n",
       "std                   2.578383      2.005791              2.576831   \n",
       "min                   1.000000      0.000000              1.000000   \n",
       "25%                   3.000000      1.000000              3.000000   \n",
       "50%                   5.000000      3.000000              5.000000   \n",
       "75%                   7.000000      5.000000              7.000000   \n",
       "max                   9.000000      6.000000              9.000000   \n",
       "\n",
       "       public speaking points  \n",
       "count            20000.000000  \n",
       "mean                 5.012800  \n",
       "std                  2.588875  \n",
       "min                  1.000000  \n",
       "25%                  3.000000  \n",
       "50%                  5.000000  \n",
       "75%                  7.000000  \n",
       "max                  9.000000  "
      ]
     },
     "execution_count": 7,
     "metadata": {},
     "output_type": "execute_result"
    }
   ],
   "source": [
    "career_dataset.describe()"
   ]
  },
  {
   "cell_type": "code",
   "execution_count": 8,
   "metadata": {},
   "outputs": [
    {
     "name": "stdout",
     "output_type": "stream",
     "text": [
      "<class 'pandas.core.frame.DataFrame'>\n",
      "RangeIndex: 20000 entries, 0 to 19999\n",
      "Data columns (total 39 columns):\n",
      " #   Column                                    Non-Null Count  Dtype \n",
      "---  ------                                    --------------  ----- \n",
      " 0   Acedamic percentage in Operating Systems  20000 non-null  int64 \n",
      " 1   percentage in Algorithms                  20000 non-null  int64 \n",
      " 2   Percentage in Programming Concepts        20000 non-null  int64 \n",
      " 3   Percentage in Software Engineering        20000 non-null  int64 \n",
      " 4   Percentage in Computer Networks           20000 non-null  int64 \n",
      " 5   Percentage in Electronics Subjects        20000 non-null  int64 \n",
      " 6   Percentage in Computer Architecture       20000 non-null  int64 \n",
      " 7   Percentage in Mathematics                 20000 non-null  int64 \n",
      " 8   Percentage in Communication skills        20000 non-null  int64 \n",
      " 9   Hours working per day                     20000 non-null  int64 \n",
      " 10  Logical quotient rating                   20000 non-null  int64 \n",
      " 11  hackathons                                20000 non-null  int64 \n",
      " 12  coding skills rating                      20000 non-null  int64 \n",
      " 13  public speaking points                    20000 non-null  int64 \n",
      " 14  can work long time before system?         20000 non-null  object\n",
      " 15  self-learning capability?                 20000 non-null  object\n",
      " 16  Extra-courses did                         20000 non-null  object\n",
      " 17  certifications                            20000 non-null  object\n",
      " 18  workshops                                 20000 non-null  object\n",
      " 19  talenttests taken?                        20000 non-null  object\n",
      " 20  olympiads                                 20000 non-null  object\n",
      " 21  reading and writing skills                20000 non-null  object\n",
      " 22  memory capability score                   20000 non-null  object\n",
      " 23  Interested subjects                       20000 non-null  object\n",
      " 24  interested career area                    20000 non-null  object\n",
      " 25  Job/Higher Studies?                       20000 non-null  object\n",
      " 26  Type of company want to settle in?        20000 non-null  object\n",
      " 27  Taken inputs from seniors or elders       20000 non-null  object\n",
      " 28  interested in games                       20000 non-null  object\n",
      " 29  Interested Type of Books                  20000 non-null  object\n",
      " 30  Salary Range Expected                     20000 non-null  object\n",
      " 31  In a Realtionship?                        20000 non-null  object\n",
      " 32  Gentle or Tuff behaviour?                 20000 non-null  object\n",
      " 33  Management or Technical                   20000 non-null  object\n",
      " 34  Salary/work                               20000 non-null  object\n",
      " 35  hard/smart worker                         20000 non-null  object\n",
      " 36  worked in teams ever?                     20000 non-null  object\n",
      " 37  Introvert                                 20000 non-null  object\n",
      " 38  Suggested Job Role                        20000 non-null  object\n",
      "dtypes: int64(14), object(25)\n",
      "memory usage: 6.0+ MB\n"
     ]
    }
   ],
   "source": [
    "career_dataset.info()"
   ]
  },
  {
   "cell_type": "code",
   "execution_count": 9,
   "metadata": {},
   "outputs": [
    {
     "data": {
      "text/plain": [
       "Acedamic percentage in Operating Systems    0\n",
       "percentage in Algorithms                    0\n",
       "Percentage in Programming Concepts          0\n",
       "Percentage in Software Engineering          0\n",
       "Percentage in Computer Networks             0\n",
       "Percentage in Electronics Subjects          0\n",
       "Percentage in Computer Architecture         0\n",
       "Percentage in Mathematics                   0\n",
       "Percentage in Communication skills          0\n",
       "Hours working per day                       0\n",
       "Logical quotient rating                     0\n",
       "hackathons                                  0\n",
       "coding skills rating                        0\n",
       "public speaking points                      0\n",
       "can work long time before system?           0\n",
       "self-learning capability?                   0\n",
       "Extra-courses did                           0\n",
       "certifications                              0\n",
       "workshops                                   0\n",
       "talenttests taken?                          0\n",
       "olympiads                                   0\n",
       "reading and writing skills                  0\n",
       "memory capability score                     0\n",
       "Interested subjects                         0\n",
       "interested career area                      0\n",
       "Job/Higher Studies?                         0\n",
       "Type of company want to settle in?          0\n",
       "Taken inputs from seniors or elders         0\n",
       "interested in games                         0\n",
       "Interested Type of Books                    0\n",
       "Salary Range Expected                       0\n",
       "In a Realtionship?                          0\n",
       "Gentle or Tuff behaviour?                   0\n",
       "Management or Technical                     0\n",
       "Salary/work                                 0\n",
       "hard/smart worker                           0\n",
       "worked in teams ever?                       0\n",
       "Introvert                                   0\n",
       "Suggested Job Role                          0\n",
       "dtype: int64"
      ]
     },
     "execution_count": 9,
     "metadata": {},
     "output_type": "execute_result"
    }
   ],
   "source": [
    "career_dataset.isnull().sum()"
   ]
  },
  {
   "cell_type": "code",
   "execution_count": 10,
   "metadata": {},
   "outputs": [],
   "source": [
    "def cats_per_feature(feature):\n",
    "  print(\"{}: {}\".format(feature,career_dataset[feature].nunique()))"
   ]
  },
  {
   "cell_type": "code",
   "execution_count": 11,
   "metadata": {},
   "outputs": [
    {
     "name": "stdout",
     "output_type": "stream",
     "text": [
      "Acedamic percentage in Operating Systems: 35\n",
      "percentage in Algorithms: 35\n",
      "Percentage in Programming Concepts: 35\n",
      "Percentage in Software Engineering: 35\n",
      "Percentage in Computer Networks: 35\n",
      "Percentage in Electronics Subjects: 35\n",
      "Percentage in Computer Architecture: 35\n",
      "Percentage in Mathematics: 35\n",
      "Percentage in Communication skills: 35\n",
      "Hours working per day: 9\n",
      "Logical quotient rating: 9\n",
      "hackathons: 7\n",
      "coding skills rating: 9\n",
      "public speaking points: 9\n",
      "can work long time before system?: 2\n",
      "self-learning capability?: 2\n",
      "Extra-courses did: 2\n",
      "certifications: 9\n",
      "workshops: 8\n",
      "talenttests taken?: 2\n",
      "olympiads: 2\n",
      "reading and writing skills: 3\n",
      "memory capability score: 3\n",
      "Interested subjects: 10\n",
      "interested career area : 6\n",
      "Job/Higher Studies?: 2\n",
      "Type of company want to settle in?: 10\n",
      "Taken inputs from seniors or elders: 2\n",
      "interested in games: 2\n",
      "Interested Type of Books: 31\n",
      "Salary Range Expected: 2\n",
      "In a Realtionship?: 2\n",
      "Gentle or Tuff behaviour?: 2\n",
      "Management or Technical: 2\n",
      "Salary/work: 2\n",
      "hard/smart worker: 2\n",
      "worked in teams ever?: 2\n",
      "Introvert: 2\n",
      "Suggested Job Role: 34\n"
     ]
    }
   ],
   "source": [
    "for feature in career_dataset.columns:\n",
    "  cats_per_feature(feature)"
   ]
  },
  {
   "cell_type": "code",
   "execution_count": 12,
   "metadata": {},
   "outputs": [],
   "source": [
    "cont_features = list(career_dataset.columns[0:14])"
   ]
  },
  {
   "cell_type": "code",
   "execution_count": 13,
   "metadata": {},
   "outputs": [],
   "source": [
    "cat_features = career_dataset.iloc[:,:-1].drop(cont_features,axis=1).columns"
   ]
  },
  {
   "cell_type": "code",
   "execution_count": 14,
   "metadata": {},
   "outputs": [
    {
     "data": {
      "text/plain": [
       "['Acedamic percentage in Operating Systems',\n",
       " 'percentage in Algorithms',\n",
       " 'Percentage in Programming Concepts',\n",
       " 'Percentage in Software Engineering',\n",
       " 'Percentage in Computer Networks',\n",
       " 'Percentage in Electronics Subjects',\n",
       " 'Percentage in Computer Architecture',\n",
       " 'Percentage in Mathematics',\n",
       " 'Percentage in Communication skills',\n",
       " 'Hours working per day',\n",
       " 'Logical quotient rating',\n",
       " 'hackathons',\n",
       " 'coding skills rating',\n",
       " 'public speaking points']"
      ]
     },
     "execution_count": 14,
     "metadata": {},
     "output_type": "execute_result"
    }
   ],
   "source": [
    "cont_features"
   ]
  },
  {
   "cell_type": "code",
   "execution_count": 15,
   "metadata": {},
   "outputs": [
    {
     "data": {
      "text/plain": [
       "Index(['can work long time before system?', 'self-learning capability?',\n",
       "       'Extra-courses did', 'certifications', 'workshops',\n",
       "       'talenttests taken?', 'olympiads', 'reading and writing skills',\n",
       "       'memory capability score', 'Interested subjects',\n",
       "       'interested career area ', 'Job/Higher Studies?',\n",
       "       'Type of company want to settle in?',\n",
       "       'Taken inputs from seniors or elders', 'interested in games',\n",
       "       'Interested Type of Books', 'Salary Range Expected',\n",
       "       'In a Realtionship?', 'Gentle or Tuff behaviour?',\n",
       "       'Management or Technical', 'Salary/work', 'hard/smart worker',\n",
       "       'worked in teams ever?', 'Introvert'],\n",
       "      dtype='object')"
      ]
     },
     "execution_count": 15,
     "metadata": {},
     "output_type": "execute_result"
    }
   ],
   "source": [
    "cat_features"
   ]
  },
  {
   "cell_type": "code",
   "execution_count": 16,
   "metadata": {},
   "outputs": [
    {
     "data": {
      "text/plain": [
       "38"
      ]
     },
     "execution_count": 16,
     "metadata": {},
     "output_type": "execute_result"
    }
   ],
   "source": [
    "len(cont_features) + len(cat_features)"
   ]
  },
  {
   "cell_type": "code",
   "execution_count": 17,
   "metadata": {},
   "outputs": [],
   "source": [
    "cont_career_dataset = career_dataset[cont_features]\n",
    "cat_career_dataset = career_dataset[cat_features]"
   ]
  },
  {
   "cell_type": "code",
   "execution_count": 18,
   "metadata": {},
   "outputs": [
    {
     "data": {
      "text/html": [
       "<div>\n",
       "<style scoped>\n",
       "    .dataframe tbody tr th:only-of-type {\n",
       "        vertical-align: middle;\n",
       "    }\n",
       "\n",
       "    .dataframe tbody tr th {\n",
       "        vertical-align: top;\n",
       "    }\n",
       "\n",
       "    .dataframe thead th {\n",
       "        text-align: right;\n",
       "    }\n",
       "</style>\n",
       "<table border=\"1\" class=\"dataframe\">\n",
       "  <thead>\n",
       "    <tr style=\"text-align: right;\">\n",
       "      <th></th>\n",
       "      <th>Acedamic percentage in Operating Systems</th>\n",
       "      <th>percentage in Algorithms</th>\n",
       "      <th>Percentage in Programming Concepts</th>\n",
       "      <th>Percentage in Software Engineering</th>\n",
       "      <th>Percentage in Computer Networks</th>\n",
       "      <th>Percentage in Electronics Subjects</th>\n",
       "      <th>Percentage in Computer Architecture</th>\n",
       "      <th>Percentage in Mathematics</th>\n",
       "      <th>Percentage in Communication skills</th>\n",
       "      <th>Hours working per day</th>\n",
       "      <th>Logical quotient rating</th>\n",
       "      <th>hackathons</th>\n",
       "      <th>coding skills rating</th>\n",
       "      <th>public speaking points</th>\n",
       "    </tr>\n",
       "  </thead>\n",
       "  <tbody>\n",
       "    <tr>\n",
       "      <th>0</th>\n",
       "      <td>69</td>\n",
       "      <td>63</td>\n",
       "      <td>78</td>\n",
       "      <td>87</td>\n",
       "      <td>94</td>\n",
       "      <td>94</td>\n",
       "      <td>87</td>\n",
       "      <td>84</td>\n",
       "      <td>61</td>\n",
       "      <td>9</td>\n",
       "      <td>4</td>\n",
       "      <td>0</td>\n",
       "      <td>4</td>\n",
       "      <td>8</td>\n",
       "    </tr>\n",
       "    <tr>\n",
       "      <th>1</th>\n",
       "      <td>78</td>\n",
       "      <td>62</td>\n",
       "      <td>73</td>\n",
       "      <td>60</td>\n",
       "      <td>71</td>\n",
       "      <td>70</td>\n",
       "      <td>73</td>\n",
       "      <td>84</td>\n",
       "      <td>91</td>\n",
       "      <td>12</td>\n",
       "      <td>7</td>\n",
       "      <td>1</td>\n",
       "      <td>2</td>\n",
       "      <td>3</td>\n",
       "    </tr>\n",
       "    <tr>\n",
       "      <th>2</th>\n",
       "      <td>71</td>\n",
       "      <td>86</td>\n",
       "      <td>91</td>\n",
       "      <td>87</td>\n",
       "      <td>61</td>\n",
       "      <td>81</td>\n",
       "      <td>72</td>\n",
       "      <td>72</td>\n",
       "      <td>94</td>\n",
       "      <td>11</td>\n",
       "      <td>1</td>\n",
       "      <td>4</td>\n",
       "      <td>1</td>\n",
       "      <td>3</td>\n",
       "    </tr>\n",
       "    <tr>\n",
       "      <th>3</th>\n",
       "      <td>76</td>\n",
       "      <td>87</td>\n",
       "      <td>60</td>\n",
       "      <td>84</td>\n",
       "      <td>89</td>\n",
       "      <td>73</td>\n",
       "      <td>62</td>\n",
       "      <td>88</td>\n",
       "      <td>69</td>\n",
       "      <td>7</td>\n",
       "      <td>1</td>\n",
       "      <td>1</td>\n",
       "      <td>2</td>\n",
       "      <td>5</td>\n",
       "    </tr>\n",
       "    <tr>\n",
       "      <th>4</th>\n",
       "      <td>92</td>\n",
       "      <td>62</td>\n",
       "      <td>90</td>\n",
       "      <td>67</td>\n",
       "      <td>71</td>\n",
       "      <td>89</td>\n",
       "      <td>73</td>\n",
       "      <td>71</td>\n",
       "      <td>73</td>\n",
       "      <td>4</td>\n",
       "      <td>5</td>\n",
       "      <td>4</td>\n",
       "      <td>6</td>\n",
       "      <td>3</td>\n",
       "    </tr>\n",
       "  </tbody>\n",
       "</table>\n",
       "</div>"
      ],
      "text/plain": [
       "   Acedamic percentage in Operating Systems  percentage in Algorithms  \\\n",
       "0                                        69                        63   \n",
       "1                                        78                        62   \n",
       "2                                        71                        86   \n",
       "3                                        76                        87   \n",
       "4                                        92                        62   \n",
       "\n",
       "   Percentage in Programming Concepts  Percentage in Software Engineering  \\\n",
       "0                                  78                                  87   \n",
       "1                                  73                                  60   \n",
       "2                                  91                                  87   \n",
       "3                                  60                                  84   \n",
       "4                                  90                                  67   \n",
       "\n",
       "   Percentage in Computer Networks  Percentage in Electronics Subjects  \\\n",
       "0                               94                                  94   \n",
       "1                               71                                  70   \n",
       "2                               61                                  81   \n",
       "3                               89                                  73   \n",
       "4                               71                                  89   \n",
       "\n",
       "   Percentage in Computer Architecture  Percentage in Mathematics  \\\n",
       "0                                   87                         84   \n",
       "1                                   73                         84   \n",
       "2                                   72                         72   \n",
       "3                                   62                         88   \n",
       "4                                   73                         71   \n",
       "\n",
       "   Percentage in Communication skills  Hours working per day  \\\n",
       "0                                  61                      9   \n",
       "1                                  91                     12   \n",
       "2                                  94                     11   \n",
       "3                                  69                      7   \n",
       "4                                  73                      4   \n",
       "\n",
       "   Logical quotient rating  hackathons  coding skills rating  \\\n",
       "0                        4           0                     4   \n",
       "1                        7           1                     2   \n",
       "2                        1           4                     1   \n",
       "3                        1           1                     2   \n",
       "4                        5           4                     6   \n",
       "\n",
       "   public speaking points  \n",
       "0                       8  \n",
       "1                       3  \n",
       "2                       3  \n",
       "3                       5  \n",
       "4                       3  "
      ]
     },
     "execution_count": 18,
     "metadata": {},
     "output_type": "execute_result"
    }
   ],
   "source": [
    "cont_career_dataset.head()"
   ]
  },
  {
   "cell_type": "code",
   "execution_count": 19,
   "metadata": {},
   "outputs": [
    {
     "data": {
      "text/html": [
       "<div>\n",
       "<style scoped>\n",
       "    .dataframe tbody tr th:only-of-type {\n",
       "        vertical-align: middle;\n",
       "    }\n",
       "\n",
       "    .dataframe tbody tr th {\n",
       "        vertical-align: top;\n",
       "    }\n",
       "\n",
       "    .dataframe thead th {\n",
       "        text-align: right;\n",
       "    }\n",
       "</style>\n",
       "<table border=\"1\" class=\"dataframe\">\n",
       "  <thead>\n",
       "    <tr style=\"text-align: right;\">\n",
       "      <th></th>\n",
       "      <th>can work long time before system?</th>\n",
       "      <th>self-learning capability?</th>\n",
       "      <th>Extra-courses did</th>\n",
       "      <th>certifications</th>\n",
       "      <th>workshops</th>\n",
       "      <th>talenttests taken?</th>\n",
       "      <th>olympiads</th>\n",
       "      <th>reading and writing skills</th>\n",
       "      <th>memory capability score</th>\n",
       "      <th>Interested subjects</th>\n",
       "      <th>...</th>\n",
       "      <th>interested in games</th>\n",
       "      <th>Interested Type of Books</th>\n",
       "      <th>Salary Range Expected</th>\n",
       "      <th>In a Realtionship?</th>\n",
       "      <th>Gentle or Tuff behaviour?</th>\n",
       "      <th>Management or Technical</th>\n",
       "      <th>Salary/work</th>\n",
       "      <th>hard/smart worker</th>\n",
       "      <th>worked in teams ever?</th>\n",
       "      <th>Introvert</th>\n",
       "    </tr>\n",
       "  </thead>\n",
       "  <tbody>\n",
       "    <tr>\n",
       "      <th>0</th>\n",
       "      <td>yes</td>\n",
       "      <td>yes</td>\n",
       "      <td>yes</td>\n",
       "      <td>shell programming</td>\n",
       "      <td>cloud computing</td>\n",
       "      <td>no</td>\n",
       "      <td>yes</td>\n",
       "      <td>excellent</td>\n",
       "      <td>excellent</td>\n",
       "      <td>cloud computing</td>\n",
       "      <td>...</td>\n",
       "      <td>no</td>\n",
       "      <td>Prayer books</td>\n",
       "      <td>salary</td>\n",
       "      <td>no</td>\n",
       "      <td>stubborn</td>\n",
       "      <td>Management</td>\n",
       "      <td>salary</td>\n",
       "      <td>hard worker</td>\n",
       "      <td>yes</td>\n",
       "      <td>no</td>\n",
       "    </tr>\n",
       "    <tr>\n",
       "      <th>1</th>\n",
       "      <td>yes</td>\n",
       "      <td>no</td>\n",
       "      <td>yes</td>\n",
       "      <td>machine learning</td>\n",
       "      <td>database security</td>\n",
       "      <td>no</td>\n",
       "      <td>no</td>\n",
       "      <td>poor</td>\n",
       "      <td>medium</td>\n",
       "      <td>networks</td>\n",
       "      <td>...</td>\n",
       "      <td>yes</td>\n",
       "      <td>Childrens</td>\n",
       "      <td>salary</td>\n",
       "      <td>yes</td>\n",
       "      <td>gentle</td>\n",
       "      <td>Technical</td>\n",
       "      <td>salary</td>\n",
       "      <td>hard worker</td>\n",
       "      <td>no</td>\n",
       "      <td>yes</td>\n",
       "    </tr>\n",
       "    <tr>\n",
       "      <th>2</th>\n",
       "      <td>yes</td>\n",
       "      <td>no</td>\n",
       "      <td>yes</td>\n",
       "      <td>app development</td>\n",
       "      <td>web technologies</td>\n",
       "      <td>no</td>\n",
       "      <td>yes</td>\n",
       "      <td>poor</td>\n",
       "      <td>excellent</td>\n",
       "      <td>hacking</td>\n",
       "      <td>...</td>\n",
       "      <td>yes</td>\n",
       "      <td>Travel</td>\n",
       "      <td>Work</td>\n",
       "      <td>no</td>\n",
       "      <td>stubborn</td>\n",
       "      <td>Management</td>\n",
       "      <td>work</td>\n",
       "      <td>hard worker</td>\n",
       "      <td>no</td>\n",
       "      <td>yes</td>\n",
       "    </tr>\n",
       "    <tr>\n",
       "      <th>3</th>\n",
       "      <td>no</td>\n",
       "      <td>yes</td>\n",
       "      <td>no</td>\n",
       "      <td>python</td>\n",
       "      <td>data science</td>\n",
       "      <td>yes</td>\n",
       "      <td>no</td>\n",
       "      <td>medium</td>\n",
       "      <td>excellent</td>\n",
       "      <td>networks</td>\n",
       "      <td>...</td>\n",
       "      <td>no</td>\n",
       "      <td>Romance</td>\n",
       "      <td>Work</td>\n",
       "      <td>yes</td>\n",
       "      <td>gentle</td>\n",
       "      <td>Management</td>\n",
       "      <td>work</td>\n",
       "      <td>smart worker</td>\n",
       "      <td>yes</td>\n",
       "      <td>yes</td>\n",
       "    </tr>\n",
       "    <tr>\n",
       "      <th>4</th>\n",
       "      <td>no</td>\n",
       "      <td>no</td>\n",
       "      <td>no</td>\n",
       "      <td>app development</td>\n",
       "      <td>cloud computing</td>\n",
       "      <td>no</td>\n",
       "      <td>no</td>\n",
       "      <td>poor</td>\n",
       "      <td>excellent</td>\n",
       "      <td>Computer Architecture</td>\n",
       "      <td>...</td>\n",
       "      <td>yes</td>\n",
       "      <td>Cookbooks</td>\n",
       "      <td>salary</td>\n",
       "      <td>no</td>\n",
       "      <td>stubborn</td>\n",
       "      <td>Management</td>\n",
       "      <td>work</td>\n",
       "      <td>hard worker</td>\n",
       "      <td>yes</td>\n",
       "      <td>yes</td>\n",
       "    </tr>\n",
       "  </tbody>\n",
       "</table>\n",
       "<p>5 rows × 24 columns</p>\n",
       "</div>"
      ],
      "text/plain": [
       "  can work long time before system? self-learning capability?  \\\n",
       "0                               yes                       yes   \n",
       "1                               yes                        no   \n",
       "2                               yes                        no   \n",
       "3                                no                       yes   \n",
       "4                                no                        no   \n",
       "\n",
       "  Extra-courses did     certifications          workshops talenttests taken?  \\\n",
       "0               yes  shell programming    cloud computing                 no   \n",
       "1               yes   machine learning  database security                 no   \n",
       "2               yes    app development   web technologies                 no   \n",
       "3                no             python       data science                yes   \n",
       "4                no    app development    cloud computing                 no   \n",
       "\n",
       "  olympiads reading and writing skills memory capability score  \\\n",
       "0       yes                  excellent               excellent   \n",
       "1        no                       poor                  medium   \n",
       "2       yes                       poor               excellent   \n",
       "3        no                     medium               excellent   \n",
       "4        no                       poor               excellent   \n",
       "\n",
       "     Interested subjects  ... interested in games Interested Type of Books  \\\n",
       "0        cloud computing  ...                  no             Prayer books   \n",
       "1               networks  ...                 yes                Childrens   \n",
       "2                hacking  ...                 yes                   Travel   \n",
       "3               networks  ...                  no                  Romance   \n",
       "4  Computer Architecture  ...                 yes                Cookbooks   \n",
       "\n",
       "  Salary Range Expected In a Realtionship? Gentle or Tuff behaviour?  \\\n",
       "0                salary                 no                  stubborn   \n",
       "1                salary                yes                    gentle   \n",
       "2                  Work                 no                  stubborn   \n",
       "3                  Work                yes                    gentle   \n",
       "4                salary                 no                  stubborn   \n",
       "\n",
       "  Management or Technical Salary/work hard/smart worker worked in teams ever?  \\\n",
       "0              Management      salary       hard worker                   yes   \n",
       "1               Technical      salary       hard worker                    no   \n",
       "2              Management        work       hard worker                    no   \n",
       "3              Management        work      smart worker                   yes   \n",
       "4              Management        work       hard worker                   yes   \n",
       "\n",
       "  Introvert  \n",
       "0        no  \n",
       "1       yes  \n",
       "2       yes  \n",
       "3       yes  \n",
       "4       yes  \n",
       "\n",
       "[5 rows x 24 columns]"
      ]
     },
     "execution_count": 19,
     "metadata": {},
     "output_type": "execute_result"
    }
   ],
   "source": [
    "cat_career_dataset.head()"
   ]
  },
  {
   "cell_type": "markdown",
   "metadata": {},
   "source": []
  },
  {
   "cell_type": "markdown",
   "metadata": {},
   "source": [
    "# 2.) Data Cleaning"
   ]
  },
  {
   "cell_type": "markdown",
   "metadata": {},
   "source": [
    "### 2.a) Scaling Continuous features"
   ]
  },
  {
   "cell_type": "code",
   "execution_count": 20,
   "metadata": {},
   "outputs": [],
   "source": [
    "scaler = StandardScaler()\n",
    "scaled_data = scaler.fit_transform(cont_career_dataset)\n",
    "cont_career_dataset = pd.DataFrame(scaled_data,columns=cont_career_dataset.columns)"
   ]
  },
  {
   "cell_type": "code",
   "execution_count": 21,
   "metadata": {},
   "outputs": [
    {
     "data": {
      "text/html": [
       "<div>\n",
       "<style scoped>\n",
       "    .dataframe tbody tr th:only-of-type {\n",
       "        vertical-align: middle;\n",
       "    }\n",
       "\n",
       "    .dataframe tbody tr th {\n",
       "        vertical-align: top;\n",
       "    }\n",
       "\n",
       "    .dataframe thead th {\n",
       "        text-align: right;\n",
       "    }\n",
       "</style>\n",
       "<table border=\"1\" class=\"dataframe\">\n",
       "  <thead>\n",
       "    <tr style=\"text-align: right;\">\n",
       "      <th></th>\n",
       "      <th>Acedamic percentage in Operating Systems</th>\n",
       "      <th>percentage in Algorithms</th>\n",
       "      <th>Percentage in Programming Concepts</th>\n",
       "      <th>Percentage in Software Engineering</th>\n",
       "      <th>Percentage in Computer Networks</th>\n",
       "      <th>Percentage in Electronics Subjects</th>\n",
       "      <th>Percentage in Computer Architecture</th>\n",
       "      <th>Percentage in Mathematics</th>\n",
       "      <th>Percentage in Communication skills</th>\n",
       "      <th>Hours working per day</th>\n",
       "      <th>Logical quotient rating</th>\n",
       "      <th>hackathons</th>\n",
       "      <th>coding skills rating</th>\n",
       "      <th>public speaking points</th>\n",
       "    </tr>\n",
       "  </thead>\n",
       "  <tbody>\n",
       "    <tr>\n",
       "      <th>0</th>\n",
       "      <td>-0.793450</td>\n",
       "      <td>-1.380807</td>\n",
       "      <td>0.096941</td>\n",
       "      <td>0.981950</td>\n",
       "      <td>1.700806</td>\n",
       "      <td>1.670279</td>\n",
       "      <td>0.986229</td>\n",
       "      <td>0.699022</td>\n",
       "      <td>-1.575875</td>\n",
       "      <td>0.390962</td>\n",
       "      <td>-0.385930</td>\n",
       "      <td>-1.492042</td>\n",
       "      <td>-0.389927</td>\n",
       "      <td>1.153889</td>\n",
       "    </tr>\n",
       "    <tr>\n",
       "      <th>1</th>\n",
       "      <td>0.098925</td>\n",
       "      <td>-1.479803</td>\n",
       "      <td>-0.396421</td>\n",
       "      <td>-1.694608</td>\n",
       "      <td>-0.594640</td>\n",
       "      <td>-0.689921</td>\n",
       "      <td>-0.404204</td>\n",
       "      <td>0.699022</td>\n",
       "      <td>1.393469</td>\n",
       "      <td>1.547595</td>\n",
       "      <td>0.777619</td>\n",
       "      <td>-0.993473</td>\n",
       "      <td>-1.166093</td>\n",
       "      <td>-0.777500</td>\n",
       "    </tr>\n",
       "    <tr>\n",
       "      <th>2</th>\n",
       "      <td>-0.595145</td>\n",
       "      <td>0.896086</td>\n",
       "      <td>1.379680</td>\n",
       "      <td>0.981950</td>\n",
       "      <td>-1.592660</td>\n",
       "      <td>0.391837</td>\n",
       "      <td>-0.503520</td>\n",
       "      <td>-0.484608</td>\n",
       "      <td>1.690403</td>\n",
       "      <td>1.162051</td>\n",
       "      <td>-1.549479</td>\n",
       "      <td>0.502233</td>\n",
       "      <td>-1.554176</td>\n",
       "      <td>-0.777500</td>\n",
       "    </tr>\n",
       "    <tr>\n",
       "      <th>3</th>\n",
       "      <td>-0.099381</td>\n",
       "      <td>0.995082</td>\n",
       "      <td>-1.679160</td>\n",
       "      <td>0.684554</td>\n",
       "      <td>1.201796</td>\n",
       "      <td>-0.394896</td>\n",
       "      <td>-1.496687</td>\n",
       "      <td>1.093566</td>\n",
       "      <td>-0.784050</td>\n",
       "      <td>-0.380128</td>\n",
       "      <td>-1.549479</td>\n",
       "      <td>-0.993473</td>\n",
       "      <td>-1.166093</td>\n",
       "      <td>-0.004944</td>\n",
       "    </tr>\n",
       "    <tr>\n",
       "      <th>4</th>\n",
       "      <td>1.487064</td>\n",
       "      <td>-1.479803</td>\n",
       "      <td>1.281008</td>\n",
       "      <td>-1.000686</td>\n",
       "      <td>-0.594640</td>\n",
       "      <td>1.178570</td>\n",
       "      <td>-0.404204</td>\n",
       "      <td>-0.583244</td>\n",
       "      <td>-0.388138</td>\n",
       "      <td>-1.536762</td>\n",
       "      <td>0.001920</td>\n",
       "      <td>0.502233</td>\n",
       "      <td>0.386240</td>\n",
       "      <td>-0.777500</td>\n",
       "    </tr>\n",
       "  </tbody>\n",
       "</table>\n",
       "</div>"
      ],
      "text/plain": [
       "   Acedamic percentage in Operating Systems  percentage in Algorithms  \\\n",
       "0                                 -0.793450                 -1.380807   \n",
       "1                                  0.098925                 -1.479803   \n",
       "2                                 -0.595145                  0.896086   \n",
       "3                                 -0.099381                  0.995082   \n",
       "4                                  1.487064                 -1.479803   \n",
       "\n",
       "   Percentage in Programming Concepts  Percentage in Software Engineering  \\\n",
       "0                            0.096941                            0.981950   \n",
       "1                           -0.396421                           -1.694608   \n",
       "2                            1.379680                            0.981950   \n",
       "3                           -1.679160                            0.684554   \n",
       "4                            1.281008                           -1.000686   \n",
       "\n",
       "   Percentage in Computer Networks  Percentage in Electronics Subjects  \\\n",
       "0                         1.700806                            1.670279   \n",
       "1                        -0.594640                           -0.689921   \n",
       "2                        -1.592660                            0.391837   \n",
       "3                         1.201796                           -0.394896   \n",
       "4                        -0.594640                            1.178570   \n",
       "\n",
       "   Percentage in Computer Architecture  Percentage in Mathematics  \\\n",
       "0                             0.986229                   0.699022   \n",
       "1                            -0.404204                   0.699022   \n",
       "2                            -0.503520                  -0.484608   \n",
       "3                            -1.496687                   1.093566   \n",
       "4                            -0.404204                  -0.583244   \n",
       "\n",
       "   Percentage in Communication skills  Hours working per day  \\\n",
       "0                           -1.575875               0.390962   \n",
       "1                            1.393469               1.547595   \n",
       "2                            1.690403               1.162051   \n",
       "3                           -0.784050              -0.380128   \n",
       "4                           -0.388138              -1.536762   \n",
       "\n",
       "   Logical quotient rating  hackathons  coding skills rating  \\\n",
       "0                -0.385930   -1.492042             -0.389927   \n",
       "1                 0.777619   -0.993473             -1.166093   \n",
       "2                -1.549479    0.502233             -1.554176   \n",
       "3                -1.549479   -0.993473             -1.166093   \n",
       "4                 0.001920    0.502233              0.386240   \n",
       "\n",
       "   public speaking points  \n",
       "0                1.153889  \n",
       "1               -0.777500  \n",
       "2               -0.777500  \n",
       "3               -0.004944  \n",
       "4               -0.777500  "
      ]
     },
     "execution_count": 21,
     "metadata": {},
     "output_type": "execute_result"
    }
   ],
   "source": [
    "cont_career_dataset.head()"
   ]
  },
  {
   "cell_type": "markdown",
   "metadata": {},
   "source": []
  },
  {
   "cell_type": "markdown",
   "metadata": {},
   "source": [
    "### 2.b) Label encoding categorical features"
   ]
  },
  {
   "cell_type": "code",
   "execution_count": 22,
   "metadata": {},
   "outputs": [],
   "source": [
    "label_encoder = LabelEncoder()"
   ]
  },
  {
   "cell_type": "code",
   "execution_count": 23,
   "metadata": {},
   "outputs": [],
   "source": [
    "def encode_feature(feature):\n",
    "  cat_career_dataset[feature] = label_encoder.fit_transform(cat_career_dataset[feature])"
   ]
  },
  {
   "cell_type": "code",
   "execution_count": 24,
   "metadata": {},
   "outputs": [
    {
     "name": "stderr",
     "output_type": "stream",
     "text": [
      "C:\\Users\\Priyesh Dave\\AppData\\Local\\Programs\\Python\\Python39\\lib\\site-packages\\pandas\\core\\frame.py:3607: SettingWithCopyWarning: \n",
      "A value is trying to be set on a copy of a slice from a DataFrame.\n",
      "Try using .loc[row_indexer,col_indexer] = value instead\n",
      "\n",
      "See the caveats in the documentation: https://pandas.pydata.org/pandas-docs/stable/user_guide/indexing.html#returning-a-view-versus-a-copy\n",
      "  self._set_item(key, value)\n"
     ]
    }
   ],
   "source": [
    "for feature in cat_career_dataset.columns:\n",
    "  encode_feature(feature)"
   ]
  },
  {
   "cell_type": "code",
   "execution_count": 25,
   "metadata": {},
   "outputs": [
    {
     "data": {
      "text/html": [
       "<div>\n",
       "<style scoped>\n",
       "    .dataframe tbody tr th:only-of-type {\n",
       "        vertical-align: middle;\n",
       "    }\n",
       "\n",
       "    .dataframe tbody tr th {\n",
       "        vertical-align: top;\n",
       "    }\n",
       "\n",
       "    .dataframe thead th {\n",
       "        text-align: right;\n",
       "    }\n",
       "</style>\n",
       "<table border=\"1\" class=\"dataframe\">\n",
       "  <thead>\n",
       "    <tr style=\"text-align: right;\">\n",
       "      <th></th>\n",
       "      <th>can work long time before system?</th>\n",
       "      <th>self-learning capability?</th>\n",
       "      <th>Extra-courses did</th>\n",
       "      <th>certifications</th>\n",
       "      <th>workshops</th>\n",
       "      <th>talenttests taken?</th>\n",
       "      <th>olympiads</th>\n",
       "      <th>reading and writing skills</th>\n",
       "      <th>memory capability score</th>\n",
       "      <th>Interested subjects</th>\n",
       "      <th>...</th>\n",
       "      <th>interested in games</th>\n",
       "      <th>Interested Type of Books</th>\n",
       "      <th>Salary Range Expected</th>\n",
       "      <th>In a Realtionship?</th>\n",
       "      <th>Gentle or Tuff behaviour?</th>\n",
       "      <th>Management or Technical</th>\n",
       "      <th>Salary/work</th>\n",
       "      <th>hard/smart worker</th>\n",
       "      <th>worked in teams ever?</th>\n",
       "      <th>Introvert</th>\n",
       "    </tr>\n",
       "  </thead>\n",
       "  <tbody>\n",
       "    <tr>\n",
       "      <th>0</th>\n",
       "      <td>1</td>\n",
       "      <td>1</td>\n",
       "      <td>1</td>\n",
       "      <td>8</td>\n",
       "      <td>0</td>\n",
       "      <td>0</td>\n",
       "      <td>1</td>\n",
       "      <td>0</td>\n",
       "      <td>0</td>\n",
       "      <td>4</td>\n",
       "      <td>...</td>\n",
       "      <td>0</td>\n",
       "      <td>21</td>\n",
       "      <td>1</td>\n",
       "      <td>0</td>\n",
       "      <td>1</td>\n",
       "      <td>0</td>\n",
       "      <td>0</td>\n",
       "      <td>0</td>\n",
       "      <td>1</td>\n",
       "      <td>0</td>\n",
       "    </tr>\n",
       "    <tr>\n",
       "      <th>1</th>\n",
       "      <td>1</td>\n",
       "      <td>0</td>\n",
       "      <td>1</td>\n",
       "      <td>5</td>\n",
       "      <td>2</td>\n",
       "      <td>0</td>\n",
       "      <td>0</td>\n",
       "      <td>2</td>\n",
       "      <td>1</td>\n",
       "      <td>7</td>\n",
       "      <td>...</td>\n",
       "      <td>1</td>\n",
       "      <td>5</td>\n",
       "      <td>1</td>\n",
       "      <td>1</td>\n",
       "      <td>0</td>\n",
       "      <td>1</td>\n",
       "      <td>0</td>\n",
       "      <td>0</td>\n",
       "      <td>0</td>\n",
       "      <td>1</td>\n",
       "    </tr>\n",
       "    <tr>\n",
       "      <th>2</th>\n",
       "      <td>1</td>\n",
       "      <td>0</td>\n",
       "      <td>1</td>\n",
       "      <td>0</td>\n",
       "      <td>7</td>\n",
       "      <td>0</td>\n",
       "      <td>1</td>\n",
       "      <td>2</td>\n",
       "      <td>0</td>\n",
       "      <td>6</td>\n",
       "      <td>...</td>\n",
       "      <td>1</td>\n",
       "      <td>29</td>\n",
       "      <td>0</td>\n",
       "      <td>0</td>\n",
       "      <td>1</td>\n",
       "      <td>0</td>\n",
       "      <td>1</td>\n",
       "      <td>0</td>\n",
       "      <td>0</td>\n",
       "      <td>1</td>\n",
       "    </tr>\n",
       "    <tr>\n",
       "      <th>3</th>\n",
       "      <td>0</td>\n",
       "      <td>1</td>\n",
       "      <td>0</td>\n",
       "      <td>6</td>\n",
       "      <td>1</td>\n",
       "      <td>1</td>\n",
       "      <td>0</td>\n",
       "      <td>1</td>\n",
       "      <td>0</td>\n",
       "      <td>7</td>\n",
       "      <td>...</td>\n",
       "      <td>0</td>\n",
       "      <td>23</td>\n",
       "      <td>0</td>\n",
       "      <td>1</td>\n",
       "      <td>0</td>\n",
       "      <td>0</td>\n",
       "      <td>1</td>\n",
       "      <td>1</td>\n",
       "      <td>1</td>\n",
       "      <td>1</td>\n",
       "    </tr>\n",
       "    <tr>\n",
       "      <th>4</th>\n",
       "      <td>0</td>\n",
       "      <td>0</td>\n",
       "      <td>0</td>\n",
       "      <td>0</td>\n",
       "      <td>0</td>\n",
       "      <td>0</td>\n",
       "      <td>0</td>\n",
       "      <td>2</td>\n",
       "      <td>0</td>\n",
       "      <td>0</td>\n",
       "      <td>...</td>\n",
       "      <td>1</td>\n",
       "      <td>7</td>\n",
       "      <td>1</td>\n",
       "      <td>0</td>\n",
       "      <td>1</td>\n",
       "      <td>0</td>\n",
       "      <td>1</td>\n",
       "      <td>0</td>\n",
       "      <td>1</td>\n",
       "      <td>1</td>\n",
       "    </tr>\n",
       "  </tbody>\n",
       "</table>\n",
       "<p>5 rows × 24 columns</p>\n",
       "</div>"
      ],
      "text/plain": [
       "   can work long time before system?  self-learning capability?  \\\n",
       "0                                  1                          1   \n",
       "1                                  1                          0   \n",
       "2                                  1                          0   \n",
       "3                                  0                          1   \n",
       "4                                  0                          0   \n",
       "\n",
       "   Extra-courses did  certifications  workshops  talenttests taken?  \\\n",
       "0                  1               8          0                   0   \n",
       "1                  1               5          2                   0   \n",
       "2                  1               0          7                   0   \n",
       "3                  0               6          1                   1   \n",
       "4                  0               0          0                   0   \n",
       "\n",
       "   olympiads  reading and writing skills  memory capability score  \\\n",
       "0          1                           0                        0   \n",
       "1          0                           2                        1   \n",
       "2          1                           2                        0   \n",
       "3          0                           1                        0   \n",
       "4          0                           2                        0   \n",
       "\n",
       "   Interested subjects  ...  interested in games  Interested Type of Books  \\\n",
       "0                    4  ...                    0                        21   \n",
       "1                    7  ...                    1                         5   \n",
       "2                    6  ...                    1                        29   \n",
       "3                    7  ...                    0                        23   \n",
       "4                    0  ...                    1                         7   \n",
       "\n",
       "   Salary Range Expected  In a Realtionship?  Gentle or Tuff behaviour?  \\\n",
       "0                      1                   0                          1   \n",
       "1                      1                   1                          0   \n",
       "2                      0                   0                          1   \n",
       "3                      0                   1                          0   \n",
       "4                      1                   0                          1   \n",
       "\n",
       "   Management or Technical  Salary/work  hard/smart worker  \\\n",
       "0                        0            0                  0   \n",
       "1                        1            0                  0   \n",
       "2                        0            1                  0   \n",
       "3                        0            1                  1   \n",
       "4                        0            1                  0   \n",
       "\n",
       "   worked in teams ever?  Introvert  \n",
       "0                      1          0  \n",
       "1                      0          1  \n",
       "2                      0          1  \n",
       "3                      1          1  \n",
       "4                      1          1  \n",
       "\n",
       "[5 rows x 24 columns]"
      ]
     },
     "execution_count": 25,
     "metadata": {},
     "output_type": "execute_result"
    }
   ],
   "source": [
    "cat_career_dataset.head()"
   ]
  },
  {
   "cell_type": "markdown",
   "metadata": {},
   "source": []
  },
  {
   "cell_type": "markdown",
   "metadata": {},
   "source": [
    "### 2.c) Feature Selection"
   ]
  },
  {
   "cell_type": "code",
   "execution_count": 26,
   "metadata": {},
   "outputs": [],
   "source": [
    "X = pd.concat([cont_career_dataset,cat_career_dataset],axis=1)\n",
    "y = pd.DataFrame(career_dataset.iloc[:,-1],columns=['Suggested Job Role'])"
   ]
  },
  {
   "cell_type": "code",
   "execution_count": 27,
   "metadata": {},
   "outputs": [
    {
     "data": {
      "text/html": [
       "<div>\n",
       "<style scoped>\n",
       "    .dataframe tbody tr th:only-of-type {\n",
       "        vertical-align: middle;\n",
       "    }\n",
       "\n",
       "    .dataframe tbody tr th {\n",
       "        vertical-align: top;\n",
       "    }\n",
       "\n",
       "    .dataframe thead th {\n",
       "        text-align: right;\n",
       "    }\n",
       "</style>\n",
       "<table border=\"1\" class=\"dataframe\">\n",
       "  <thead>\n",
       "    <tr style=\"text-align: right;\">\n",
       "      <th></th>\n",
       "      <th>Acedamic percentage in Operating Systems</th>\n",
       "      <th>percentage in Algorithms</th>\n",
       "      <th>Percentage in Programming Concepts</th>\n",
       "      <th>Percentage in Software Engineering</th>\n",
       "      <th>Percentage in Computer Networks</th>\n",
       "      <th>Percentage in Electronics Subjects</th>\n",
       "      <th>Percentage in Computer Architecture</th>\n",
       "      <th>Percentage in Mathematics</th>\n",
       "      <th>Percentage in Communication skills</th>\n",
       "      <th>Hours working per day</th>\n",
       "      <th>...</th>\n",
       "      <th>interested in games</th>\n",
       "      <th>Interested Type of Books</th>\n",
       "      <th>Salary Range Expected</th>\n",
       "      <th>In a Realtionship?</th>\n",
       "      <th>Gentle or Tuff behaviour?</th>\n",
       "      <th>Management or Technical</th>\n",
       "      <th>Salary/work</th>\n",
       "      <th>hard/smart worker</th>\n",
       "      <th>worked in teams ever?</th>\n",
       "      <th>Introvert</th>\n",
       "    </tr>\n",
       "  </thead>\n",
       "  <tbody>\n",
       "    <tr>\n",
       "      <th>0</th>\n",
       "      <td>-0.793450</td>\n",
       "      <td>-1.380807</td>\n",
       "      <td>0.096941</td>\n",
       "      <td>0.981950</td>\n",
       "      <td>1.700806</td>\n",
       "      <td>1.670279</td>\n",
       "      <td>0.986229</td>\n",
       "      <td>0.699022</td>\n",
       "      <td>-1.575875</td>\n",
       "      <td>0.390962</td>\n",
       "      <td>...</td>\n",
       "      <td>0</td>\n",
       "      <td>21</td>\n",
       "      <td>1</td>\n",
       "      <td>0</td>\n",
       "      <td>1</td>\n",
       "      <td>0</td>\n",
       "      <td>0</td>\n",
       "      <td>0</td>\n",
       "      <td>1</td>\n",
       "      <td>0</td>\n",
       "    </tr>\n",
       "    <tr>\n",
       "      <th>1</th>\n",
       "      <td>0.098925</td>\n",
       "      <td>-1.479803</td>\n",
       "      <td>-0.396421</td>\n",
       "      <td>-1.694608</td>\n",
       "      <td>-0.594640</td>\n",
       "      <td>-0.689921</td>\n",
       "      <td>-0.404204</td>\n",
       "      <td>0.699022</td>\n",
       "      <td>1.393469</td>\n",
       "      <td>1.547595</td>\n",
       "      <td>...</td>\n",
       "      <td>1</td>\n",
       "      <td>5</td>\n",
       "      <td>1</td>\n",
       "      <td>1</td>\n",
       "      <td>0</td>\n",
       "      <td>1</td>\n",
       "      <td>0</td>\n",
       "      <td>0</td>\n",
       "      <td>0</td>\n",
       "      <td>1</td>\n",
       "    </tr>\n",
       "    <tr>\n",
       "      <th>2</th>\n",
       "      <td>-0.595145</td>\n",
       "      <td>0.896086</td>\n",
       "      <td>1.379680</td>\n",
       "      <td>0.981950</td>\n",
       "      <td>-1.592660</td>\n",
       "      <td>0.391837</td>\n",
       "      <td>-0.503520</td>\n",
       "      <td>-0.484608</td>\n",
       "      <td>1.690403</td>\n",
       "      <td>1.162051</td>\n",
       "      <td>...</td>\n",
       "      <td>1</td>\n",
       "      <td>29</td>\n",
       "      <td>0</td>\n",
       "      <td>0</td>\n",
       "      <td>1</td>\n",
       "      <td>0</td>\n",
       "      <td>1</td>\n",
       "      <td>0</td>\n",
       "      <td>0</td>\n",
       "      <td>1</td>\n",
       "    </tr>\n",
       "    <tr>\n",
       "      <th>3</th>\n",
       "      <td>-0.099381</td>\n",
       "      <td>0.995082</td>\n",
       "      <td>-1.679160</td>\n",
       "      <td>0.684554</td>\n",
       "      <td>1.201796</td>\n",
       "      <td>-0.394896</td>\n",
       "      <td>-1.496687</td>\n",
       "      <td>1.093566</td>\n",
       "      <td>-0.784050</td>\n",
       "      <td>-0.380128</td>\n",
       "      <td>...</td>\n",
       "      <td>0</td>\n",
       "      <td>23</td>\n",
       "      <td>0</td>\n",
       "      <td>1</td>\n",
       "      <td>0</td>\n",
       "      <td>0</td>\n",
       "      <td>1</td>\n",
       "      <td>1</td>\n",
       "      <td>1</td>\n",
       "      <td>1</td>\n",
       "    </tr>\n",
       "    <tr>\n",
       "      <th>4</th>\n",
       "      <td>1.487064</td>\n",
       "      <td>-1.479803</td>\n",
       "      <td>1.281008</td>\n",
       "      <td>-1.000686</td>\n",
       "      <td>-0.594640</td>\n",
       "      <td>1.178570</td>\n",
       "      <td>-0.404204</td>\n",
       "      <td>-0.583244</td>\n",
       "      <td>-0.388138</td>\n",
       "      <td>-1.536762</td>\n",
       "      <td>...</td>\n",
       "      <td>1</td>\n",
       "      <td>7</td>\n",
       "      <td>1</td>\n",
       "      <td>0</td>\n",
       "      <td>1</td>\n",
       "      <td>0</td>\n",
       "      <td>1</td>\n",
       "      <td>0</td>\n",
       "      <td>1</td>\n",
       "      <td>1</td>\n",
       "    </tr>\n",
       "  </tbody>\n",
       "</table>\n",
       "<p>5 rows × 38 columns</p>\n",
       "</div>"
      ],
      "text/plain": [
       "   Acedamic percentage in Operating Systems  percentage in Algorithms  \\\n",
       "0                                 -0.793450                 -1.380807   \n",
       "1                                  0.098925                 -1.479803   \n",
       "2                                 -0.595145                  0.896086   \n",
       "3                                 -0.099381                  0.995082   \n",
       "4                                  1.487064                 -1.479803   \n",
       "\n",
       "   Percentage in Programming Concepts  Percentage in Software Engineering  \\\n",
       "0                            0.096941                            0.981950   \n",
       "1                           -0.396421                           -1.694608   \n",
       "2                            1.379680                            0.981950   \n",
       "3                           -1.679160                            0.684554   \n",
       "4                            1.281008                           -1.000686   \n",
       "\n",
       "   Percentage in Computer Networks  Percentage in Electronics Subjects  \\\n",
       "0                         1.700806                            1.670279   \n",
       "1                        -0.594640                           -0.689921   \n",
       "2                        -1.592660                            0.391837   \n",
       "3                         1.201796                           -0.394896   \n",
       "4                        -0.594640                            1.178570   \n",
       "\n",
       "   Percentage in Computer Architecture  Percentage in Mathematics  \\\n",
       "0                             0.986229                   0.699022   \n",
       "1                            -0.404204                   0.699022   \n",
       "2                            -0.503520                  -0.484608   \n",
       "3                            -1.496687                   1.093566   \n",
       "4                            -0.404204                  -0.583244   \n",
       "\n",
       "   Percentage in Communication skills  Hours working per day  ...  \\\n",
       "0                           -1.575875               0.390962  ...   \n",
       "1                            1.393469               1.547595  ...   \n",
       "2                            1.690403               1.162051  ...   \n",
       "3                           -0.784050              -0.380128  ...   \n",
       "4                           -0.388138              -1.536762  ...   \n",
       "\n",
       "   interested in games  Interested Type of Books  Salary Range Expected  \\\n",
       "0                    0                        21                      1   \n",
       "1                    1                         5                      1   \n",
       "2                    1                        29                      0   \n",
       "3                    0                        23                      0   \n",
       "4                    1                         7                      1   \n",
       "\n",
       "   In a Realtionship?  Gentle or Tuff behaviour?  Management or Technical  \\\n",
       "0                   0                          1                        0   \n",
       "1                   1                          0                        1   \n",
       "2                   0                          1                        0   \n",
       "3                   1                          0                        0   \n",
       "4                   0                          1                        0   \n",
       "\n",
       "   Salary/work  hard/smart worker  worked in teams ever?  Introvert  \n",
       "0            0                  0                      1          0  \n",
       "1            0                  0                      0          1  \n",
       "2            1                  0                      0          1  \n",
       "3            1                  1                      1          1  \n",
       "4            1                  0                      1          1  \n",
       "\n",
       "[5 rows x 38 columns]"
      ]
     },
     "execution_count": 27,
     "metadata": {},
     "output_type": "execute_result"
    }
   ],
   "source": [
    "X.head()"
   ]
  },
  {
   "cell_type": "code",
   "execution_count": 28,
   "metadata": {},
   "outputs": [
    {
     "data": {
      "text/html": [
       "<div>\n",
       "<style scoped>\n",
       "    .dataframe tbody tr th:only-of-type {\n",
       "        vertical-align: middle;\n",
       "    }\n",
       "\n",
       "    .dataframe tbody tr th {\n",
       "        vertical-align: top;\n",
       "    }\n",
       "\n",
       "    .dataframe thead th {\n",
       "        text-align: right;\n",
       "    }\n",
       "</style>\n",
       "<table border=\"1\" class=\"dataframe\">\n",
       "  <thead>\n",
       "    <tr style=\"text-align: right;\">\n",
       "      <th></th>\n",
       "      <th>Suggested Job Role</th>\n",
       "    </tr>\n",
       "  </thead>\n",
       "  <tbody>\n",
       "    <tr>\n",
       "      <th>0</th>\n",
       "      <td>Database Developer</td>\n",
       "    </tr>\n",
       "    <tr>\n",
       "      <th>1</th>\n",
       "      <td>Portal Administrator</td>\n",
       "    </tr>\n",
       "    <tr>\n",
       "      <th>2</th>\n",
       "      <td>Portal Administrator</td>\n",
       "    </tr>\n",
       "    <tr>\n",
       "      <th>3</th>\n",
       "      <td>Systems Security Administrator</td>\n",
       "    </tr>\n",
       "    <tr>\n",
       "      <th>4</th>\n",
       "      <td>Business Systems Analyst</td>\n",
       "    </tr>\n",
       "  </tbody>\n",
       "</table>\n",
       "</div>"
      ],
      "text/plain": [
       "               Suggested Job Role\n",
       "0              Database Developer\n",
       "1            Portal Administrator\n",
       "2            Portal Administrator\n",
       "3  Systems Security Administrator\n",
       "4        Business Systems Analyst"
      ]
     },
     "execution_count": 28,
     "metadata": {},
     "output_type": "execute_result"
    }
   ],
   "source": [
    "y.head()"
   ]
  },
  {
   "cell_type": "code",
   "execution_count": 29,
   "metadata": {},
   "outputs": [],
   "source": [
    "y['Suggested Job Role'] = label_encoder.fit_transform(y['Suggested Job Role'])"
   ]
  },
  {
   "cell_type": "code",
   "execution_count": 30,
   "metadata": {},
   "outputs": [
    {
     "data": {
      "text/html": [
       "<div>\n",
       "<style scoped>\n",
       "    .dataframe tbody tr th:only-of-type {\n",
       "        vertical-align: middle;\n",
       "    }\n",
       "\n",
       "    .dataframe tbody tr th {\n",
       "        vertical-align: top;\n",
       "    }\n",
       "\n",
       "    .dataframe thead th {\n",
       "        text-align: right;\n",
       "    }\n",
       "</style>\n",
       "<table border=\"1\" class=\"dataframe\">\n",
       "  <thead>\n",
       "    <tr style=\"text-align: right;\">\n",
       "      <th></th>\n",
       "      <th>Suggested Job Role</th>\n",
       "    </tr>\n",
       "  </thead>\n",
       "  <tbody>\n",
       "    <tr>\n",
       "      <th>0</th>\n",
       "      <td>7</td>\n",
       "    </tr>\n",
       "    <tr>\n",
       "      <th>1</th>\n",
       "      <td>18</td>\n",
       "    </tr>\n",
       "    <tr>\n",
       "      <th>2</th>\n",
       "      <td>18</td>\n",
       "    </tr>\n",
       "    <tr>\n",
       "      <th>3</th>\n",
       "      <td>28</td>\n",
       "    </tr>\n",
       "    <tr>\n",
       "      <th>4</th>\n",
       "      <td>2</td>\n",
       "    </tr>\n",
       "  </tbody>\n",
       "</table>\n",
       "</div>"
      ],
      "text/plain": [
       "   Suggested Job Role\n",
       "0                   7\n",
       "1                  18\n",
       "2                  18\n",
       "3                  28\n",
       "4                   2"
      ]
     },
     "execution_count": 30,
     "metadata": {},
     "output_type": "execute_result"
    }
   ],
   "source": [
    "y.head()"
   ]
  },
  {
   "cell_type": "markdown",
   "metadata": {},
   "source": []
  },
  {
   "cell_type": "code",
   "execution_count": 31,
   "metadata": {},
   "outputs": [
    {
     "data": {
      "text/html": [
       "<div>\n",
       "<style scoped>\n",
       "    .dataframe tbody tr th:only-of-type {\n",
       "        vertical-align: middle;\n",
       "    }\n",
       "\n",
       "    .dataframe tbody tr th {\n",
       "        vertical-align: top;\n",
       "    }\n",
       "\n",
       "    .dataframe thead th {\n",
       "        text-align: right;\n",
       "    }\n",
       "</style>\n",
       "<table border=\"1\" class=\"dataframe\">\n",
       "  <thead>\n",
       "    <tr style=\"text-align: right;\">\n",
       "      <th></th>\n",
       "      <th>Acedamic percentage in Operating Systems</th>\n",
       "      <th>percentage in Algorithms</th>\n",
       "      <th>Percentage in Programming Concepts</th>\n",
       "      <th>Percentage in Software Engineering</th>\n",
       "      <th>Percentage in Computer Networks</th>\n",
       "      <th>Percentage in Electronics Subjects</th>\n",
       "      <th>Percentage in Computer Architecture</th>\n",
       "      <th>Percentage in Mathematics</th>\n",
       "      <th>Percentage in Communication skills</th>\n",
       "      <th>Hours working per day</th>\n",
       "      <th>...</th>\n",
       "      <th>interested in games</th>\n",
       "      <th>Interested Type of Books</th>\n",
       "      <th>Salary Range Expected</th>\n",
       "      <th>In a Realtionship?</th>\n",
       "      <th>Gentle or Tuff behaviour?</th>\n",
       "      <th>Management or Technical</th>\n",
       "      <th>Salary/work</th>\n",
       "      <th>hard/smart worker</th>\n",
       "      <th>worked in teams ever?</th>\n",
       "      <th>Introvert</th>\n",
       "    </tr>\n",
       "  </thead>\n",
       "  <tbody>\n",
       "    <tr>\n",
       "      <th>0</th>\n",
       "      <td>-0.793450</td>\n",
       "      <td>-1.380807</td>\n",
       "      <td>0.096941</td>\n",
       "      <td>0.981950</td>\n",
       "      <td>1.700806</td>\n",
       "      <td>1.670279</td>\n",
       "      <td>0.986229</td>\n",
       "      <td>0.699022</td>\n",
       "      <td>-1.575875</td>\n",
       "      <td>0.390962</td>\n",
       "      <td>...</td>\n",
       "      <td>0</td>\n",
       "      <td>21</td>\n",
       "      <td>1</td>\n",
       "      <td>0</td>\n",
       "      <td>1</td>\n",
       "      <td>0</td>\n",
       "      <td>0</td>\n",
       "      <td>0</td>\n",
       "      <td>1</td>\n",
       "      <td>0</td>\n",
       "    </tr>\n",
       "    <tr>\n",
       "      <th>1</th>\n",
       "      <td>0.098925</td>\n",
       "      <td>-1.479803</td>\n",
       "      <td>-0.396421</td>\n",
       "      <td>-1.694608</td>\n",
       "      <td>-0.594640</td>\n",
       "      <td>-0.689921</td>\n",
       "      <td>-0.404204</td>\n",
       "      <td>0.699022</td>\n",
       "      <td>1.393469</td>\n",
       "      <td>1.547595</td>\n",
       "      <td>...</td>\n",
       "      <td>1</td>\n",
       "      <td>5</td>\n",
       "      <td>1</td>\n",
       "      <td>1</td>\n",
       "      <td>0</td>\n",
       "      <td>1</td>\n",
       "      <td>0</td>\n",
       "      <td>0</td>\n",
       "      <td>0</td>\n",
       "      <td>1</td>\n",
       "    </tr>\n",
       "    <tr>\n",
       "      <th>2</th>\n",
       "      <td>-0.595145</td>\n",
       "      <td>0.896086</td>\n",
       "      <td>1.379680</td>\n",
       "      <td>0.981950</td>\n",
       "      <td>-1.592660</td>\n",
       "      <td>0.391837</td>\n",
       "      <td>-0.503520</td>\n",
       "      <td>-0.484608</td>\n",
       "      <td>1.690403</td>\n",
       "      <td>1.162051</td>\n",
       "      <td>...</td>\n",
       "      <td>1</td>\n",
       "      <td>29</td>\n",
       "      <td>0</td>\n",
       "      <td>0</td>\n",
       "      <td>1</td>\n",
       "      <td>0</td>\n",
       "      <td>1</td>\n",
       "      <td>0</td>\n",
       "      <td>0</td>\n",
       "      <td>1</td>\n",
       "    </tr>\n",
       "    <tr>\n",
       "      <th>3</th>\n",
       "      <td>-0.099381</td>\n",
       "      <td>0.995082</td>\n",
       "      <td>-1.679160</td>\n",
       "      <td>0.684554</td>\n",
       "      <td>1.201796</td>\n",
       "      <td>-0.394896</td>\n",
       "      <td>-1.496687</td>\n",
       "      <td>1.093566</td>\n",
       "      <td>-0.784050</td>\n",
       "      <td>-0.380128</td>\n",
       "      <td>...</td>\n",
       "      <td>0</td>\n",
       "      <td>23</td>\n",
       "      <td>0</td>\n",
       "      <td>1</td>\n",
       "      <td>0</td>\n",
       "      <td>0</td>\n",
       "      <td>1</td>\n",
       "      <td>1</td>\n",
       "      <td>1</td>\n",
       "      <td>1</td>\n",
       "    </tr>\n",
       "    <tr>\n",
       "      <th>4</th>\n",
       "      <td>1.487064</td>\n",
       "      <td>-1.479803</td>\n",
       "      <td>1.281008</td>\n",
       "      <td>-1.000686</td>\n",
       "      <td>-0.594640</td>\n",
       "      <td>1.178570</td>\n",
       "      <td>-0.404204</td>\n",
       "      <td>-0.583244</td>\n",
       "      <td>-0.388138</td>\n",
       "      <td>-1.536762</td>\n",
       "      <td>...</td>\n",
       "      <td>1</td>\n",
       "      <td>7</td>\n",
       "      <td>1</td>\n",
       "      <td>0</td>\n",
       "      <td>1</td>\n",
       "      <td>0</td>\n",
       "      <td>1</td>\n",
       "      <td>0</td>\n",
       "      <td>1</td>\n",
       "      <td>1</td>\n",
       "    </tr>\n",
       "  </tbody>\n",
       "</table>\n",
       "<p>5 rows × 38 columns</p>\n",
       "</div>"
      ],
      "text/plain": [
       "   Acedamic percentage in Operating Systems  percentage in Algorithms  \\\n",
       "0                                 -0.793450                 -1.380807   \n",
       "1                                  0.098925                 -1.479803   \n",
       "2                                 -0.595145                  0.896086   \n",
       "3                                 -0.099381                  0.995082   \n",
       "4                                  1.487064                 -1.479803   \n",
       "\n",
       "   Percentage in Programming Concepts  Percentage in Software Engineering  \\\n",
       "0                            0.096941                            0.981950   \n",
       "1                           -0.396421                           -1.694608   \n",
       "2                            1.379680                            0.981950   \n",
       "3                           -1.679160                            0.684554   \n",
       "4                            1.281008                           -1.000686   \n",
       "\n",
       "   Percentage in Computer Networks  Percentage in Electronics Subjects  \\\n",
       "0                         1.700806                            1.670279   \n",
       "1                        -0.594640                           -0.689921   \n",
       "2                        -1.592660                            0.391837   \n",
       "3                         1.201796                           -0.394896   \n",
       "4                        -0.594640                            1.178570   \n",
       "\n",
       "   Percentage in Computer Architecture  Percentage in Mathematics  \\\n",
       "0                             0.986229                   0.699022   \n",
       "1                            -0.404204                   0.699022   \n",
       "2                            -0.503520                  -0.484608   \n",
       "3                            -1.496687                   1.093566   \n",
       "4                            -0.404204                  -0.583244   \n",
       "\n",
       "   Percentage in Communication skills  Hours working per day  ...  \\\n",
       "0                           -1.575875               0.390962  ...   \n",
       "1                            1.393469               1.547595  ...   \n",
       "2                            1.690403               1.162051  ...   \n",
       "3                           -0.784050              -0.380128  ...   \n",
       "4                           -0.388138              -1.536762  ...   \n",
       "\n",
       "   interested in games  Interested Type of Books  Salary Range Expected  \\\n",
       "0                    0                        21                      1   \n",
       "1                    1                         5                      1   \n",
       "2                    1                        29                      0   \n",
       "3                    0                        23                      0   \n",
       "4                    1                         7                      1   \n",
       "\n",
       "   In a Realtionship?  Gentle or Tuff behaviour?  Management or Technical  \\\n",
       "0                   0                          1                        0   \n",
       "1                   1                          0                        1   \n",
       "2                   0                          1                        0   \n",
       "3                   1                          0                        0   \n",
       "4                   0                          1                        0   \n",
       "\n",
       "   Salary/work  hard/smart worker  worked in teams ever?  Introvert  \n",
       "0            0                  0                      1          0  \n",
       "1            0                  0                      0          1  \n",
       "2            1                  0                      0          1  \n",
       "3            1                  1                      1          1  \n",
       "4            1                  0                      1          1  \n",
       "\n",
       "[5 rows x 38 columns]"
      ]
     },
     "execution_count": 31,
     "metadata": {},
     "output_type": "execute_result"
    }
   ],
   "source": [
    "X.head()"
   ]
  },
  {
   "cell_type": "code",
   "execution_count": 32,
   "metadata": {},
   "outputs": [],
   "source": [
    "X_train, X_test, y_train, y_test = train_test_split(X, y, test_size=0.33, stratify=y, random_state=1)"
   ]
  },
  {
   "cell_type": "code",
   "execution_count": 33,
   "metadata": {},
   "outputs": [
    {
     "data": {
      "text/html": [
       "<div>\n",
       "<style scoped>\n",
       "    .dataframe tbody tr th:only-of-type {\n",
       "        vertical-align: middle;\n",
       "    }\n",
       "\n",
       "    .dataframe tbody tr th {\n",
       "        vertical-align: top;\n",
       "    }\n",
       "\n",
       "    .dataframe thead th {\n",
       "        text-align: right;\n",
       "    }\n",
       "</style>\n",
       "<table border=\"1\" class=\"dataframe\">\n",
       "  <thead>\n",
       "    <tr style=\"text-align: right;\">\n",
       "      <th></th>\n",
       "      <th>Acedamic percentage in Operating Systems</th>\n",
       "      <th>percentage in Algorithms</th>\n",
       "      <th>Percentage in Programming Concepts</th>\n",
       "      <th>Percentage in Software Engineering</th>\n",
       "      <th>Percentage in Computer Networks</th>\n",
       "      <th>Percentage in Electronics Subjects</th>\n",
       "      <th>Percentage in Computer Architecture</th>\n",
       "      <th>Percentage in Mathematics</th>\n",
       "      <th>Percentage in Communication skills</th>\n",
       "      <th>Hours working per day</th>\n",
       "      <th>...</th>\n",
       "      <th>interested in games</th>\n",
       "      <th>Interested Type of Books</th>\n",
       "      <th>Salary Range Expected</th>\n",
       "      <th>In a Realtionship?</th>\n",
       "      <th>Gentle or Tuff behaviour?</th>\n",
       "      <th>Management or Technical</th>\n",
       "      <th>Salary/work</th>\n",
       "      <th>hard/smart worker</th>\n",
       "      <th>worked in teams ever?</th>\n",
       "      <th>Introvert</th>\n",
       "    </tr>\n",
       "  </thead>\n",
       "  <tbody>\n",
       "    <tr>\n",
       "      <th>18778</th>\n",
       "      <td>0.297230</td>\n",
       "      <td>-0.885831</td>\n",
       "      <td>-0.791110</td>\n",
       "      <td>0.387159</td>\n",
       "      <td>-0.594640</td>\n",
       "      <td>-0.689921</td>\n",
       "      <td>-0.801470</td>\n",
       "      <td>1.488109</td>\n",
       "      <td>0.997556</td>\n",
       "      <td>0.390962</td>\n",
       "      <td>...</td>\n",
       "      <td>1</td>\n",
       "      <td>13</td>\n",
       "      <td>1</td>\n",
       "      <td>1</td>\n",
       "      <td>1</td>\n",
       "      <td>1</td>\n",
       "      <td>1</td>\n",
       "      <td>1</td>\n",
       "      <td>1</td>\n",
       "      <td>0</td>\n",
       "    </tr>\n",
       "    <tr>\n",
       "      <th>16733</th>\n",
       "      <td>-1.289214</td>\n",
       "      <td>-0.390854</td>\n",
       "      <td>1.379680</td>\n",
       "      <td>-0.703290</td>\n",
       "      <td>-1.393056</td>\n",
       "      <td>1.178570</td>\n",
       "      <td>-0.801470</td>\n",
       "      <td>-0.287336</td>\n",
       "      <td>0.700622</td>\n",
       "      <td>-1.536762</td>\n",
       "      <td>...</td>\n",
       "      <td>0</td>\n",
       "      <td>25</td>\n",
       "      <td>0</td>\n",
       "      <td>0</td>\n",
       "      <td>0</td>\n",
       "      <td>1</td>\n",
       "      <td>1</td>\n",
       "      <td>1</td>\n",
       "      <td>0</td>\n",
       "      <td>1</td>\n",
       "    </tr>\n",
       "    <tr>\n",
       "      <th>18797</th>\n",
       "      <td>0.594689</td>\n",
       "      <td>0.797091</td>\n",
       "      <td>-0.593765</td>\n",
       "      <td>-0.703290</td>\n",
       "      <td>1.401400</td>\n",
       "      <td>0.096812</td>\n",
       "      <td>-0.006937</td>\n",
       "      <td>-0.385972</td>\n",
       "      <td>-1.080985</td>\n",
       "      <td>0.390962</td>\n",
       "      <td>...</td>\n",
       "      <td>1</td>\n",
       "      <td>22</td>\n",
       "      <td>1</td>\n",
       "      <td>0</td>\n",
       "      <td>1</td>\n",
       "      <td>0</td>\n",
       "      <td>1</td>\n",
       "      <td>0</td>\n",
       "      <td>1</td>\n",
       "      <td>0</td>\n",
       "    </tr>\n",
       "    <tr>\n",
       "      <th>7317</th>\n",
       "      <td>1.288758</td>\n",
       "      <td>0.995082</td>\n",
       "      <td>0.787646</td>\n",
       "      <td>1.576740</td>\n",
       "      <td>0.004172</td>\n",
       "      <td>0.391837</td>\n",
       "      <td>-0.304887</td>\n",
       "      <td>0.501751</td>\n",
       "      <td>1.294491</td>\n",
       "      <td>-1.151217</td>\n",
       "      <td>...</td>\n",
       "      <td>0</td>\n",
       "      <td>15</td>\n",
       "      <td>0</td>\n",
       "      <td>0</td>\n",
       "      <td>1</td>\n",
       "      <td>0</td>\n",
       "      <td>1</td>\n",
       "      <td>1</td>\n",
       "      <td>0</td>\n",
       "      <td>0</td>\n",
       "    </tr>\n",
       "    <tr>\n",
       "      <th>12707</th>\n",
       "      <td>-1.586673</td>\n",
       "      <td>-1.677794</td>\n",
       "      <td>-0.100404</td>\n",
       "      <td>-1.595476</td>\n",
       "      <td>-1.293254</td>\n",
       "      <td>-1.574995</td>\n",
       "      <td>0.688279</td>\n",
       "      <td>-1.175059</td>\n",
       "      <td>-1.080985</td>\n",
       "      <td>-0.765672</td>\n",
       "      <td>...</td>\n",
       "      <td>0</td>\n",
       "      <td>17</td>\n",
       "      <td>1</td>\n",
       "      <td>1</td>\n",
       "      <td>0</td>\n",
       "      <td>1</td>\n",
       "      <td>1</td>\n",
       "      <td>1</td>\n",
       "      <td>1</td>\n",
       "      <td>1</td>\n",
       "    </tr>\n",
       "  </tbody>\n",
       "</table>\n",
       "<p>5 rows × 38 columns</p>\n",
       "</div>"
      ],
      "text/plain": [
       "       Acedamic percentage in Operating Systems  percentage in Algorithms  \\\n",
       "18778                                  0.297230                 -0.885831   \n",
       "16733                                 -1.289214                 -0.390854   \n",
       "18797                                  0.594689                  0.797091   \n",
       "7317                                   1.288758                  0.995082   \n",
       "12707                                 -1.586673                 -1.677794   \n",
       "\n",
       "       Percentage in Programming Concepts  Percentage in Software Engineering  \\\n",
       "18778                           -0.791110                            0.387159   \n",
       "16733                            1.379680                           -0.703290   \n",
       "18797                           -0.593765                           -0.703290   \n",
       "7317                             0.787646                            1.576740   \n",
       "12707                           -0.100404                           -1.595476   \n",
       "\n",
       "       Percentage in Computer Networks  Percentage in Electronics Subjects  \\\n",
       "18778                        -0.594640                           -0.689921   \n",
       "16733                        -1.393056                            1.178570   \n",
       "18797                         1.401400                            0.096812   \n",
       "7317                          0.004172                            0.391837   \n",
       "12707                        -1.293254                           -1.574995   \n",
       "\n",
       "       Percentage in Computer Architecture  Percentage in Mathematics  \\\n",
       "18778                            -0.801470                   1.488109   \n",
       "16733                            -0.801470                  -0.287336   \n",
       "18797                            -0.006937                  -0.385972   \n",
       "7317                             -0.304887                   0.501751   \n",
       "12707                             0.688279                  -1.175059   \n",
       "\n",
       "       Percentage in Communication skills  Hours working per day  ...  \\\n",
       "18778                            0.997556               0.390962  ...   \n",
       "16733                            0.700622              -1.536762  ...   \n",
       "18797                           -1.080985               0.390962  ...   \n",
       "7317                             1.294491              -1.151217  ...   \n",
       "12707                           -1.080985              -0.765672  ...   \n",
       "\n",
       "       interested in games  Interested Type of Books  Salary Range Expected  \\\n",
       "18778                    1                        13                      1   \n",
       "16733                    0                        25                      0   \n",
       "18797                    1                        22                      1   \n",
       "7317                     0                        15                      0   \n",
       "12707                    0                        17                      1   \n",
       "\n",
       "       In a Realtionship?  Gentle or Tuff behaviour?  Management or Technical  \\\n",
       "18778                   1                          1                        1   \n",
       "16733                   0                          0                        1   \n",
       "18797                   0                          1                        0   \n",
       "7317                    0                          1                        0   \n",
       "12707                   1                          0                        1   \n",
       "\n",
       "       Salary/work  hard/smart worker  worked in teams ever?  Introvert  \n",
       "18778            1                  1                      1          0  \n",
       "16733            1                  1                      0          1  \n",
       "18797            1                  0                      1          0  \n",
       "7317             1                  1                      0          0  \n",
       "12707            1                  1                      1          1  \n",
       "\n",
       "[5 rows x 38 columns]"
      ]
     },
     "execution_count": 33,
     "metadata": {},
     "output_type": "execute_result"
    }
   ],
   "source": [
    "X_train.head()"
   ]
  },
  {
   "cell_type": "code",
   "execution_count": 34,
   "metadata": {},
   "outputs": [
    {
     "data": {
      "text/html": [
       "<div>\n",
       "<style scoped>\n",
       "    .dataframe tbody tr th:only-of-type {\n",
       "        vertical-align: middle;\n",
       "    }\n",
       "\n",
       "    .dataframe tbody tr th {\n",
       "        vertical-align: top;\n",
       "    }\n",
       "\n",
       "    .dataframe thead th {\n",
       "        text-align: right;\n",
       "    }\n",
       "</style>\n",
       "<table border=\"1\" class=\"dataframe\">\n",
       "  <thead>\n",
       "    <tr style=\"text-align: right;\">\n",
       "      <th></th>\n",
       "      <th>Suggested Job Role</th>\n",
       "    </tr>\n",
       "  </thead>\n",
       "  <tbody>\n",
       "    <tr>\n",
       "      <th>18778</th>\n",
       "      <td>9</td>\n",
       "    </tr>\n",
       "    <tr>\n",
       "      <th>16733</th>\n",
       "      <td>26</td>\n",
       "    </tr>\n",
       "    <tr>\n",
       "      <th>18797</th>\n",
       "      <td>25</td>\n",
       "    </tr>\n",
       "    <tr>\n",
       "      <th>7317</th>\n",
       "      <td>20</td>\n",
       "    </tr>\n",
       "    <tr>\n",
       "      <th>12707</th>\n",
       "      <td>5</td>\n",
       "    </tr>\n",
       "  </tbody>\n",
       "</table>\n",
       "</div>"
      ],
      "text/plain": [
       "       Suggested Job Role\n",
       "18778                   9\n",
       "16733                  26\n",
       "18797                  25\n",
       "7317                   20\n",
       "12707                   5"
      ]
     },
     "execution_count": 34,
     "metadata": {},
     "output_type": "execute_result"
    }
   ],
   "source": [
    "y_train.head()"
   ]
  },
  {
   "cell_type": "markdown",
   "metadata": {},
   "source": []
  },
  {
   "cell_type": "markdown",
   "metadata": {},
   "source": [
    "#### Seeing if there is any constant column"
   ]
  },
  {
   "cell_type": "code",
   "execution_count": 35,
   "metadata": {},
   "outputs": [
    {
     "data": {
      "text/plain": [
       "array([ True,  True,  True,  True,  True,  True,  True,  True,  True,\n",
       "        True,  True,  True,  True,  True,  True,  True,  True,  True,\n",
       "        True,  True,  True,  True,  True,  True,  True,  True,  True,\n",
       "        True,  True,  True,  True,  True,  True,  True,  True,  True,\n",
       "        True,  True])"
      ]
     },
     "execution_count": 35,
     "metadata": {},
     "output_type": "execute_result"
    }
   ],
   "source": [
    "variance_threshold = VarianceThreshold(threshold=0)\n",
    "vt_features = variance_threshold.fit(X_train)\n",
    "vt_features.get_support()"
   ]
  },
  {
   "cell_type": "markdown",
   "metadata": {},
   "source": [
    "##### Getting the mutual information of the features"
   ]
  },
  {
   "cell_type": "code",
   "execution_count": 36,
   "metadata": {},
   "outputs": [
    {
     "data": {
      "text/plain": [
       "array([0.00508372, 0.        , 0.00775001, 0.        , 0.        ,\n",
       "       0.0075857 , 0.00317222, 0.        , 0.00118916, 0.        ,\n",
       "       0.01538252, 0.        , 0.        , 0.00160793, 0.        ,\n",
       "       0.00066376, 0.        , 0.        , 0.        , 0.00287898,\n",
       "       0.        , 0.        , 0.00148878, 0.        , 0.        ,\n",
       "       0.        , 0.00095279, 0.        , 0.00326588, 0.        ,\n",
       "       0.        , 0.        , 0.        , 0.        , 0.00232434,\n",
       "       0.00865937, 0.        , 0.        ])"
      ]
     },
     "execution_count": 36,
     "metadata": {},
     "output_type": "execute_result"
    }
   ],
   "source": [
    "mutual_info = mutual_info_classif(X_train,y_train['Suggested Job Role'])\n",
    "mutual_info"
   ]
  },
  {
   "cell_type": "code",
   "execution_count": 37,
   "metadata": {},
   "outputs": [],
   "source": [
    "mutual_info = pd.Series(mutual_info)\n",
    "mutual_info.index = X_train.columns\n",
    "mutual_info.sort_values(ascending =False,inplace=True)"
   ]
  },
  {
   "cell_type": "code",
   "execution_count": 38,
   "metadata": {},
   "outputs": [
    {
     "data": {
      "text/plain": [
       "Logical quotient rating                     0.015383\n",
       "hard/smart worker                           0.008659\n",
       "Percentage in Programming Concepts          0.007750\n",
       "Percentage in Electronics Subjects          0.007586\n",
       "Acedamic percentage in Operating Systems    0.005084\n",
       "interested in games                         0.003266\n",
       "Percentage in Computer Architecture         0.003172\n",
       "talenttests taken?                          0.002879\n",
       "Salary/work                                 0.002324\n",
       "public speaking points                      0.001608\n",
       "memory capability score                     0.001489\n",
       "Percentage in Communication skills          0.001189\n",
       "Type of company want to settle in?          0.000953\n",
       "self-learning capability?                   0.000664\n",
       "Job/Higher Studies?                         0.000000\n",
       "worked in teams ever?                       0.000000\n",
       "Percentage in Software Engineering          0.000000\n",
       "Management or Technical                     0.000000\n",
       "Gentle or Tuff behaviour?                   0.000000\n",
       "In a Realtionship?                          0.000000\n",
       "Salary Range Expected                       0.000000\n",
       "Interested Type of Books                    0.000000\n",
       "Percentage in Computer Networks             0.000000\n",
       "Taken inputs from seniors or elders         0.000000\n",
       "Interested subjects                         0.000000\n",
       "interested career area                      0.000000\n",
       "Hours working per day                       0.000000\n",
       "reading and writing skills                  0.000000\n",
       "olympiads                                   0.000000\n",
       "percentage in Algorithms                    0.000000\n",
       "workshops                                   0.000000\n",
       "certifications                              0.000000\n",
       "Extra-courses did                           0.000000\n",
       "can work long time before system?           0.000000\n",
       "coding skills rating                        0.000000\n",
       "hackathons                                  0.000000\n",
       "Percentage in Mathematics                   0.000000\n",
       "Introvert                                   0.000000\n",
       "dtype: float64"
      ]
     },
     "execution_count": 38,
     "metadata": {},
     "output_type": "execute_result"
    }
   ],
   "source": [
    "mutual_info"
   ]
  },
  {
   "cell_type": "code",
   "execution_count": 39,
   "metadata": {},
   "outputs": [
    {
     "data": {
      "text/html": [
       "<div>\n",
       "<style scoped>\n",
       "    .dataframe tbody tr th:only-of-type {\n",
       "        vertical-align: middle;\n",
       "    }\n",
       "\n",
       "    .dataframe tbody tr th {\n",
       "        vertical-align: top;\n",
       "    }\n",
       "\n",
       "    .dataframe thead th {\n",
       "        text-align: right;\n",
       "    }\n",
       "</style>\n",
       "<table border=\"1\" class=\"dataframe\">\n",
       "  <thead>\n",
       "    <tr style=\"text-align: right;\">\n",
       "      <th></th>\n",
       "      <th>Mutual Information</th>\n",
       "    </tr>\n",
       "  </thead>\n",
       "  <tbody>\n",
       "    <tr>\n",
       "      <th>Logical quotient rating</th>\n",
       "      <td>0.015383</td>\n",
       "    </tr>\n",
       "    <tr>\n",
       "      <th>hard/smart worker</th>\n",
       "      <td>0.008659</td>\n",
       "    </tr>\n",
       "    <tr>\n",
       "      <th>Percentage in Programming Concepts</th>\n",
       "      <td>0.007750</td>\n",
       "    </tr>\n",
       "    <tr>\n",
       "      <th>Percentage in Electronics Subjects</th>\n",
       "      <td>0.007586</td>\n",
       "    </tr>\n",
       "    <tr>\n",
       "      <th>Acedamic percentage in Operating Systems</th>\n",
       "      <td>0.005084</td>\n",
       "    </tr>\n",
       "    <tr>\n",
       "      <th>interested in games</th>\n",
       "      <td>0.003266</td>\n",
       "    </tr>\n",
       "    <tr>\n",
       "      <th>Percentage in Computer Architecture</th>\n",
       "      <td>0.003172</td>\n",
       "    </tr>\n",
       "    <tr>\n",
       "      <th>talenttests taken?</th>\n",
       "      <td>0.002879</td>\n",
       "    </tr>\n",
       "    <tr>\n",
       "      <th>Salary/work</th>\n",
       "      <td>0.002324</td>\n",
       "    </tr>\n",
       "    <tr>\n",
       "      <th>public speaking points</th>\n",
       "      <td>0.001608</td>\n",
       "    </tr>\n",
       "    <tr>\n",
       "      <th>memory capability score</th>\n",
       "      <td>0.001489</td>\n",
       "    </tr>\n",
       "    <tr>\n",
       "      <th>Percentage in Communication skills</th>\n",
       "      <td>0.001189</td>\n",
       "    </tr>\n",
       "    <tr>\n",
       "      <th>Type of company want to settle in?</th>\n",
       "      <td>0.000953</td>\n",
       "    </tr>\n",
       "    <tr>\n",
       "      <th>self-learning capability?</th>\n",
       "      <td>0.000664</td>\n",
       "    </tr>\n",
       "    <tr>\n",
       "      <th>Job/Higher Studies?</th>\n",
       "      <td>0.000000</td>\n",
       "    </tr>\n",
       "    <tr>\n",
       "      <th>worked in teams ever?</th>\n",
       "      <td>0.000000</td>\n",
       "    </tr>\n",
       "    <tr>\n",
       "      <th>Percentage in Software Engineering</th>\n",
       "      <td>0.000000</td>\n",
       "    </tr>\n",
       "    <tr>\n",
       "      <th>Management or Technical</th>\n",
       "      <td>0.000000</td>\n",
       "    </tr>\n",
       "    <tr>\n",
       "      <th>Gentle or Tuff behaviour?</th>\n",
       "      <td>0.000000</td>\n",
       "    </tr>\n",
       "    <tr>\n",
       "      <th>In a Realtionship?</th>\n",
       "      <td>0.000000</td>\n",
       "    </tr>\n",
       "    <tr>\n",
       "      <th>Salary Range Expected</th>\n",
       "      <td>0.000000</td>\n",
       "    </tr>\n",
       "    <tr>\n",
       "      <th>Interested Type of Books</th>\n",
       "      <td>0.000000</td>\n",
       "    </tr>\n",
       "    <tr>\n",
       "      <th>Percentage in Computer Networks</th>\n",
       "      <td>0.000000</td>\n",
       "    </tr>\n",
       "    <tr>\n",
       "      <th>Taken inputs from seniors or elders</th>\n",
       "      <td>0.000000</td>\n",
       "    </tr>\n",
       "    <tr>\n",
       "      <th>Interested subjects</th>\n",
       "      <td>0.000000</td>\n",
       "    </tr>\n",
       "    <tr>\n",
       "      <th>interested career area</th>\n",
       "      <td>0.000000</td>\n",
       "    </tr>\n",
       "    <tr>\n",
       "      <th>Hours working per day</th>\n",
       "      <td>0.000000</td>\n",
       "    </tr>\n",
       "    <tr>\n",
       "      <th>reading and writing skills</th>\n",
       "      <td>0.000000</td>\n",
       "    </tr>\n",
       "    <tr>\n",
       "      <th>olympiads</th>\n",
       "      <td>0.000000</td>\n",
       "    </tr>\n",
       "    <tr>\n",
       "      <th>percentage in Algorithms</th>\n",
       "      <td>0.000000</td>\n",
       "    </tr>\n",
       "    <tr>\n",
       "      <th>workshops</th>\n",
       "      <td>0.000000</td>\n",
       "    </tr>\n",
       "    <tr>\n",
       "      <th>certifications</th>\n",
       "      <td>0.000000</td>\n",
       "    </tr>\n",
       "    <tr>\n",
       "      <th>Extra-courses did</th>\n",
       "      <td>0.000000</td>\n",
       "    </tr>\n",
       "    <tr>\n",
       "      <th>can work long time before system?</th>\n",
       "      <td>0.000000</td>\n",
       "    </tr>\n",
       "    <tr>\n",
       "      <th>coding skills rating</th>\n",
       "      <td>0.000000</td>\n",
       "    </tr>\n",
       "    <tr>\n",
       "      <th>hackathons</th>\n",
       "      <td>0.000000</td>\n",
       "    </tr>\n",
       "    <tr>\n",
       "      <th>Percentage in Mathematics</th>\n",
       "      <td>0.000000</td>\n",
       "    </tr>\n",
       "    <tr>\n",
       "      <th>Introvert</th>\n",
       "      <td>0.000000</td>\n",
       "    </tr>\n",
       "  </tbody>\n",
       "</table>\n",
       "</div>"
      ],
      "text/plain": [
       "                                          Mutual Information\n",
       "Logical quotient rating                             0.015383\n",
       "hard/smart worker                                   0.008659\n",
       "Percentage in Programming Concepts                  0.007750\n",
       "Percentage in Electronics Subjects                  0.007586\n",
       "Acedamic percentage in Operating Systems            0.005084\n",
       "interested in games                                 0.003266\n",
       "Percentage in Computer Architecture                 0.003172\n",
       "talenttests taken?                                  0.002879\n",
       "Salary/work                                         0.002324\n",
       "public speaking points                              0.001608\n",
       "memory capability score                             0.001489\n",
       "Percentage in Communication skills                  0.001189\n",
       "Type of company want to settle in?                  0.000953\n",
       "self-learning capability?                           0.000664\n",
       "Job/Higher Studies?                                 0.000000\n",
       "worked in teams ever?                               0.000000\n",
       "Percentage in Software Engineering                  0.000000\n",
       "Management or Technical                             0.000000\n",
       "Gentle or Tuff behaviour?                           0.000000\n",
       "In a Realtionship?                                  0.000000\n",
       "Salary Range Expected                               0.000000\n",
       "Interested Type of Books                            0.000000\n",
       "Percentage in Computer Networks                     0.000000\n",
       "Taken inputs from seniors or elders                 0.000000\n",
       "Interested subjects                                 0.000000\n",
       "interested career area                              0.000000\n",
       "Hours working per day                               0.000000\n",
       "reading and writing skills                          0.000000\n",
       "olympiads                                           0.000000\n",
       "percentage in Algorithms                            0.000000\n",
       "workshops                                           0.000000\n",
       "certifications                                      0.000000\n",
       "Extra-courses did                                   0.000000\n",
       "can work long time before system?                   0.000000\n",
       "coding skills rating                                0.000000\n",
       "hackathons                                          0.000000\n",
       "Percentage in Mathematics                           0.000000\n",
       "Introvert                                           0.000000"
      ]
     },
     "execution_count": 39,
     "metadata": {},
     "output_type": "execute_result"
    }
   ],
   "source": [
    "mutual_info_dataframe = pd.DataFrame(mutual_info, index=mutual_info.index, columns=['Mutual Information'])\n",
    "mutual_info_dataframe"
   ]
  },
  {
   "cell_type": "code",
   "execution_count": 40,
   "metadata": {},
   "outputs": [
    {
     "data": {
      "application/vnd.plotly.v1+json": {
       "config": {
        "plotlyServerURL": "https://plot.ly"
       },
       "data": [
        {
         "alignmentgroup": "True",
         "hovertemplate": "index=%{x}<br>Mutual Information=%{y}<extra></extra>",
         "legendgroup": "",
         "marker": {
          "color": "#636efa",
          "pattern": {
           "shape": ""
          }
         },
         "name": "",
         "offsetgroup": "",
         "orientation": "v",
         "showlegend": false,
         "textposition": "auto",
         "type": "bar",
         "x": [
          "Logical quotient rating",
          "hard/smart worker",
          "Percentage in Programming Concepts",
          "Percentage in Electronics Subjects",
          "Acedamic percentage in Operating Systems",
          "interested in games",
          "Percentage in Computer Architecture",
          "talenttests taken?",
          "Salary/work",
          "public speaking points",
          "memory capability score",
          "Percentage in Communication skills",
          "Type of company want to settle in?",
          "self-learning capability?",
          "Job/Higher Studies?",
          "worked in teams ever?",
          "Percentage in Software Engineering",
          "Management or Technical",
          "Gentle or Tuff behaviour?",
          "In a Realtionship?",
          "Salary Range Expected",
          "Interested Type of Books",
          "Percentage in Computer Networks",
          "Taken inputs from seniors or elders",
          "Interested subjects",
          "interested career area ",
          "Hours working per day",
          "reading and writing skills",
          "olympiads",
          "percentage in Algorithms",
          "workshops",
          "certifications",
          "Extra-courses did",
          "can work long time before system?",
          "coding skills rating",
          "hackathons",
          "Percentage in Mathematics",
          "Introvert"
         ],
         "xaxis": "x",
         "y": [
          0.015382518588408445,
          0.00865936905296838,
          0.007750014908675773,
          0.007585695373062862,
          0.0050837209634764235,
          0.003265880818446476,
          0.0031722177128816753,
          0.0028789842088299267,
          0.0023243401604844394,
          0.0016079278513201345,
          0.0014887796346840787,
          0.001189163492852252,
          0.000952793010832842,
          0.000663758605060849,
          0,
          0,
          0,
          0,
          0,
          0,
          0,
          0,
          0,
          0,
          0,
          0,
          0,
          0,
          0,
          0,
          0,
          0,
          0,
          0,
          0,
          0,
          0,
          0
         ],
         "yaxis": "y"
        }
       ],
       "layout": {
        "barmode": "relative",
        "legend": {
         "tracegroupgap": 0
        },
        "margin": {
         "t": 60
        },
        "template": {
         "data": {
          "bar": [
           {
            "error_x": {
             "color": "#2a3f5f"
            },
            "error_y": {
             "color": "#2a3f5f"
            },
            "marker": {
             "line": {
              "color": "#E5ECF6",
              "width": 0.5
             },
             "pattern": {
              "fillmode": "overlay",
              "size": 10,
              "solidity": 0.2
             }
            },
            "type": "bar"
           }
          ],
          "barpolar": [
           {
            "marker": {
             "line": {
              "color": "#E5ECF6",
              "width": 0.5
             },
             "pattern": {
              "fillmode": "overlay",
              "size": 10,
              "solidity": 0.2
             }
            },
            "type": "barpolar"
           }
          ],
          "carpet": [
           {
            "aaxis": {
             "endlinecolor": "#2a3f5f",
             "gridcolor": "white",
             "linecolor": "white",
             "minorgridcolor": "white",
             "startlinecolor": "#2a3f5f"
            },
            "baxis": {
             "endlinecolor": "#2a3f5f",
             "gridcolor": "white",
             "linecolor": "white",
             "minorgridcolor": "white",
             "startlinecolor": "#2a3f5f"
            },
            "type": "carpet"
           }
          ],
          "choropleth": [
           {
            "colorbar": {
             "outlinewidth": 0,
             "ticks": ""
            },
            "type": "choropleth"
           }
          ],
          "contour": [
           {
            "colorbar": {
             "outlinewidth": 0,
             "ticks": ""
            },
            "colorscale": [
             [
              0,
              "#0d0887"
             ],
             [
              0.1111111111111111,
              "#46039f"
             ],
             [
              0.2222222222222222,
              "#7201a8"
             ],
             [
              0.3333333333333333,
              "#9c179e"
             ],
             [
              0.4444444444444444,
              "#bd3786"
             ],
             [
              0.5555555555555556,
              "#d8576b"
             ],
             [
              0.6666666666666666,
              "#ed7953"
             ],
             [
              0.7777777777777778,
              "#fb9f3a"
             ],
             [
              0.8888888888888888,
              "#fdca26"
             ],
             [
              1,
              "#f0f921"
             ]
            ],
            "type": "contour"
           }
          ],
          "contourcarpet": [
           {
            "colorbar": {
             "outlinewidth": 0,
             "ticks": ""
            },
            "type": "contourcarpet"
           }
          ],
          "heatmap": [
           {
            "colorbar": {
             "outlinewidth": 0,
             "ticks": ""
            },
            "colorscale": [
             [
              0,
              "#0d0887"
             ],
             [
              0.1111111111111111,
              "#46039f"
             ],
             [
              0.2222222222222222,
              "#7201a8"
             ],
             [
              0.3333333333333333,
              "#9c179e"
             ],
             [
              0.4444444444444444,
              "#bd3786"
             ],
             [
              0.5555555555555556,
              "#d8576b"
             ],
             [
              0.6666666666666666,
              "#ed7953"
             ],
             [
              0.7777777777777778,
              "#fb9f3a"
             ],
             [
              0.8888888888888888,
              "#fdca26"
             ],
             [
              1,
              "#f0f921"
             ]
            ],
            "type": "heatmap"
           }
          ],
          "heatmapgl": [
           {
            "colorbar": {
             "outlinewidth": 0,
             "ticks": ""
            },
            "colorscale": [
             [
              0,
              "#0d0887"
             ],
             [
              0.1111111111111111,
              "#46039f"
             ],
             [
              0.2222222222222222,
              "#7201a8"
             ],
             [
              0.3333333333333333,
              "#9c179e"
             ],
             [
              0.4444444444444444,
              "#bd3786"
             ],
             [
              0.5555555555555556,
              "#d8576b"
             ],
             [
              0.6666666666666666,
              "#ed7953"
             ],
             [
              0.7777777777777778,
              "#fb9f3a"
             ],
             [
              0.8888888888888888,
              "#fdca26"
             ],
             [
              1,
              "#f0f921"
             ]
            ],
            "type": "heatmapgl"
           }
          ],
          "histogram": [
           {
            "marker": {
             "pattern": {
              "fillmode": "overlay",
              "size": 10,
              "solidity": 0.2
             }
            },
            "type": "histogram"
           }
          ],
          "histogram2d": [
           {
            "colorbar": {
             "outlinewidth": 0,
             "ticks": ""
            },
            "colorscale": [
             [
              0,
              "#0d0887"
             ],
             [
              0.1111111111111111,
              "#46039f"
             ],
             [
              0.2222222222222222,
              "#7201a8"
             ],
             [
              0.3333333333333333,
              "#9c179e"
             ],
             [
              0.4444444444444444,
              "#bd3786"
             ],
             [
              0.5555555555555556,
              "#d8576b"
             ],
             [
              0.6666666666666666,
              "#ed7953"
             ],
             [
              0.7777777777777778,
              "#fb9f3a"
             ],
             [
              0.8888888888888888,
              "#fdca26"
             ],
             [
              1,
              "#f0f921"
             ]
            ],
            "type": "histogram2d"
           }
          ],
          "histogram2dcontour": [
           {
            "colorbar": {
             "outlinewidth": 0,
             "ticks": ""
            },
            "colorscale": [
             [
              0,
              "#0d0887"
             ],
             [
              0.1111111111111111,
              "#46039f"
             ],
             [
              0.2222222222222222,
              "#7201a8"
             ],
             [
              0.3333333333333333,
              "#9c179e"
             ],
             [
              0.4444444444444444,
              "#bd3786"
             ],
             [
              0.5555555555555556,
              "#d8576b"
             ],
             [
              0.6666666666666666,
              "#ed7953"
             ],
             [
              0.7777777777777778,
              "#fb9f3a"
             ],
             [
              0.8888888888888888,
              "#fdca26"
             ],
             [
              1,
              "#f0f921"
             ]
            ],
            "type": "histogram2dcontour"
           }
          ],
          "mesh3d": [
           {
            "colorbar": {
             "outlinewidth": 0,
             "ticks": ""
            },
            "type": "mesh3d"
           }
          ],
          "parcoords": [
           {
            "line": {
             "colorbar": {
              "outlinewidth": 0,
              "ticks": ""
             }
            },
            "type": "parcoords"
           }
          ],
          "pie": [
           {
            "automargin": true,
            "type": "pie"
           }
          ],
          "scatter": [
           {
            "marker": {
             "colorbar": {
              "outlinewidth": 0,
              "ticks": ""
             }
            },
            "type": "scatter"
           }
          ],
          "scatter3d": [
           {
            "line": {
             "colorbar": {
              "outlinewidth": 0,
              "ticks": ""
             }
            },
            "marker": {
             "colorbar": {
              "outlinewidth": 0,
              "ticks": ""
             }
            },
            "type": "scatter3d"
           }
          ],
          "scattercarpet": [
           {
            "marker": {
             "colorbar": {
              "outlinewidth": 0,
              "ticks": ""
             }
            },
            "type": "scattercarpet"
           }
          ],
          "scattergeo": [
           {
            "marker": {
             "colorbar": {
              "outlinewidth": 0,
              "ticks": ""
             }
            },
            "type": "scattergeo"
           }
          ],
          "scattergl": [
           {
            "marker": {
             "colorbar": {
              "outlinewidth": 0,
              "ticks": ""
             }
            },
            "type": "scattergl"
           }
          ],
          "scattermapbox": [
           {
            "marker": {
             "colorbar": {
              "outlinewidth": 0,
              "ticks": ""
             }
            },
            "type": "scattermapbox"
           }
          ],
          "scatterpolar": [
           {
            "marker": {
             "colorbar": {
              "outlinewidth": 0,
              "ticks": ""
             }
            },
            "type": "scatterpolar"
           }
          ],
          "scatterpolargl": [
           {
            "marker": {
             "colorbar": {
              "outlinewidth": 0,
              "ticks": ""
             }
            },
            "type": "scatterpolargl"
           }
          ],
          "scatterternary": [
           {
            "marker": {
             "colorbar": {
              "outlinewidth": 0,
              "ticks": ""
             }
            },
            "type": "scatterternary"
           }
          ],
          "surface": [
           {
            "colorbar": {
             "outlinewidth": 0,
             "ticks": ""
            },
            "colorscale": [
             [
              0,
              "#0d0887"
             ],
             [
              0.1111111111111111,
              "#46039f"
             ],
             [
              0.2222222222222222,
              "#7201a8"
             ],
             [
              0.3333333333333333,
              "#9c179e"
             ],
             [
              0.4444444444444444,
              "#bd3786"
             ],
             [
              0.5555555555555556,
              "#d8576b"
             ],
             [
              0.6666666666666666,
              "#ed7953"
             ],
             [
              0.7777777777777778,
              "#fb9f3a"
             ],
             [
              0.8888888888888888,
              "#fdca26"
             ],
             [
              1,
              "#f0f921"
             ]
            ],
            "type": "surface"
           }
          ],
          "table": [
           {
            "cells": {
             "fill": {
              "color": "#EBF0F8"
             },
             "line": {
              "color": "white"
             }
            },
            "header": {
             "fill": {
              "color": "#C8D4E3"
             },
             "line": {
              "color": "white"
             }
            },
            "type": "table"
           }
          ]
         },
         "layout": {
          "annotationdefaults": {
           "arrowcolor": "#2a3f5f",
           "arrowhead": 0,
           "arrowwidth": 1
          },
          "autotypenumbers": "strict",
          "coloraxis": {
           "colorbar": {
            "outlinewidth": 0,
            "ticks": ""
           }
          },
          "colorscale": {
           "diverging": [
            [
             0,
             "#8e0152"
            ],
            [
             0.1,
             "#c51b7d"
            ],
            [
             0.2,
             "#de77ae"
            ],
            [
             0.3,
             "#f1b6da"
            ],
            [
             0.4,
             "#fde0ef"
            ],
            [
             0.5,
             "#f7f7f7"
            ],
            [
             0.6,
             "#e6f5d0"
            ],
            [
             0.7,
             "#b8e186"
            ],
            [
             0.8,
             "#7fbc41"
            ],
            [
             0.9,
             "#4d9221"
            ],
            [
             1,
             "#276419"
            ]
           ],
           "sequential": [
            [
             0,
             "#0d0887"
            ],
            [
             0.1111111111111111,
             "#46039f"
            ],
            [
             0.2222222222222222,
             "#7201a8"
            ],
            [
             0.3333333333333333,
             "#9c179e"
            ],
            [
             0.4444444444444444,
             "#bd3786"
            ],
            [
             0.5555555555555556,
             "#d8576b"
            ],
            [
             0.6666666666666666,
             "#ed7953"
            ],
            [
             0.7777777777777778,
             "#fb9f3a"
            ],
            [
             0.8888888888888888,
             "#fdca26"
            ],
            [
             1,
             "#f0f921"
            ]
           ],
           "sequentialminus": [
            [
             0,
             "#0d0887"
            ],
            [
             0.1111111111111111,
             "#46039f"
            ],
            [
             0.2222222222222222,
             "#7201a8"
            ],
            [
             0.3333333333333333,
             "#9c179e"
            ],
            [
             0.4444444444444444,
             "#bd3786"
            ],
            [
             0.5555555555555556,
             "#d8576b"
            ],
            [
             0.6666666666666666,
             "#ed7953"
            ],
            [
             0.7777777777777778,
             "#fb9f3a"
            ],
            [
             0.8888888888888888,
             "#fdca26"
            ],
            [
             1,
             "#f0f921"
            ]
           ]
          },
          "colorway": [
           "#636efa",
           "#EF553B",
           "#00cc96",
           "#ab63fa",
           "#FFA15A",
           "#19d3f3",
           "#FF6692",
           "#B6E880",
           "#FF97FF",
           "#FECB52"
          ],
          "font": {
           "color": "#2a3f5f"
          },
          "geo": {
           "bgcolor": "white",
           "lakecolor": "white",
           "landcolor": "#E5ECF6",
           "showlakes": true,
           "showland": true,
           "subunitcolor": "white"
          },
          "hoverlabel": {
           "align": "left"
          },
          "hovermode": "closest",
          "mapbox": {
           "style": "light"
          },
          "paper_bgcolor": "white",
          "plot_bgcolor": "#E5ECF6",
          "polar": {
           "angularaxis": {
            "gridcolor": "white",
            "linecolor": "white",
            "ticks": ""
           },
           "bgcolor": "#E5ECF6",
           "radialaxis": {
            "gridcolor": "white",
            "linecolor": "white",
            "ticks": ""
           }
          },
          "scene": {
           "xaxis": {
            "backgroundcolor": "#E5ECF6",
            "gridcolor": "white",
            "gridwidth": 2,
            "linecolor": "white",
            "showbackground": true,
            "ticks": "",
            "zerolinecolor": "white"
           },
           "yaxis": {
            "backgroundcolor": "#E5ECF6",
            "gridcolor": "white",
            "gridwidth": 2,
            "linecolor": "white",
            "showbackground": true,
            "ticks": "",
            "zerolinecolor": "white"
           },
           "zaxis": {
            "backgroundcolor": "#E5ECF6",
            "gridcolor": "white",
            "gridwidth": 2,
            "linecolor": "white",
            "showbackground": true,
            "ticks": "",
            "zerolinecolor": "white"
           }
          },
          "shapedefaults": {
           "line": {
            "color": "#2a3f5f"
           }
          },
          "ternary": {
           "aaxis": {
            "gridcolor": "white",
            "linecolor": "white",
            "ticks": ""
           },
           "baxis": {
            "gridcolor": "white",
            "linecolor": "white",
            "ticks": ""
           },
           "bgcolor": "#E5ECF6",
           "caxis": {
            "gridcolor": "white",
            "linecolor": "white",
            "ticks": ""
           }
          },
          "title": {
           "x": 0.05
          },
          "xaxis": {
           "automargin": true,
           "gridcolor": "white",
           "linecolor": "white",
           "ticks": "",
           "title": {
            "standoff": 15
           },
           "zerolinecolor": "white",
           "zerolinewidth": 2
          },
          "yaxis": {
           "automargin": true,
           "gridcolor": "white",
           "linecolor": "white",
           "ticks": "",
           "title": {
            "standoff": 15
           },
           "zerolinecolor": "white",
           "zerolinewidth": 2
          }
         }
        },
        "xaxis": {
         "anchor": "y",
         "domain": [
          0,
          1
         ],
         "title": {
          "text": "index"
         }
        },
        "yaxis": {
         "anchor": "x",
         "domain": [
          0,
          1
         ],
         "title": {
          "text": "Mutual Information"
         }
        }
       }
      }
     },
     "metadata": {},
     "output_type": "display_data"
    }
   ],
   "source": [
    "fig =px.bar(mutual_info_dataframe, x=mutual_info_dataframe.index,y='Mutual Information')\n",
    "fig.show()"
   ]
  },
  {
   "cell_type": "markdown",
   "metadata": {},
   "source": [
    "##### Here we see the features which have high infomation"
   ]
  },
  {
   "cell_type": "code",
   "execution_count": 41,
   "metadata": {},
   "outputs": [],
   "source": [
    "important_features = mutual_info[0:11]"
   ]
  },
  {
   "cell_type": "code",
   "execution_count": 42,
   "metadata": {},
   "outputs": [
    {
     "data": {
      "text/plain": [
       "Logical quotient rating                     0.015383\n",
       "hard/smart worker                           0.008659\n",
       "Percentage in Programming Concepts          0.007750\n",
       "Percentage in Electronics Subjects          0.007586\n",
       "Acedamic percentage in Operating Systems    0.005084\n",
       "interested in games                         0.003266\n",
       "Percentage in Computer Architecture         0.003172\n",
       "talenttests taken?                          0.002879\n",
       "Salary/work                                 0.002324\n",
       "public speaking points                      0.001608\n",
       "memory capability score                     0.001489\n",
       "dtype: float64"
      ]
     },
     "execution_count": 42,
     "metadata": {},
     "output_type": "execute_result"
    }
   ],
   "source": [
    "important_features"
   ]
  },
  {
   "cell_type": "markdown",
   "metadata": {},
   "source": []
  },
  {
   "cell_type": "code",
   "execution_count": 43,
   "metadata": {},
   "outputs": [
    {
     "data": {
      "text/plain": [
       "SelectKBest(k=11,\n",
       "            score_func=<function mutual_info_classif at 0x0000020C21B4B5E0>)"
      ]
     },
     "execution_count": 43,
     "metadata": {},
     "output_type": "execute_result"
    }
   ],
   "source": [
    "k_best_selector = SelectKBest(mutual_info_classif,k=11)\n",
    "k_best_selector.fit(X_train,y_train['Suggested Job Role'])"
   ]
  },
  {
   "cell_type": "code",
   "execution_count": 44,
   "metadata": {},
   "outputs": [
    {
     "data": {
      "text/plain": [
       "array([False,  True,  True, False, False, False,  True, False,  True,\n",
       "       False, False, False,  True, False, False, False,  True,  True,\n",
       "       False,  True, False, False, False,  True, False, False, False,\n",
       "       False,  True, False, False, False, False, False, False, False,\n",
       "        True, False])"
      ]
     },
     "execution_count": 44,
     "metadata": {},
     "output_type": "execute_result"
    }
   ],
   "source": [
    "k_best_selector.get_support()"
   ]
  },
  {
   "cell_type": "code",
   "execution_count": 45,
   "metadata": {},
   "outputs": [
    {
     "data": {
      "text/plain": [
       "Index(['percentage in Algorithms', 'Percentage in Programming Concepts',\n",
       "       'Percentage in Computer Architecture',\n",
       "       'Percentage in Communication skills', 'coding skills rating',\n",
       "       'Extra-courses did', 'certifications', 'talenttests taken?',\n",
       "       'Interested subjects', 'interested in games', 'worked in teams ever?'],\n",
       "      dtype='object')"
      ]
     },
     "execution_count": 45,
     "metadata": {},
     "output_type": "execute_result"
    }
   ],
   "source": [
    "feature_selected_by_kBest = X.columns[k_best_selector.get_support()]\n",
    "feature_selected_by_kBest"
   ]
  },
  {
   "cell_type": "markdown",
   "metadata": {},
   "source": [
    "Index(['percentage in Algorithms', 'hackathons', 'public speaking points',\n",
    "       'certifications', 'talenttests taken?', 'Interested subjects',\n",
    "       'Type of company want to settle in?', 'interested in games',\n",
    "       'Interested Type of Books', 'Salary Range Expected', 'Salary/work'],\n",
    "      dtype='object')"
   ]
  },
  {
   "cell_type": "markdown",
   "metadata": {},
   "source": []
  },
  {
   "cell_type": "code",
   "execution_count": 46,
   "metadata": {},
   "outputs": [],
   "source": [
    "X_train = X_train[important_features.index]"
   ]
  },
  {
   "cell_type": "code",
   "execution_count": 47,
   "metadata": {},
   "outputs": [
    {
     "data": {
      "text/html": [
       "<div>\n",
       "<style scoped>\n",
       "    .dataframe tbody tr th:only-of-type {\n",
       "        vertical-align: middle;\n",
       "    }\n",
       "\n",
       "    .dataframe tbody tr th {\n",
       "        vertical-align: top;\n",
       "    }\n",
       "\n",
       "    .dataframe thead th {\n",
       "        text-align: right;\n",
       "    }\n",
       "</style>\n",
       "<table border=\"1\" class=\"dataframe\">\n",
       "  <thead>\n",
       "    <tr style=\"text-align: right;\">\n",
       "      <th></th>\n",
       "      <th>Logical quotient rating</th>\n",
       "      <th>hard/smart worker</th>\n",
       "      <th>Percentage in Programming Concepts</th>\n",
       "      <th>Percentage in Electronics Subjects</th>\n",
       "      <th>Acedamic percentage in Operating Systems</th>\n",
       "      <th>interested in games</th>\n",
       "      <th>Percentage in Computer Architecture</th>\n",
       "      <th>talenttests taken?</th>\n",
       "      <th>Salary/work</th>\n",
       "      <th>public speaking points</th>\n",
       "      <th>memory capability score</th>\n",
       "    </tr>\n",
       "  </thead>\n",
       "  <tbody>\n",
       "    <tr>\n",
       "      <th>18778</th>\n",
       "      <td>-0.385930</td>\n",
       "      <td>1</td>\n",
       "      <td>-0.791110</td>\n",
       "      <td>-0.689921</td>\n",
       "      <td>0.297230</td>\n",
       "      <td>1</td>\n",
       "      <td>-0.801470</td>\n",
       "      <td>0</td>\n",
       "      <td>1</td>\n",
       "      <td>-1.163778</td>\n",
       "      <td>0</td>\n",
       "    </tr>\n",
       "    <tr>\n",
       "      <th>16733</th>\n",
       "      <td>0.001920</td>\n",
       "      <td>1</td>\n",
       "      <td>1.379680</td>\n",
       "      <td>1.178570</td>\n",
       "      <td>-1.289214</td>\n",
       "      <td>0</td>\n",
       "      <td>-0.801470</td>\n",
       "      <td>0</td>\n",
       "      <td>1</td>\n",
       "      <td>-0.391222</td>\n",
       "      <td>1</td>\n",
       "    </tr>\n",
       "    <tr>\n",
       "      <th>18797</th>\n",
       "      <td>-0.385930</td>\n",
       "      <td>0</td>\n",
       "      <td>-0.593765</td>\n",
       "      <td>0.096812</td>\n",
       "      <td>0.594689</td>\n",
       "      <td>1</td>\n",
       "      <td>-0.006937</td>\n",
       "      <td>0</td>\n",
       "      <td>1</td>\n",
       "      <td>1.153889</td>\n",
       "      <td>2</td>\n",
       "    </tr>\n",
       "    <tr>\n",
       "      <th>7317</th>\n",
       "      <td>-1.161629</td>\n",
       "      <td>1</td>\n",
       "      <td>0.787646</td>\n",
       "      <td>0.391837</td>\n",
       "      <td>1.288758</td>\n",
       "      <td>0</td>\n",
       "      <td>-0.304887</td>\n",
       "      <td>0</td>\n",
       "      <td>1</td>\n",
       "      <td>-0.004944</td>\n",
       "      <td>0</td>\n",
       "    </tr>\n",
       "    <tr>\n",
       "      <th>12707</th>\n",
       "      <td>-0.773780</td>\n",
       "      <td>1</td>\n",
       "      <td>-0.100404</td>\n",
       "      <td>-1.574995</td>\n",
       "      <td>-1.586673</td>\n",
       "      <td>0</td>\n",
       "      <td>0.688279</td>\n",
       "      <td>0</td>\n",
       "      <td>1</td>\n",
       "      <td>-0.004944</td>\n",
       "      <td>1</td>\n",
       "    </tr>\n",
       "  </tbody>\n",
       "</table>\n",
       "</div>"
      ],
      "text/plain": [
       "       Logical quotient rating  hard/smart worker  \\\n",
       "18778                -0.385930                  1   \n",
       "16733                 0.001920                  1   \n",
       "18797                -0.385930                  0   \n",
       "7317                 -1.161629                  1   \n",
       "12707                -0.773780                  1   \n",
       "\n",
       "       Percentage in Programming Concepts  Percentage in Electronics Subjects  \\\n",
       "18778                           -0.791110                           -0.689921   \n",
       "16733                            1.379680                            1.178570   \n",
       "18797                           -0.593765                            0.096812   \n",
       "7317                             0.787646                            0.391837   \n",
       "12707                           -0.100404                           -1.574995   \n",
       "\n",
       "       Acedamic percentage in Operating Systems  interested in games  \\\n",
       "18778                                  0.297230                    1   \n",
       "16733                                 -1.289214                    0   \n",
       "18797                                  0.594689                    1   \n",
       "7317                                   1.288758                    0   \n",
       "12707                                 -1.586673                    0   \n",
       "\n",
       "       Percentage in Computer Architecture  talenttests taken?  Salary/work  \\\n",
       "18778                            -0.801470                   0            1   \n",
       "16733                            -0.801470                   0            1   \n",
       "18797                            -0.006937                   0            1   \n",
       "7317                             -0.304887                   0            1   \n",
       "12707                             0.688279                   0            1   \n",
       "\n",
       "       public speaking points  memory capability score  \n",
       "18778               -1.163778                        0  \n",
       "16733               -0.391222                        1  \n",
       "18797                1.153889                        2  \n",
       "7317                -0.004944                        0  \n",
       "12707               -0.004944                        1  "
      ]
     },
     "execution_count": 47,
     "metadata": {},
     "output_type": "execute_result"
    }
   ],
   "source": [
    "X_train.head()"
   ]
  },
  {
   "cell_type": "code",
   "execution_count": 48,
   "metadata": {},
   "outputs": [],
   "source": [
    "X_test = X_test[important_features.index]"
   ]
  },
  {
   "cell_type": "markdown",
   "metadata": {},
   "source": []
  },
  {
   "cell_type": "markdown",
   "metadata": {},
   "source": [
    "# 3.) Model Preparation"
   ]
  },
  {
   "cell_type": "code",
   "execution_count": 49,
   "metadata": {},
   "outputs": [],
   "source": [
    "dt_model = DecisionTreeClassifier()\n",
    "rf_model = RandomForestClassifier()\n",
    "svm_model = SVC()"
   ]
  },
  {
   "cell_type": "code",
   "execution_count": 50,
   "metadata": {},
   "outputs": [
    {
     "data": {
      "text/plain": [
       "{'ccp_alpha': 0.0,\n",
       " 'class_weight': None,\n",
       " 'criterion': 'gini',\n",
       " 'max_depth': None,\n",
       " 'max_features': None,\n",
       " 'max_leaf_nodes': None,\n",
       " 'min_impurity_decrease': 0.0,\n",
       " 'min_impurity_split': None,\n",
       " 'min_samples_leaf': 1,\n",
       " 'min_samples_split': 2,\n",
       " 'min_weight_fraction_leaf': 0.0,\n",
       " 'random_state': None,\n",
       " 'splitter': 'best'}"
      ]
     },
     "execution_count": 50,
     "metadata": {},
     "output_type": "execute_result"
    }
   ],
   "source": [
    "dt_model.get_params()"
   ]
  },
  {
   "cell_type": "code",
   "execution_count": 51,
   "metadata": {},
   "outputs": [
    {
     "data": {
      "text/plain": [
       "{'bootstrap': True,\n",
       " 'ccp_alpha': 0.0,\n",
       " 'class_weight': None,\n",
       " 'criterion': 'gini',\n",
       " 'max_depth': None,\n",
       " 'max_features': 'auto',\n",
       " 'max_leaf_nodes': None,\n",
       " 'max_samples': None,\n",
       " 'min_impurity_decrease': 0.0,\n",
       " 'min_impurity_split': None,\n",
       " 'min_samples_leaf': 1,\n",
       " 'min_samples_split': 2,\n",
       " 'min_weight_fraction_leaf': 0.0,\n",
       " 'n_estimators': 100,\n",
       " 'n_jobs': None,\n",
       " 'oob_score': False,\n",
       " 'random_state': None,\n",
       " 'verbose': 0,\n",
       " 'warm_start': False}"
      ]
     },
     "execution_count": 51,
     "metadata": {},
     "output_type": "execute_result"
    }
   ],
   "source": [
    "rf_model.get_params()"
   ]
  },
  {
   "cell_type": "code",
   "execution_count": 52,
   "metadata": {},
   "outputs": [
    {
     "data": {
      "text/plain": [
       "{'C': 1.0,\n",
       " 'break_ties': False,\n",
       " 'cache_size': 200,\n",
       " 'class_weight': None,\n",
       " 'coef0': 0.0,\n",
       " 'decision_function_shape': 'ovr',\n",
       " 'degree': 3,\n",
       " 'gamma': 'scale',\n",
       " 'kernel': 'rbf',\n",
       " 'max_iter': -1,\n",
       " 'probability': False,\n",
       " 'random_state': None,\n",
       " 'shrinking': True,\n",
       " 'tol': 0.001,\n",
       " 'verbose': False}"
      ]
     },
     "execution_count": 52,
     "metadata": {},
     "output_type": "execute_result"
    }
   ],
   "source": [
    "svm_model.get_params()"
   ]
  },
  {
   "cell_type": "code",
   "execution_count": 53,
   "metadata": {},
   "outputs": [],
   "source": [
    "param_grid = {'bootstrap': [True,False],\n",
    " 'criterion': ['gini'],\n",
    " 'n_estimators': [5,10,15,20,25,30,40,50],\n",
    "}"
   ]
  },
  {
   "cell_type": "code",
   "execution_count": 54,
   "metadata": {},
   "outputs": [],
   "source": [
    "best_params = {}"
   ]
  },
  {
   "cell_type": "code",
   "execution_count": 55,
   "metadata": {},
   "outputs": [],
   "source": [
    "grid_search_clf = GridSearchCV(rf_model,param_grid = param_grid, cv=5)"
   ]
  },
  {
   "cell_type": "code",
   "execution_count": 63,
   "metadata": {},
   "outputs": [
    {
     "data": {
      "text/plain": [
       "GridSearchCV(cv=5, estimator=RandomForestClassifier(),\n",
       "             param_grid={'bootstrap': [True, False], 'criterion': ['gini'],\n",
       "                         'n_estimators': [5, 10, 15, 20, 25, 30, 40, 50]})"
      ]
     },
     "execution_count": 63,
     "metadata": {},
     "output_type": "execute_result"
    }
   ],
   "source": [
    "grid_search_clf.fit(X_train,y_train['Suggested Job Role'])"
   ]
  },
  {
   "cell_type": "code",
   "execution_count": 64,
   "metadata": {},
   "outputs": [
    {
     "data": {
      "text/html": [
       "<div>\n",
       "<style scoped>\n",
       "    .dataframe tbody tr th:only-of-type {\n",
       "        vertical-align: middle;\n",
       "    }\n",
       "\n",
       "    .dataframe tbody tr th {\n",
       "        vertical-align: top;\n",
       "    }\n",
       "\n",
       "    .dataframe thead th {\n",
       "        text-align: right;\n",
       "    }\n",
       "</style>\n",
       "<table border=\"1\" class=\"dataframe\">\n",
       "  <thead>\n",
       "    <tr style=\"text-align: right;\">\n",
       "      <th></th>\n",
       "      <th>mean_fit_time</th>\n",
       "      <th>std_fit_time</th>\n",
       "      <th>mean_score_time</th>\n",
       "      <th>std_score_time</th>\n",
       "      <th>param_bootstrap</th>\n",
       "      <th>param_criterion</th>\n",
       "      <th>param_n_estimators</th>\n",
       "      <th>params</th>\n",
       "      <th>split0_test_score</th>\n",
       "      <th>split1_test_score</th>\n",
       "      <th>split2_test_score</th>\n",
       "      <th>split3_test_score</th>\n",
       "      <th>split4_test_score</th>\n",
       "      <th>mean_test_score</th>\n",
       "      <th>std_test_score</th>\n",
       "      <th>rank_test_score</th>\n",
       "    </tr>\n",
       "  </thead>\n",
       "  <tbody>\n",
       "    <tr>\n",
       "      <th>0</th>\n",
       "      <td>0.115693</td>\n",
       "      <td>0.018594</td>\n",
       "      <td>0.008965</td>\n",
       "      <td>0.001383</td>\n",
       "      <td>True</td>\n",
       "      <td>gini</td>\n",
       "      <td>5</td>\n",
       "      <td>{'bootstrap': True, 'criterion': 'gini', 'n_es...</td>\n",
       "      <td>0.028358</td>\n",
       "      <td>0.031716</td>\n",
       "      <td>0.030224</td>\n",
       "      <td>0.038433</td>\n",
       "      <td>0.027612</td>\n",
       "      <td>0.031269</td>\n",
       "      <td>0.003859</td>\n",
       "      <td>9</td>\n",
       "    </tr>\n",
       "    <tr>\n",
       "      <th>1</th>\n",
       "      <td>0.212518</td>\n",
       "      <td>0.026808</td>\n",
       "      <td>0.016055</td>\n",
       "      <td>0.000045</td>\n",
       "      <td>True</td>\n",
       "      <td>gini</td>\n",
       "      <td>10</td>\n",
       "      <td>{'bootstrap': True, 'criterion': 'gini', 'n_es...</td>\n",
       "      <td>0.030597</td>\n",
       "      <td>0.033209</td>\n",
       "      <td>0.026493</td>\n",
       "      <td>0.027239</td>\n",
       "      <td>0.029478</td>\n",
       "      <td>0.029403</td>\n",
       "      <td>0.002411</td>\n",
       "      <td>13</td>\n",
       "    </tr>\n",
       "    <tr>\n",
       "      <th>2</th>\n",
       "      <td>0.391060</td>\n",
       "      <td>0.042159</td>\n",
       "      <td>0.026926</td>\n",
       "      <td>0.006891</td>\n",
       "      <td>True</td>\n",
       "      <td>gini</td>\n",
       "      <td>15</td>\n",
       "      <td>{'bootstrap': True, 'criterion': 'gini', 'n_es...</td>\n",
       "      <td>0.028731</td>\n",
       "      <td>0.027612</td>\n",
       "      <td>0.026119</td>\n",
       "      <td>0.029478</td>\n",
       "      <td>0.032090</td>\n",
       "      <td>0.028806</td>\n",
       "      <td>0.001994</td>\n",
       "      <td>14</td>\n",
       "    </tr>\n",
       "    <tr>\n",
       "      <th>3</th>\n",
       "      <td>0.394675</td>\n",
       "      <td>0.014555</td>\n",
       "      <td>0.022483</td>\n",
       "      <td>0.006090</td>\n",
       "      <td>True</td>\n",
       "      <td>gini</td>\n",
       "      <td>20</td>\n",
       "      <td>{'bootstrap': True, 'criterion': 'gini', 'n_es...</td>\n",
       "      <td>0.028731</td>\n",
       "      <td>0.025746</td>\n",
       "      <td>0.033582</td>\n",
       "      <td>0.031343</td>\n",
       "      <td>0.023881</td>\n",
       "      <td>0.028657</td>\n",
       "      <td>0.003543</td>\n",
       "      <td>15</td>\n",
       "    </tr>\n",
       "    <tr>\n",
       "      <th>4</th>\n",
       "      <td>0.633956</td>\n",
       "      <td>0.087718</td>\n",
       "      <td>0.036530</td>\n",
       "      <td>0.010564</td>\n",
       "      <td>True</td>\n",
       "      <td>gini</td>\n",
       "      <td>25</td>\n",
       "      <td>{'bootstrap': True, 'criterion': 'gini', 'n_es...</td>\n",
       "      <td>0.038060</td>\n",
       "      <td>0.032463</td>\n",
       "      <td>0.035821</td>\n",
       "      <td>0.026493</td>\n",
       "      <td>0.030597</td>\n",
       "      <td>0.032687</td>\n",
       "      <td>0.004037</td>\n",
       "      <td>1</td>\n",
       "    </tr>\n",
       "    <tr>\n",
       "      <th>5</th>\n",
       "      <td>1.318698</td>\n",
       "      <td>0.532892</td>\n",
       "      <td>0.088292</td>\n",
       "      <td>0.031789</td>\n",
       "      <td>True</td>\n",
       "      <td>gini</td>\n",
       "      <td>30</td>\n",
       "      <td>{'bootstrap': True, 'criterion': 'gini', 'n_es...</td>\n",
       "      <td>0.030224</td>\n",
       "      <td>0.029478</td>\n",
       "      <td>0.034701</td>\n",
       "      <td>0.036567</td>\n",
       "      <td>0.024627</td>\n",
       "      <td>0.031119</td>\n",
       "      <td>0.004199</td>\n",
       "      <td>10</td>\n",
       "    </tr>\n",
       "    <tr>\n",
       "      <th>6</th>\n",
       "      <td>2.607351</td>\n",
       "      <td>0.118818</td>\n",
       "      <td>0.146360</td>\n",
       "      <td>0.012611</td>\n",
       "      <td>True</td>\n",
       "      <td>gini</td>\n",
       "      <td>40</td>\n",
       "      <td>{'bootstrap': True, 'criterion': 'gini', 'n_es...</td>\n",
       "      <td>0.031716</td>\n",
       "      <td>0.032090</td>\n",
       "      <td>0.032090</td>\n",
       "      <td>0.026493</td>\n",
       "      <td>0.035821</td>\n",
       "      <td>0.031642</td>\n",
       "      <td>0.002979</td>\n",
       "      <td>6</td>\n",
       "    </tr>\n",
       "    <tr>\n",
       "      <th>7</th>\n",
       "      <td>3.007181</td>\n",
       "      <td>0.070811</td>\n",
       "      <td>0.176129</td>\n",
       "      <td>0.019599</td>\n",
       "      <td>True</td>\n",
       "      <td>gini</td>\n",
       "      <td>50</td>\n",
       "      <td>{'bootstrap': True, 'criterion': 'gini', 'n_es...</td>\n",
       "      <td>0.031716</td>\n",
       "      <td>0.035075</td>\n",
       "      <td>0.032463</td>\n",
       "      <td>0.028731</td>\n",
       "      <td>0.032836</td>\n",
       "      <td>0.032164</td>\n",
       "      <td>0.002049</td>\n",
       "      <td>3</td>\n",
       "    </tr>\n",
       "    <tr>\n",
       "      <th>8</th>\n",
       "      <td>0.496353</td>\n",
       "      <td>0.046565</td>\n",
       "      <td>0.025978</td>\n",
       "      <td>0.004044</td>\n",
       "      <td>False</td>\n",
       "      <td>gini</td>\n",
       "      <td>5</td>\n",
       "      <td>{'bootstrap': False, 'criterion': 'gini', 'n_e...</td>\n",
       "      <td>0.027239</td>\n",
       "      <td>0.025000</td>\n",
       "      <td>0.032836</td>\n",
       "      <td>0.027612</td>\n",
       "      <td>0.037687</td>\n",
       "      <td>0.030075</td>\n",
       "      <td>0.004592</td>\n",
       "      <td>12</td>\n",
       "    </tr>\n",
       "    <tr>\n",
       "      <th>9</th>\n",
       "      <td>0.800937</td>\n",
       "      <td>0.381793</td>\n",
       "      <td>0.031398</td>\n",
       "      <td>0.018038</td>\n",
       "      <td>False</td>\n",
       "      <td>gini</td>\n",
       "      <td>10</td>\n",
       "      <td>{'bootstrap': False, 'criterion': 'gini', 'n_e...</td>\n",
       "      <td>0.027239</td>\n",
       "      <td>0.025746</td>\n",
       "      <td>0.033209</td>\n",
       "      <td>0.025373</td>\n",
       "      <td>0.025000</td>\n",
       "      <td>0.027313</td>\n",
       "      <td>0.003044</td>\n",
       "      <td>16</td>\n",
       "    </tr>\n",
       "    <tr>\n",
       "      <th>10</th>\n",
       "      <td>0.488030</td>\n",
       "      <td>0.068378</td>\n",
       "      <td>0.025969</td>\n",
       "      <td>0.010046</td>\n",
       "      <td>False</td>\n",
       "      <td>gini</td>\n",
       "      <td>15</td>\n",
       "      <td>{'bootstrap': False, 'criterion': 'gini', 'n_e...</td>\n",
       "      <td>0.027612</td>\n",
       "      <td>0.030970</td>\n",
       "      <td>0.039179</td>\n",
       "      <td>0.032463</td>\n",
       "      <td>0.032463</td>\n",
       "      <td>0.032537</td>\n",
       "      <td>0.003764</td>\n",
       "      <td>2</td>\n",
       "    </tr>\n",
       "    <tr>\n",
       "      <th>11</th>\n",
       "      <td>0.542288</td>\n",
       "      <td>0.031736</td>\n",
       "      <td>0.019331</td>\n",
       "      <td>0.006035</td>\n",
       "      <td>False</td>\n",
       "      <td>gini</td>\n",
       "      <td>20</td>\n",
       "      <td>{'bootstrap': False, 'criterion': 'gini', 'n_e...</td>\n",
       "      <td>0.031343</td>\n",
       "      <td>0.032463</td>\n",
       "      <td>0.035448</td>\n",
       "      <td>0.026119</td>\n",
       "      <td>0.031716</td>\n",
       "      <td>0.031418</td>\n",
       "      <td>0.003017</td>\n",
       "      <td>8</td>\n",
       "    </tr>\n",
       "    <tr>\n",
       "      <th>12</th>\n",
       "      <td>0.706010</td>\n",
       "      <td>0.090485</td>\n",
       "      <td>0.034559</td>\n",
       "      <td>0.006157</td>\n",
       "      <td>False</td>\n",
       "      <td>gini</td>\n",
       "      <td>25</td>\n",
       "      <td>{'bootstrap': False, 'criterion': 'gini', 'n_e...</td>\n",
       "      <td>0.033582</td>\n",
       "      <td>0.031343</td>\n",
       "      <td>0.032090</td>\n",
       "      <td>0.028358</td>\n",
       "      <td>0.034701</td>\n",
       "      <td>0.032015</td>\n",
       "      <td>0.002168</td>\n",
       "      <td>5</td>\n",
       "    </tr>\n",
       "    <tr>\n",
       "      <th>13</th>\n",
       "      <td>0.840488</td>\n",
       "      <td>0.119004</td>\n",
       "      <td>0.033569</td>\n",
       "      <td>0.007278</td>\n",
       "      <td>False</td>\n",
       "      <td>gini</td>\n",
       "      <td>30</td>\n",
       "      <td>{'bootstrap': False, 'criterion': 'gini', 'n_e...</td>\n",
       "      <td>0.031343</td>\n",
       "      <td>0.032090</td>\n",
       "      <td>0.031716</td>\n",
       "      <td>0.032463</td>\n",
       "      <td>0.032836</td>\n",
       "      <td>0.032090</td>\n",
       "      <td>0.000528</td>\n",
       "      <td>4</td>\n",
       "    </tr>\n",
       "    <tr>\n",
       "      <th>14</th>\n",
       "      <td>1.074317</td>\n",
       "      <td>0.042946</td>\n",
       "      <td>0.048208</td>\n",
       "      <td>0.002613</td>\n",
       "      <td>False</td>\n",
       "      <td>gini</td>\n",
       "      <td>40</td>\n",
       "      <td>{'bootstrap': False, 'criterion': 'gini', 'n_e...</td>\n",
       "      <td>0.030970</td>\n",
       "      <td>0.030597</td>\n",
       "      <td>0.033582</td>\n",
       "      <td>0.032463</td>\n",
       "      <td>0.025746</td>\n",
       "      <td>0.030672</td>\n",
       "      <td>0.002684</td>\n",
       "      <td>11</td>\n",
       "    </tr>\n",
       "    <tr>\n",
       "      <th>15</th>\n",
       "      <td>1.356064</td>\n",
       "      <td>0.019723</td>\n",
       "      <td>0.074372</td>\n",
       "      <td>0.019234</td>\n",
       "      <td>False</td>\n",
       "      <td>gini</td>\n",
       "      <td>50</td>\n",
       "      <td>{'bootstrap': False, 'criterion': 'gini', 'n_e...</td>\n",
       "      <td>0.030970</td>\n",
       "      <td>0.033582</td>\n",
       "      <td>0.030597</td>\n",
       "      <td>0.030597</td>\n",
       "      <td>0.031716</td>\n",
       "      <td>0.031493</td>\n",
       "      <td>0.001122</td>\n",
       "      <td>7</td>\n",
       "    </tr>\n",
       "  </tbody>\n",
       "</table>\n",
       "</div>"
      ],
      "text/plain": [
       "    mean_fit_time  std_fit_time  mean_score_time  std_score_time  \\\n",
       "0        0.115693      0.018594         0.008965        0.001383   \n",
       "1        0.212518      0.026808         0.016055        0.000045   \n",
       "2        0.391060      0.042159         0.026926        0.006891   \n",
       "3        0.394675      0.014555         0.022483        0.006090   \n",
       "4        0.633956      0.087718         0.036530        0.010564   \n",
       "5        1.318698      0.532892         0.088292        0.031789   \n",
       "6        2.607351      0.118818         0.146360        0.012611   \n",
       "7        3.007181      0.070811         0.176129        0.019599   \n",
       "8        0.496353      0.046565         0.025978        0.004044   \n",
       "9        0.800937      0.381793         0.031398        0.018038   \n",
       "10       0.488030      0.068378         0.025969        0.010046   \n",
       "11       0.542288      0.031736         0.019331        0.006035   \n",
       "12       0.706010      0.090485         0.034559        0.006157   \n",
       "13       0.840488      0.119004         0.033569        0.007278   \n",
       "14       1.074317      0.042946         0.048208        0.002613   \n",
       "15       1.356064      0.019723         0.074372        0.019234   \n",
       "\n",
       "   param_bootstrap param_criterion param_n_estimators  \\\n",
       "0             True            gini                  5   \n",
       "1             True            gini                 10   \n",
       "2             True            gini                 15   \n",
       "3             True            gini                 20   \n",
       "4             True            gini                 25   \n",
       "5             True            gini                 30   \n",
       "6             True            gini                 40   \n",
       "7             True            gini                 50   \n",
       "8            False            gini                  5   \n",
       "9            False            gini                 10   \n",
       "10           False            gini                 15   \n",
       "11           False            gini                 20   \n",
       "12           False            gini                 25   \n",
       "13           False            gini                 30   \n",
       "14           False            gini                 40   \n",
       "15           False            gini                 50   \n",
       "\n",
       "                                               params  split0_test_score  \\\n",
       "0   {'bootstrap': True, 'criterion': 'gini', 'n_es...           0.028358   \n",
       "1   {'bootstrap': True, 'criterion': 'gini', 'n_es...           0.030597   \n",
       "2   {'bootstrap': True, 'criterion': 'gini', 'n_es...           0.028731   \n",
       "3   {'bootstrap': True, 'criterion': 'gini', 'n_es...           0.028731   \n",
       "4   {'bootstrap': True, 'criterion': 'gini', 'n_es...           0.038060   \n",
       "5   {'bootstrap': True, 'criterion': 'gini', 'n_es...           0.030224   \n",
       "6   {'bootstrap': True, 'criterion': 'gini', 'n_es...           0.031716   \n",
       "7   {'bootstrap': True, 'criterion': 'gini', 'n_es...           0.031716   \n",
       "8   {'bootstrap': False, 'criterion': 'gini', 'n_e...           0.027239   \n",
       "9   {'bootstrap': False, 'criterion': 'gini', 'n_e...           0.027239   \n",
       "10  {'bootstrap': False, 'criterion': 'gini', 'n_e...           0.027612   \n",
       "11  {'bootstrap': False, 'criterion': 'gini', 'n_e...           0.031343   \n",
       "12  {'bootstrap': False, 'criterion': 'gini', 'n_e...           0.033582   \n",
       "13  {'bootstrap': False, 'criterion': 'gini', 'n_e...           0.031343   \n",
       "14  {'bootstrap': False, 'criterion': 'gini', 'n_e...           0.030970   \n",
       "15  {'bootstrap': False, 'criterion': 'gini', 'n_e...           0.030970   \n",
       "\n",
       "    split1_test_score  split2_test_score  split3_test_score  \\\n",
       "0            0.031716           0.030224           0.038433   \n",
       "1            0.033209           0.026493           0.027239   \n",
       "2            0.027612           0.026119           0.029478   \n",
       "3            0.025746           0.033582           0.031343   \n",
       "4            0.032463           0.035821           0.026493   \n",
       "5            0.029478           0.034701           0.036567   \n",
       "6            0.032090           0.032090           0.026493   \n",
       "7            0.035075           0.032463           0.028731   \n",
       "8            0.025000           0.032836           0.027612   \n",
       "9            0.025746           0.033209           0.025373   \n",
       "10           0.030970           0.039179           0.032463   \n",
       "11           0.032463           0.035448           0.026119   \n",
       "12           0.031343           0.032090           0.028358   \n",
       "13           0.032090           0.031716           0.032463   \n",
       "14           0.030597           0.033582           0.032463   \n",
       "15           0.033582           0.030597           0.030597   \n",
       "\n",
       "    split4_test_score  mean_test_score  std_test_score  rank_test_score  \n",
       "0            0.027612         0.031269        0.003859                9  \n",
       "1            0.029478         0.029403        0.002411               13  \n",
       "2            0.032090         0.028806        0.001994               14  \n",
       "3            0.023881         0.028657        0.003543               15  \n",
       "4            0.030597         0.032687        0.004037                1  \n",
       "5            0.024627         0.031119        0.004199               10  \n",
       "6            0.035821         0.031642        0.002979                6  \n",
       "7            0.032836         0.032164        0.002049                3  \n",
       "8            0.037687         0.030075        0.004592               12  \n",
       "9            0.025000         0.027313        0.003044               16  \n",
       "10           0.032463         0.032537        0.003764                2  \n",
       "11           0.031716         0.031418        0.003017                8  \n",
       "12           0.034701         0.032015        0.002168                5  \n",
       "13           0.032836         0.032090        0.000528                4  \n",
       "14           0.025746         0.030672        0.002684               11  \n",
       "15           0.031716         0.031493        0.001122                7  "
      ]
     },
     "execution_count": 64,
     "metadata": {},
     "output_type": "execute_result"
    }
   ],
   "source": [
    "pd.DataFrame(grid_search_clf.cv_results_)"
   ]
  },
  {
   "cell_type": "code",
   "execution_count": 65,
   "metadata": {},
   "outputs": [],
   "source": [
    "best_params = grid_search_clf.best_params_"
   ]
  },
  {
   "cell_type": "code",
   "execution_count": 66,
   "metadata": {},
   "outputs": [
    {
     "data": {
      "text/plain": [
       "{'bootstrap': True, 'criterion': 'gini', 'n_estimators': 25}"
      ]
     },
     "execution_count": 66,
     "metadata": {},
     "output_type": "execute_result"
    }
   ],
   "source": [
    "best_params"
   ]
  },
  {
   "cell_type": "code",
   "execution_count": 84,
   "metadata": {},
   "outputs": [],
   "source": [
    "best_params = {'bootstrap': [True], 'criterion': ['gini'], 'n_estimators': [100]}"
   ]
  },
  {
   "cell_type": "code",
   "execution_count": 91,
   "metadata": {},
   "outputs": [
    {
     "data": {
      "text/plain": [
       "GridSearchCV(cv=100, estimator=RandomForestClassifier(),\n",
       "             param_grid={'bootstrap': [True], 'criterion': ['gini'],\n",
       "                         'n_estimators': [100]})"
      ]
     },
     "execution_count": 91,
     "metadata": {},
     "output_type": "execute_result"
    }
   ],
   "source": [
    "grid_search_clf_best = GridSearchCV(rf_model,param_grid = best_params, cv=100)\n",
    "grid_search_clf_best.fit(X_train,y_train['Suggested Job Role'])"
   ]
  },
  {
   "cell_type": "code",
   "execution_count": 92,
   "metadata": {},
   "outputs": [
    {
     "data": {
      "text/plain": [
       "1.0"
      ]
     },
     "execution_count": 92,
     "metadata": {},
     "output_type": "execute_result"
    }
   ],
   "source": [
    "grid_search_clf_best.score(X_train,y_train['Suggested Job Role'])"
   ]
  },
  {
   "cell_type": "code",
   "execution_count": 93,
   "metadata": {},
   "outputs": [
    {
     "data": {
      "text/plain": [
       "0.03333333333333333"
      ]
     },
     "execution_count": 93,
     "metadata": {},
     "output_type": "execute_result"
    }
   ],
   "source": [
    "grid_search_clf_best.score(X_test,y_test['Suggested Job Role'])"
   ]
  },
  {
   "cell_type": "code",
   "execution_count": 69,
   "metadata": {},
   "outputs": [
    {
     "data": {
      "text/plain": [
       "DecisionTreeClassifier()"
      ]
     },
     "execution_count": 69,
     "metadata": {},
     "output_type": "execute_result"
    }
   ],
   "source": [
    "dt_model = DecisionTreeClassifier()\n",
    "dt_model.fit(X_train,y_train)"
   ]
  },
  {
   "cell_type": "code",
   "execution_count": 70,
   "metadata": {},
   "outputs": [],
   "source": [
    "dt_prediction_train = dt_model.predict(X_train)\n",
    "dt_prediction_test = dt_model.predict(X_test)"
   ]
  },
  {
   "cell_type": "code",
   "execution_count": 71,
   "metadata": {},
   "outputs": [
    {
     "name": "stdout",
     "output_type": "stream",
     "text": [
      "On Training Data:  1.0\n",
      "On Test Data:  0.030757575757575758\n"
     ]
    }
   ],
   "source": [
    "print(\"On Training Data: \",accuracy_score(y_train,dt_prediction_train))\n",
    "print(\"On Test Data: \",accuracy_score(y_test,dt_prediction_test))"
   ]
  },
  {
   "cell_type": "code",
   "execution_count": 72,
   "metadata": {},
   "outputs": [],
   "source": [
    "# feature_selector = SelectKBest(score_func=chi2,k=11)\n",
    "# feature_selector.fit(X_train,y_train)\n",
    "# X_train_fs= feature_selector.transform(X_train)\n",
    "# X_test_fs= feature_selector.transform(X_test)"
   ]
  },
  {
   "cell_type": "code",
   "execution_count": 73,
   "metadata": {},
   "outputs": [],
   "source": [
    "# len(feature_selector.scores_)"
   ]
  },
  {
   "cell_type": "code",
   "execution_count": 74,
   "metadata": {},
   "outputs": [],
   "source": [
    "# career_dataset.shape[1]"
   ]
  },
  {
   "cell_type": "code",
   "execution_count": 75,
   "metadata": {},
   "outputs": [],
   "source": [
    "import xgboost as xgb"
   ]
  },
  {
   "cell_type": "code",
   "execution_count": 76,
   "metadata": {},
   "outputs": [],
   "source": [
    "xgb_model = xgb.XGBClassifier()"
   ]
  },
  {
   "cell_type": "code",
   "execution_count": 77,
   "metadata": {},
   "outputs": [
    {
     "name": "stderr",
     "output_type": "stream",
     "text": [
      "C:\\Users\\Priyesh Dave\\AppData\\Local\\Programs\\Python\\Python39\\lib\\site-packages\\xgboost\\sklearn.py:1224: UserWarning:\n",
      "\n",
      "The use of label encoder in XGBClassifier is deprecated and will be removed in a future release. To remove this warning, do the following: 1) Pass option use_label_encoder=False when constructing XGBClassifier object; and 2) Encode your labels (y) as integers starting with 0, i.e. 0, 1, 2, ..., [num_class - 1].\n",
      "\n",
      "C:\\Users\\Priyesh Dave\\AppData\\Local\\Programs\\Python\\Python39\\lib\\site-packages\\sklearn\\utils\\validation.py:63: DataConversionWarning:\n",
      "\n",
      "A column-vector y was passed when a 1d array was expected. Please change the shape of y to (n_samples, ), for example using ravel().\n",
      "\n"
     ]
    },
    {
     "name": "stdout",
     "output_type": "stream",
     "text": [
      "[10:51:10] WARNING: C:/Users/Administrator/workspace/xgboost-win64_release_1.5.1/src/learner.cc:1115: Starting in XGBoost 1.3.0, the default evaluation metric used with the objective 'multi:softprob' was changed from 'merror' to 'mlogloss'. Explicitly set eval_metric if you'd like to restore the old behavior.\n",
      "accuracy= 3.196969696969697\n"
     ]
    }
   ],
   "source": [
    " \n",
    "xgb_model.fit(X_train, y_train)\n",
    "xgb_y_pred  = xgb_model.predict(X_test)\n",
    "xgb_accuracy = accuracy_score(y_test,xgb_y_pred)\n",
    "print(\"accuracy=\",xgb_accuracy*100)"
   ]
  },
  {
   "cell_type": "code",
   "execution_count": 78,
   "metadata": {},
   "outputs": [],
   "source": [
    "from sklearn.ensemble import RandomForestClassifier\n",
    "rf_model  = RandomForestClassifier()"
   ]
  },
  {
   "cell_type": "code",
   "execution_count": 79,
   "metadata": {},
   "outputs": [],
   "source": [
    "from sklearn.model_selection import GridSearchCV"
   ]
  },
  {
   "cell_type": "code",
   "execution_count": 80,
   "metadata": {},
   "outputs": [],
   "source": [
    "n_estimators = [int(i) for i in np.linspace(10,80,10)]\n",
    "max_features = ['auto','sqrt']\n",
    "max_depth = [5,10]\n",
    "min_sample_split = [5,10]\n",
    "min_samples_leaf = [5,10]\n",
    "bootstrap = [True,False]"
   ]
  },
  {
   "cell_type": "code",
   "execution_count": 81,
   "metadata": {},
   "outputs": [
    {
     "name": "stdout",
     "output_type": "stream",
     "text": [
      "{'n_estimators': [10, 17, 25, 33, 41, 48, 56, 64, 72, 80], 'max_features': ['auto', 'sqrt'], 'max_depth': [5, 10], 'min_samples_split': [5, 10], 'min_samples_leaf': [5, 10], 'bootstrap': [True, False]}\n"
     ]
    }
   ],
   "source": [
    "param_grid = {\n",
    "  'n_estimators' : n_estimators,\n",
    "  'max_features': max_features,\n",
    "  'max_depth': max_depth,\n",
    "  'min_samples_split': min_sample_split,\n",
    "  'min_samples_leaf': min_samples_leaf,\n",
    " 'bootstrap': bootstrap\n",
    "}\n",
    "\n",
    "print(param_grid)"
   ]
  },
  {
   "cell_type": "markdown",
   "metadata": {},
   "source": []
  }
 ],
 "metadata": {
  "interpreter": {
   "hash": "e147b052be5536a019399d7281fa07f9aa68d0dfdf21ead313763d9c98e78705"
  },
  "kernelspec": {
   "display_name": "Python 3.9.6 64-bit",
   "language": "python",
   "name": "python3"
  },
  "language_info": {
   "codemirror_mode": {
    "name": "ipython",
    "version": 3
   },
   "file_extension": ".py",
   "mimetype": "text/x-python",
   "name": "python",
   "nbconvert_exporter": "python",
   "pygments_lexer": "ipython3",
   "version": "3.9.6"
  },
  "orig_nbformat": 4
 },
 "nbformat": 4,
 "nbformat_minor": 2
}
